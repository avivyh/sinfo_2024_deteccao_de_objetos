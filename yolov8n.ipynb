{
 "cells": [
  {
   "cell_type": "markdown",
   "id": "56fcd1a8",
   "metadata": {},
   "source": [
    "# YOLOv8n Implementação\n",
    "Este notebook demonstra como usar o YOLOv8n para tarefas de detecção de objetos. A seguir, percorremos as etapas principais, incluindo o carregamento de dados, o treinamento do modelo e a avaliação de seu desempenho."
   ]
  },
  {
   "cell_type": "markdown",
   "id": "442b8e17",
   "metadata": {},
   "source": [
    "## Importando bibliotecas"
   ]
  },
  {
   "cell_type": "code",
   "execution_count": 1,
   "metadata": {},
   "outputs": [],
   "source": [
    "import os\n",
    "import shutil\n",
    "from sklearn.model_selection import train_test_split\n",
    "from PIL import Image\n",
    "import xml.etree.ElementTree as ET\n",
    "from ultralytics import YOLO"
   ]
  },
  {
   "cell_type": "markdown",
   "id": "71a33e1e",
   "metadata": {},
   "source": [
    "## Configurar diretórios\n",
    "### Nesta seção, configuramos a estrutura de diretórios para organizar os dados:\n",
    "\n",
    "- source_dataset_path contém os dados originais com anotações em XML.\n",
    "- target_dataset_path será a pasta organizada, com subpastas para imagens e rótulos, pronta para ser usada em treinamentos e inferência com o modelo YOLO."
   ]
  },
  {
   "cell_type": "code",
   "execution_count": null,
   "metadata": {},
   "outputs": [],
   "source": [
    "source_dataset_path = 'dataset_xml_format'\n",
    "target_dataset_path = 'dataset'\n",
    "image_path = f\"{target_dataset_path}/images\"\n",
    "label_path = f\"{target_dataset_path}/labels\""
   ]
  },
  {
   "cell_type": "code",
   "execution_count": 3,
   "metadata": {},
   "outputs": [],
   "source": [
    "os.makedirs(f\"{image_path}/train\", exist_ok=True)\n",
    "os.makedirs(f\"{image_path}/val\", exist_ok=True)\n",
    "os.makedirs(f\"{image_path}/test\", exist_ok=True)\n",
    "os.makedirs(f\"{label_path}/train\", exist_ok=True)\n",
    "os.makedirs(f\"{label_path}/val\", exist_ok=True)\n",
    "os.makedirs(f\"{label_path}/test\", exist_ok=True)"
   ]
  },
  {
   "cell_type": "markdown",
   "id": "de5fc50c",
   "metadata": {},
   "source": [
    "## Separando arquivos de imagens e anotações (arquivos XML que contêm bounding boxes)."
   ]
  },
  {
   "cell_type": "code",
   "execution_count": 4,
   "metadata": {},
   "outputs": [],
   "source": [
    "images = [f for f in os.listdir(source_dataset_path) if f.endswith('.png') or f.endswith('.jpg')]\n",
    "xmls = [f for f in os.listdir(source_dataset_path) if f.endswith('.xml')]"
   ]
  },
  {
   "cell_type": "markdown",
   "id": "70a57b69",
   "metadata": {},
   "source": [
    "## Dividindo a base em Treino, Teste e Validação"
   ]
  },
  {
   "cell_type": "code",
   "execution_count": 5,
   "metadata": {},
   "outputs": [],
   "source": [
    "train_images, temp_images = train_test_split(images, test_size=0.3, random_state=42)\n",
    "val_images, test_images = train_test_split(temp_images, test_size=0.5, random_state=42)"
   ]
  },
  {
   "cell_type": "markdown",
   "id": "aff67dc3",
   "metadata": {},
   "source": [
    "## Verificando a quantidade de imagens em cada classe"
   ]
  },
  {
   "cell_type": "code",
   "execution_count": 6,
   "metadata": {},
   "outputs": [
    {
     "name": "stdout",
     "output_type": "stream",
     "text": [
      "Train images: 760\n",
      "Val images: 163\n",
      "Test images: 164\n"
     ]
    }
   ],
   "source": [
    "print(f\"Train images: {len(train_images)}\")\n",
    "print(f\"Val images: {len(val_images)}\")\n",
    "print(f\"Test images: {len(test_images)}\")"
   ]
  },
  {
   "cell_type": "markdown",
   "id": "e04f9e30",
   "metadata": {},
   "source": [
    "## Convertendo um arquivo de anotação XML para o formato TXT."
   ]
  },
  {
   "cell_type": "code",
   "execution_count": 7,
   "metadata": {},
   "outputs": [],
   "source": [
    "def safe_move(src, dest):\n",
    "    if not os.path.exists(dest):\n",
    "        shutil.copy(src, dest)"
   ]
  },
  {
   "cell_type": "code",
   "execution_count": null,
   "metadata": {},
   "outputs": [],
   "source": [
    "def convert_to_txt(xml_file, txt_file, img_width, img_height):\n",
    "    tree = ET.parse(xml_file)\n",
    "    root = tree.getroot()\n",
    "\n",
    "    with open(txt_file, 'w') as f:\n",
    "        for obj in root.findall('object'):\n",
    "            name = obj.find('name').text\n",
    "            class_id = 0 \n",
    "            xmlbox = obj.find('bndbox')\n",
    "            xmin = int(xmlbox.find('xmin').text)\n",
    "            ymin = int(xmlbox.find('ymin').text)\n",
    "            xmax = int(xmlbox.find('xmax').text)\n",
    "            ymax = int(xmlbox.find('ymax').text)\n",
    "\n",
    "            x_center = ((xmin + xmax) / 2) / img_width\n",
    "            y_center = ((ymin + ymax) / 2) / img_height\n",
    "            width = (xmax - xmin) / img_width\n",
    "            height = (ymax - ymin) / img_height\n",
    "\n",
    "            if not (0 <= x_center <= 1 and 0 <= y_center <= 1 and 0 <= width <= 1 and 0 <= height <= 1):\n",
    "                print(f\"Coordenadas fora dos limites em {xml_file}\")\n",
    "                continue\n",
    "\n",
    "            f.write(f\"{class_id} {x_center} {y_center} {width} {height}\\n\")"
   ]
  },
  {
   "cell_type": "markdown",
   "metadata": {},
   "source": [
    "## Organizando e convertendo dados de imagens e anotações para serem usados em treinamento, validação e teste em um modelo YOLO."
   ]
  },
  {
   "cell_type": "code",
   "execution_count": null,
   "metadata": {},
   "outputs": [],
   "source": [
    "for img in images:\n",
    "    if img in train_images:\n",
    "        split = 'train'\n",
    "    elif img in val_images:\n",
    "        split = 'val'\n",
    "    else:\n",
    "        split = 'test'\n",
    "    \n",
    "    img_path = os.path.join(source_dataset_path, img)\n",
    "    xml_path = os.path.join(source_dataset_path, img.replace('.png', '.xml').replace('.jpg', '.xml'))\n",
    "\n",
    "    safe_move(img_path, f\"{image_path}/{split}/{img}\")\n",
    "    if os.path.exists(xml_path):\n",
    "        img_obj = Image.open(img_path)\n",
    "        img_width, img_height = img_obj.size\n",
    "        txt_file = os.path.join(source_dataset_path, img.replace('.png', '.txt').replace('.jpg', '.txt'))\n",
    "        convert_to_txt(xml_path, txt_file, img_width, img_height)\n",
    "        safe_move(txt_file, f\"{label_path}/{split}/{os.path.basename(txt_file)}\")"
   ]
  },
  {
   "cell_type": "markdown",
   "metadata": {},
   "source": [
    "## Configurando e salvando um arquivo YAML para treinar um modelo YOLO."
   ]
  },
  {
   "cell_type": "code",
   "execution_count": 10,
   "metadata": {},
   "outputs": [],
   "source": [
    "yaml_content = \"\"\"\n",
    "path: dataset\n",
    "train: images/train\n",
    "val: images/val\n",
    "test: images/test\n",
    "names:\n",
    "  0: drone\n",
    "\"\"\""
   ]
  },
  {
   "cell_type": "code",
   "execution_count": 11,
   "metadata": {},
   "outputs": [],
   "source": [
    "with open('config.yaml', 'w') as f:\n",
    "    f.write(yaml_content)"
   ]
  },
  {
   "cell_type": "markdown",
   "metadata": {},
   "source": [
    "## Definindo a quantidade de épocas que o modelo vai ter"
   ]
  },
  {
   "cell_type": "code",
   "execution_count": 12,
   "metadata": {},
   "outputs": [],
   "source": [
    "epochs = 50"
   ]
  },
  {
   "cell_type": "markdown",
   "metadata": {},
   "source": [
    "## Treinando o modelo"
   ]
  },
  {
   "cell_type": "code",
   "execution_count": null,
   "metadata": {},
   "outputs": [
    {
     "name": "stdout",
     "output_type": "stream",
     "text": [
      "New https://pypi.org/project/ultralytics/8.3.32 available 😃 Update with 'pip install -U ultralytics'\n",
      "Ultralytics 8.3.31 🚀 Python-3.12.7 torch-2.5.1+cu124 CPU (Intel Core(TM) i3-7020U 2.30GHz)\n",
      "\u001b[34m\u001b[1mengine/trainer: \u001b[0mtask=detect, mode=train, model=yolov8n.pt, data=config.yaml, epochs=50, time=None, patience=100, batch=16, imgsz=640, save=True, save_period=-1, cache=False, device=None, workers=8, project=None, name=train, exist_ok=False, pretrained=True, optimizer=auto, verbose=True, seed=0, deterministic=True, single_cls=False, rect=False, cos_lr=False, close_mosaic=10, resume=False, amp=True, fraction=1.0, profile=False, freeze=None, multi_scale=False, overlap_mask=True, mask_ratio=4, dropout=0.0, val=True, split=val, save_json=False, save_hybrid=False, conf=None, iou=0.7, max_det=300, half=False, dnn=False, plots=True, source=None, vid_stride=1, stream_buffer=False, visualize=False, augment=False, agnostic_nms=False, classes=None, retina_masks=False, embed=None, show=False, save_frames=False, save_txt=False, save_conf=False, save_crop=False, show_labels=True, show_conf=True, show_boxes=True, line_width=None, format=torchscript, keras=False, optimize=False, int8=False, dynamic=False, simplify=True, opset=None, workspace=4, nms=False, lr0=0.01, lrf=0.01, momentum=0.937, weight_decay=0.0005, warmup_epochs=3.0, warmup_momentum=0.8, warmup_bias_lr=0.1, box=7.5, cls=0.5, dfl=1.5, pose=12.0, kobj=1.0, label_smoothing=0.0, nbs=64, hsv_h=0.015, hsv_s=0.7, hsv_v=0.4, degrees=0.0, translate=0.1, scale=0.5, shear=0.0, perspective=0.0, flipud=0.0, fliplr=0.5, bgr=0.0, mosaic=1.0, mixup=0.0, copy_paste=0.0, copy_paste_mode=flip, auto_augment=randaugment, erasing=0.4, crop_fraction=1.0, cfg=None, tracker=botsort.yaml, save_dir=runs/detect/train\n",
      "Overriding model.yaml nc=80 with nc=1\n",
      "\n",
      "                   from  n    params  module                                       arguments                     \n",
      "  0                  -1  1       464  ultralytics.nn.modules.conv.Conv             [3, 16, 3, 2]                 \n",
      "  1                  -1  1      4672  ultralytics.nn.modules.conv.Conv             [16, 32, 3, 2]                \n",
      "  2                  -1  1      7360  ultralytics.nn.modules.block.C2f             [32, 32, 1, True]             \n",
      "  3                  -1  1     18560  ultralytics.nn.modules.conv.Conv             [32, 64, 3, 2]                \n",
      "  4                  -1  2     49664  ultralytics.nn.modules.block.C2f             [64, 64, 2, True]             \n",
      "  5                  -1  1     73984  ultralytics.nn.modules.conv.Conv             [64, 128, 3, 2]               \n",
      "  6                  -1  2    197632  ultralytics.nn.modules.block.C2f             [128, 128, 2, True]           \n",
      "  7                  -1  1    295424  ultralytics.nn.modules.conv.Conv             [128, 256, 3, 2]              \n",
      "  8                  -1  1    460288  ultralytics.nn.modules.block.C2f             [256, 256, 1, True]           \n",
      "  9                  -1  1    164608  ultralytics.nn.modules.block.SPPF            [256, 256, 5]                 \n",
      " 10                  -1  1         0  torch.nn.modules.upsampling.Upsample         [None, 2, 'nearest']          \n",
      " 11             [-1, 6]  1         0  ultralytics.nn.modules.conv.Concat           [1]                           \n",
      " 12                  -1  1    148224  ultralytics.nn.modules.block.C2f             [384, 128, 1]                 \n",
      " 13                  -1  1         0  torch.nn.modules.upsampling.Upsample         [None, 2, 'nearest']          \n",
      " 14             [-1, 4]  1         0  ultralytics.nn.modules.conv.Concat           [1]                           \n",
      " 15                  -1  1     37248  ultralytics.nn.modules.block.C2f             [192, 64, 1]                  \n",
      " 16                  -1  1     36992  ultralytics.nn.modules.conv.Conv             [64, 64, 3, 2]                \n",
      " 17            [-1, 12]  1         0  ultralytics.nn.modules.conv.Concat           [1]                           \n",
      " 18                  -1  1    123648  ultralytics.nn.modules.block.C2f             [192, 128, 1]                 \n",
      " 19                  -1  1    147712  ultralytics.nn.modules.conv.Conv             [128, 128, 3, 2]              \n",
      " 20             [-1, 9]  1         0  ultralytics.nn.modules.conv.Concat           [1]                           \n",
      " 21                  -1  1    493056  ultralytics.nn.modules.block.C2f             [384, 256, 1]                 \n",
      " 22        [15, 18, 21]  1    751507  ultralytics.nn.modules.head.Detect           [1, [64, 128, 256]]           \n",
      "Model summary: 225 layers, 3,011,043 parameters, 3,011,027 gradients, 8.2 GFLOPs\n",
      "\n",
      "Transferred 319/355 items from pretrained weights\n",
      "Freezing layer 'model.22.dfl.conv.weight'\n"
     ]
    },
    {
     "name": "stderr",
     "output_type": "stream",
     "text": [
      "\u001b[34m\u001b[1mtrain: \u001b[0mScanning /home/avivyh/Documentos/SINFO/dataset/labels/train.cache... 760 images, 0 backgrounds, 0 corrupt: 100%|██████████| 760/760 [00:00<?, ?it/s]"
     ]
    },
    {
     "name": "stdout",
     "output_type": "stream",
     "text": [
      "\u001b[34m\u001b[1mtrain: \u001b[0mWARNING ⚠️ /home/avivyh/Documentos/SINFO/dataset/images/train/pic_722.jpg: corrupt JPEG restored and saved\n"
     ]
    },
    {
     "name": "stderr",
     "output_type": "stream",
     "text": [
      "\n",
      "\u001b[34m\u001b[1mval: \u001b[0mScanning /home/avivyh/Documentos/SINFO/dataset/labels/val.cache... 163 images, 0 backgrounds, 0 corrupt: 100%|██████████| 163/163 [00:00<?, ?it/s]\n"
     ]
    },
    {
     "name": "stdout",
     "output_type": "stream",
     "text": [
      "Plotting labels to runs/detect/train/labels.jpg... \n",
      "\u001b[34m\u001b[1moptimizer:\u001b[0m 'optimizer=auto' found, ignoring 'lr0=0.01' and 'momentum=0.937' and determining best 'optimizer', 'lr0' and 'momentum' automatically... \n",
      "\u001b[34m\u001b[1moptimizer:\u001b[0m AdamW(lr=0.002, momentum=0.9) with parameter groups 57 weight(decay=0.0), 64 weight(decay=0.0005), 63 bias(decay=0.0)\n",
      "Image sizes 640 train, 640 val\n",
      "Using 0 dataloader workers\n",
      "Logging results to \u001b[1mruns/detect/train\u001b[0m\n",
      "Starting training for 50 epochs...\n",
      "\n",
      "      Epoch    GPU_mem   box_loss   cls_loss   dfl_loss  Instances       Size\n"
     ]
    },
    {
     "name": "stderr",
     "output_type": "stream",
     "text": [
      "       1/50         0G      1.382       2.12       1.56         46        640:  85%|████████▌ | 41/48 [08:24<01:16, 10.91s/it]libpng warning: iCCP: known incorrect sRGB profile\n",
      "       1/50         0G      1.389      2.083      1.559         22        640: 100%|██████████| 48/48 [09:35<00:00, 11.98s/it]\n",
      "                 Class     Images  Instances      Box(P          R      mAP50  mAP50-95):  50%|█████     | 3/6 [00:18<00:18,  6.03s/it]libpng warning: iCCP: known incorrect sRGB profile\n",
      "                 Class     Images  Instances      Box(P          R      mAP50  mAP50-95): 100%|██████████| 6/6 [00:36<00:00,  6.08s/it]"
     ]
    },
    {
     "name": "stdout",
     "output_type": "stream",
     "text": [
      "                   all        163        180      0.657      0.467      0.588      0.294\n"
     ]
    },
    {
     "name": "stderr",
     "output_type": "stream",
     "text": [
      "\n"
     ]
    },
    {
     "name": "stdout",
     "output_type": "stream",
     "text": [
      "\n",
      "      Epoch    GPU_mem   box_loss   cls_loss   dfl_loss  Instances       Size\n"
     ]
    },
    {
     "name": "stderr",
     "output_type": "stream",
     "text": [
      "       2/50         0G      1.457      1.857      1.606         43        640:  90%|████████▉ | 43/48 [07:53<00:54, 10.83s/it]libpng warning: iCCP: known incorrect sRGB profile\n",
      "       2/50         0G      1.456      1.852       1.61         21        640: 100%|██████████| 48/48 [08:42<00:00, 10.88s/it]\n",
      "                 Class     Images  Instances      Box(P          R      mAP50  mAP50-95):  50%|█████     | 3/6 [00:15<00:15,  5.27s/it]libpng warning: iCCP: known incorrect sRGB profile\n",
      "                 Class     Images  Instances      Box(P          R      mAP50  mAP50-95): 100%|██████████| 6/6 [00:32<00:00,  5.35s/it]"
     ]
    },
    {
     "name": "stdout",
     "output_type": "stream",
     "text": [
      "                   all        163        180      0.366      0.472      0.361      0.138\n"
     ]
    },
    {
     "name": "stderr",
     "output_type": "stream",
     "text": [
      "\n"
     ]
    },
    {
     "name": "stdout",
     "output_type": "stream",
     "text": [
      "\n",
      "      Epoch    GPU_mem   box_loss   cls_loss   dfl_loss  Instances       Size\n"
     ]
    },
    {
     "name": "stderr",
     "output_type": "stream",
     "text": [
      "       3/50         0G      1.502      1.831      1.663         36        640:  62%|██████▎   | 30/48 [05:28<03:17, 10.97s/it]libpng warning: iCCP: known incorrect sRGB profile\n",
      "       3/50         0G      1.502      1.763      1.657         25        640: 100%|██████████| 48/48 [08:39<00:00, 10.83s/it]\n",
      "                 Class     Images  Instances      Box(P          R      mAP50  mAP50-95):  50%|█████     | 3/6 [00:15<00:15,  5.21s/it]libpng warning: iCCP: known incorrect sRGB profile\n",
      "                 Class     Images  Instances      Box(P          R      mAP50  mAP50-95): 100%|██████████| 6/6 [00:31<00:00,  5.24s/it]"
     ]
    },
    {
     "name": "stdout",
     "output_type": "stream",
     "text": [
      "                   all        163        180      0.331      0.561      0.363      0.145\n"
     ]
    },
    {
     "name": "stderr",
     "output_type": "stream",
     "text": [
      "\n"
     ]
    },
    {
     "name": "stdout",
     "output_type": "stream",
     "text": [
      "\n",
      "      Epoch    GPU_mem   box_loss   cls_loss   dfl_loss  Instances       Size\n"
     ]
    },
    {
     "name": "stderr",
     "output_type": "stream",
     "text": [
      "       4/50         0G      1.513      1.617      1.658         47        640:  42%|████▏     | 20/48 [03:36<04:50, 10.39s/it]libpng warning: iCCP: known incorrect sRGB profile\n",
      "       4/50         0G      1.514      1.614      1.646         21        640: 100%|██████████| 48/48 [08:33<00:00, 10.69s/it]\n",
      "                 Class     Images  Instances      Box(P          R      mAP50  mAP50-95):  50%|█████     | 3/6 [00:15<00:15,  5.32s/it]libpng warning: iCCP: known incorrect sRGB profile\n",
      "                 Class     Images  Instances      Box(P          R      mAP50  mAP50-95): 100%|██████████| 6/6 [00:31<00:00,  5.28s/it]"
     ]
    },
    {
     "name": "stdout",
     "output_type": "stream",
     "text": [
      "                   all        163        180      0.265        0.2      0.163     0.0675\n"
     ]
    },
    {
     "name": "stderr",
     "output_type": "stream",
     "text": [
      "\n"
     ]
    },
    {
     "name": "stdout",
     "output_type": "stream",
     "text": [
      "\n",
      "      Epoch    GPU_mem   box_loss   cls_loss   dfl_loss  Instances       Size\n"
     ]
    },
    {
     "name": "stderr",
     "output_type": "stream",
     "text": [
      "       5/50         0G      1.497      1.638      1.668         35        640:  33%|███▎      | 16/48 [02:44<05:23, 10.11s/it]libpng warning: iCCP: known incorrect sRGB profile\n",
      "       5/50         0G      1.513      1.535      1.646         24        640: 100%|██████████| 48/48 [08:02<00:00, 10.06s/it]\n",
      "                 Class     Images  Instances      Box(P          R      mAP50  mAP50-95):  50%|█████     | 3/6 [00:14<00:14,  4.91s/it]libpng warning: iCCP: known incorrect sRGB profile\n",
      "                 Class     Images  Instances      Box(P          R      mAP50  mAP50-95): 100%|██████████| 6/6 [00:30<00:00,  5.00s/it]"
     ]
    },
    {
     "name": "stdout",
     "output_type": "stream",
     "text": [
      "                   all        163        180      0.695      0.583      0.647      0.313\n"
     ]
    },
    {
     "name": "stderr",
     "output_type": "stream",
     "text": [
      "\n"
     ]
    },
    {
     "name": "stdout",
     "output_type": "stream",
     "text": [
      "\n",
      "      Epoch    GPU_mem   box_loss   cls_loss   dfl_loss  Instances       Size\n"
     ]
    },
    {
     "name": "stderr",
     "output_type": "stream",
     "text": [
      "       6/50         0G      1.456      1.393      1.583         45        640:  71%|███████   | 34/48 [06:01<02:30, 10.78s/it]libpng warning: iCCP: known incorrect sRGB profile\n",
      "       6/50         0G      1.462      1.384      1.565         32        640: 100%|██████████| 48/48 [08:29<00:00, 10.62s/it]\n",
      "                 Class     Images  Instances      Box(P          R      mAP50  mAP50-95):  50%|█████     | 3/6 [00:16<00:16,  5.46s/it]libpng warning: iCCP: known incorrect sRGB profile\n",
      "                 Class     Images  Instances      Box(P          R      mAP50  mAP50-95): 100%|██████████| 6/6 [00:33<00:00,  5.52s/it]"
     ]
    },
    {
     "name": "stdout",
     "output_type": "stream",
     "text": [
      "                   all        163        180       0.44      0.494      0.385      0.189\n"
     ]
    },
    {
     "name": "stderr",
     "output_type": "stream",
     "text": [
      "\n"
     ]
    },
    {
     "name": "stdout",
     "output_type": "stream",
     "text": [
      "\n",
      "      Epoch    GPU_mem   box_loss   cls_loss   dfl_loss  Instances       Size\n"
     ]
    },
    {
     "name": "stderr",
     "output_type": "stream",
     "text": [
      "       7/50         0G       1.45      1.372      1.588         34        640:  44%|████▍     | 21/48 [03:50<04:55, 10.95s/it]libpng warning: iCCP: known incorrect sRGB profile\n",
      "       7/50         0G      1.453      1.359      1.577         24        640: 100%|██████████| 48/48 [08:27<00:00, 10.57s/it]\n",
      "                 Class     Images  Instances      Box(P          R      mAP50  mAP50-95):  50%|█████     | 3/6 [00:14<00:14,  4.91s/it]libpng warning: iCCP: known incorrect sRGB profile\n",
      "                 Class     Images  Instances      Box(P          R      mAP50  mAP50-95): 100%|██████████| 6/6 [00:30<00:00,  5.01s/it]"
     ]
    },
    {
     "name": "stdout",
     "output_type": "stream",
     "text": [
      "                   all        163        180      0.806      0.656      0.721       0.38\n"
     ]
    },
    {
     "name": "stderr",
     "output_type": "stream",
     "text": [
      "\n"
     ]
    },
    {
     "name": "stdout",
     "output_type": "stream",
     "text": [
      "\n",
      "      Epoch    GPU_mem   box_loss   cls_loss   dfl_loss  Instances       Size\n"
     ]
    },
    {
     "name": "stderr",
     "output_type": "stream",
     "text": [
      "       8/50         0G      1.433      1.306      1.571         36        640:  69%|██████▉   | 33/48 [05:30<02:30, 10.01s/it]libpng warning: iCCP: known incorrect sRGB profile\n",
      "       8/50         0G      1.438      1.317      1.585         16        640: 100%|██████████| 48/48 [07:56<00:00,  9.93s/it]\n",
      "                 Class     Images  Instances      Box(P          R      mAP50  mAP50-95):  50%|█████     | 3/6 [00:14<00:14,  4.98s/it]libpng warning: iCCP: known incorrect sRGB profile\n",
      "                 Class     Images  Instances      Box(P          R      mAP50  mAP50-95): 100%|██████████| 6/6 [00:29<00:00,  4.90s/it]"
     ]
    },
    {
     "name": "stdout",
     "output_type": "stream",
     "text": [
      "                   all        163        180      0.763      0.717      0.761      0.406\n"
     ]
    },
    {
     "name": "stderr",
     "output_type": "stream",
     "text": [
      "\n"
     ]
    },
    {
     "name": "stdout",
     "output_type": "stream",
     "text": [
      "\n",
      "      Epoch    GPU_mem   box_loss   cls_loss   dfl_loss  Instances       Size\n"
     ]
    },
    {
     "name": "stderr",
     "output_type": "stream",
     "text": [
      "  0%|          | 0/48 [00:00<?, ?it/s]libpng warning: iCCP: known incorrect sRGB profile\n",
      "       9/50         0G      1.417      1.329      1.572         29        640: 100%|██████████| 48/48 [07:57<00:00,  9.94s/it]\n",
      "                 Class     Images  Instances      Box(P          R      mAP50  mAP50-95):  50%|█████     | 3/6 [00:14<00:14,  4.88s/it]libpng warning: iCCP: known incorrect sRGB profile\n",
      "                 Class     Images  Instances      Box(P          R      mAP50  mAP50-95): 100%|██████████| 6/6 [00:29<00:00,  4.86s/it]"
     ]
    },
    {
     "name": "stdout",
     "output_type": "stream",
     "text": [
      "                   all        163        180      0.747      0.611      0.687      0.345\n"
     ]
    },
    {
     "name": "stderr",
     "output_type": "stream",
     "text": [
      "\n"
     ]
    },
    {
     "name": "stdout",
     "output_type": "stream",
     "text": [
      "\n",
      "      Epoch    GPU_mem   box_loss   cls_loss   dfl_loss  Instances       Size\n"
     ]
    },
    {
     "name": "stderr",
     "output_type": "stream",
     "text": [
      "      10/50         0G      1.415      1.242       1.53         46        640:  81%|████████▏ | 39/48 [06:31<01:30, 10.05s/it]libpng warning: iCCP: known incorrect sRGB profile\n",
      "      10/50         0G      1.406      1.229      1.534         25        640: 100%|██████████| 48/48 [07:56<00:00,  9.92s/it]\n",
      "                 Class     Images  Instances      Box(P          R      mAP50  mAP50-95):  50%|█████     | 3/6 [00:14<00:14,  4.94s/it]libpng warning: iCCP: known incorrect sRGB profile\n",
      "                 Class     Images  Instances      Box(P          R      mAP50  mAP50-95): 100%|██████████| 6/6 [00:29<00:00,  4.90s/it]"
     ]
    },
    {
     "name": "stdout",
     "output_type": "stream",
     "text": [
      "                   all        163        180      0.915      0.767      0.861      0.453\n"
     ]
    },
    {
     "name": "stderr",
     "output_type": "stream",
     "text": [
      "\n"
     ]
    },
    {
     "name": "stdout",
     "output_type": "stream",
     "text": [
      "\n",
      "      Epoch    GPU_mem   box_loss   cls_loss   dfl_loss  Instances       Size\n"
     ]
    },
    {
     "name": "stderr",
     "output_type": "stream",
     "text": [
      "      11/50         0G      1.401      1.196      1.555         42        640:  50%|█████     | 24/48 [03:59<04:00, 10.01s/it]libpng warning: iCCP: known incorrect sRGB profile\n",
      "      11/50         0G      1.402      1.199       1.54         16        640: 100%|██████████| 48/48 [07:55<00:00,  9.91s/it]\n",
      "                 Class     Images  Instances      Box(P          R      mAP50  mAP50-95):  50%|█████     | 3/6 [00:14<00:14,  4.91s/it]libpng warning: iCCP: known incorrect sRGB profile\n",
      "                 Class     Images  Instances      Box(P          R      mAP50  mAP50-95): 100%|██████████| 6/6 [00:29<00:00,  4.93s/it]"
     ]
    },
    {
     "name": "stdout",
     "output_type": "stream",
     "text": [
      "                   all        163        180      0.893      0.817      0.891      0.535\n"
     ]
    },
    {
     "name": "stderr",
     "output_type": "stream",
     "text": [
      "\n"
     ]
    },
    {
     "name": "stdout",
     "output_type": "stream",
     "text": [
      "\n",
      "      Epoch    GPU_mem   box_loss   cls_loss   dfl_loss  Instances       Size\n"
     ]
    },
    {
     "name": "stderr",
     "output_type": "stream",
     "text": [
      "      12/50         0G      1.428      1.123      1.484         54        640:   6%|▋         | 3/48 [00:29<07:28,  9.97s/it]libpng warning: iCCP: known incorrect sRGB profile\n",
      "      12/50         0G       1.37      1.145      1.504         23        640: 100%|██████████| 48/48 [07:55<00:00,  9.91s/it]\n",
      "                 Class     Images  Instances      Box(P          R      mAP50  mAP50-95):  50%|█████     | 3/6 [00:14<00:14,  4.89s/it]libpng warning: iCCP: known incorrect sRGB profile\n",
      "                 Class     Images  Instances      Box(P          R      mAP50  mAP50-95): 100%|██████████| 6/6 [00:29<00:00,  4.90s/it]"
     ]
    },
    {
     "name": "stdout",
     "output_type": "stream",
     "text": [
      "                   all        163        180      0.799      0.833       0.87      0.482\n"
     ]
    },
    {
     "name": "stderr",
     "output_type": "stream",
     "text": [
      "\n"
     ]
    },
    {
     "name": "stdout",
     "output_type": "stream",
     "text": [
      "\n",
      "      Epoch    GPU_mem   box_loss   cls_loss   dfl_loss  Instances       Size\n"
     ]
    },
    {
     "name": "stderr",
     "output_type": "stream",
     "text": [
      "      13/50         0G      1.277      1.122      1.447         43        640:  31%|███▏      | 15/48 [02:29<05:29,  9.98s/it]libpng warning: iCCP: known incorrect sRGB profile\n",
      "      13/50         0G      1.312      1.106      1.452         18        640: 100%|██████████| 48/48 [07:55<00:00,  9.91s/it]\n",
      "                 Class     Images  Instances      Box(P          R      mAP50  mAP50-95):  50%|█████     | 3/6 [00:14<00:14,  4.92s/it]libpng warning: iCCP: known incorrect sRGB profile\n",
      "                 Class     Images  Instances      Box(P          R      mAP50  mAP50-95): 100%|██████████| 6/6 [00:29<00:00,  4.90s/it]"
     ]
    },
    {
     "name": "stdout",
     "output_type": "stream",
     "text": [
      "                   all        163        180      0.848        0.8       0.88      0.549\n"
     ]
    },
    {
     "name": "stderr",
     "output_type": "stream",
     "text": [
      "\n"
     ]
    },
    {
     "name": "stdout",
     "output_type": "stream",
     "text": [
      "\n",
      "      Epoch    GPU_mem   box_loss   cls_loss   dfl_loss  Instances       Size\n"
     ]
    },
    {
     "name": "stderr",
     "output_type": "stream",
     "text": [
      "      14/50         0G      1.524      1.277      1.528         32        640:   4%|▍         | 2/48 [00:19<07:36,  9.93s/it]libpng warning: iCCP: known incorrect sRGB profile\n",
      "      14/50         0G      1.325      1.063      1.447         27        640: 100%|██████████| 48/48 [08:23<00:00, 10.48s/it]\n",
      "                 Class     Images  Instances      Box(P          R      mAP50  mAP50-95):  50%|█████     | 3/6 [00:14<00:14,  4.92s/it]libpng warning: iCCP: known incorrect sRGB profile\n",
      "                 Class     Images  Instances      Box(P          R      mAP50  mAP50-95): 100%|██████████| 6/6 [00:29<00:00,  4.90s/it]"
     ]
    },
    {
     "name": "stdout",
     "output_type": "stream",
     "text": [
      "                   all        163        180      0.863      0.828      0.904      0.552\n"
     ]
    },
    {
     "name": "stderr",
     "output_type": "stream",
     "text": [
      "\n"
     ]
    },
    {
     "name": "stdout",
     "output_type": "stream",
     "text": [
      "\n",
      "      Epoch    GPU_mem   box_loss   cls_loss   dfl_loss  Instances       Size\n"
     ]
    },
    {
     "name": "stderr",
     "output_type": "stream",
     "text": [
      "      15/50         0G      1.226     0.9846      1.399         51        640:  31%|███▏      | 15/48 [02:30<05:29,  9.98s/it]libpng warning: iCCP: known incorrect sRGB profile\n",
      "      15/50         0G      1.259      0.997       1.43         22        640: 100%|██████████| 48/48 [07:55<00:00,  9.91s/it]\n",
      "                 Class     Images  Instances      Box(P          R      mAP50  mAP50-95):  50%|█████     | 3/6 [00:14<00:14,  4.91s/it]libpng warning: iCCP: known incorrect sRGB profile\n",
      "                 Class     Images  Instances      Box(P          R      mAP50  mAP50-95): 100%|██████████| 6/6 [00:29<00:00,  4.90s/it]"
     ]
    },
    {
     "name": "stdout",
     "output_type": "stream",
     "text": [
      "                   all        163        180      0.859      0.813      0.895      0.509\n"
     ]
    },
    {
     "name": "stderr",
     "output_type": "stream",
     "text": [
      "\n"
     ]
    },
    {
     "name": "stdout",
     "output_type": "stream",
     "text": [
      "\n",
      "      Epoch    GPU_mem   box_loss   cls_loss   dfl_loss  Instances       Size\n"
     ]
    },
    {
     "name": "stderr",
     "output_type": "stream",
     "text": [
      "      16/50         0G      1.241     0.9846      1.418         41        640:  77%|███████▋  | 37/48 [06:24<01:59, 10.83s/it]libpng warning: iCCP: known incorrect sRGB profile\n",
      "      16/50         0G      1.267      1.004      1.436         21        640: 100%|██████████| 48/48 [08:18<00:00, 10.39s/it]\n",
      "                 Class     Images  Instances      Box(P          R      mAP50  mAP50-95):  50%|█████     | 3/6 [00:15<00:15,  5.28s/it]libpng warning: iCCP: known incorrect sRGB profile\n",
      "                 Class     Images  Instances      Box(P          R      mAP50  mAP50-95): 100%|██████████| 6/6 [00:31<00:00,  5.23s/it]"
     ]
    },
    {
     "name": "stdout",
     "output_type": "stream",
     "text": [
      "                   all        163        180      0.882      0.772       0.86      0.448\n"
     ]
    },
    {
     "name": "stderr",
     "output_type": "stream",
     "text": [
      "\n"
     ]
    },
    {
     "name": "stdout",
     "output_type": "stream",
     "text": [
      "\n",
      "      Epoch    GPU_mem   box_loss   cls_loss   dfl_loss  Instances       Size\n"
     ]
    },
    {
     "name": "stderr",
     "output_type": "stream",
     "text": [
      "      17/50         0G      1.243      1.022      1.425         38        640:  85%|████████▌ | 41/48 [06:54<01:10, 10.04s/it]libpng warning: iCCP: known incorrect sRGB profile\n",
      "      17/50         0G       1.25      1.016      1.435         18        640: 100%|██████████| 48/48 [07:59<00:00,  9.99s/it]\n",
      "                 Class     Images  Instances      Box(P          R      mAP50  mAP50-95):  50%|█████     | 3/6 [00:14<00:14,  5.00s/it]libpng warning: iCCP: known incorrect sRGB profile\n",
      "                 Class     Images  Instances      Box(P          R      mAP50  mAP50-95): 100%|██████████| 6/6 [00:29<00:00,  4.93s/it]"
     ]
    },
    {
     "name": "stdout",
     "output_type": "stream",
     "text": [
      "                   all        163        180      0.888      0.856      0.925      0.569\n"
     ]
    },
    {
     "name": "stderr",
     "output_type": "stream",
     "text": [
      "\n"
     ]
    },
    {
     "name": "stdout",
     "output_type": "stream",
     "text": [
      "\n",
      "      Epoch    GPU_mem   box_loss   cls_loss   dfl_loss  Instances       Size\n"
     ]
    },
    {
     "name": "stderr",
     "output_type": "stream",
     "text": [
      "      18/50         0G      1.226     0.9601      1.434         46        640:  50%|█████     | 24/48 [04:01<03:59, 10.00s/it]libpng warning: iCCP: known incorrect sRGB profile\n",
      "      18/50         0G      1.233     0.9718      1.416         16        640: 100%|██████████| 48/48 [07:57<00:00,  9.94s/it]\n",
      "                 Class     Images  Instances      Box(P          R      mAP50  mAP50-95):  50%|█████     | 3/6 [00:14<00:14,  4.89s/it]libpng warning: iCCP: known incorrect sRGB profile\n",
      "                 Class     Images  Instances      Box(P          R      mAP50  mAP50-95): 100%|██████████| 6/6 [00:29<00:00,  4.97s/it]"
     ]
    },
    {
     "name": "stdout",
     "output_type": "stream",
     "text": [
      "                   all        163        180      0.891      0.856      0.926      0.577\n"
     ]
    },
    {
     "name": "stderr",
     "output_type": "stream",
     "text": [
      "\n"
     ]
    },
    {
     "name": "stdout",
     "output_type": "stream",
     "text": [
      "\n",
      "      Epoch    GPU_mem   box_loss   cls_loss   dfl_loss  Instances       Size\n"
     ]
    },
    {
     "name": "stderr",
     "output_type": "stream",
     "text": [
      "      19/50         0G      1.229     0.9615      1.412         44        640:  94%|█████████▍| 45/48 [07:40<00:32, 10.72s/it]libpng warning: iCCP: known incorrect sRGB profile\n",
      "      19/50         0G      1.222     0.9517      1.405         21        640: 100%|██████████| 48/48 [08:07<00:00, 10.16s/it]\n",
      "                 Class     Images  Instances      Box(P          R      mAP50  mAP50-95):  50%|█████     | 3/6 [00:15<00:15,  5.11s/it]libpng warning: iCCP: known incorrect sRGB profile\n",
      "                 Class     Images  Instances      Box(P          R      mAP50  mAP50-95): 100%|██████████| 6/6 [00:30<00:00,  5.10s/it]"
     ]
    },
    {
     "name": "stdout",
     "output_type": "stream",
     "text": [
      "                   all        163        180      0.945      0.857      0.947      0.599\n"
     ]
    },
    {
     "name": "stderr",
     "output_type": "stream",
     "text": [
      "\n"
     ]
    },
    {
     "name": "stdout",
     "output_type": "stream",
     "text": [
      "\n",
      "      Epoch    GPU_mem   box_loss   cls_loss   dfl_loss  Instances       Size\n"
     ]
    },
    {
     "name": "stderr",
     "output_type": "stream",
     "text": [
      "      20/50         0G      1.171     0.8674      1.348         37        640:  69%|██████▉   | 33/48 [05:42<02:28,  9.90s/it]libpng warning: iCCP: known incorrect sRGB profile\n",
      "      20/50         0G      1.185     0.8766      1.372         20        640: 100%|██████████| 48/48 [08:07<00:00, 10.15s/it]\n",
      "                 Class     Images  Instances      Box(P          R      mAP50  mAP50-95):  50%|█████     | 3/6 [00:14<00:14,  4.85s/it]libpng warning: iCCP: known incorrect sRGB profile\n",
      "                 Class     Images  Instances      Box(P          R      mAP50  mAP50-95): 100%|██████████| 6/6 [00:29<00:00,  4.94s/it]"
     ]
    },
    {
     "name": "stdout",
     "output_type": "stream",
     "text": [
      "                   all        163        180      0.913      0.875      0.935      0.576\n"
     ]
    },
    {
     "name": "stderr",
     "output_type": "stream",
     "text": [
      "\n"
     ]
    },
    {
     "name": "stdout",
     "output_type": "stream",
     "text": [
      "\n",
      "      Epoch    GPU_mem   box_loss   cls_loss   dfl_loss  Instances       Size\n"
     ]
    },
    {
     "name": "stderr",
     "output_type": "stream",
     "text": [
      "      21/50         0G      1.248     0.9734      1.397         34        640:  38%|███▊      | 18/48 [02:58<04:57,  9.92s/it]libpng warning: iCCP: known incorrect sRGB profile\n",
      "      21/50         0G      1.206     0.9343      1.384         24        640: 100%|██████████| 48/48 [07:51<00:00,  9.82s/it]\n",
      "                 Class     Images  Instances      Box(P          R      mAP50  mAP50-95):  50%|█████     | 3/6 [00:14<00:14,  4.82s/it]libpng warning: iCCP: known incorrect sRGB profile\n",
      "                 Class     Images  Instances      Box(P          R      mAP50  mAP50-95): 100%|██████████| 6/6 [00:29<00:00,  4.84s/it]"
     ]
    },
    {
     "name": "stdout",
     "output_type": "stream",
     "text": [
      "                   all        163        180      0.825       0.89      0.921       0.59\n"
     ]
    },
    {
     "name": "stderr",
     "output_type": "stream",
     "text": [
      "\n"
     ]
    },
    {
     "name": "stdout",
     "output_type": "stream",
     "text": [
      "\n",
      "      Epoch    GPU_mem   box_loss   cls_loss   dfl_loss  Instances       Size\n"
     ]
    },
    {
     "name": "stderr",
     "output_type": "stream",
     "text": [
      "      22/50         0G       1.22      0.958      1.352         40        640:  15%|█▍        | 7/48 [01:08<06:44,  9.87s/it]libpng warning: iCCP: known incorrect sRGB profile\n",
      "      22/50         0G      1.203     0.9272      1.389         20        640: 100%|██████████| 48/48 [07:48<00:00,  9.77s/it]\n",
      "                 Class     Images  Instances      Box(P          R      mAP50  mAP50-95):  50%|█████     | 3/6 [00:14<00:14,  4.86s/it]libpng warning: iCCP: known incorrect sRGB profile\n",
      "                 Class     Images  Instances      Box(P          R      mAP50  mAP50-95): 100%|██████████| 6/6 [00:28<00:00,  4.81s/it]"
     ]
    },
    {
     "name": "stdout",
     "output_type": "stream",
     "text": [
      "                   all        163        180      0.932      0.908      0.953      0.622\n"
     ]
    },
    {
     "name": "stderr",
     "output_type": "stream",
     "text": [
      "\n"
     ]
    },
    {
     "name": "stdout",
     "output_type": "stream",
     "text": [
      "\n",
      "      Epoch    GPU_mem   box_loss   cls_loss   dfl_loss  Instances       Size\n"
     ]
    },
    {
     "name": "stderr",
     "output_type": "stream",
     "text": [
      "      23/50         0G      1.127     0.9038      1.369         37        640:  46%|████▌     | 22/48 [03:38<04:18,  9.93s/it]libpng warning: iCCP: known incorrect sRGB profile\n",
      "      23/50         0G      1.178      0.897      1.371         20        640: 100%|██████████| 48/48 [07:52<00:00,  9.84s/it]\n",
      "                 Class     Images  Instances      Box(P          R      mAP50  mAP50-95):  50%|█████     | 3/6 [00:14<00:14,  4.84s/it]libpng warning: iCCP: known incorrect sRGB profile\n",
      "                 Class     Images  Instances      Box(P          R      mAP50  mAP50-95): 100%|██████████| 6/6 [00:29<00:00,  4.86s/it]"
     ]
    },
    {
     "name": "stdout",
     "output_type": "stream",
     "text": [
      "                   all        163        180      0.946      0.861      0.948      0.619\n"
     ]
    },
    {
     "name": "stderr",
     "output_type": "stream",
     "text": [
      "\n"
     ]
    },
    {
     "name": "stdout",
     "output_type": "stream",
     "text": [
      "\n",
      "      Epoch    GPU_mem   box_loss   cls_loss   dfl_loss  Instances       Size\n"
     ]
    },
    {
     "name": "stderr",
     "output_type": "stream",
     "text": [
      "      24/50         0G      1.158     0.7976      1.321         48        640:  46%|████▌     | 22/48 [03:38<04:19,  9.98s/it]libpng warning: iCCP: known incorrect sRGB profile\n",
      "      24/50         0G      1.164     0.8244      1.342         28        640: 100%|██████████| 48/48 [07:52<00:00,  9.84s/it]\n",
      "                 Class     Images  Instances      Box(P          R      mAP50  mAP50-95):  50%|█████     | 3/6 [00:14<00:14,  4.79s/it]libpng warning: iCCP: known incorrect sRGB profile\n",
      "                 Class     Images  Instances      Box(P          R      mAP50  mAP50-95): 100%|██████████| 6/6 [00:28<00:00,  4.77s/it]"
     ]
    },
    {
     "name": "stdout",
     "output_type": "stream",
     "text": [
      "                   all        163        180       0.89      0.903      0.943      0.612\n"
     ]
    },
    {
     "name": "stderr",
     "output_type": "stream",
     "text": [
      "\n"
     ]
    },
    {
     "name": "stdout",
     "output_type": "stream",
     "text": [
      "\n",
      "      Epoch    GPU_mem   box_loss   cls_loss   dfl_loss  Instances       Size\n"
     ]
    },
    {
     "name": "stderr",
     "output_type": "stream",
     "text": [
      "      25/50         0G      1.142     0.8401      1.351         38        640:  96%|█████████▌| 46/48 [07:37<00:19,  9.99s/it]libpng warning: iCCP: known incorrect sRGB profile\n",
      "      25/50         0G      1.144     0.8403      1.354         24        640: 100%|██████████| 48/48 [07:52<00:00,  9.85s/it]\n",
      "                 Class     Images  Instances      Box(P          R      mAP50  mAP50-95):  50%|█████     | 3/6 [00:14<00:14,  4.84s/it]libpng warning: iCCP: known incorrect sRGB profile\n",
      "                 Class     Images  Instances      Box(P          R      mAP50  mAP50-95): 100%|██████████| 6/6 [00:28<00:00,  4.83s/it]"
     ]
    },
    {
     "name": "stdout",
     "output_type": "stream",
     "text": [
      "                   all        163        180      0.926      0.878      0.937      0.626\n"
     ]
    },
    {
     "name": "stderr",
     "output_type": "stream",
     "text": [
      "\n"
     ]
    },
    {
     "name": "stdout",
     "output_type": "stream",
     "text": [
      "\n",
      "      Epoch    GPU_mem   box_loss   cls_loss   dfl_loss  Instances       Size\n"
     ]
    },
    {
     "name": "stderr",
     "output_type": "stream",
     "text": [
      "      26/50         0G      1.129     0.8361      1.333         50        640:  69%|██████▉   | 33/48 [05:26<02:29,  9.94s/it]libpng warning: iCCP: known incorrect sRGB profile\n",
      "      26/50         0G      1.135      0.846      1.341         18        640: 100%|██████████| 48/48 [07:49<00:00,  9.79s/it]\n",
      "                 Class     Images  Instances      Box(P          R      mAP50  mAP50-95):  50%|█████     | 3/6 [00:14<00:14,  4.82s/it]libpng warning: iCCP: known incorrect sRGB profile\n",
      "                 Class     Images  Instances      Box(P          R      mAP50  mAP50-95): 100%|██████████| 6/6 [00:28<00:00,  4.78s/it]"
     ]
    },
    {
     "name": "stdout",
     "output_type": "stream",
     "text": [
      "                   all        163        180      0.929      0.906      0.952      0.579\n"
     ]
    },
    {
     "name": "stderr",
     "output_type": "stream",
     "text": [
      "\n"
     ]
    },
    {
     "name": "stdout",
     "output_type": "stream",
     "text": [
      "\n",
      "      Epoch    GPU_mem   box_loss   cls_loss   dfl_loss  Instances       Size\n"
     ]
    },
    {
     "name": "stderr",
     "output_type": "stream",
     "text": [
      "      27/50         0G      1.136     0.8028      1.323         35        640:  48%|████▊     | 23/48 [03:48<04:07,  9.92s/it]libpng warning: iCCP: known incorrect sRGB profile\n",
      "      27/50         0G      1.143     0.7944      1.334         20        640: 100%|██████████| 48/48 [07:52<00:00,  9.83s/it]\n",
      "                 Class     Images  Instances      Box(P          R      mAP50  mAP50-95):  50%|█████     | 3/6 [00:14<00:14,  4.84s/it]libpng warning: iCCP: known incorrect sRGB profile\n",
      "                 Class     Images  Instances      Box(P          R      mAP50  mAP50-95): 100%|██████████| 6/6 [00:29<00:00,  4.94s/it]"
     ]
    },
    {
     "name": "stdout",
     "output_type": "stream",
     "text": [
      "                   all        163        180       0.94      0.878      0.955       0.61\n"
     ]
    },
    {
     "name": "stderr",
     "output_type": "stream",
     "text": [
      "\n"
     ]
    },
    {
     "name": "stdout",
     "output_type": "stream",
     "text": [
      "\n",
      "      Epoch    GPU_mem   box_loss   cls_loss   dfl_loss  Instances       Size\n"
     ]
    },
    {
     "name": "stderr",
     "output_type": "stream",
     "text": [
      "      28/50         0G      1.158     0.7954      1.349         44        640:  54%|█████▍    | 26/48 [04:34<03:58, 10.84s/it]libpng warning: iCCP: known incorrect sRGB profile\n",
      "      28/50         0G      1.138     0.8074      1.339         21        640: 100%|██████████| 48/48 [08:27<00:00, 10.58s/it]\n",
      "                 Class     Images  Instances      Box(P          R      mAP50  mAP50-95):  50%|█████     | 3/6 [00:14<00:14,  4.99s/it]libpng warning: iCCP: known incorrect sRGB profile\n",
      "                 Class     Images  Instances      Box(P          R      mAP50  mAP50-95): 100%|██████████| 6/6 [00:30<00:00,  5.05s/it]"
     ]
    },
    {
     "name": "stdout",
     "output_type": "stream",
     "text": [
      "                   all        163        180      0.921      0.906      0.958      0.613\n"
     ]
    },
    {
     "name": "stderr",
     "output_type": "stream",
     "text": [
      "\n"
     ]
    },
    {
     "name": "stdout",
     "output_type": "stream",
     "text": [
      "\n",
      "      Epoch    GPU_mem   box_loss   cls_loss   dfl_loss  Instances       Size\n"
     ]
    },
    {
     "name": "stderr",
     "output_type": "stream",
     "text": [
      "      29/50         0G      1.089     0.7673      1.289         42        640:  67%|██████▋   | 32/48 [05:21<02:41, 10.08s/it]libpng warning: iCCP: known incorrect sRGB profile\n",
      "      29/50         0G      1.093     0.7554      1.295         20        640: 100%|██████████| 48/48 [07:57<00:00,  9.95s/it]\n",
      "                 Class     Images  Instances      Box(P          R      mAP50  mAP50-95):  50%|█████     | 3/6 [00:14<00:14,  4.97s/it]libpng warning: iCCP: known incorrect sRGB profile\n",
      "                 Class     Images  Instances      Box(P          R      mAP50  mAP50-95): 100%|██████████| 6/6 [00:29<00:00,  4.96s/it]"
     ]
    },
    {
     "name": "stdout",
     "output_type": "stream",
     "text": [
      "                   all        163        180      0.952      0.885       0.97      0.615\n"
     ]
    },
    {
     "name": "stderr",
     "output_type": "stream",
     "text": [
      "\n"
     ]
    },
    {
     "name": "stdout",
     "output_type": "stream",
     "text": [
      "\n",
      "      Epoch    GPU_mem   box_loss   cls_loss   dfl_loss  Instances       Size\n"
     ]
    },
    {
     "name": "stderr",
     "output_type": "stream",
     "text": [
      "      30/50         0G      1.139     0.8145      1.319         41        640:  25%|██▌       | 12/48 [02:00<06:01, 10.04s/it]libpng warning: iCCP: known incorrect sRGB profile\n",
      "      30/50         0G      1.081      0.768        1.3         27        640: 100%|██████████| 48/48 [07:56<00:00,  9.93s/it]\n",
      "                 Class     Images  Instances      Box(P          R      mAP50  mAP50-95):  50%|█████     | 3/6 [00:14<00:14,  4.98s/it]libpng warning: iCCP: known incorrect sRGB profile\n",
      "                 Class     Images  Instances      Box(P          R      mAP50  mAP50-95): 100%|██████████| 6/6 [00:29<00:00,  4.99s/it]"
     ]
    },
    {
     "name": "stdout",
     "output_type": "stream",
     "text": [
      "                   all        163        180      0.958       0.95      0.974      0.664\n"
     ]
    },
    {
     "name": "stderr",
     "output_type": "stream",
     "text": [
      "\n"
     ]
    },
    {
     "name": "stdout",
     "output_type": "stream",
     "text": [
      "\n",
      "      Epoch    GPU_mem   box_loss   cls_loss   dfl_loss  Instances       Size\n"
     ]
    },
    {
     "name": "stderr",
     "output_type": "stream",
     "text": [
      "      31/50         0G      1.097     0.7434      1.289         35        640:  90%|████████▉ | 43/48 [07:13<00:50, 10.08s/it]libpng warning: iCCP: known incorrect sRGB profile\n",
      "      31/50         0G      1.091      0.744      1.289         24        640: 100%|██████████| 48/48 [07:58<00:00,  9.97s/it]\n",
      "                 Class     Images  Instances      Box(P          R      mAP50  mAP50-95):  50%|█████     | 3/6 [00:14<00:14,  4.97s/it]libpng warning: iCCP: known incorrect sRGB profile\n",
      "                 Class     Images  Instances      Box(P          R      mAP50  mAP50-95): 100%|██████████| 6/6 [00:30<00:00,  5.00s/it]"
     ]
    },
    {
     "name": "stdout",
     "output_type": "stream",
     "text": [
      "                   all        163        180      0.943      0.917      0.971      0.642\n"
     ]
    },
    {
     "name": "stderr",
     "output_type": "stream",
     "text": [
      "\n"
     ]
    },
    {
     "name": "stdout",
     "output_type": "stream",
     "text": [
      "\n",
      "      Epoch    GPU_mem   box_loss   cls_loss   dfl_loss  Instances       Size\n"
     ]
    },
    {
     "name": "stderr",
     "output_type": "stream",
     "text": [
      "      32/50         0G      1.046      0.746      1.278         55        640:  67%|██████▋   | 32/48 [05:21<02:40, 10.01s/it]libpng warning: iCCP: known incorrect sRGB profile\n",
      "      32/50         0G      1.057     0.7521      1.282         25        640: 100%|██████████| 48/48 [07:57<00:00,  9.95s/it]\n",
      "                 Class     Images  Instances      Box(P          R      mAP50  mAP50-95):  50%|█████     | 3/6 [00:14<00:14,  4.99s/it]libpng warning: iCCP: known incorrect sRGB profile\n",
      "                 Class     Images  Instances      Box(P          R      mAP50  mAP50-95): 100%|██████████| 6/6 [00:29<00:00,  4.98s/it]"
     ]
    },
    {
     "name": "stdout",
     "output_type": "stream",
     "text": [
      "                   all        163        180      0.959      0.961      0.983       0.68\n"
     ]
    },
    {
     "name": "stderr",
     "output_type": "stream",
     "text": [
      "\n"
     ]
    },
    {
     "name": "stdout",
     "output_type": "stream",
     "text": [
      "\n",
      "      Epoch    GPU_mem   box_loss   cls_loss   dfl_loss  Instances       Size\n"
     ]
    },
    {
     "name": "stderr",
     "output_type": "stream",
     "text": [
      "      33/50         0G      1.112     0.7705      1.338         46        640:  31%|███▏      | 15/48 [02:29<05:27,  9.93s/it]libpng warning: iCCP: known incorrect sRGB profile\n",
      "      33/50         0G      1.065       0.74      1.295         16        640: 100%|██████████| 48/48 [07:55<00:00,  9.91s/it]\n",
      "                 Class     Images  Instances      Box(P          R      mAP50  mAP50-95):  50%|█████     | 3/6 [00:14<00:14,  4.89s/it]libpng warning: iCCP: known incorrect sRGB profile\n",
      "                 Class     Images  Instances      Box(P          R      mAP50  mAP50-95): 100%|██████████| 6/6 [00:29<00:00,  4.91s/it]"
     ]
    },
    {
     "name": "stdout",
     "output_type": "stream",
     "text": [
      "                   all        163        180      0.925      0.944      0.971      0.657\n"
     ]
    },
    {
     "name": "stderr",
     "output_type": "stream",
     "text": [
      "\n"
     ]
    },
    {
     "name": "stdout",
     "output_type": "stream",
     "text": [
      "\n",
      "      Epoch    GPU_mem   box_loss   cls_loss   dfl_loss  Instances       Size\n"
     ]
    },
    {
     "name": "stderr",
     "output_type": "stream",
     "text": [
      "      34/50         0G       1.01     0.6865      1.251         35        640:  77%|███████▋  | 37/48 [06:10<01:49,  9.99s/it]libpng warning: iCCP: known incorrect sRGB profile\n",
      "      34/50         0G      1.024     0.6968      1.261         16        640: 100%|██████████| 48/48 [07:56<00:00,  9.93s/it]\n",
      "                 Class     Images  Instances      Box(P          R      mAP50  mAP50-95):  50%|█████     | 3/6 [00:14<00:14,  4.92s/it]libpng warning: iCCP: known incorrect sRGB profile\n",
      "                 Class     Images  Instances      Box(P          R      mAP50  mAP50-95): 100%|██████████| 6/6 [00:29<00:00,  4.94s/it]"
     ]
    },
    {
     "name": "stdout",
     "output_type": "stream",
     "text": [
      "                   all        163        180       0.97        0.9      0.971      0.657\n"
     ]
    },
    {
     "name": "stderr",
     "output_type": "stream",
     "text": [
      "\n"
     ]
    },
    {
     "name": "stdout",
     "output_type": "stream",
     "text": [
      "\n",
      "      Epoch    GPU_mem   box_loss   cls_loss   dfl_loss  Instances       Size\n"
     ]
    },
    {
     "name": "stderr",
     "output_type": "stream",
     "text": [
      "      35/50         0G     0.9891     0.6588      1.238         33        640:  33%|███▎      | 16/48 [02:40<05:21, 10.04s/it]libpng warning: iCCP: known incorrect sRGB profile\n",
      "      35/50         0G      1.035     0.7047      1.275         21        640: 100%|██████████| 48/48 [07:56<00:00,  9.93s/it]\n",
      "                 Class     Images  Instances      Box(P          R      mAP50  mAP50-95):  50%|█████     | 3/6 [00:14<00:14,  4.91s/it]libpng warning: iCCP: known incorrect sRGB profile\n",
      "                 Class     Images  Instances      Box(P          R      mAP50  mAP50-95): 100%|██████████| 6/6 [00:29<00:00,  4.94s/it]"
     ]
    },
    {
     "name": "stdout",
     "output_type": "stream",
     "text": [
      "                   all        163        180       0.96      0.933      0.976      0.647\n"
     ]
    },
    {
     "name": "stderr",
     "output_type": "stream",
     "text": [
      "\n"
     ]
    },
    {
     "name": "stdout",
     "output_type": "stream",
     "text": [
      "\n",
      "      Epoch    GPU_mem   box_loss   cls_loss   dfl_loss  Instances       Size\n"
     ]
    },
    {
     "name": "stderr",
     "output_type": "stream",
     "text": [
      "      36/50         0G      1.005     0.6758      1.252         43        640:  38%|███▊      | 18/48 [03:01<05:02, 10.08s/it]libpng warning: iCCP: known incorrect sRGB profile\n",
      "      36/50         0G      1.038     0.6969      1.267         27        640: 100%|██████████| 48/48 [07:57<00:00,  9.96s/it]\n",
      "                 Class     Images  Instances      Box(P          R      mAP50  mAP50-95):  50%|█████     | 3/6 [00:14<00:14,  4.94s/it]libpng warning: iCCP: known incorrect sRGB profile\n",
      "                 Class     Images  Instances      Box(P          R      mAP50  mAP50-95): 100%|██████████| 6/6 [00:29<00:00,  4.88s/it]"
     ]
    },
    {
     "name": "stdout",
     "output_type": "stream",
     "text": [
      "                   all        163        180       0.94      0.956      0.981      0.679\n"
     ]
    },
    {
     "name": "stderr",
     "output_type": "stream",
     "text": [
      "\n"
     ]
    },
    {
     "name": "stdout",
     "output_type": "stream",
     "text": [
      "\n",
      "      Epoch    GPU_mem   box_loss   cls_loss   dfl_loss  Instances       Size\n"
     ]
    },
    {
     "name": "stderr",
     "output_type": "stream",
     "text": [
      "      37/50         0G      1.046     0.6755      1.259         46        640:  38%|███▊      | 18/48 [03:01<05:03, 10.12s/it]libpng warning: iCCP: known incorrect sRGB profile\n",
      "      37/50         0G      1.046     0.6887      1.271         29        640: 100%|██████████| 48/48 [07:57<00:00,  9.96s/it]\n",
      "                 Class     Images  Instances      Box(P          R      mAP50  mAP50-95):  50%|█████     | 3/6 [00:14<00:14,  4.94s/it]libpng warning: iCCP: known incorrect sRGB profile\n",
      "                 Class     Images  Instances      Box(P          R      mAP50  mAP50-95): 100%|██████████| 6/6 [00:29<00:00,  4.92s/it]"
     ]
    },
    {
     "name": "stdout",
     "output_type": "stream",
     "text": [
      "                   all        163        180       0.96      0.932      0.976      0.671\n"
     ]
    },
    {
     "name": "stderr",
     "output_type": "stream",
     "text": [
      "\n"
     ]
    },
    {
     "name": "stdout",
     "output_type": "stream",
     "text": [
      "\n",
      "      Epoch    GPU_mem   box_loss   cls_loss   dfl_loss  Instances       Size\n"
     ]
    },
    {
     "name": "stderr",
     "output_type": "stream",
     "text": [
      "      38/50         0G          1     0.6673       1.24         41        640:  81%|████████▏ | 39/48 [06:31<01:30, 10.06s/it]libpng warning: iCCP: known incorrect sRGB profile\n",
      "      38/50         0G      0.998     0.6711       1.24         30        640: 100%|██████████| 48/48 [07:56<00:00,  9.94s/it]\n",
      "                 Class     Images  Instances      Box(P          R      mAP50  mAP50-95):  50%|█████     | 3/6 [00:14<00:14,  4.89s/it]libpng warning: iCCP: known incorrect sRGB profile\n",
      "                 Class     Images  Instances      Box(P          R      mAP50  mAP50-95): 100%|██████████| 6/6 [00:29<00:00,  4.91s/it]"
     ]
    },
    {
     "name": "stdout",
     "output_type": "stream",
     "text": [
      "                   all        163        180      0.983      0.937      0.981      0.685\n"
     ]
    },
    {
     "name": "stderr",
     "output_type": "stream",
     "text": [
      "\n"
     ]
    },
    {
     "name": "stdout",
     "output_type": "stream",
     "text": [
      "\n",
      "      Epoch    GPU_mem   box_loss   cls_loss   dfl_loss  Instances       Size\n"
     ]
    },
    {
     "name": "stderr",
     "output_type": "stream",
     "text": [
      "      39/50         0G      1.036     0.7117      1.258         49        640:  10%|█         | 5/48 [00:49<07:04,  9.88s/it]libpng warning: iCCP: known incorrect sRGB profile\n",
      "      39/50         0G     0.9783     0.6536       1.23         17        640: 100%|██████████| 48/48 [07:54<00:00,  9.89s/it]\n",
      "                 Class     Images  Instances      Box(P          R      mAP50  mAP50-95):  50%|█████     | 3/6 [00:14<00:14,  4.90s/it]libpng warning: iCCP: known incorrect sRGB profile\n",
      "                 Class     Images  Instances      Box(P          R      mAP50  mAP50-95): 100%|██████████| 6/6 [00:29<00:00,  4.89s/it]"
     ]
    },
    {
     "name": "stdout",
     "output_type": "stream",
     "text": [
      "                   all        163        180      0.969      0.961      0.988      0.706\n"
     ]
    },
    {
     "name": "stderr",
     "output_type": "stream",
     "text": [
      "\n"
     ]
    },
    {
     "name": "stdout",
     "output_type": "stream",
     "text": [
      "\n",
      "      Epoch    GPU_mem   box_loss   cls_loss   dfl_loss  Instances       Size\n"
     ]
    },
    {
     "name": "stderr",
     "output_type": "stream",
     "text": [
      "      40/50         0G      0.946     0.6489      1.206         39        640:  69%|██████▉   | 33/48 [05:30<02:30, 10.04s/it]libpng warning: iCCP: known incorrect sRGB profile\n",
      "      40/50         0G      0.951     0.6438      1.217         16        640: 100%|██████████| 48/48 [07:56<00:00,  9.92s/it]\n",
      "                 Class     Images  Instances      Box(P          R      mAP50  mAP50-95):  50%|█████     | 3/6 [00:14<00:14,  4.90s/it]libpng warning: iCCP: known incorrect sRGB profile\n",
      "                 Class     Images  Instances      Box(P          R      mAP50  mAP50-95): 100%|██████████| 6/6 [00:29<00:00,  4.94s/it]"
     ]
    },
    {
     "name": "stdout",
     "output_type": "stream",
     "text": [
      "                   all        163        180      0.984      0.956       0.99       0.68\n"
     ]
    },
    {
     "name": "stderr",
     "output_type": "stream",
     "text": [
      "\n"
     ]
    },
    {
     "name": "stdout",
     "output_type": "stream",
     "text": [
      "Closing dataloader mosaic\n",
      "\n",
      "      Epoch    GPU_mem   box_loss   cls_loss   dfl_loss  Instances       Size\n"
     ]
    },
    {
     "name": "stderr",
     "output_type": "stream",
     "text": [
      "      41/50         0G     0.8513     0.5546      1.204         18        640:  69%|██████▉   | 33/48 [05:28<02:29,  9.96s/it]libpng warning: iCCP: known incorrect sRGB profile\n",
      "      41/50         0G     0.8537     0.5444      1.202          9        640: 100%|██████████| 48/48 [07:53<00:00,  9.87s/it]\n",
      "                 Class     Images  Instances      Box(P          R      mAP50  mAP50-95):  50%|█████     | 3/6 [00:14<00:14,  4.88s/it]libpng warning: iCCP: known incorrect sRGB profile\n",
      "                 Class     Images  Instances      Box(P          R      mAP50  mAP50-95): 100%|██████████| 6/6 [00:29<00:00,  4.89s/it]"
     ]
    },
    {
     "name": "stdout",
     "output_type": "stream",
     "text": [
      "                   all        163        180      0.978      0.928      0.973      0.668\n"
     ]
    },
    {
     "name": "stderr",
     "output_type": "stream",
     "text": [
      "\n"
     ]
    },
    {
     "name": "stdout",
     "output_type": "stream",
     "text": [
      "\n",
      "      Epoch    GPU_mem   box_loss   cls_loss   dfl_loss  Instances       Size\n"
     ]
    },
    {
     "name": "stderr",
     "output_type": "stream",
     "text": [
      "      42/50         0G     0.8407     0.5019      1.242         16        640:  35%|███▌      | 17/48 [02:49<05:08,  9.94s/it]libpng warning: iCCP: known incorrect sRGB profile\n",
      "      42/50         0G      0.821     0.4876      1.192         10        640: 100%|██████████| 48/48 [07:54<00:00,  9.88s/it]\n",
      "                 Class     Images  Instances      Box(P          R      mAP50  mAP50-95):  50%|█████     | 3/6 [00:14<00:14,  4.96s/it]libpng warning: iCCP: known incorrect sRGB profile\n",
      "                 Class     Images  Instances      Box(P          R      mAP50  mAP50-95): 100%|██████████| 6/6 [00:29<00:00,  4.90s/it]"
     ]
    },
    {
     "name": "stdout",
     "output_type": "stream",
     "text": [
      "                   all        163        180      0.966       0.95      0.989      0.676\n"
     ]
    },
    {
     "name": "stderr",
     "output_type": "stream",
     "text": [
      "\n"
     ]
    },
    {
     "name": "stdout",
     "output_type": "stream",
     "text": [
      "\n",
      "      Epoch    GPU_mem   box_loss   cls_loss   dfl_loss  Instances       Size\n"
     ]
    },
    {
     "name": "stderr",
     "output_type": "stream",
     "text": [
      "      43/50         0G     0.8163     0.4685      1.186         16        640:  23%|██▎       | 11/48 [01:49<06:07,  9.92s/it]libpng warning: iCCP: known incorrect sRGB profile\n",
      "      43/50         0G     0.8064     0.4716      1.174          8        640: 100%|██████████| 48/48 [07:53<00:00,  9.86s/it]\n",
      "                 Class     Images  Instances      Box(P          R      mAP50  mAP50-95):  50%|█████     | 3/6 [00:14<00:14,  4.95s/it]libpng warning: iCCP: known incorrect sRGB profile\n",
      "                 Class     Images  Instances      Box(P          R      mAP50  mAP50-95): 100%|██████████| 6/6 [00:30<00:00,  5.07s/it]"
     ]
    },
    {
     "name": "stdout",
     "output_type": "stream",
     "text": [
      "                   all        163        180      0.956      0.978      0.989      0.689\n"
     ]
    },
    {
     "name": "stderr",
     "output_type": "stream",
     "text": [
      "\n"
     ]
    },
    {
     "name": "stdout",
     "output_type": "stream",
     "text": [
      "\n",
      "      Epoch    GPU_mem   box_loss   cls_loss   dfl_loss  Instances       Size\n"
     ]
    },
    {
     "name": "stderr",
     "output_type": "stream",
     "text": [
      "      44/50         0G     0.7719     0.4252      1.103         17        640:  10%|█         | 5/48 [00:49<07:06,  9.93s/it]libpng warning: iCCP: known incorrect sRGB profile\n",
      "      44/50         0G     0.7943     0.4543      1.149          8        640: 100%|██████████| 48/48 [07:54<00:00,  9.88s/it]\n",
      "                 Class     Images  Instances      Box(P          R      mAP50  mAP50-95):  50%|█████     | 3/6 [00:14<00:14,  4.89s/it]libpng warning: iCCP: known incorrect sRGB profile\n",
      "                 Class     Images  Instances      Box(P          R      mAP50  mAP50-95): 100%|██████████| 6/6 [00:30<00:00,  5.01s/it]"
     ]
    },
    {
     "name": "stdout",
     "output_type": "stream",
     "text": [
      "                   all        163        180      0.966      0.933      0.979       0.68\n"
     ]
    },
    {
     "name": "stderr",
     "output_type": "stream",
     "text": [
      "\n"
     ]
    },
    {
     "name": "stdout",
     "output_type": "stream",
     "text": [
      "\n",
      "      Epoch    GPU_mem   box_loss   cls_loss   dfl_loss  Instances       Size\n"
     ]
    },
    {
     "name": "stderr",
     "output_type": "stream",
     "text": [
      "      45/50         0G     0.7812     0.4516      1.146         19        640:  62%|██████▎   | 30/48 [04:59<03:00, 10.02s/it]libpng warning: iCCP: known incorrect sRGB profile\n",
      "      45/50         0G      0.766     0.4429       1.15          8        640: 100%|██████████| 48/48 [07:53<00:00,  9.86s/it]\n",
      "                 Class     Images  Instances      Box(P          R      mAP50  mAP50-95):  50%|█████     | 3/6 [00:14<00:14,  4.91s/it]libpng warning: iCCP: known incorrect sRGB profile\n",
      "                 Class     Images  Instances      Box(P          R      mAP50  mAP50-95): 100%|██████████| 6/6 [00:29<00:00,  4.94s/it]"
     ]
    },
    {
     "name": "stdout",
     "output_type": "stream",
     "text": [
      "                   all        163        180      0.979      0.939      0.985      0.697\n"
     ]
    },
    {
     "name": "stderr",
     "output_type": "stream",
     "text": [
      "\n"
     ]
    },
    {
     "name": "stdout",
     "output_type": "stream",
     "text": [
      "\n",
      "      Epoch    GPU_mem   box_loss   cls_loss   dfl_loss  Instances       Size\n"
     ]
    },
    {
     "name": "stderr",
     "output_type": "stream",
     "text": [
      "      46/50         0G     0.7731     0.4307      1.119         17        640:  25%|██▌       | 12/48 [01:59<05:57,  9.93s/it]libpng warning: iCCP: known incorrect sRGB profile\n",
      "      46/50         0G      0.754      0.435      1.142          9        640: 100%|██████████| 48/48 [07:51<00:00,  9.83s/it]\n",
      "                 Class     Images  Instances      Box(P          R      mAP50  mAP50-95):  50%|█████     | 3/6 [00:14<00:14,  4.90s/it]libpng warning: iCCP: known incorrect sRGB profile\n",
      "                 Class     Images  Instances      Box(P          R      mAP50  mAP50-95): 100%|██████████| 6/6 [00:29<00:00,  4.91s/it]"
     ]
    },
    {
     "name": "stdout",
     "output_type": "stream",
     "text": [
      "                   all        163        180      0.983       0.96      0.989      0.688\n"
     ]
    },
    {
     "name": "stderr",
     "output_type": "stream",
     "text": [
      "\n"
     ]
    },
    {
     "name": "stdout",
     "output_type": "stream",
     "text": [
      "\n",
      "      Epoch    GPU_mem   box_loss   cls_loss   dfl_loss  Instances       Size\n"
     ]
    },
    {
     "name": "stderr",
     "output_type": "stream",
     "text": [
      "      47/50         0G     0.7319     0.4257      1.088         18        640:  25%|██▌       | 12/48 [01:58<05:56,  9.90s/it]libpng warning: iCCP: known incorrect sRGB profile\n",
      "      47/50         0G     0.7593     0.4324      1.127          8        640: 100%|██████████| 48/48 [07:52<00:00,  9.84s/it]\n",
      "                 Class     Images  Instances      Box(P          R      mAP50  mAP50-95):  50%|█████     | 3/6 [00:14<00:14,  4.93s/it]libpng warning: iCCP: known incorrect sRGB profile\n",
      "                 Class     Images  Instances      Box(P          R      mAP50  mAP50-95): 100%|██████████| 6/6 [00:29<00:00,  4.92s/it]"
     ]
    },
    {
     "name": "stdout",
     "output_type": "stream",
     "text": [
      "                   all        163        180      0.985      0.978      0.992      0.695\n"
     ]
    },
    {
     "name": "stderr",
     "output_type": "stream",
     "text": [
      "\n"
     ]
    },
    {
     "name": "stdout",
     "output_type": "stream",
     "text": [
      "\n",
      "      Epoch    GPU_mem   box_loss   cls_loss   dfl_loss  Instances       Size\n"
     ]
    },
    {
     "name": "stderr",
     "output_type": "stream",
     "text": [
      "      48/50         0G     0.7259     0.4095      1.142         16        640:  21%|██        | 10/48 [01:39<06:19,  9.98s/it]libpng warning: iCCP: known incorrect sRGB profile\n",
      "      48/50         0G     0.7327     0.4169      1.138          8        640: 100%|██████████| 48/48 [07:52<00:00,  9.85s/it]\n",
      "                 Class     Images  Instances      Box(P          R      mAP50  mAP50-95):  50%|█████     | 3/6 [00:14<00:14,  4.91s/it]libpng warning: iCCP: known incorrect sRGB profile\n",
      "                 Class     Images  Instances      Box(P          R      mAP50  mAP50-95): 100%|██████████| 6/6 [00:29<00:00,  4.95s/it]"
     ]
    },
    {
     "name": "stdout",
     "output_type": "stream",
     "text": [
      "                   all        163        180      0.991      0.978      0.992      0.703\n"
     ]
    },
    {
     "name": "stderr",
     "output_type": "stream",
     "text": [
      "\n"
     ]
    },
    {
     "name": "stdout",
     "output_type": "stream",
     "text": [
      "\n",
      "      Epoch    GPU_mem   box_loss   cls_loss   dfl_loss  Instances       Size\n"
     ]
    },
    {
     "name": "stderr",
     "output_type": "stream",
     "text": [
      "      49/50         0G     0.6821     0.3937      1.094         16        640:  12%|█▎        | 6/48 [00:59<06:57,  9.94s/it]libpng warning: iCCP: known incorrect sRGB profile\n",
      "      49/50         0G     0.7167     0.4061      1.109          8        640: 100%|██████████| 48/48 [07:52<00:00,  9.84s/it]\n",
      "                 Class     Images  Instances      Box(P          R      mAP50  mAP50-95):  50%|█████     | 3/6 [00:14<00:14,  4.93s/it]libpng warning: iCCP: known incorrect sRGB profile\n",
      "                 Class     Images  Instances      Box(P          R      mAP50  mAP50-95): 100%|██████████| 6/6 [00:29<00:00,  4.88s/it]"
     ]
    },
    {
     "name": "stdout",
     "output_type": "stream",
     "text": [
      "                   all        163        180      0.994      0.956      0.993      0.705\n"
     ]
    },
    {
     "name": "stderr",
     "output_type": "stream",
     "text": [
      "\n"
     ]
    },
    {
     "name": "stdout",
     "output_type": "stream",
     "text": [
      "\n",
      "      Epoch    GPU_mem   box_loss   cls_loss   dfl_loss  Instances       Size\n"
     ]
    },
    {
     "name": "stderr",
     "output_type": "stream",
     "text": [
      "      50/50         0G     0.7122     0.4119      1.107         16        640:  96%|█████████▌| 46/48 [07:37<00:19,  9.90s/it]libpng warning: iCCP: known incorrect sRGB profile\n",
      "      50/50         0G      0.714     0.4114      1.109          8        640: 100%|██████████| 48/48 [07:52<00:00,  9.84s/it]\n",
      "                 Class     Images  Instances      Box(P          R      mAP50  mAP50-95):  50%|█████     | 3/6 [00:14<00:14,  4.94s/it]libpng warning: iCCP: known incorrect sRGB profile\n",
      "                 Class     Images  Instances      Box(P          R      mAP50  mAP50-95): 100%|██████████| 6/6 [00:29<00:00,  4.95s/it]"
     ]
    },
    {
     "name": "stdout",
     "output_type": "stream",
     "text": [
      "                   all        163        180      0.979      0.961       0.99      0.704\n"
     ]
    },
    {
     "name": "stderr",
     "output_type": "stream",
     "text": [
      "\n"
     ]
    },
    {
     "name": "stdout",
     "output_type": "stream",
     "text": [
      "\n",
      "50 epochs completed in 7.135 hours.\n",
      "Optimizer stripped from runs/detect/train/weights/last.pt, 6.2MB\n",
      "Optimizer stripped from runs/detect/train/weights/best.pt, 6.2MB\n",
      "\n",
      "Validating runs/detect/train/weights/best.pt...\n",
      "Ultralytics 8.3.31 🚀 Python-3.12.7 torch-2.5.1+cu124 CPU (Intel Core(TM) i3-7020U 2.30GHz)\n",
      "Model summary (fused): 168 layers, 3,005,843 parameters, 0 gradients, 8.1 GFLOPs\n"
     ]
    },
    {
     "name": "stderr",
     "output_type": "stream",
     "text": [
      "                 Class     Images  Instances      Box(P          R      mAP50  mAP50-95):  50%|█████     | 3/6 [00:13<00:13,  4.50s/it]libpng warning: iCCP: known incorrect sRGB profile\n",
      "                 Class     Images  Instances      Box(P          R      mAP50  mAP50-95): 100%|██████████| 6/6 [00:26<00:00,  4.36s/it]\n"
     ]
    },
    {
     "name": "stdout",
     "output_type": "stream",
     "text": [
      "                   all        163        180      0.969      0.961      0.988      0.706\n",
      "Speed: 2.3ms preprocess, 134.5ms inference, 0.0ms loss, 0.6ms postprocess per image\n",
      "Results saved to \u001b[1mruns/detect/train\u001b[0m\n"
     ]
    },
    {
     "data": {
      "text/plain": [
       "ultralytics.utils.metrics.DetMetrics object with attributes:\n",
       "\n",
       "ap_class_index: array([0])\n",
       "box: ultralytics.utils.metrics.Metric object\n",
       "confusion_matrix: <ultralytics.utils.metrics.ConfusionMatrix object at 0x7e1d4b993ce0>\n",
       "curves: ['Precision-Recall(B)', 'F1-Confidence(B)', 'Precision-Confidence(B)', 'Recall-Confidence(B)']\n",
       "curves_results: [[array([          0,    0.001001,    0.002002,    0.003003,    0.004004,    0.005005,    0.006006,    0.007007,    0.008008,    0.009009,     0.01001,    0.011011,    0.012012,    0.013013,    0.014014,    0.015015,    0.016016,    0.017017,    0.018018,    0.019019,     0.02002,    0.021021,    0.022022,    0.023023,\n",
       "          0.024024,    0.025025,    0.026026,    0.027027,    0.028028,    0.029029,     0.03003,    0.031031,    0.032032,    0.033033,    0.034034,    0.035035,    0.036036,    0.037037,    0.038038,    0.039039,     0.04004,    0.041041,    0.042042,    0.043043,    0.044044,    0.045045,    0.046046,    0.047047,\n",
       "          0.048048,    0.049049,     0.05005,    0.051051,    0.052052,    0.053053,    0.054054,    0.055055,    0.056056,    0.057057,    0.058058,    0.059059,     0.06006,    0.061061,    0.062062,    0.063063,    0.064064,    0.065065,    0.066066,    0.067067,    0.068068,    0.069069,     0.07007,    0.071071,\n",
       "          0.072072,    0.073073,    0.074074,    0.075075,    0.076076,    0.077077,    0.078078,    0.079079,     0.08008,    0.081081,    0.082082,    0.083083,    0.084084,    0.085085,    0.086086,    0.087087,    0.088088,    0.089089,     0.09009,    0.091091,    0.092092,    0.093093,    0.094094,    0.095095,\n",
       "          0.096096,    0.097097,    0.098098,    0.099099,      0.1001,      0.1011,      0.1021,      0.1031,      0.1041,     0.10511,     0.10611,     0.10711,     0.10811,     0.10911,     0.11011,     0.11111,     0.11211,     0.11311,     0.11411,     0.11512,     0.11612,     0.11712,     0.11812,     0.11912,\n",
       "           0.12012,     0.12112,     0.12212,     0.12312,     0.12412,     0.12513,     0.12613,     0.12713,     0.12813,     0.12913,     0.13013,     0.13113,     0.13213,     0.13313,     0.13413,     0.13514,     0.13614,     0.13714,     0.13814,     0.13914,     0.14014,     0.14114,     0.14214,     0.14314,\n",
       "           0.14414,     0.14515,     0.14615,     0.14715,     0.14815,     0.14915,     0.15015,     0.15115,     0.15215,     0.15315,     0.15415,     0.15516,     0.15616,     0.15716,     0.15816,     0.15916,     0.16016,     0.16116,     0.16216,     0.16316,     0.16416,     0.16517,     0.16617,     0.16717,\n",
       "           0.16817,     0.16917,     0.17017,     0.17117,     0.17217,     0.17317,     0.17417,     0.17518,     0.17618,     0.17718,     0.17818,     0.17918,     0.18018,     0.18118,     0.18218,     0.18318,     0.18418,     0.18519,     0.18619,     0.18719,     0.18819,     0.18919,     0.19019,     0.19119,\n",
       "           0.19219,     0.19319,     0.19419,      0.1952,      0.1962,      0.1972,      0.1982,      0.1992,      0.2002,      0.2012,      0.2022,      0.2032,      0.2042,     0.20521,     0.20621,     0.20721,     0.20821,     0.20921,     0.21021,     0.21121,     0.21221,     0.21321,     0.21421,     0.21522,\n",
       "           0.21622,     0.21722,     0.21822,     0.21922,     0.22022,     0.22122,     0.22222,     0.22322,     0.22422,     0.22523,     0.22623,     0.22723,     0.22823,     0.22923,     0.23023,     0.23123,     0.23223,     0.23323,     0.23423,     0.23524,     0.23624,     0.23724,     0.23824,     0.23924,\n",
       "           0.24024,     0.24124,     0.24224,     0.24324,     0.24424,     0.24525,     0.24625,     0.24725,     0.24825,     0.24925,     0.25025,     0.25125,     0.25225,     0.25325,     0.25425,     0.25526,     0.25626,     0.25726,     0.25826,     0.25926,     0.26026,     0.26126,     0.26226,     0.26326,\n",
       "           0.26426,     0.26527,     0.26627,     0.26727,     0.26827,     0.26927,     0.27027,     0.27127,     0.27227,     0.27327,     0.27427,     0.27528,     0.27628,     0.27728,     0.27828,     0.27928,     0.28028,     0.28128,     0.28228,     0.28328,     0.28428,     0.28529,     0.28629,     0.28729,\n",
       "           0.28829,     0.28929,     0.29029,     0.29129,     0.29229,     0.29329,     0.29429,      0.2953,      0.2963,      0.2973,      0.2983,      0.2993,      0.3003,      0.3013,      0.3023,      0.3033,      0.3043,     0.30531,     0.30631,     0.30731,     0.30831,     0.30931,     0.31031,     0.31131,\n",
       "           0.31231,     0.31331,     0.31431,     0.31532,     0.31632,     0.31732,     0.31832,     0.31932,     0.32032,     0.32132,     0.32232,     0.32332,     0.32432,     0.32533,     0.32633,     0.32733,     0.32833,     0.32933,     0.33033,     0.33133,     0.33233,     0.33333,     0.33433,     0.33534,\n",
       "           0.33634,     0.33734,     0.33834,     0.33934,     0.34034,     0.34134,     0.34234,     0.34334,     0.34434,     0.34535,     0.34635,     0.34735,     0.34835,     0.34935,     0.35035,     0.35135,     0.35235,     0.35335,     0.35435,     0.35536,     0.35636,     0.35736,     0.35836,     0.35936,\n",
       "           0.36036,     0.36136,     0.36236,     0.36336,     0.36436,     0.36537,     0.36637,     0.36737,     0.36837,     0.36937,     0.37037,     0.37137,     0.37237,     0.37337,     0.37437,     0.37538,     0.37638,     0.37738,     0.37838,     0.37938,     0.38038,     0.38138,     0.38238,     0.38338,\n",
       "           0.38438,     0.38539,     0.38639,     0.38739,     0.38839,     0.38939,     0.39039,     0.39139,     0.39239,     0.39339,     0.39439,      0.3954,      0.3964,      0.3974,      0.3984,      0.3994,      0.4004,      0.4014,      0.4024,      0.4034,      0.4044,     0.40541,     0.40641,     0.40741,\n",
       "           0.40841,     0.40941,     0.41041,     0.41141,     0.41241,     0.41341,     0.41441,     0.41542,     0.41642,     0.41742,     0.41842,     0.41942,     0.42042,     0.42142,     0.42242,     0.42342,     0.42442,     0.42543,     0.42643,     0.42743,     0.42843,     0.42943,     0.43043,     0.43143,\n",
       "           0.43243,     0.43343,     0.43443,     0.43544,     0.43644,     0.43744,     0.43844,     0.43944,     0.44044,     0.44144,     0.44244,     0.44344,     0.44444,     0.44545,     0.44645,     0.44745,     0.44845,     0.44945,     0.45045,     0.45145,     0.45245,     0.45345,     0.45445,     0.45546,\n",
       "           0.45646,     0.45746,     0.45846,     0.45946,     0.46046,     0.46146,     0.46246,     0.46346,     0.46446,     0.46547,     0.46647,     0.46747,     0.46847,     0.46947,     0.47047,     0.47147,     0.47247,     0.47347,     0.47447,     0.47548,     0.47648,     0.47748,     0.47848,     0.47948,\n",
       "           0.48048,     0.48148,     0.48248,     0.48348,     0.48448,     0.48549,     0.48649,     0.48749,     0.48849,     0.48949,     0.49049,     0.49149,     0.49249,     0.49349,     0.49449,      0.4955,      0.4965,      0.4975,      0.4985,      0.4995,      0.5005,      0.5015,      0.5025,      0.5035,\n",
       "            0.5045,     0.50551,     0.50651,     0.50751,     0.50851,     0.50951,     0.51051,     0.51151,     0.51251,     0.51351,     0.51451,     0.51552,     0.51652,     0.51752,     0.51852,     0.51952,     0.52052,     0.52152,     0.52252,     0.52352,     0.52452,     0.52553,     0.52653,     0.52753,\n",
       "           0.52853,     0.52953,     0.53053,     0.53153,     0.53253,     0.53353,     0.53453,     0.53554,     0.53654,     0.53754,     0.53854,     0.53954,     0.54054,     0.54154,     0.54254,     0.54354,     0.54454,     0.54555,     0.54655,     0.54755,     0.54855,     0.54955,     0.55055,     0.55155,\n",
       "           0.55255,     0.55355,     0.55455,     0.55556,     0.55656,     0.55756,     0.55856,     0.55956,     0.56056,     0.56156,     0.56256,     0.56356,     0.56456,     0.56557,     0.56657,     0.56757,     0.56857,     0.56957,     0.57057,     0.57157,     0.57257,     0.57357,     0.57457,     0.57558,\n",
       "           0.57658,     0.57758,     0.57858,     0.57958,     0.58058,     0.58158,     0.58258,     0.58358,     0.58458,     0.58559,     0.58659,     0.58759,     0.58859,     0.58959,     0.59059,     0.59159,     0.59259,     0.59359,     0.59459,      0.5956,      0.5966,      0.5976,      0.5986,      0.5996,\n",
       "            0.6006,      0.6016,      0.6026,      0.6036,      0.6046,     0.60561,     0.60661,     0.60761,     0.60861,     0.60961,     0.61061,     0.61161,     0.61261,     0.61361,     0.61461,     0.61562,     0.61662,     0.61762,     0.61862,     0.61962,     0.62062,     0.62162,     0.62262,     0.62362,\n",
       "           0.62462,     0.62563,     0.62663,     0.62763,     0.62863,     0.62963,     0.63063,     0.63163,     0.63263,     0.63363,     0.63463,     0.63564,     0.63664,     0.63764,     0.63864,     0.63964,     0.64064,     0.64164,     0.64264,     0.64364,     0.64464,     0.64565,     0.64665,     0.64765,\n",
       "           0.64865,     0.64965,     0.65065,     0.65165,     0.65265,     0.65365,     0.65465,     0.65566,     0.65666,     0.65766,     0.65866,     0.65966,     0.66066,     0.66166,     0.66266,     0.66366,     0.66466,     0.66567,     0.66667,     0.66767,     0.66867,     0.66967,     0.67067,     0.67167,\n",
       "           0.67267,     0.67367,     0.67467,     0.67568,     0.67668,     0.67768,     0.67868,     0.67968,     0.68068,     0.68168,     0.68268,     0.68368,     0.68468,     0.68569,     0.68669,     0.68769,     0.68869,     0.68969,     0.69069,     0.69169,     0.69269,     0.69369,     0.69469,      0.6957,\n",
       "            0.6967,      0.6977,      0.6987,      0.6997,      0.7007,      0.7017,      0.7027,      0.7037,      0.7047,     0.70571,     0.70671,     0.70771,     0.70871,     0.70971,     0.71071,     0.71171,     0.71271,     0.71371,     0.71471,     0.71572,     0.71672,     0.71772,     0.71872,     0.71972,\n",
       "           0.72072,     0.72172,     0.72272,     0.72372,     0.72472,     0.72573,     0.72673,     0.72773,     0.72873,     0.72973,     0.73073,     0.73173,     0.73273,     0.73373,     0.73473,     0.73574,     0.73674,     0.73774,     0.73874,     0.73974,     0.74074,     0.74174,     0.74274,     0.74374,\n",
       "           0.74474,     0.74575,     0.74675,     0.74775,     0.74875,     0.74975,     0.75075,     0.75175,     0.75275,     0.75375,     0.75475,     0.75576,     0.75676,     0.75776,     0.75876,     0.75976,     0.76076,     0.76176,     0.76276,     0.76376,     0.76476,     0.76577,     0.76677,     0.76777,\n",
       "           0.76877,     0.76977,     0.77077,     0.77177,     0.77277,     0.77377,     0.77477,     0.77578,     0.77678,     0.77778,     0.77878,     0.77978,     0.78078,     0.78178,     0.78278,     0.78378,     0.78478,     0.78579,     0.78679,     0.78779,     0.78879,     0.78979,     0.79079,     0.79179,\n",
       "           0.79279,     0.79379,     0.79479,      0.7958,      0.7968,      0.7978,      0.7988,      0.7998,      0.8008,      0.8018,      0.8028,      0.8038,      0.8048,     0.80581,     0.80681,     0.80781,     0.80881,     0.80981,     0.81081,     0.81181,     0.81281,     0.81381,     0.81481,     0.81582,\n",
       "           0.81682,     0.81782,     0.81882,     0.81982,     0.82082,     0.82182,     0.82282,     0.82382,     0.82482,     0.82583,     0.82683,     0.82783,     0.82883,     0.82983,     0.83083,     0.83183,     0.83283,     0.83383,     0.83483,     0.83584,     0.83684,     0.83784,     0.83884,     0.83984,\n",
       "           0.84084,     0.84184,     0.84284,     0.84384,     0.84484,     0.84585,     0.84685,     0.84785,     0.84885,     0.84985,     0.85085,     0.85185,     0.85285,     0.85385,     0.85485,     0.85586,     0.85686,     0.85786,     0.85886,     0.85986,     0.86086,     0.86186,     0.86286,     0.86386,\n",
       "           0.86486,     0.86587,     0.86687,     0.86787,     0.86887,     0.86987,     0.87087,     0.87187,     0.87287,     0.87387,     0.87487,     0.87588,     0.87688,     0.87788,     0.87888,     0.87988,     0.88088,     0.88188,     0.88288,     0.88388,     0.88488,     0.88589,     0.88689,     0.88789,\n",
       "           0.88889,     0.88989,     0.89089,     0.89189,     0.89289,     0.89389,     0.89489,      0.8959,      0.8969,      0.8979,      0.8989,      0.8999,      0.9009,      0.9019,      0.9029,      0.9039,      0.9049,     0.90591,     0.90691,     0.90791,     0.90891,     0.90991,     0.91091,     0.91191,\n",
       "           0.91291,     0.91391,     0.91491,     0.91592,     0.91692,     0.91792,     0.91892,     0.91992,     0.92092,     0.92192,     0.92292,     0.92392,     0.92492,     0.92593,     0.92693,     0.92793,     0.92893,     0.92993,     0.93093,     0.93193,     0.93293,     0.93393,     0.93493,     0.93594,\n",
       "           0.93694,     0.93794,     0.93894,     0.93994,     0.94094,     0.94194,     0.94294,     0.94394,     0.94494,     0.94595,     0.94695,     0.94795,     0.94895,     0.94995,     0.95095,     0.95195,     0.95295,     0.95395,     0.95495,     0.95596,     0.95696,     0.95796,     0.95896,     0.95996,\n",
       "           0.96096,     0.96196,     0.96296,     0.96396,     0.96496,     0.96597,     0.96697,     0.96797,     0.96897,     0.96997,     0.97097,     0.97197,     0.97297,     0.97397,     0.97497,     0.97598,     0.97698,     0.97798,     0.97898,     0.97998,     0.98098,     0.98198,     0.98298,     0.98398,\n",
       "           0.98498,     0.98599,     0.98699,     0.98799,     0.98899,     0.98999,     0.99099,     0.99199,     0.99299,     0.99399,     0.99499,       0.996,       0.997,       0.998,       0.999,           1]), array([[          1,           1,           1,           1,           1,           1,           1,           1,           1,           1,           1,           1,           1,           1,           1,           1,           1,           1,           1,           1,           1,           1,           1,\n",
       "                  1,           1,           1,           1,           1,           1,           1,           1,           1,           1,           1,           1,           1,           1,           1,           1,           1,           1,           1,           1,           1,           1,           1,\n",
       "                  1,           1,           1,           1,           1,           1,           1,           1,           1,           1,           1,           1,           1,           1,           1,           1,           1,           1,           1,           1,           1,           1,           1,\n",
       "                  1,           1,           1,           1,           1,           1,           1,           1,           1,           1,           1,           1,           1,           1,           1,           1,           1,           1,           1,           1,           1,           1,           1,\n",
       "                  1,           1,           1,           1,           1,           1,           1,           1,           1,           1,           1,           1,           1,           1,           1,           1,           1,           1,           1,           1,           1,           1,           1,\n",
       "                  1,           1,           1,           1,           1,           1,           1,           1,           1,           1,           1,           1,           1,           1,           1,           1,           1,           1,           1,           1,           1,           1,           1,\n",
       "                  1,           1,           1,           1,           1,           1,           1,           1,           1,           1,           1,           1,           1,           1,           1,           1,           1,           1,           1,           1,           1,           1,           1,\n",
       "                  1,           1,           1,           1,           1,           1,           1,           1,           1,           1,           1,           1,           1,           1,           1,           1,           1,           1,           1,           1,           1,           1,           1,\n",
       "                  1,           1,           1,           1,           1,           1,           1,           1,           1,           1,           1,           1,           1,           1,           1,           1,           1,           1,           1,           1,           1,           1,           1,\n",
       "                  1,           1,           1,           1,           1,           1,           1,           1,           1,           1,           1,           1,           1,           1,           1,           1,           1,           1,           1,           1,           1,           1,           1,\n",
       "                  1,           1,           1,           1,           1,           1,           1,           1,           1,           1,           1,           1,           1,           1,           1,           1,           1,           1,           1,           1,           1,           1,           1,\n",
       "                  1,           1,           1,           1,           1,           1,           1,           1,           1,           1,           1,           1,           1,           1,           1,           1,           1,           1,           1,           1,           1,           1,           1,\n",
       "                  1,           1,           1,           1,           1,           1,           1,           1,           1,           1,           1,           1,           1,           1,           1,           1,           1,           1,           1,           1,           1,           1,           1,\n",
       "                  1,           1,           1,           1,           1,           1,           1,           1,           1,           1,           1,           1,           1,           1,           1,           1,           1,           1,           1,           1,           1,           1,           1,\n",
       "                  1,           1,           1,           1,           1,           1,           1,           1,           1,           1,           1,           1,           1,           1,           1,           1,           1,           1,           1,           1,           1,           1,           1,\n",
       "                  1,           1,           1,           1,           1,           1,           1,           1,           1,           1,           1,           1,           1,           1,           1,           1,           1,           1,           1,           1,           1,           1,           1,\n",
       "                  1,           1,           1,           1,           1,           1,           1,           1,           1,           1,           1,           1,           1,           1,           1,           1,           1,           1,           1,           1,           1,           1,           1,\n",
       "                  1,           1,           1,           1,           1,           1,           1,           1,           1,           1,           1,           1,           1,           1,           1,           1,           1,           1,           1,           1,           1,           1,           1,\n",
       "                  1,           1,           1,           1,           1,           1,           1,           1,           1,           1,           1,           1,           1,           1,           1,           1,           1,           1,           1,           1,           1,           1,           1,\n",
       "                  1,           1,           1,           1,           1,           1,           1,           1,           1,           1,           1,           1,           1,           1,           1,           1,           1,           1,           1,           1,           1,           1,           1,\n",
       "                  1,           1,           1,           1,           1,           1,           1,           1,           1,           1,           1,           1,           1,           1,           1,           1,           1,           1,           1,           1,           1,           1,           1,\n",
       "                  1,           1,           1,           1,           1,           1,           1,           1,           1,           1,           1,           1,           1,           1,           1,           1,           1,           1,           1,           1,           1,           1,           1,\n",
       "                  1,           1,           1,           1,           1,           1,           1,           1,           1,           1,           1,           1,           1,           1,           1,           1,           1,           1,           1,           1,           1,           1,           1,\n",
       "                  1,           1,           1,           1,           1,           1,           1,           1,           1,           1,           1,           1,           1,           1,           1,           1,           1,           1,           1,           1,           1,           1,           1,\n",
       "                  1,           1,           1,           1,           1,           1,           1,           1,           1,           1,           1,           1,           1,           1,           1,           1,           1,           1,           1,           1,           1,           1,           1,\n",
       "                  1,           1,           1,           1,           1,           1,           1,           1,           1,           1,           1,           1,           1,           1,           1,           1,           1,           1,           1,           1,           1,           1,           1,\n",
       "                  1,           1,           1,           1,           1,           1,           1,           1,           1,           1,           1,           1,           1,           1,           1,           1,           1,           1,           1,           1,           1,           1,           1,\n",
       "                  1,           1,           1,           1,           1,           1,           1,           1,           1,           1,           1,           1,           1,           1,           1,           1,           1,           1,           1,           1,           1,           1,           1,\n",
       "                  1,           1,           1,           1,           1,           1,           1,           1,           1,           1,           1,           1,           1,           1,           1,           1,           1,           1,           1,           1,           1,           1,           1,\n",
       "                  1,           1,           1,           1,           1,           1,           1,           1,           1,           1,           1,           1,           1,           1,           1,           1,           1,           1,           1,           1,           1,           1,     0.99375,\n",
       "            0.99375,     0.99375,     0.99375,     0.99375,     0.99375,     0.99375,     0.99375,     0.99375,     0.99375,     0.99375,     0.99375,     0.99375,     0.99375,     0.99375,     0.99375,     0.99375,     0.99375,     0.99375,     0.99375,     0.99375,     0.99375,     0.99375,     0.99375,\n",
       "            0.99375,     0.99375,     0.99375,     0.99375,     0.99375,     0.99375,     0.99375,     0.99375,     0.99375,     0.99375,     0.99375,     0.99375,     0.99375,     0.99375,     0.99375,     0.99375,     0.99375,     0.99375,     0.99375,     0.99375,     0.99375,     0.99375,     0.99375,\n",
       "            0.99375,     0.99375,     0.99375,     0.99375,     0.99375,     0.99375,     0.99375,     0.99375,     0.99375,     0.99375,     0.99375,     0.99375,     0.99375,     0.99375,     0.99375,     0.99375,     0.99375,     0.99375,     0.99375,     0.99375,     0.99375,     0.99375,     0.99375,\n",
       "            0.99375,     0.99375,     0.99375,     0.99375,     0.99375,     0.99375,     0.99375,     0.99375,     0.99375,     0.99375,     0.99375,     0.99375,     0.99375,     0.99375,     0.99375,     0.99375,     0.99375,     0.99375,     0.99375,     0.99375,     0.99375,     0.99375,     0.99375,\n",
       "            0.99375,     0.99375,     0.99375,     0.99375,     0.99375,     0.99375,     0.99375,     0.99375,     0.99375,     0.99375,     0.99375,     0.99375,     0.99375,     0.99375,     0.99375,     0.99375,     0.99375,     0.99375,     0.99375,     0.99375,     0.99375,     0.99375,     0.99375,\n",
       "            0.99375,     0.99375,     0.99375,     0.99375,     0.99375,     0.99375,     0.99375,     0.99375,     0.99375,     0.99375,     0.99375,     0.99375,     0.99375,     0.99375,     0.99375,     0.99375,     0.99375,     0.99375,     0.99375,     0.99375,     0.99375,     0.99375,     0.99375,\n",
       "            0.99375,     0.99375,     0.99375,     0.99375,     0.99375,     0.99375,     0.99375,     0.99375,     0.99375,     0.99375,     0.99375,     0.99375,     0.99375,     0.99375,     0.99375,     0.99375,     0.99375,     0.99375,     0.99375,     0.99375,     0.99375,     0.99375,     0.99375,\n",
       "            0.99375,     0.99375,     0.99375,     0.99375,     0.99375,     0.99375,     0.99375,     0.99375,     0.99375,     0.99375,     0.99375,     0.99375,     0.99375,     0.99375,     0.99375,     0.99375,     0.99375,     0.99375,     0.99375,     0.99375,     0.99375,     0.99375,     0.99375,\n",
       "            0.99375,     0.99375,     0.99375,     0.99375,     0.99375,     0.99375,     0.99375,     0.99375,     0.99375,     0.98824,     0.98824,     0.98824,     0.98824,     0.98824,     0.98824,     0.98824,     0.98824,     0.98824,     0.98824,     0.98824,     0.98824,     0.98824,     0.98824,\n",
       "            0.98824,     0.98824,     0.98824,     0.98824,     0.98824,     0.98824,     0.98824,     0.98824,     0.98824,     0.98824,     0.98824,     0.98824,     0.98824,     0.98824,     0.98824,     0.98824,     0.98824,     0.98824,     0.98824,     0.98824,     0.98824,     0.98824,     0.98824,\n",
       "            0.98824,     0.98824,     0.98824,     0.98824,     0.98824,     0.98824,     0.98824,     0.98824,     0.98824,     0.98824,     0.98824,     0.98824,     0.98824,     0.97714,     0.97714,     0.97714,     0.97714,     0.97714,     0.97714,     0.97714,     0.97714,     0.97714,     0.97714,\n",
       "            0.97714,     0.97714,     0.97714,     0.97714,     0.97714,     0.97714,     0.97714,     0.97191,     0.97191,     0.97191,     0.97191,     0.97191,     0.97191,     0.97191,     0.97191,     0.97191,     0.97191,     0.97191,     0.95604,     0.95604,     0.95604,     0.95604,     0.95604,\n",
       "            0.92105,     0.92105,     0.92105,     0.92105,     0.92105,     0.92105,     0.87192,     0.87192,     0.87192,     0.87192,     0.87192,     0.87192,     0.87192,     0.87192,     0.87192,     0.87192,     0.87192,     0.82791,     0.82791,     0.82791,     0.82791,     0.82791,     0.80995,\n",
       "            0.80995,     0.80995,     0.80995,     0.80995,     0.80995,     0.77253,     0.77253,     0.77253,     0.77253,     0.77253,           0]]), 'Recall', 'Precision'], [array([          0,    0.001001,    0.002002,    0.003003,    0.004004,    0.005005,    0.006006,    0.007007,    0.008008,    0.009009,     0.01001,    0.011011,    0.012012,    0.013013,    0.014014,    0.015015,    0.016016,    0.017017,    0.018018,    0.019019,     0.02002,    0.021021,    0.022022,    0.023023,\n",
       "          0.024024,    0.025025,    0.026026,    0.027027,    0.028028,    0.029029,     0.03003,    0.031031,    0.032032,    0.033033,    0.034034,    0.035035,    0.036036,    0.037037,    0.038038,    0.039039,     0.04004,    0.041041,    0.042042,    0.043043,    0.044044,    0.045045,    0.046046,    0.047047,\n",
       "          0.048048,    0.049049,     0.05005,    0.051051,    0.052052,    0.053053,    0.054054,    0.055055,    0.056056,    0.057057,    0.058058,    0.059059,     0.06006,    0.061061,    0.062062,    0.063063,    0.064064,    0.065065,    0.066066,    0.067067,    0.068068,    0.069069,     0.07007,    0.071071,\n",
       "          0.072072,    0.073073,    0.074074,    0.075075,    0.076076,    0.077077,    0.078078,    0.079079,     0.08008,    0.081081,    0.082082,    0.083083,    0.084084,    0.085085,    0.086086,    0.087087,    0.088088,    0.089089,     0.09009,    0.091091,    0.092092,    0.093093,    0.094094,    0.095095,\n",
       "          0.096096,    0.097097,    0.098098,    0.099099,      0.1001,      0.1011,      0.1021,      0.1031,      0.1041,     0.10511,     0.10611,     0.10711,     0.10811,     0.10911,     0.11011,     0.11111,     0.11211,     0.11311,     0.11411,     0.11512,     0.11612,     0.11712,     0.11812,     0.11912,\n",
       "           0.12012,     0.12112,     0.12212,     0.12312,     0.12412,     0.12513,     0.12613,     0.12713,     0.12813,     0.12913,     0.13013,     0.13113,     0.13213,     0.13313,     0.13413,     0.13514,     0.13614,     0.13714,     0.13814,     0.13914,     0.14014,     0.14114,     0.14214,     0.14314,\n",
       "           0.14414,     0.14515,     0.14615,     0.14715,     0.14815,     0.14915,     0.15015,     0.15115,     0.15215,     0.15315,     0.15415,     0.15516,     0.15616,     0.15716,     0.15816,     0.15916,     0.16016,     0.16116,     0.16216,     0.16316,     0.16416,     0.16517,     0.16617,     0.16717,\n",
       "           0.16817,     0.16917,     0.17017,     0.17117,     0.17217,     0.17317,     0.17417,     0.17518,     0.17618,     0.17718,     0.17818,     0.17918,     0.18018,     0.18118,     0.18218,     0.18318,     0.18418,     0.18519,     0.18619,     0.18719,     0.18819,     0.18919,     0.19019,     0.19119,\n",
       "           0.19219,     0.19319,     0.19419,      0.1952,      0.1962,      0.1972,      0.1982,      0.1992,      0.2002,      0.2012,      0.2022,      0.2032,      0.2042,     0.20521,     0.20621,     0.20721,     0.20821,     0.20921,     0.21021,     0.21121,     0.21221,     0.21321,     0.21421,     0.21522,\n",
       "           0.21622,     0.21722,     0.21822,     0.21922,     0.22022,     0.22122,     0.22222,     0.22322,     0.22422,     0.22523,     0.22623,     0.22723,     0.22823,     0.22923,     0.23023,     0.23123,     0.23223,     0.23323,     0.23423,     0.23524,     0.23624,     0.23724,     0.23824,     0.23924,\n",
       "           0.24024,     0.24124,     0.24224,     0.24324,     0.24424,     0.24525,     0.24625,     0.24725,     0.24825,     0.24925,     0.25025,     0.25125,     0.25225,     0.25325,     0.25425,     0.25526,     0.25626,     0.25726,     0.25826,     0.25926,     0.26026,     0.26126,     0.26226,     0.26326,\n",
       "           0.26426,     0.26527,     0.26627,     0.26727,     0.26827,     0.26927,     0.27027,     0.27127,     0.27227,     0.27327,     0.27427,     0.27528,     0.27628,     0.27728,     0.27828,     0.27928,     0.28028,     0.28128,     0.28228,     0.28328,     0.28428,     0.28529,     0.28629,     0.28729,\n",
       "           0.28829,     0.28929,     0.29029,     0.29129,     0.29229,     0.29329,     0.29429,      0.2953,      0.2963,      0.2973,      0.2983,      0.2993,      0.3003,      0.3013,      0.3023,      0.3033,      0.3043,     0.30531,     0.30631,     0.30731,     0.30831,     0.30931,     0.31031,     0.31131,\n",
       "           0.31231,     0.31331,     0.31431,     0.31532,     0.31632,     0.31732,     0.31832,     0.31932,     0.32032,     0.32132,     0.32232,     0.32332,     0.32432,     0.32533,     0.32633,     0.32733,     0.32833,     0.32933,     0.33033,     0.33133,     0.33233,     0.33333,     0.33433,     0.33534,\n",
       "           0.33634,     0.33734,     0.33834,     0.33934,     0.34034,     0.34134,     0.34234,     0.34334,     0.34434,     0.34535,     0.34635,     0.34735,     0.34835,     0.34935,     0.35035,     0.35135,     0.35235,     0.35335,     0.35435,     0.35536,     0.35636,     0.35736,     0.35836,     0.35936,\n",
       "           0.36036,     0.36136,     0.36236,     0.36336,     0.36436,     0.36537,     0.36637,     0.36737,     0.36837,     0.36937,     0.37037,     0.37137,     0.37237,     0.37337,     0.37437,     0.37538,     0.37638,     0.37738,     0.37838,     0.37938,     0.38038,     0.38138,     0.38238,     0.38338,\n",
       "           0.38438,     0.38539,     0.38639,     0.38739,     0.38839,     0.38939,     0.39039,     0.39139,     0.39239,     0.39339,     0.39439,      0.3954,      0.3964,      0.3974,      0.3984,      0.3994,      0.4004,      0.4014,      0.4024,      0.4034,      0.4044,     0.40541,     0.40641,     0.40741,\n",
       "           0.40841,     0.40941,     0.41041,     0.41141,     0.41241,     0.41341,     0.41441,     0.41542,     0.41642,     0.41742,     0.41842,     0.41942,     0.42042,     0.42142,     0.42242,     0.42342,     0.42442,     0.42543,     0.42643,     0.42743,     0.42843,     0.42943,     0.43043,     0.43143,\n",
       "           0.43243,     0.43343,     0.43443,     0.43544,     0.43644,     0.43744,     0.43844,     0.43944,     0.44044,     0.44144,     0.44244,     0.44344,     0.44444,     0.44545,     0.44645,     0.44745,     0.44845,     0.44945,     0.45045,     0.45145,     0.45245,     0.45345,     0.45445,     0.45546,\n",
       "           0.45646,     0.45746,     0.45846,     0.45946,     0.46046,     0.46146,     0.46246,     0.46346,     0.46446,     0.46547,     0.46647,     0.46747,     0.46847,     0.46947,     0.47047,     0.47147,     0.47247,     0.47347,     0.47447,     0.47548,     0.47648,     0.47748,     0.47848,     0.47948,\n",
       "           0.48048,     0.48148,     0.48248,     0.48348,     0.48448,     0.48549,     0.48649,     0.48749,     0.48849,     0.48949,     0.49049,     0.49149,     0.49249,     0.49349,     0.49449,      0.4955,      0.4965,      0.4975,      0.4985,      0.4995,      0.5005,      0.5015,      0.5025,      0.5035,\n",
       "            0.5045,     0.50551,     0.50651,     0.50751,     0.50851,     0.50951,     0.51051,     0.51151,     0.51251,     0.51351,     0.51451,     0.51552,     0.51652,     0.51752,     0.51852,     0.51952,     0.52052,     0.52152,     0.52252,     0.52352,     0.52452,     0.52553,     0.52653,     0.52753,\n",
       "           0.52853,     0.52953,     0.53053,     0.53153,     0.53253,     0.53353,     0.53453,     0.53554,     0.53654,     0.53754,     0.53854,     0.53954,     0.54054,     0.54154,     0.54254,     0.54354,     0.54454,     0.54555,     0.54655,     0.54755,     0.54855,     0.54955,     0.55055,     0.55155,\n",
       "           0.55255,     0.55355,     0.55455,     0.55556,     0.55656,     0.55756,     0.55856,     0.55956,     0.56056,     0.56156,     0.56256,     0.56356,     0.56456,     0.56557,     0.56657,     0.56757,     0.56857,     0.56957,     0.57057,     0.57157,     0.57257,     0.57357,     0.57457,     0.57558,\n",
       "           0.57658,     0.57758,     0.57858,     0.57958,     0.58058,     0.58158,     0.58258,     0.58358,     0.58458,     0.58559,     0.58659,     0.58759,     0.58859,     0.58959,     0.59059,     0.59159,     0.59259,     0.59359,     0.59459,      0.5956,      0.5966,      0.5976,      0.5986,      0.5996,\n",
       "            0.6006,      0.6016,      0.6026,      0.6036,      0.6046,     0.60561,     0.60661,     0.60761,     0.60861,     0.60961,     0.61061,     0.61161,     0.61261,     0.61361,     0.61461,     0.61562,     0.61662,     0.61762,     0.61862,     0.61962,     0.62062,     0.62162,     0.62262,     0.62362,\n",
       "           0.62462,     0.62563,     0.62663,     0.62763,     0.62863,     0.62963,     0.63063,     0.63163,     0.63263,     0.63363,     0.63463,     0.63564,     0.63664,     0.63764,     0.63864,     0.63964,     0.64064,     0.64164,     0.64264,     0.64364,     0.64464,     0.64565,     0.64665,     0.64765,\n",
       "           0.64865,     0.64965,     0.65065,     0.65165,     0.65265,     0.65365,     0.65465,     0.65566,     0.65666,     0.65766,     0.65866,     0.65966,     0.66066,     0.66166,     0.66266,     0.66366,     0.66466,     0.66567,     0.66667,     0.66767,     0.66867,     0.66967,     0.67067,     0.67167,\n",
       "           0.67267,     0.67367,     0.67467,     0.67568,     0.67668,     0.67768,     0.67868,     0.67968,     0.68068,     0.68168,     0.68268,     0.68368,     0.68468,     0.68569,     0.68669,     0.68769,     0.68869,     0.68969,     0.69069,     0.69169,     0.69269,     0.69369,     0.69469,      0.6957,\n",
       "            0.6967,      0.6977,      0.6987,      0.6997,      0.7007,      0.7017,      0.7027,      0.7037,      0.7047,     0.70571,     0.70671,     0.70771,     0.70871,     0.70971,     0.71071,     0.71171,     0.71271,     0.71371,     0.71471,     0.71572,     0.71672,     0.71772,     0.71872,     0.71972,\n",
       "           0.72072,     0.72172,     0.72272,     0.72372,     0.72472,     0.72573,     0.72673,     0.72773,     0.72873,     0.72973,     0.73073,     0.73173,     0.73273,     0.73373,     0.73473,     0.73574,     0.73674,     0.73774,     0.73874,     0.73974,     0.74074,     0.74174,     0.74274,     0.74374,\n",
       "           0.74474,     0.74575,     0.74675,     0.74775,     0.74875,     0.74975,     0.75075,     0.75175,     0.75275,     0.75375,     0.75475,     0.75576,     0.75676,     0.75776,     0.75876,     0.75976,     0.76076,     0.76176,     0.76276,     0.76376,     0.76476,     0.76577,     0.76677,     0.76777,\n",
       "           0.76877,     0.76977,     0.77077,     0.77177,     0.77277,     0.77377,     0.77477,     0.77578,     0.77678,     0.77778,     0.77878,     0.77978,     0.78078,     0.78178,     0.78278,     0.78378,     0.78478,     0.78579,     0.78679,     0.78779,     0.78879,     0.78979,     0.79079,     0.79179,\n",
       "           0.79279,     0.79379,     0.79479,      0.7958,      0.7968,      0.7978,      0.7988,      0.7998,      0.8008,      0.8018,      0.8028,      0.8038,      0.8048,     0.80581,     0.80681,     0.80781,     0.80881,     0.80981,     0.81081,     0.81181,     0.81281,     0.81381,     0.81481,     0.81582,\n",
       "           0.81682,     0.81782,     0.81882,     0.81982,     0.82082,     0.82182,     0.82282,     0.82382,     0.82482,     0.82583,     0.82683,     0.82783,     0.82883,     0.82983,     0.83083,     0.83183,     0.83283,     0.83383,     0.83483,     0.83584,     0.83684,     0.83784,     0.83884,     0.83984,\n",
       "           0.84084,     0.84184,     0.84284,     0.84384,     0.84484,     0.84585,     0.84685,     0.84785,     0.84885,     0.84985,     0.85085,     0.85185,     0.85285,     0.85385,     0.85485,     0.85586,     0.85686,     0.85786,     0.85886,     0.85986,     0.86086,     0.86186,     0.86286,     0.86386,\n",
       "           0.86486,     0.86587,     0.86687,     0.86787,     0.86887,     0.86987,     0.87087,     0.87187,     0.87287,     0.87387,     0.87487,     0.87588,     0.87688,     0.87788,     0.87888,     0.87988,     0.88088,     0.88188,     0.88288,     0.88388,     0.88488,     0.88589,     0.88689,     0.88789,\n",
       "           0.88889,     0.88989,     0.89089,     0.89189,     0.89289,     0.89389,     0.89489,      0.8959,      0.8969,      0.8979,      0.8989,      0.8999,      0.9009,      0.9019,      0.9029,      0.9039,      0.9049,     0.90591,     0.90691,     0.90791,     0.90891,     0.90991,     0.91091,     0.91191,\n",
       "           0.91291,     0.91391,     0.91491,     0.91592,     0.91692,     0.91792,     0.91892,     0.91992,     0.92092,     0.92192,     0.92292,     0.92392,     0.92492,     0.92593,     0.92693,     0.92793,     0.92893,     0.92993,     0.93093,     0.93193,     0.93293,     0.93393,     0.93493,     0.93594,\n",
       "           0.93694,     0.93794,     0.93894,     0.93994,     0.94094,     0.94194,     0.94294,     0.94394,     0.94494,     0.94595,     0.94695,     0.94795,     0.94895,     0.94995,     0.95095,     0.95195,     0.95295,     0.95395,     0.95495,     0.95596,     0.95696,     0.95796,     0.95896,     0.95996,\n",
       "           0.96096,     0.96196,     0.96296,     0.96396,     0.96496,     0.96597,     0.96697,     0.96797,     0.96897,     0.96997,     0.97097,     0.97197,     0.97297,     0.97397,     0.97497,     0.97598,     0.97698,     0.97798,     0.97898,     0.97998,     0.98098,     0.98198,     0.98298,     0.98398,\n",
       "           0.98498,     0.98599,     0.98699,     0.98799,     0.98899,     0.98999,     0.99099,     0.99199,     0.99299,     0.99399,     0.99499,       0.996,       0.997,       0.998,       0.999,           1]), array([[    0.35122,     0.35122,     0.48253,     0.55134,     0.60131,     0.63243,     0.65935,     0.67559,     0.68811,     0.71036,     0.72399,     0.74023,     0.74975,     0.75963,     0.77153,     0.77895,     0.78553,     0.78911,     0.79222,     0.79478,     0.80453,     0.80771,     0.81078,\n",
       "            0.82235,     0.82471,     0.82958,      0.8351,     0.83709,     0.84227,     0.84447,     0.84818,     0.84975,     0.85112,     0.85462,     0.85775,     0.86343,     0.86446,     0.86816,      0.8708,     0.86931,     0.87426,     0.87971,     0.88306,     0.88437,     0.88505,     0.88574,\n",
       "            0.88661,     0.88777,     0.88907,     0.89051,     0.89159,     0.89266,     0.89035,     0.89163,     0.89263,     0.89321,      0.8938,     0.89438,     0.89585,     0.89738,     0.89879,     0.89923,     0.89926,     0.90029,     0.90134,     0.90241,     0.90324,      0.9037,     0.90417,\n",
       "            0.90463,     0.90509,      0.9061,     0.90772,     0.90795,     0.90818,     0.90841,     0.90864,     0.90886,     0.90909,     0.90932,     0.90955,     0.90978,        0.91,     0.91023,     0.91046,     0.91069,     0.91092,     0.91115,     0.91138,     0.91161,     0.91184,     0.91207,\n",
       "             0.9123,     0.91295,     0.91378,     0.91462,     0.91592,     0.91715,     0.91749,     0.91782,     0.91816,      0.9185,     0.91884,     0.91917,     0.91954,     0.92015,     0.92076,     0.92137,     0.92201,     0.92278,     0.92356,     0.92422,      0.9232,     0.92218,     0.92139,\n",
       "            0.92115,     0.92091,     0.92067,     0.92043,     0.92018,     0.91994,      0.9197,     0.91946,     0.91922,     0.91897,     0.91873,     0.91866,     0.91871,     0.91876,     0.91881,     0.91886,     0.91891,     0.91896,     0.91901,     0.91906,      0.9191,     0.91915,      0.9192,\n",
       "            0.91925,      0.9193,     0.91935,      0.9194,     0.91945,     0.91949,     0.91954,     0.91959,     0.91964,     0.91969,     0.91974,     0.91979,     0.91984,     0.91988,     0.91993,     0.91998,     0.92003,     0.92008,     0.92013,     0.92018,     0.92022,     0.92027,     0.92032,\n",
       "            0.92037,     0.92042,     0.92047,     0.92052,     0.92057,     0.92061,     0.92066,     0.92071,     0.92076,     0.92081,     0.92086,     0.92091,     0.92095,       0.921,     0.92105,      0.9217,     0.92236,     0.92302,     0.92359,     0.92394,      0.9243,     0.92465,     0.92501,\n",
       "            0.92536,     0.92572,     0.92619,     0.92681,     0.92744,     0.92807,     0.92844,     0.92857,     0.92869,     0.92882,     0.92894,     0.92907,     0.92919,     0.92931,     0.92944,     0.92956,     0.92969,     0.92981,     0.92994,     0.93006,     0.93018,     0.93031,     0.93043,\n",
       "            0.93056,     0.93068,      0.9308,      0.9309,     0.93099,     0.93108,     0.93116,     0.93125,     0.93134,     0.93142,     0.93151,      0.9316,     0.93168,     0.93177,     0.93186,     0.93194,     0.93203,     0.93212,      0.9322,     0.93229,     0.93238,     0.93246,     0.93255,\n",
       "            0.93264,     0.93272,     0.93281,     0.93289,     0.93298,     0.93307,     0.93315,     0.93324,     0.93333,     0.93348,     0.93365,     0.93382,     0.93398,     0.93415,     0.93432,     0.93448,     0.93465,     0.93481,     0.93498,     0.93514,     0.93531,     0.93548,     0.93564,\n",
       "            0.93581,     0.93598,     0.93617,     0.93635,     0.93653,     0.93671,     0.93689,     0.93707,     0.93725,     0.93743,     0.93761,     0.93779,     0.93797,     0.93815,     0.93833,     0.93842,     0.93851,      0.9386,     0.93869,     0.93878,     0.93887,     0.93896,     0.93905,\n",
       "            0.93914,     0.93923,     0.93932,     0.93941,      0.9395,     0.93959,     0.93968,     0.93976,     0.93985,     0.93994,     0.94003,     0.94012,     0.94021,      0.9403,     0.94039,     0.94048,     0.94057,     0.94066,     0.94075,     0.94084,     0.94231,     0.94393,     0.94511,\n",
       "            0.94532,     0.94323,     0.94407,     0.94513,     0.94583,     0.94617,     0.94651,     0.94685,      0.9472,     0.94754,     0.94788,     0.94822,     0.94836,     0.94849,     0.94862,     0.94875,     0.94888,     0.94901,     0.94914,     0.94927,      0.9494,     0.94954,     0.94967,\n",
       "             0.9498,     0.94993,     0.95006,     0.95019,     0.95032,     0.95045,     0.95058,     0.95071,     0.95085,     0.95102,     0.95119,     0.95137,     0.95154,     0.95171,     0.95188,     0.95206,     0.95223,      0.9524,     0.95257,     0.95274,     0.95291,     0.95309,     0.95326,\n",
       "            0.95351,      0.9561,      0.9563,     0.95649,     0.95669,     0.95689,     0.95708,     0.95728,     0.95748,     0.95767,     0.95787,     0.95806,     0.95826,     0.95845,     0.95865,     0.95885,     0.95904,     0.95923,     0.95943,     0.95962,     0.95982,     0.96001,     0.96021,\n",
       "             0.9604,      0.9606,     0.96079,     0.96098,     0.96118,      0.9613,     0.96119,     0.96108,     0.96097,     0.96086,     0.96075,     0.96064,     0.96053,     0.96042,     0.96031,      0.9602,     0.96009,     0.95998,     0.95987,     0.95976,     0.95965,     0.95954,     0.95943,\n",
       "            0.95932,     0.95921,      0.9591,     0.95899,     0.95888,     0.95877,     0.95866,     0.95854,     0.95846,     0.95851,     0.95857,     0.95863,     0.95868,     0.95874,      0.9588,     0.95885,     0.95891,     0.95897,     0.95902,     0.95908,     0.95914,     0.95919,     0.95925,\n",
       "             0.9593,     0.95936,     0.95942,     0.95947,     0.95953,     0.95959,     0.95964,      0.9597,     0.95976,     0.95981,     0.95987,     0.95993,     0.95998,     0.96004,      0.9601,     0.96015,     0.96021,     0.96026,     0.96032,     0.96038,     0.96043,     0.96049,     0.96055,\n",
       "             0.9606,     0.96066,     0.96072,     0.96077,     0.96083,     0.96088,     0.96094,       0.961,     0.96105,     0.96111,     0.96121,      0.9613,      0.9614,      0.9615,      0.9616,      0.9617,     0.96179,     0.96189,     0.96199,     0.96209,     0.96219,     0.96228,     0.96238,\n",
       "            0.96248,     0.96258,     0.96267,     0.96277,     0.96287,     0.96297,     0.96306,     0.96316,     0.96326,     0.96336,     0.96345,     0.96355,     0.96365,     0.96375,     0.96381,     0.96385,      0.9639,     0.96394,     0.96398,     0.96402,     0.96406,      0.9641,     0.96415,\n",
       "            0.96419,     0.96423,     0.96427,     0.96431,     0.96435,      0.9644,     0.96444,     0.96448,     0.96452,     0.96456,      0.9646,     0.96465,     0.96469,     0.96473,     0.96477,     0.96481,     0.96485,     0.96489,     0.96494,     0.96498,     0.96502,     0.96506,      0.9651,\n",
       "            0.96514,     0.96519,     0.96523,     0.96527,     0.96531,     0.96535,     0.96539,     0.96544,     0.96548,     0.96552,     0.96556,      0.9656,     0.96564,     0.96568,     0.96573,     0.96577,     0.96581,     0.96585,     0.96589,     0.96593,     0.96598,     0.96602,     0.96606,\n",
       "             0.9661,     0.96614,     0.96618,     0.96622,     0.96627,     0.96631,     0.96635,     0.96639,     0.96643,     0.96647,     0.96628,     0.96604,      0.9658,     0.96556,     0.96532,     0.96508,     0.96484,      0.9646,     0.96436,     0.96412,     0.96388,     0.96364,     0.96308,\n",
       "            0.96243,     0.96178,     0.96113,     0.96089,     0.96158,     0.96228,     0.96297,     0.96228,     0.96036,     0.96006,     0.95977,     0.95947,     0.95918,     0.95888,     0.95859,     0.95829,       0.958,      0.9577,     0.95686,     0.95501,     0.95472,     0.95496,      0.9552,\n",
       "            0.95544,     0.95568,     0.95591,     0.95615,     0.95639,     0.95663,     0.95686,      0.9571,     0.95743,     0.95797,     0.95851,     0.95904,     0.95958,     0.95999,     0.95994,     0.95988,     0.95983,     0.95978,     0.95973,     0.95968,     0.95962,     0.95957,     0.95952,\n",
       "            0.95947,     0.95942,     0.95936,     0.95931,     0.95926,     0.95921,     0.95916,      0.9591,     0.95905,       0.959,     0.95895,      0.9589,     0.95884,     0.95879,     0.95874,     0.95869,     0.95864,     0.95858,     0.95853,     0.95848,     0.95843,     0.95837,     0.95832,\n",
       "            0.95827,     0.95822,     0.95817,     0.95811,     0.95806,     0.95801,     0.95796,     0.95791,     0.95785,      0.9578,     0.95775,      0.9577,     0.95764,     0.95759,     0.95754,     0.95749,     0.95744,     0.95738,     0.95733,     0.95728,     0.95723,     0.95717,     0.95712,\n",
       "            0.95707,     0.95699,     0.95631,     0.95564,     0.95496,     0.95429,     0.95392,     0.95376,      0.9536,     0.95344,     0.95328,     0.95311,     0.95295,     0.95279,     0.95263,     0.95246,      0.9523,     0.95214,     0.95198,     0.95182,     0.95165,     0.95149,     0.95133,\n",
       "            0.95116,       0.951,     0.95079,     0.95059,     0.95038,     0.95017,     0.94997,     0.94976,     0.94955,     0.94935,     0.94914,     0.94893,     0.94873,     0.94852,     0.94831,      0.9481,     0.94592,     0.94164,     0.94136,     0.94108,      0.9408,     0.94052,     0.94024,\n",
       "            0.93996,     0.93967,     0.93939,     0.93911,     0.93883,     0.93683,     0.93541,     0.93492,     0.93443,     0.93394,     0.93344,     0.93295,     0.93276,     0.93377,     0.93478,     0.93502,     0.93445,     0.93388,     0.93331,     0.93273,     0.93216,     0.93053,     0.92891,\n",
       "            0.92762,     0.92632,     0.92283,     0.92186,     0.92107,     0.92028,     0.91949,     0.91866,     0.91782,     0.91699,     0.91616,     0.91569,     0.91522,     0.91476,     0.91429,     0.91382,     0.91335,      0.9122,     0.90801,     0.90617,     0.90538,     0.90459,     0.90379,\n",
       "            0.90271,     0.89941,     0.89894,     0.89847,       0.898,     0.89754,     0.89707,      0.8966,     0.89548,     0.89356,      0.8922,     0.89109,     0.88998,     0.88903,     0.88817,     0.88732,     0.88646,     0.87748,     0.87541,     0.87485,     0.87429,     0.87372,     0.87315,\n",
       "            0.87259,     0.87196,     0.87125,     0.87054,     0.86984,     0.86913,     0.86484,     0.86124,     0.85768,     0.85577,     0.85415,     0.85321,     0.85226,     0.85131,     0.85006,     0.84844,     0.84703,      0.8465,     0.84597,     0.84543,      0.8449,     0.84437,     0.84383,\n",
       "            0.84316,     0.84216,     0.84115,     0.84014,     0.83853,     0.83652,     0.83381,     0.82622,      0.8231,     0.82123,     0.81952,     0.81784,     0.81616,     0.81446,      0.8137,     0.81493,     0.81163,     0.80873,     0.80294,     0.80103,     0.79542,     0.79414,     0.79285,\n",
       "            0.79131,     0.78916,     0.78401,     0.78219,     0.78056,     0.77921,     0.77822,     0.77723,     0.77623,      0.7737,     0.76276,     0.76048,     0.75766,     0.75294,     0.74977,     0.74897,     0.74816,     0.74735,     0.74654,     0.74573,     0.72558,     0.71714,     0.71489,\n",
       "            0.70489,     0.69977,     0.69708,     0.69442,      0.6918,     0.68274,     0.67535,     0.67002,     0.66806,     0.66461,     0.65947,      0.6544,     0.64969,     0.64669,     0.63862,     0.62795,     0.61934,     0.61622,      0.6131,     0.60972,      0.5826,     0.57791,     0.56814,\n",
       "            0.56429,     0.56228,     0.56028,     0.55742,     0.55441,     0.54482,     0.54031,     0.53595,     0.53138,     0.52523,     0.51213,      0.5108,     0.50948,     0.50815,     0.50682,     0.50363,     0.49405,     0.49001,     0.48519,     0.47873,     0.47004,     0.45616,      0.4494,\n",
       "            0.44302,     0.43653,     0.42953,     0.41376,     0.40284,     0.38614,     0.38135,     0.37102,     0.36557,     0.36079,     0.35639,     0.33796,     0.33152,     0.32744,     0.31044,     0.30496,     0.29242,     0.28856,     0.28385,     0.27466,     0.26011,     0.25738,     0.25464,\n",
       "            0.24985,     0.22612,      0.2206,     0.20293,     0.19584,     0.19108,       0.169,     0.16137,     0.15516,     0.14753,     0.13956,     0.13034,     0.11276,     0.10433,     0.10137,    0.098408,    0.095435,    0.084628,    0.082068,      0.0795,    0.076926,    0.073851,    0.068802,\n",
       "            0.06391,    0.060002,    0.056077,    0.049228,    0.041101,    0.035473,    0.025898,           0,           0,           0,           0,           0,           0,           0,           0,           0,           0,           0,           0,           0,           0,           0,           0,\n",
       "                  0,           0,           0,           0,           0,           0,           0,           0,           0,           0,           0,           0,           0,           0,           0,           0,           0,           0,           0,           0,           0,           0,           0,\n",
       "                  0,           0,           0,           0,           0,           0,           0,           0,           0,           0,           0,           0,           0,           0,           0,           0,           0,           0,           0,           0,           0,           0,           0,\n",
       "                  0,           0,           0,           0,           0,           0,           0,           0,           0,           0,           0]]), 'Confidence', 'F1'], [array([          0,    0.001001,    0.002002,    0.003003,    0.004004,    0.005005,    0.006006,    0.007007,    0.008008,    0.009009,     0.01001,    0.011011,    0.012012,    0.013013,    0.014014,    0.015015,    0.016016,    0.017017,    0.018018,    0.019019,     0.02002,    0.021021,    0.022022,    0.023023,\n",
       "          0.024024,    0.025025,    0.026026,    0.027027,    0.028028,    0.029029,     0.03003,    0.031031,    0.032032,    0.033033,    0.034034,    0.035035,    0.036036,    0.037037,    0.038038,    0.039039,     0.04004,    0.041041,    0.042042,    0.043043,    0.044044,    0.045045,    0.046046,    0.047047,\n",
       "          0.048048,    0.049049,     0.05005,    0.051051,    0.052052,    0.053053,    0.054054,    0.055055,    0.056056,    0.057057,    0.058058,    0.059059,     0.06006,    0.061061,    0.062062,    0.063063,    0.064064,    0.065065,    0.066066,    0.067067,    0.068068,    0.069069,     0.07007,    0.071071,\n",
       "          0.072072,    0.073073,    0.074074,    0.075075,    0.076076,    0.077077,    0.078078,    0.079079,     0.08008,    0.081081,    0.082082,    0.083083,    0.084084,    0.085085,    0.086086,    0.087087,    0.088088,    0.089089,     0.09009,    0.091091,    0.092092,    0.093093,    0.094094,    0.095095,\n",
       "          0.096096,    0.097097,    0.098098,    0.099099,      0.1001,      0.1011,      0.1021,      0.1031,      0.1041,     0.10511,     0.10611,     0.10711,     0.10811,     0.10911,     0.11011,     0.11111,     0.11211,     0.11311,     0.11411,     0.11512,     0.11612,     0.11712,     0.11812,     0.11912,\n",
       "           0.12012,     0.12112,     0.12212,     0.12312,     0.12412,     0.12513,     0.12613,     0.12713,     0.12813,     0.12913,     0.13013,     0.13113,     0.13213,     0.13313,     0.13413,     0.13514,     0.13614,     0.13714,     0.13814,     0.13914,     0.14014,     0.14114,     0.14214,     0.14314,\n",
       "           0.14414,     0.14515,     0.14615,     0.14715,     0.14815,     0.14915,     0.15015,     0.15115,     0.15215,     0.15315,     0.15415,     0.15516,     0.15616,     0.15716,     0.15816,     0.15916,     0.16016,     0.16116,     0.16216,     0.16316,     0.16416,     0.16517,     0.16617,     0.16717,\n",
       "           0.16817,     0.16917,     0.17017,     0.17117,     0.17217,     0.17317,     0.17417,     0.17518,     0.17618,     0.17718,     0.17818,     0.17918,     0.18018,     0.18118,     0.18218,     0.18318,     0.18418,     0.18519,     0.18619,     0.18719,     0.18819,     0.18919,     0.19019,     0.19119,\n",
       "           0.19219,     0.19319,     0.19419,      0.1952,      0.1962,      0.1972,      0.1982,      0.1992,      0.2002,      0.2012,      0.2022,      0.2032,      0.2042,     0.20521,     0.20621,     0.20721,     0.20821,     0.20921,     0.21021,     0.21121,     0.21221,     0.21321,     0.21421,     0.21522,\n",
       "           0.21622,     0.21722,     0.21822,     0.21922,     0.22022,     0.22122,     0.22222,     0.22322,     0.22422,     0.22523,     0.22623,     0.22723,     0.22823,     0.22923,     0.23023,     0.23123,     0.23223,     0.23323,     0.23423,     0.23524,     0.23624,     0.23724,     0.23824,     0.23924,\n",
       "           0.24024,     0.24124,     0.24224,     0.24324,     0.24424,     0.24525,     0.24625,     0.24725,     0.24825,     0.24925,     0.25025,     0.25125,     0.25225,     0.25325,     0.25425,     0.25526,     0.25626,     0.25726,     0.25826,     0.25926,     0.26026,     0.26126,     0.26226,     0.26326,\n",
       "           0.26426,     0.26527,     0.26627,     0.26727,     0.26827,     0.26927,     0.27027,     0.27127,     0.27227,     0.27327,     0.27427,     0.27528,     0.27628,     0.27728,     0.27828,     0.27928,     0.28028,     0.28128,     0.28228,     0.28328,     0.28428,     0.28529,     0.28629,     0.28729,\n",
       "           0.28829,     0.28929,     0.29029,     0.29129,     0.29229,     0.29329,     0.29429,      0.2953,      0.2963,      0.2973,      0.2983,      0.2993,      0.3003,      0.3013,      0.3023,      0.3033,      0.3043,     0.30531,     0.30631,     0.30731,     0.30831,     0.30931,     0.31031,     0.31131,\n",
       "           0.31231,     0.31331,     0.31431,     0.31532,     0.31632,     0.31732,     0.31832,     0.31932,     0.32032,     0.32132,     0.32232,     0.32332,     0.32432,     0.32533,     0.32633,     0.32733,     0.32833,     0.32933,     0.33033,     0.33133,     0.33233,     0.33333,     0.33433,     0.33534,\n",
       "           0.33634,     0.33734,     0.33834,     0.33934,     0.34034,     0.34134,     0.34234,     0.34334,     0.34434,     0.34535,     0.34635,     0.34735,     0.34835,     0.34935,     0.35035,     0.35135,     0.35235,     0.35335,     0.35435,     0.35536,     0.35636,     0.35736,     0.35836,     0.35936,\n",
       "           0.36036,     0.36136,     0.36236,     0.36336,     0.36436,     0.36537,     0.36637,     0.36737,     0.36837,     0.36937,     0.37037,     0.37137,     0.37237,     0.37337,     0.37437,     0.37538,     0.37638,     0.37738,     0.37838,     0.37938,     0.38038,     0.38138,     0.38238,     0.38338,\n",
       "           0.38438,     0.38539,     0.38639,     0.38739,     0.38839,     0.38939,     0.39039,     0.39139,     0.39239,     0.39339,     0.39439,      0.3954,      0.3964,      0.3974,      0.3984,      0.3994,      0.4004,      0.4014,      0.4024,      0.4034,      0.4044,     0.40541,     0.40641,     0.40741,\n",
       "           0.40841,     0.40941,     0.41041,     0.41141,     0.41241,     0.41341,     0.41441,     0.41542,     0.41642,     0.41742,     0.41842,     0.41942,     0.42042,     0.42142,     0.42242,     0.42342,     0.42442,     0.42543,     0.42643,     0.42743,     0.42843,     0.42943,     0.43043,     0.43143,\n",
       "           0.43243,     0.43343,     0.43443,     0.43544,     0.43644,     0.43744,     0.43844,     0.43944,     0.44044,     0.44144,     0.44244,     0.44344,     0.44444,     0.44545,     0.44645,     0.44745,     0.44845,     0.44945,     0.45045,     0.45145,     0.45245,     0.45345,     0.45445,     0.45546,\n",
       "           0.45646,     0.45746,     0.45846,     0.45946,     0.46046,     0.46146,     0.46246,     0.46346,     0.46446,     0.46547,     0.46647,     0.46747,     0.46847,     0.46947,     0.47047,     0.47147,     0.47247,     0.47347,     0.47447,     0.47548,     0.47648,     0.47748,     0.47848,     0.47948,\n",
       "           0.48048,     0.48148,     0.48248,     0.48348,     0.48448,     0.48549,     0.48649,     0.48749,     0.48849,     0.48949,     0.49049,     0.49149,     0.49249,     0.49349,     0.49449,      0.4955,      0.4965,      0.4975,      0.4985,      0.4995,      0.5005,      0.5015,      0.5025,      0.5035,\n",
       "            0.5045,     0.50551,     0.50651,     0.50751,     0.50851,     0.50951,     0.51051,     0.51151,     0.51251,     0.51351,     0.51451,     0.51552,     0.51652,     0.51752,     0.51852,     0.51952,     0.52052,     0.52152,     0.52252,     0.52352,     0.52452,     0.52553,     0.52653,     0.52753,\n",
       "           0.52853,     0.52953,     0.53053,     0.53153,     0.53253,     0.53353,     0.53453,     0.53554,     0.53654,     0.53754,     0.53854,     0.53954,     0.54054,     0.54154,     0.54254,     0.54354,     0.54454,     0.54555,     0.54655,     0.54755,     0.54855,     0.54955,     0.55055,     0.55155,\n",
       "           0.55255,     0.55355,     0.55455,     0.55556,     0.55656,     0.55756,     0.55856,     0.55956,     0.56056,     0.56156,     0.56256,     0.56356,     0.56456,     0.56557,     0.56657,     0.56757,     0.56857,     0.56957,     0.57057,     0.57157,     0.57257,     0.57357,     0.57457,     0.57558,\n",
       "           0.57658,     0.57758,     0.57858,     0.57958,     0.58058,     0.58158,     0.58258,     0.58358,     0.58458,     0.58559,     0.58659,     0.58759,     0.58859,     0.58959,     0.59059,     0.59159,     0.59259,     0.59359,     0.59459,      0.5956,      0.5966,      0.5976,      0.5986,      0.5996,\n",
       "            0.6006,      0.6016,      0.6026,      0.6036,      0.6046,     0.60561,     0.60661,     0.60761,     0.60861,     0.60961,     0.61061,     0.61161,     0.61261,     0.61361,     0.61461,     0.61562,     0.61662,     0.61762,     0.61862,     0.61962,     0.62062,     0.62162,     0.62262,     0.62362,\n",
       "           0.62462,     0.62563,     0.62663,     0.62763,     0.62863,     0.62963,     0.63063,     0.63163,     0.63263,     0.63363,     0.63463,     0.63564,     0.63664,     0.63764,     0.63864,     0.63964,     0.64064,     0.64164,     0.64264,     0.64364,     0.64464,     0.64565,     0.64665,     0.64765,\n",
       "           0.64865,     0.64965,     0.65065,     0.65165,     0.65265,     0.65365,     0.65465,     0.65566,     0.65666,     0.65766,     0.65866,     0.65966,     0.66066,     0.66166,     0.66266,     0.66366,     0.66466,     0.66567,     0.66667,     0.66767,     0.66867,     0.66967,     0.67067,     0.67167,\n",
       "           0.67267,     0.67367,     0.67467,     0.67568,     0.67668,     0.67768,     0.67868,     0.67968,     0.68068,     0.68168,     0.68268,     0.68368,     0.68468,     0.68569,     0.68669,     0.68769,     0.68869,     0.68969,     0.69069,     0.69169,     0.69269,     0.69369,     0.69469,      0.6957,\n",
       "            0.6967,      0.6977,      0.6987,      0.6997,      0.7007,      0.7017,      0.7027,      0.7037,      0.7047,     0.70571,     0.70671,     0.70771,     0.70871,     0.70971,     0.71071,     0.71171,     0.71271,     0.71371,     0.71471,     0.71572,     0.71672,     0.71772,     0.71872,     0.71972,\n",
       "           0.72072,     0.72172,     0.72272,     0.72372,     0.72472,     0.72573,     0.72673,     0.72773,     0.72873,     0.72973,     0.73073,     0.73173,     0.73273,     0.73373,     0.73473,     0.73574,     0.73674,     0.73774,     0.73874,     0.73974,     0.74074,     0.74174,     0.74274,     0.74374,\n",
       "           0.74474,     0.74575,     0.74675,     0.74775,     0.74875,     0.74975,     0.75075,     0.75175,     0.75275,     0.75375,     0.75475,     0.75576,     0.75676,     0.75776,     0.75876,     0.75976,     0.76076,     0.76176,     0.76276,     0.76376,     0.76476,     0.76577,     0.76677,     0.76777,\n",
       "           0.76877,     0.76977,     0.77077,     0.77177,     0.77277,     0.77377,     0.77477,     0.77578,     0.77678,     0.77778,     0.77878,     0.77978,     0.78078,     0.78178,     0.78278,     0.78378,     0.78478,     0.78579,     0.78679,     0.78779,     0.78879,     0.78979,     0.79079,     0.79179,\n",
       "           0.79279,     0.79379,     0.79479,      0.7958,      0.7968,      0.7978,      0.7988,      0.7998,      0.8008,      0.8018,      0.8028,      0.8038,      0.8048,     0.80581,     0.80681,     0.80781,     0.80881,     0.80981,     0.81081,     0.81181,     0.81281,     0.81381,     0.81481,     0.81582,\n",
       "           0.81682,     0.81782,     0.81882,     0.81982,     0.82082,     0.82182,     0.82282,     0.82382,     0.82482,     0.82583,     0.82683,     0.82783,     0.82883,     0.82983,     0.83083,     0.83183,     0.83283,     0.83383,     0.83483,     0.83584,     0.83684,     0.83784,     0.83884,     0.83984,\n",
       "           0.84084,     0.84184,     0.84284,     0.84384,     0.84484,     0.84585,     0.84685,     0.84785,     0.84885,     0.84985,     0.85085,     0.85185,     0.85285,     0.85385,     0.85485,     0.85586,     0.85686,     0.85786,     0.85886,     0.85986,     0.86086,     0.86186,     0.86286,     0.86386,\n",
       "           0.86486,     0.86587,     0.86687,     0.86787,     0.86887,     0.86987,     0.87087,     0.87187,     0.87287,     0.87387,     0.87487,     0.87588,     0.87688,     0.87788,     0.87888,     0.87988,     0.88088,     0.88188,     0.88288,     0.88388,     0.88488,     0.88589,     0.88689,     0.88789,\n",
       "           0.88889,     0.88989,     0.89089,     0.89189,     0.89289,     0.89389,     0.89489,      0.8959,      0.8969,      0.8979,      0.8989,      0.8999,      0.9009,      0.9019,      0.9029,      0.9039,      0.9049,     0.90591,     0.90691,     0.90791,     0.90891,     0.90991,     0.91091,     0.91191,\n",
       "           0.91291,     0.91391,     0.91491,     0.91592,     0.91692,     0.91792,     0.91892,     0.91992,     0.92092,     0.92192,     0.92292,     0.92392,     0.92492,     0.92593,     0.92693,     0.92793,     0.92893,     0.92993,     0.93093,     0.93193,     0.93293,     0.93393,     0.93493,     0.93594,\n",
       "           0.93694,     0.93794,     0.93894,     0.93994,     0.94094,     0.94194,     0.94294,     0.94394,     0.94494,     0.94595,     0.94695,     0.94795,     0.94895,     0.94995,     0.95095,     0.95195,     0.95295,     0.95395,     0.95495,     0.95596,     0.95696,     0.95796,     0.95896,     0.95996,\n",
       "           0.96096,     0.96196,     0.96296,     0.96396,     0.96496,     0.96597,     0.96697,     0.96797,     0.96897,     0.96997,     0.97097,     0.97197,     0.97297,     0.97397,     0.97497,     0.97598,     0.97698,     0.97798,     0.97898,     0.97998,     0.98098,     0.98198,     0.98298,     0.98398,\n",
       "           0.98498,     0.98599,     0.98699,     0.98799,     0.98899,     0.98999,     0.99099,     0.99199,     0.99299,     0.99399,     0.99499,       0.996,       0.997,       0.998,       0.999,           1]), array([[    0.21302,     0.21302,     0.31798,     0.38059,     0.42991,     0.46245,     0.49181,     0.51011,     0.52452,     0.55083,     0.56739,      0.5876,     0.59968,     0.61242,     0.62804,     0.63794,      0.6468,     0.65168,     0.65593,     0.65945,     0.67299,     0.67744,     0.68178,\n",
       "             0.6983,      0.7017,     0.70879,     0.71688,     0.71982,     0.72752,      0.7308,     0.73638,     0.73876,     0.74083,     0.74614,     0.75093,     0.75968,     0.76128,     0.76703,     0.77117,     0.77169,        0.78,     0.78871,     0.79411,     0.79624,     0.79734,     0.79845,\n",
       "            0.79988,     0.80176,     0.80388,     0.80624,     0.80802,     0.80978,      0.8092,     0.81179,     0.81345,     0.81442,     0.81539,     0.81637,     0.81882,     0.82137,     0.82374,     0.82732,     0.82843,     0.83018,     0.83197,     0.83379,     0.83521,     0.83601,      0.8368,\n",
       "            0.83759,     0.83838,     0.84012,     0.84291,      0.8433,      0.8437,     0.84409,     0.84449,     0.84488,     0.84527,     0.84567,     0.84606,     0.84646,     0.84685,     0.84725,     0.84765,     0.84805,     0.84845,     0.84885,     0.84924,     0.84964,     0.85004,     0.85044,\n",
       "            0.85084,     0.85197,     0.85342,     0.85487,     0.85716,     0.85931,      0.8599,      0.8605,     0.86109,     0.86169,     0.86228,     0.86288,     0.86352,      0.8646,     0.86567,     0.86675,     0.86789,     0.86926,     0.87063,     0.87191,     0.87168,     0.87145,     0.87127,\n",
       "            0.87122,     0.87116,     0.87111,     0.87105,       0.871,     0.87094,     0.87089,     0.87083,     0.87078,     0.87072,     0.87067,      0.8707,     0.87079,     0.87088,     0.87096,     0.87105,     0.87114,     0.87123,     0.87131,      0.8714,     0.87149,     0.87158,     0.87166,\n",
       "            0.87175,     0.87184,     0.87193,     0.87202,      0.8721,     0.87219,     0.87228,     0.87237,     0.87245,     0.87254,     0.87263,     0.87272,      0.8728,     0.87289,     0.87298,     0.87307,     0.87316,     0.87324,     0.87333,     0.87342,     0.87351,     0.87359,     0.87368,\n",
       "            0.87377,     0.87386,     0.87395,     0.87403,     0.87412,     0.87421,      0.8743,     0.87438,     0.87447,     0.87456,     0.87465,     0.87473,     0.87482,     0.87491,       0.875,     0.87616,     0.87736,     0.87855,     0.87959,     0.88023,     0.88088,     0.88152,     0.88217,\n",
       "            0.88282,     0.88346,     0.88432,     0.88546,      0.8866,     0.88775,     0.88844,     0.88867,     0.88889,     0.88912,     0.88935,     0.88958,     0.88981,     0.89003,     0.89026,     0.89049,     0.89072,     0.89095,     0.89117,      0.8914,     0.89163,     0.89186,     0.89209,\n",
       "            0.89231,     0.89254,     0.89277,     0.89296,     0.89311,     0.89327,     0.89343,     0.89359,     0.89375,     0.89391,     0.89407,     0.89423,     0.89439,     0.89455,     0.89471,     0.89487,     0.89503,     0.89519,     0.89535,     0.89551,     0.89567,     0.89583,     0.89599,\n",
       "            0.89615,     0.89631,     0.89646,     0.89662,     0.89678,     0.89694,      0.8971,     0.89726,     0.89742,     0.89772,     0.89802,     0.89833,     0.89864,     0.89895,     0.89925,     0.89956,     0.89987,     0.90018,     0.90048,     0.90079,      0.9011,      0.9014,     0.90171,\n",
       "            0.90202,     0.90235,     0.90269,     0.90302,     0.90336,     0.90369,     0.90403,     0.90437,      0.9047,     0.90504,     0.90537,     0.90571,     0.90605,     0.90638,     0.90672,     0.90689,     0.90706,     0.90723,      0.9074,     0.90756,     0.90773,      0.9079,     0.90807,\n",
       "            0.90823,      0.9084,     0.90857,     0.90874,      0.9089,     0.90907,     0.90924,      0.9094,     0.90957,     0.90974,     0.90991,     0.91007,     0.91024,     0.91041,     0.91058,     0.91074,     0.91091,     0.91108,     0.91125,     0.91141,     0.91418,     0.91723,     0.91948,\n",
       "            0.92096,     0.92066,     0.92251,     0.92453,     0.92586,     0.92652,     0.92718,     0.92784,     0.92849,     0.92915,     0.92981,     0.93046,     0.93073,     0.93098,     0.93123,     0.93149,     0.93174,     0.93199,     0.93224,      0.9325,     0.93275,       0.933,     0.93325,\n",
       "            0.93351,     0.93376,     0.93401,     0.93426,     0.93452,     0.93477,     0.93502,     0.93528,     0.93554,     0.93588,     0.93621,     0.93654,     0.93688,     0.93721,     0.93755,     0.93788,     0.93821,     0.93855,     0.93888,     0.93921,     0.93955,     0.93988,     0.94022,\n",
       "            0.94071,     0.94576,     0.94615,     0.94653,     0.94692,      0.9473,     0.94769,     0.94807,     0.94846,     0.94884,     0.94923,     0.94961,        0.95,     0.95038,     0.95077,     0.95115,     0.95153,     0.95192,      0.9523,     0.95268,     0.95307,     0.95345,     0.95383,\n",
       "            0.95422,      0.9546,     0.95498,     0.95537,     0.95575,     0.95604,     0.95603,     0.95602,     0.95601,       0.956,       0.956,     0.95599,     0.95598,     0.95597,     0.95596,     0.95595,     0.95594,     0.95593,     0.95592,     0.95591,      0.9559,     0.95589,     0.95588,\n",
       "            0.95587,     0.95586,     0.95586,     0.95585,     0.95584,     0.95583,     0.95582,     0.95581,     0.95582,     0.95593,     0.95604,     0.95615,     0.95627,     0.95638,     0.95649,      0.9566,     0.95672,     0.95683,     0.95694,     0.95705,     0.95717,     0.95728,     0.95739,\n",
       "            0.95751,     0.95762,     0.95773,     0.95784,     0.95796,     0.95807,     0.95818,     0.95829,     0.95841,     0.95852,     0.95863,     0.95874,     0.95886,     0.95897,     0.95908,     0.95919,     0.95931,     0.95942,     0.95953,     0.95964,     0.95976,     0.95987,     0.95998,\n",
       "             0.9601,     0.96021,     0.96032,     0.96043,     0.96055,     0.96066,     0.96077,     0.96088,       0.961,     0.96111,      0.9613,      0.9615,     0.96169,     0.96189,     0.96209,     0.96228,     0.96248,     0.96267,     0.96287,     0.96307,     0.96326,     0.96346,     0.96365,\n",
       "            0.96385,     0.96405,     0.96424,     0.96444,     0.96463,     0.96483,     0.96503,     0.96522,     0.96542,     0.96561,     0.96581,       0.966,      0.9662,      0.9664,     0.96653,     0.96661,      0.9667,     0.96678,     0.96686,     0.96695,     0.96703,     0.96712,      0.9672,\n",
       "            0.96728,     0.96737,     0.96745,     0.96753,     0.96762,      0.9677,     0.96779,     0.96787,     0.96795,     0.96804,     0.96812,     0.96821,     0.96829,     0.96837,     0.96846,     0.96854,     0.96862,     0.96871,     0.96879,     0.96888,     0.96896,     0.96904,     0.96913,\n",
       "            0.96921,      0.9693,     0.96938,     0.96946,     0.96955,     0.96963,     0.96972,      0.9698,     0.96988,     0.96997,     0.97005,     0.97013,     0.97022,      0.9703,     0.97039,     0.97047,     0.97055,     0.97064,     0.97072,     0.97081,     0.97089,     0.97097,     0.97106,\n",
       "            0.97114,     0.97122,     0.97131,     0.97139,     0.97148,     0.97156,     0.97164,     0.97173,     0.97181,      0.9719,      0.9719,     0.97189,     0.97187,     0.97186,     0.97185,     0.97183,     0.97182,     0.97181,     0.97179,     0.97178,     0.97177,     0.97175,     0.97172,\n",
       "            0.97169,     0.97165,     0.97162,     0.97203,     0.97345,     0.97488,      0.9763,     0.97709,     0.97701,     0.97699,     0.97698,     0.97697,     0.97695,     0.97694,     0.97693,     0.97691,      0.9769,     0.97689,     0.97685,     0.97677,     0.97712,     0.97762,     0.97812,\n",
       "            0.97862,     0.97912,     0.97961,     0.98011,     0.98061,     0.98111,     0.98161,     0.98211,     0.98281,     0.98394,     0.98508,     0.98621,     0.98734,     0.98824,     0.98823,     0.98823,     0.98823,     0.98823,     0.98823,     0.98823,     0.98823,     0.98823,     0.98822,\n",
       "            0.98822,     0.98822,     0.98822,     0.98822,     0.98822,     0.98822,     0.98822,     0.98821,     0.98821,     0.98821,     0.98821,     0.98821,     0.98821,     0.98821,     0.98821,      0.9882,      0.9882,      0.9882,      0.9882,      0.9882,      0.9882,      0.9882,      0.9882,\n",
       "            0.98819,     0.98819,     0.98819,     0.98819,     0.98819,     0.98819,     0.98819,     0.98819,     0.98819,     0.98818,     0.98818,     0.98818,     0.98818,     0.98818,     0.98818,     0.98818,     0.98818,     0.98817,     0.98817,     0.98817,     0.98817,     0.98817,     0.98817,\n",
       "            0.98817,     0.98816,     0.98815,     0.98813,     0.98812,      0.9881,     0.98809,     0.98809,     0.98809,     0.98808,     0.98808,     0.98807,     0.98807,     0.98807,     0.98806,     0.98806,     0.98805,     0.98805,     0.98805,     0.98804,     0.98804,     0.98804,     0.98803,\n",
       "            0.98803,     0.98802,     0.98802,     0.98801,     0.98801,       0.988,       0.988,     0.98799,     0.98799,     0.98798,     0.98798,     0.98797,     0.98797,     0.98796,     0.98796,     0.98795,      0.9879,      0.9878,     0.98779,     0.98779,     0.98778,     0.98777,     0.98777,\n",
       "            0.98776,     0.98775,     0.98775,     0.98774,     0.98773,     0.98768,     0.98765,     0.98764,     0.98762,     0.98761,      0.9876,     0.98759,     0.98804,     0.99031,     0.99258,     0.99375,     0.99374,     0.99373,     0.99373,     0.99372,     0.99371,     0.99369,     0.99367,\n",
       "            0.99365,     0.99364,     0.99359,     0.99358,     0.99357,     0.99356,     0.99355,     0.99354,     0.99353,     0.99352,     0.99351,      0.9935,     0.99349,     0.99349,     0.99348,     0.99348,     0.99347,     0.99345,      0.9934,     0.99338,     0.99336,     0.99335,     0.99334,\n",
       "            0.99333,     0.99328,     0.99328,     0.99327,     0.99327,     0.99326,     0.99325,     0.99325,     0.99323,     0.99321,     0.99319,     0.99317,     0.99316,     0.99314,     0.99313,     0.99312,     0.99311,     0.99298,     0.99295,     0.99294,     0.99294,     0.99293,     0.99292,\n",
       "            0.99291,      0.9929,     0.99289,     0.99288,     0.99287,     0.99286,      0.9928,     0.99275,      0.9927,     0.99267,     0.99264,     0.99263,     0.99261,      0.9926,     0.99258,     0.99256,     0.99254,     0.99253,     0.99252,     0.99251,      0.9925,      0.9925,     0.99249,\n",
       "            0.99248,     0.99246,     0.99245,     0.99243,     0.99241,     0.99237,     0.99233,     0.99221,     0.99216,     0.99213,      0.9921,     0.99208,     0.99205,     0.99202,     0.99376,           1,           1,           1,           1,           1,           1,           1,           1,\n",
       "                  1,           1,           1,           1,           1,           1,           1,           1,           1,           1,           1,           1,           1,           1,           1,           1,           1,           1,           1,           1,           1,           1,           1,\n",
       "                  1,           1,           1,           1,           1,           1,           1,           1,           1,           1,           1,           1,           1,           1,           1,           1,           1,           1,           1,           1,           1,           1,           1,\n",
       "                  1,           1,           1,           1,           1,           1,           1,           1,           1,           1,           1,           1,           1,           1,           1,           1,           1,           1,           1,           1,           1,           1,           1,\n",
       "                  1,           1,           1,           1,           1,           1,           1,           1,           1,           1,           1,           1,           1,           1,           1,           1,           1,           1,           1,           1,           1,           1,           1,\n",
       "                  1,           1,           1,           1,           1,           1,           1,           1,           1,           1,           1,           1,           1,           1,           1,           1,           1,           1,           1,           1,           1,           1,           1,\n",
       "                  1,           1,           1,           1,           1,           1,           1,           1,           1,           1,           1,           1,           1,           1,           1,           1,           1,           1,           1,           1,           1,           1,           1,\n",
       "                  1,           1,           1,           1,           1,           1,           1,           1,           1,           1,           1,           1,           1,           1,           1,           1,           1,           1,           1,           1,           1,           1,           1,\n",
       "                  1,           1,           1,           1,           1,           1,           1,           1,           1,           1,           1,           1,           1,           1,           1,           1,           1,           1,           1,           1,           1,           1,           1,\n",
       "                  1,           1,           1,           1,           1,           1,           1,           1,           1,           1,           1]]), 'Confidence', 'Precision'], [array([          0,    0.001001,    0.002002,    0.003003,    0.004004,    0.005005,    0.006006,    0.007007,    0.008008,    0.009009,     0.01001,    0.011011,    0.012012,    0.013013,    0.014014,    0.015015,    0.016016,    0.017017,    0.018018,    0.019019,     0.02002,    0.021021,    0.022022,    0.023023,\n",
       "          0.024024,    0.025025,    0.026026,    0.027027,    0.028028,    0.029029,     0.03003,    0.031031,    0.032032,    0.033033,    0.034034,    0.035035,    0.036036,    0.037037,    0.038038,    0.039039,     0.04004,    0.041041,    0.042042,    0.043043,    0.044044,    0.045045,    0.046046,    0.047047,\n",
       "          0.048048,    0.049049,     0.05005,    0.051051,    0.052052,    0.053053,    0.054054,    0.055055,    0.056056,    0.057057,    0.058058,    0.059059,     0.06006,    0.061061,    0.062062,    0.063063,    0.064064,    0.065065,    0.066066,    0.067067,    0.068068,    0.069069,     0.07007,    0.071071,\n",
       "          0.072072,    0.073073,    0.074074,    0.075075,    0.076076,    0.077077,    0.078078,    0.079079,     0.08008,    0.081081,    0.082082,    0.083083,    0.084084,    0.085085,    0.086086,    0.087087,    0.088088,    0.089089,     0.09009,    0.091091,    0.092092,    0.093093,    0.094094,    0.095095,\n",
       "          0.096096,    0.097097,    0.098098,    0.099099,      0.1001,      0.1011,      0.1021,      0.1031,      0.1041,     0.10511,     0.10611,     0.10711,     0.10811,     0.10911,     0.11011,     0.11111,     0.11211,     0.11311,     0.11411,     0.11512,     0.11612,     0.11712,     0.11812,     0.11912,\n",
       "           0.12012,     0.12112,     0.12212,     0.12312,     0.12412,     0.12513,     0.12613,     0.12713,     0.12813,     0.12913,     0.13013,     0.13113,     0.13213,     0.13313,     0.13413,     0.13514,     0.13614,     0.13714,     0.13814,     0.13914,     0.14014,     0.14114,     0.14214,     0.14314,\n",
       "           0.14414,     0.14515,     0.14615,     0.14715,     0.14815,     0.14915,     0.15015,     0.15115,     0.15215,     0.15315,     0.15415,     0.15516,     0.15616,     0.15716,     0.15816,     0.15916,     0.16016,     0.16116,     0.16216,     0.16316,     0.16416,     0.16517,     0.16617,     0.16717,\n",
       "           0.16817,     0.16917,     0.17017,     0.17117,     0.17217,     0.17317,     0.17417,     0.17518,     0.17618,     0.17718,     0.17818,     0.17918,     0.18018,     0.18118,     0.18218,     0.18318,     0.18418,     0.18519,     0.18619,     0.18719,     0.18819,     0.18919,     0.19019,     0.19119,\n",
       "           0.19219,     0.19319,     0.19419,      0.1952,      0.1962,      0.1972,      0.1982,      0.1992,      0.2002,      0.2012,      0.2022,      0.2032,      0.2042,     0.20521,     0.20621,     0.20721,     0.20821,     0.20921,     0.21021,     0.21121,     0.21221,     0.21321,     0.21421,     0.21522,\n",
       "           0.21622,     0.21722,     0.21822,     0.21922,     0.22022,     0.22122,     0.22222,     0.22322,     0.22422,     0.22523,     0.22623,     0.22723,     0.22823,     0.22923,     0.23023,     0.23123,     0.23223,     0.23323,     0.23423,     0.23524,     0.23624,     0.23724,     0.23824,     0.23924,\n",
       "           0.24024,     0.24124,     0.24224,     0.24324,     0.24424,     0.24525,     0.24625,     0.24725,     0.24825,     0.24925,     0.25025,     0.25125,     0.25225,     0.25325,     0.25425,     0.25526,     0.25626,     0.25726,     0.25826,     0.25926,     0.26026,     0.26126,     0.26226,     0.26326,\n",
       "           0.26426,     0.26527,     0.26627,     0.26727,     0.26827,     0.26927,     0.27027,     0.27127,     0.27227,     0.27327,     0.27427,     0.27528,     0.27628,     0.27728,     0.27828,     0.27928,     0.28028,     0.28128,     0.28228,     0.28328,     0.28428,     0.28529,     0.28629,     0.28729,\n",
       "           0.28829,     0.28929,     0.29029,     0.29129,     0.29229,     0.29329,     0.29429,      0.2953,      0.2963,      0.2973,      0.2983,      0.2993,      0.3003,      0.3013,      0.3023,      0.3033,      0.3043,     0.30531,     0.30631,     0.30731,     0.30831,     0.30931,     0.31031,     0.31131,\n",
       "           0.31231,     0.31331,     0.31431,     0.31532,     0.31632,     0.31732,     0.31832,     0.31932,     0.32032,     0.32132,     0.32232,     0.32332,     0.32432,     0.32533,     0.32633,     0.32733,     0.32833,     0.32933,     0.33033,     0.33133,     0.33233,     0.33333,     0.33433,     0.33534,\n",
       "           0.33634,     0.33734,     0.33834,     0.33934,     0.34034,     0.34134,     0.34234,     0.34334,     0.34434,     0.34535,     0.34635,     0.34735,     0.34835,     0.34935,     0.35035,     0.35135,     0.35235,     0.35335,     0.35435,     0.35536,     0.35636,     0.35736,     0.35836,     0.35936,\n",
       "           0.36036,     0.36136,     0.36236,     0.36336,     0.36436,     0.36537,     0.36637,     0.36737,     0.36837,     0.36937,     0.37037,     0.37137,     0.37237,     0.37337,     0.37437,     0.37538,     0.37638,     0.37738,     0.37838,     0.37938,     0.38038,     0.38138,     0.38238,     0.38338,\n",
       "           0.38438,     0.38539,     0.38639,     0.38739,     0.38839,     0.38939,     0.39039,     0.39139,     0.39239,     0.39339,     0.39439,      0.3954,      0.3964,      0.3974,      0.3984,      0.3994,      0.4004,      0.4014,      0.4024,      0.4034,      0.4044,     0.40541,     0.40641,     0.40741,\n",
       "           0.40841,     0.40941,     0.41041,     0.41141,     0.41241,     0.41341,     0.41441,     0.41542,     0.41642,     0.41742,     0.41842,     0.41942,     0.42042,     0.42142,     0.42242,     0.42342,     0.42442,     0.42543,     0.42643,     0.42743,     0.42843,     0.42943,     0.43043,     0.43143,\n",
       "           0.43243,     0.43343,     0.43443,     0.43544,     0.43644,     0.43744,     0.43844,     0.43944,     0.44044,     0.44144,     0.44244,     0.44344,     0.44444,     0.44545,     0.44645,     0.44745,     0.44845,     0.44945,     0.45045,     0.45145,     0.45245,     0.45345,     0.45445,     0.45546,\n",
       "           0.45646,     0.45746,     0.45846,     0.45946,     0.46046,     0.46146,     0.46246,     0.46346,     0.46446,     0.46547,     0.46647,     0.46747,     0.46847,     0.46947,     0.47047,     0.47147,     0.47247,     0.47347,     0.47447,     0.47548,     0.47648,     0.47748,     0.47848,     0.47948,\n",
       "           0.48048,     0.48148,     0.48248,     0.48348,     0.48448,     0.48549,     0.48649,     0.48749,     0.48849,     0.48949,     0.49049,     0.49149,     0.49249,     0.49349,     0.49449,      0.4955,      0.4965,      0.4975,      0.4985,      0.4995,      0.5005,      0.5015,      0.5025,      0.5035,\n",
       "            0.5045,     0.50551,     0.50651,     0.50751,     0.50851,     0.50951,     0.51051,     0.51151,     0.51251,     0.51351,     0.51451,     0.51552,     0.51652,     0.51752,     0.51852,     0.51952,     0.52052,     0.52152,     0.52252,     0.52352,     0.52452,     0.52553,     0.52653,     0.52753,\n",
       "           0.52853,     0.52953,     0.53053,     0.53153,     0.53253,     0.53353,     0.53453,     0.53554,     0.53654,     0.53754,     0.53854,     0.53954,     0.54054,     0.54154,     0.54254,     0.54354,     0.54454,     0.54555,     0.54655,     0.54755,     0.54855,     0.54955,     0.55055,     0.55155,\n",
       "           0.55255,     0.55355,     0.55455,     0.55556,     0.55656,     0.55756,     0.55856,     0.55956,     0.56056,     0.56156,     0.56256,     0.56356,     0.56456,     0.56557,     0.56657,     0.56757,     0.56857,     0.56957,     0.57057,     0.57157,     0.57257,     0.57357,     0.57457,     0.57558,\n",
       "           0.57658,     0.57758,     0.57858,     0.57958,     0.58058,     0.58158,     0.58258,     0.58358,     0.58458,     0.58559,     0.58659,     0.58759,     0.58859,     0.58959,     0.59059,     0.59159,     0.59259,     0.59359,     0.59459,      0.5956,      0.5966,      0.5976,      0.5986,      0.5996,\n",
       "            0.6006,      0.6016,      0.6026,      0.6036,      0.6046,     0.60561,     0.60661,     0.60761,     0.60861,     0.60961,     0.61061,     0.61161,     0.61261,     0.61361,     0.61461,     0.61562,     0.61662,     0.61762,     0.61862,     0.61962,     0.62062,     0.62162,     0.62262,     0.62362,\n",
       "           0.62462,     0.62563,     0.62663,     0.62763,     0.62863,     0.62963,     0.63063,     0.63163,     0.63263,     0.63363,     0.63463,     0.63564,     0.63664,     0.63764,     0.63864,     0.63964,     0.64064,     0.64164,     0.64264,     0.64364,     0.64464,     0.64565,     0.64665,     0.64765,\n",
       "           0.64865,     0.64965,     0.65065,     0.65165,     0.65265,     0.65365,     0.65465,     0.65566,     0.65666,     0.65766,     0.65866,     0.65966,     0.66066,     0.66166,     0.66266,     0.66366,     0.66466,     0.66567,     0.66667,     0.66767,     0.66867,     0.66967,     0.67067,     0.67167,\n",
       "           0.67267,     0.67367,     0.67467,     0.67568,     0.67668,     0.67768,     0.67868,     0.67968,     0.68068,     0.68168,     0.68268,     0.68368,     0.68468,     0.68569,     0.68669,     0.68769,     0.68869,     0.68969,     0.69069,     0.69169,     0.69269,     0.69369,     0.69469,      0.6957,\n",
       "            0.6967,      0.6977,      0.6987,      0.6997,      0.7007,      0.7017,      0.7027,      0.7037,      0.7047,     0.70571,     0.70671,     0.70771,     0.70871,     0.70971,     0.71071,     0.71171,     0.71271,     0.71371,     0.71471,     0.71572,     0.71672,     0.71772,     0.71872,     0.71972,\n",
       "           0.72072,     0.72172,     0.72272,     0.72372,     0.72472,     0.72573,     0.72673,     0.72773,     0.72873,     0.72973,     0.73073,     0.73173,     0.73273,     0.73373,     0.73473,     0.73574,     0.73674,     0.73774,     0.73874,     0.73974,     0.74074,     0.74174,     0.74274,     0.74374,\n",
       "           0.74474,     0.74575,     0.74675,     0.74775,     0.74875,     0.74975,     0.75075,     0.75175,     0.75275,     0.75375,     0.75475,     0.75576,     0.75676,     0.75776,     0.75876,     0.75976,     0.76076,     0.76176,     0.76276,     0.76376,     0.76476,     0.76577,     0.76677,     0.76777,\n",
       "           0.76877,     0.76977,     0.77077,     0.77177,     0.77277,     0.77377,     0.77477,     0.77578,     0.77678,     0.77778,     0.77878,     0.77978,     0.78078,     0.78178,     0.78278,     0.78378,     0.78478,     0.78579,     0.78679,     0.78779,     0.78879,     0.78979,     0.79079,     0.79179,\n",
       "           0.79279,     0.79379,     0.79479,      0.7958,      0.7968,      0.7978,      0.7988,      0.7998,      0.8008,      0.8018,      0.8028,      0.8038,      0.8048,     0.80581,     0.80681,     0.80781,     0.80881,     0.80981,     0.81081,     0.81181,     0.81281,     0.81381,     0.81481,     0.81582,\n",
       "           0.81682,     0.81782,     0.81882,     0.81982,     0.82082,     0.82182,     0.82282,     0.82382,     0.82482,     0.82583,     0.82683,     0.82783,     0.82883,     0.82983,     0.83083,     0.83183,     0.83283,     0.83383,     0.83483,     0.83584,     0.83684,     0.83784,     0.83884,     0.83984,\n",
       "           0.84084,     0.84184,     0.84284,     0.84384,     0.84484,     0.84585,     0.84685,     0.84785,     0.84885,     0.84985,     0.85085,     0.85185,     0.85285,     0.85385,     0.85485,     0.85586,     0.85686,     0.85786,     0.85886,     0.85986,     0.86086,     0.86186,     0.86286,     0.86386,\n",
       "           0.86486,     0.86587,     0.86687,     0.86787,     0.86887,     0.86987,     0.87087,     0.87187,     0.87287,     0.87387,     0.87487,     0.87588,     0.87688,     0.87788,     0.87888,     0.87988,     0.88088,     0.88188,     0.88288,     0.88388,     0.88488,     0.88589,     0.88689,     0.88789,\n",
       "           0.88889,     0.88989,     0.89089,     0.89189,     0.89289,     0.89389,     0.89489,      0.8959,      0.8969,      0.8979,      0.8989,      0.8999,      0.9009,      0.9019,      0.9029,      0.9039,      0.9049,     0.90591,     0.90691,     0.90791,     0.90891,     0.90991,     0.91091,     0.91191,\n",
       "           0.91291,     0.91391,     0.91491,     0.91592,     0.91692,     0.91792,     0.91892,     0.91992,     0.92092,     0.92192,     0.92292,     0.92392,     0.92492,     0.92593,     0.92693,     0.92793,     0.92893,     0.92993,     0.93093,     0.93193,     0.93293,     0.93393,     0.93493,     0.93594,\n",
       "           0.93694,     0.93794,     0.93894,     0.93994,     0.94094,     0.94194,     0.94294,     0.94394,     0.94494,     0.94595,     0.94695,     0.94795,     0.94895,     0.94995,     0.95095,     0.95195,     0.95295,     0.95395,     0.95495,     0.95596,     0.95696,     0.95796,     0.95896,     0.95996,\n",
       "           0.96096,     0.96196,     0.96296,     0.96396,     0.96496,     0.96597,     0.96697,     0.96797,     0.96897,     0.96997,     0.97097,     0.97197,     0.97297,     0.97397,     0.97497,     0.97598,     0.97698,     0.97798,     0.97898,     0.97998,     0.98098,     0.98198,     0.98298,     0.98398,\n",
       "           0.98498,     0.98599,     0.98699,     0.98799,     0.98899,     0.98999,     0.99099,     0.99199,     0.99299,     0.99399,     0.99499,       0.996,       0.997,       0.998,       0.999,           1]), array([[          1,           1,           1,           1,           1,           1,           1,           1,           1,           1,           1,           1,           1,           1,           1,           1,           1,           1,           1,           1,           1,           1,           1,\n",
       "                  1,           1,           1,           1,           1,           1,           1,           1,           1,           1,           1,           1,           1,           1,           1,           1,      0.9952,     0.99444,     0.99444,     0.99444,     0.99444,     0.99444,     0.99444,\n",
       "            0.99444,     0.99444,     0.99444,     0.99444,     0.99444,     0.99444,     0.98959,     0.98889,     0.98889,     0.98889,     0.98889,     0.98889,     0.98889,     0.98889,     0.98889,     0.98483,     0.98333,     0.98333,     0.98333,     0.98333,     0.98333,     0.98333,     0.98333,\n",
       "            0.98333,     0.98333,     0.98333,     0.98333,     0.98333,     0.98333,     0.98333,     0.98333,     0.98333,     0.98333,     0.98333,     0.98333,     0.98333,     0.98333,     0.98333,     0.98333,     0.98333,     0.98333,     0.98333,     0.98333,     0.98333,     0.98333,     0.98333,\n",
       "            0.98333,     0.98333,     0.98333,     0.98333,     0.98333,     0.98333,     0.98333,     0.98333,     0.98333,     0.98333,     0.98333,     0.98333,     0.98333,     0.98333,     0.98333,     0.98333,     0.98333,     0.98333,     0.98333,     0.98321,     0.98119,     0.97918,     0.97763,\n",
       "            0.97716,     0.97668,     0.97621,     0.97573,     0.97526,     0.97478,     0.97431,     0.97384,     0.97336,     0.97289,     0.97241,     0.97222,     0.97222,     0.97222,     0.97222,     0.97222,     0.97222,     0.97222,     0.97222,     0.97222,     0.97222,     0.97222,     0.97222,\n",
       "            0.97222,     0.97222,     0.97222,     0.97222,     0.97222,     0.97222,     0.97222,     0.97222,     0.97222,     0.97222,     0.97222,     0.97222,     0.97222,     0.97222,     0.97222,     0.97222,     0.97222,     0.97222,     0.97222,     0.97222,     0.97222,     0.97222,     0.97222,\n",
       "            0.97222,     0.97222,     0.97222,     0.97222,     0.97222,     0.97222,     0.97222,     0.97222,     0.97222,     0.97222,     0.97222,     0.97222,     0.97222,     0.97222,     0.97222,     0.97222,     0.97222,     0.97222,     0.97222,     0.97222,     0.97222,     0.97222,     0.97222,\n",
       "            0.97222,     0.97222,     0.97222,     0.97222,     0.97222,     0.97222,     0.97222,     0.97222,     0.97222,     0.97222,     0.97222,     0.97222,     0.97222,     0.97222,     0.97222,     0.97222,     0.97222,     0.97222,     0.97222,     0.97222,     0.97222,     0.97222,     0.97222,\n",
       "            0.97222,     0.97222,     0.97222,     0.97222,     0.97222,     0.97222,     0.97222,     0.97222,     0.97222,     0.97222,     0.97222,     0.97222,     0.97222,     0.97222,     0.97222,     0.97222,     0.97222,     0.97222,     0.97222,     0.97222,     0.97222,     0.97222,     0.97222,\n",
       "            0.97222,     0.97222,     0.97222,     0.97222,     0.97222,     0.97222,     0.97222,     0.97222,     0.97222,     0.97222,     0.97222,     0.97222,     0.97222,     0.97222,     0.97222,     0.97222,     0.97222,     0.97222,     0.97222,     0.97222,     0.97222,     0.97222,     0.97222,\n",
       "            0.97222,     0.97222,     0.97222,     0.97222,     0.97222,     0.97222,     0.97222,     0.97222,     0.97222,     0.97222,     0.97222,     0.97222,     0.97222,     0.97222,     0.97222,     0.97222,     0.97222,     0.97222,     0.97222,     0.97222,     0.97222,     0.97222,     0.97222,\n",
       "            0.97222,     0.97222,     0.97222,     0.97222,     0.97222,     0.97222,     0.97222,     0.97222,     0.97222,     0.97222,     0.97222,     0.97222,     0.97222,     0.97222,     0.97222,     0.97222,     0.97222,     0.97222,     0.97222,     0.97222,     0.97222,     0.97222,     0.97222,\n",
       "            0.97101,     0.96695,     0.96667,     0.96667,     0.96667,     0.96667,     0.96667,     0.96667,     0.96667,     0.96667,     0.96667,     0.96667,     0.96667,     0.96667,     0.96667,     0.96667,     0.96667,     0.96667,     0.96667,     0.96667,     0.96667,     0.96667,     0.96667,\n",
       "            0.96667,     0.96667,     0.96667,     0.96667,     0.96667,     0.96667,     0.96667,     0.96667,     0.96667,     0.96667,     0.96667,     0.96667,     0.96667,     0.96667,     0.96667,     0.96667,     0.96667,     0.96667,     0.96667,     0.96667,     0.96667,     0.96667,     0.96667,\n",
       "            0.96667,     0.96667,     0.96667,     0.96667,     0.96667,     0.96667,     0.96667,     0.96667,     0.96667,     0.96667,     0.96667,     0.96667,     0.96667,     0.96667,     0.96667,     0.96667,     0.96667,     0.96667,     0.96667,     0.96667,     0.96667,     0.96667,     0.96667,\n",
       "            0.96667,     0.96667,     0.96667,     0.96667,     0.96667,     0.96662,      0.9664,     0.96619,     0.96598,     0.96577,     0.96555,     0.96534,     0.96513,     0.96491,      0.9647,     0.96449,     0.96428,     0.96406,     0.96385,     0.96364,     0.96342,     0.96321,       0.963,\n",
       "            0.96279,     0.96257,     0.96236,     0.96215,     0.96193,     0.96172,     0.96151,      0.9613,     0.96111,     0.96111,     0.96111,     0.96111,     0.96111,     0.96111,     0.96111,     0.96111,     0.96111,     0.96111,     0.96111,     0.96111,     0.96111,     0.96111,     0.96111,\n",
       "            0.96111,     0.96111,     0.96111,     0.96111,     0.96111,     0.96111,     0.96111,     0.96111,     0.96111,     0.96111,     0.96111,     0.96111,     0.96111,     0.96111,     0.96111,     0.96111,     0.96111,     0.96111,     0.96111,     0.96111,     0.96111,     0.96111,     0.96111,\n",
       "            0.96111,     0.96111,     0.96111,     0.96111,     0.96111,     0.96111,     0.96111,     0.96111,     0.96111,     0.96111,     0.96111,     0.96111,     0.96111,     0.96111,     0.96111,     0.96111,     0.96111,     0.96111,     0.96111,     0.96111,     0.96111,     0.96111,     0.96111,\n",
       "            0.96111,     0.96111,     0.96111,     0.96111,     0.96111,     0.96111,     0.96111,     0.96111,     0.96111,     0.96111,     0.96111,     0.96111,     0.96111,     0.96111,     0.96111,     0.96111,     0.96111,     0.96111,     0.96111,     0.96111,     0.96111,     0.96111,     0.96111,\n",
       "            0.96111,     0.96111,     0.96111,     0.96111,     0.96111,     0.96111,     0.96111,     0.96111,     0.96111,     0.96111,     0.96111,     0.96111,     0.96111,     0.96111,     0.96111,     0.96111,     0.96111,     0.96111,     0.96111,     0.96111,     0.96111,     0.96111,     0.96111,\n",
       "            0.96111,     0.96111,     0.96111,     0.96111,     0.96111,     0.96111,     0.96111,     0.96111,     0.96111,     0.96111,     0.96111,     0.96111,     0.96111,     0.96111,     0.96111,     0.96111,     0.96111,     0.96111,     0.96111,     0.96111,     0.96111,     0.96111,     0.96111,\n",
       "            0.96111,     0.96111,     0.96111,     0.96111,     0.96111,     0.96111,     0.96111,     0.96111,     0.96111,     0.96111,     0.96073,     0.96027,     0.95981,     0.95935,     0.95888,     0.95842,     0.95796,      0.9575,     0.95704,     0.95658,     0.95612,     0.95566,     0.95458,\n",
       "            0.95334,      0.9521,     0.95086,        0.95,        0.95,        0.95,        0.95,     0.94791,     0.94426,     0.94371,     0.94315,     0.94259,     0.94204,     0.94148,     0.94092,     0.94036,     0.93981,     0.93925,     0.93767,      0.9342,     0.93333,     0.93333,     0.93333,\n",
       "            0.93333,     0.93333,     0.93333,     0.93333,     0.93333,     0.93333,     0.93333,     0.93333,     0.93333,     0.93333,     0.93333,     0.93333,     0.93333,     0.93331,     0.93322,     0.93312,     0.93302,     0.93292,     0.93283,     0.93273,     0.93263,     0.93254,     0.93244,\n",
       "            0.93234,     0.93224,     0.93215,     0.93205,     0.93195,     0.93185,     0.93176,     0.93166,     0.93156,     0.93147,     0.93137,     0.93127,     0.93117,     0.93108,     0.93098,     0.93088,     0.93079,     0.93069,     0.93059,     0.93049,      0.9304,      0.9303,      0.9302,\n",
       "            0.93011,     0.93001,     0.92991,     0.92981,     0.92972,     0.92962,     0.92952,     0.92943,     0.92933,     0.92923,     0.92913,     0.92904,     0.92894,     0.92884,     0.92874,     0.92865,     0.92855,     0.92845,     0.92836,     0.92826,     0.92816,     0.92806,     0.92797,\n",
       "            0.92787,     0.92772,     0.92646,     0.92521,     0.92396,     0.92271,     0.92204,     0.92174,     0.92144,     0.92114,     0.92084,     0.92054,     0.92024,     0.91994,     0.91965,     0.91935,     0.91905,     0.91875,     0.91845,     0.91815,     0.91785,     0.91755,     0.91725,\n",
       "            0.91695,     0.91665,     0.91627,     0.91589,     0.91551,     0.91513,     0.91476,     0.91438,       0.914,     0.91362,     0.91324,     0.91286,     0.91248,      0.9121,     0.91172,     0.91134,     0.90735,     0.89959,     0.89909,     0.89858,     0.89808,     0.89757,     0.89707,\n",
       "            0.89656,     0.89606,     0.89556,     0.89505,     0.89455,     0.89096,     0.88843,     0.88755,     0.88667,     0.88579,     0.88491,     0.88403,     0.88333,     0.88333,     0.88333,     0.88284,     0.88183,     0.88082,     0.87981,      0.8788,     0.87779,     0.87493,     0.87208,\n",
       "            0.86981,     0.86754,     0.86147,      0.8598,     0.85844,     0.85707,     0.85571,     0.85428,     0.85284,      0.8514,     0.84998,     0.84918,     0.84838,     0.84759,     0.84679,     0.84599,     0.84519,     0.84323,     0.83613,     0.83304,     0.83171,     0.83038,     0.82905,\n",
       "            0.82724,     0.82174,     0.82097,     0.82019,     0.81942,     0.81864,     0.81787,     0.81709,     0.81524,     0.81209,     0.80986,     0.80804,     0.80622,     0.80467,     0.80328,     0.80189,      0.8005,     0.78604,     0.78276,     0.78186,     0.78096,     0.78007,     0.77917,\n",
       "            0.77827,     0.77728,     0.77616,     0.77505,     0.77393,     0.77281,      0.7661,     0.76049,       0.755,     0.75206,     0.74957,     0.74812,     0.74668,     0.74524,     0.74333,     0.74087,     0.73873,     0.73793,     0.73713,     0.73632,     0.73552,     0.73471,     0.73391,\n",
       "             0.7329,     0.73139,     0.72989,     0.72838,     0.72597,     0.72298,     0.71896,     0.70781,     0.70326,     0.70055,     0.69808,     0.69566,     0.69324,     0.69081,     0.68889,     0.68766,     0.68298,     0.67888,     0.67076,      0.6681,     0.66033,     0.65856,      0.6568,\n",
       "            0.65468,     0.65174,     0.64475,      0.6423,      0.6401,     0.63829,     0.63696,     0.63563,      0.6343,     0.63093,     0.61651,     0.61352,     0.60987,     0.60378,     0.59971,     0.59868,     0.59765,     0.59662,     0.59559,     0.59456,     0.56934,     0.55902,     0.55629,\n",
       "            0.54428,     0.53819,     0.53501,     0.53189,     0.52882,      0.5183,     0.50983,     0.50378,     0.50156,     0.49769,     0.49195,     0.48633,     0.48114,     0.47786,     0.46909,     0.45767,     0.44859,     0.44532,     0.44207,     0.43856,     0.41103,     0.40638,     0.39679,\n",
       "            0.39304,      0.3911,     0.38916,      0.3864,     0.38352,      0.3744,     0.37015,     0.36607,     0.36182,     0.35615,      0.3442,     0.34301,     0.34181,     0.34061,     0.33942,     0.33657,     0.32806,     0.32452,      0.3203,     0.31469,     0.30722,     0.29547,     0.28983,\n",
       "            0.28453,      0.2792,      0.2735,     0.26084,     0.25222,     0.23926,      0.2356,     0.22776,     0.22367,      0.2201,     0.21683,     0.20334,     0.19869,     0.19577,     0.18374,     0.17991,     0.17125,     0.16861,      0.1654,     0.15919,      0.1495,     0.14769,     0.14589,\n",
       "            0.14276,     0.12747,     0.12398,     0.11293,     0.10855,     0.10563,      0.0923,    0.087769,    0.084105,    0.079642,    0.075015,    0.069714,    0.059746,    0.055034,    0.053392,     0.05175,    0.050108,    0.044184,     0.04279,    0.041396,    0.040002,    0.038341,    0.035626,\n",
       "            0.03301,    0.030929,    0.028847,    0.025235,    0.020982,    0.018057,    0.013119,           0,           0,           0,           0,           0,           0,           0,           0,           0,           0,           0,           0,           0,           0,           0,           0,\n",
       "                  0,           0,           0,           0,           0,           0,           0,           0,           0,           0,           0,           0,           0,           0,           0,           0,           0,           0,           0,           0,           0,           0,           0,\n",
       "                  0,           0,           0,           0,           0,           0,           0,           0,           0,           0,           0,           0,           0,           0,           0,           0,           0,           0,           0,           0,           0,           0,           0,\n",
       "                  0,           0,           0,           0,           0,           0,           0,           0,           0,           0,           0]]), 'Confidence', 'Recall']]\n",
       "fitness: 0.7343238358315822\n",
       "keys: ['metrics/precision(B)', 'metrics/recall(B)', 'metrics/mAP50(B)', 'metrics/mAP50-95(B)']\n",
       "maps: array([    0.70609])\n",
       "names: {0: 'drone'}\n",
       "plot: True\n",
       "results_dict: {'metrics/precision(B)': 0.9689603613975782, 'metrics/recall(B)': 0.9611111111111111, 'metrics/mAP50(B)': 0.9884006811742638, 'metrics/mAP50-95(B)': 0.7060930752379508, 'fitness': 0.7343238358315822}\n",
       "save_dir: PosixPath('runs/detect/train')\n",
       "speed: {'preprocess': 2.3176611566836116, 'inference': 134.5144254298298, 'loss': 4.680610141871166e-05, 'postprocess': 0.578754518661031}\n",
       "task: 'detect'"
      ]
     },
     "execution_count": 13,
     "metadata": {},
     "output_type": "execute_result"
    }
   ],
   "source": [
    "model = YOLO('yolov8n.pt') \n",
    "model.train(data='config.yaml', epochs=epochs, imgsz=640)"
   ]
  },
  {
   "cell_type": "markdown",
   "metadata": {},
   "source": [
    "## Validando e testando o modelo"
   ]
  },
  {
   "cell_type": "code",
   "execution_count": null,
   "metadata": {},
   "outputs": [
    {
     "name": "stdout",
     "output_type": "stream",
     "text": [
      "Ultralytics 8.3.31 🚀 Python-3.12.7 torch-2.5.1+cu124 CPU (Intel Core(TM) i3-7020U 2.30GHz)\n",
      "Model summary (fused): 168 layers, 3,005,843 parameters, 0 gradients, 8.1 GFLOPs\n"
     ]
    },
    {
     "name": "stderr",
     "output_type": "stream",
     "text": [
      "\u001b[34m\u001b[1mval: \u001b[0mScanning /home/avivyh/Documentos/SINFO/dataset/labels/val.cache... 163 images, 0 backgrounds, 0 corrupt: 100%|██████████| 163/163 [00:00<?, ?it/s]\n",
      "                 Class     Images  Instances      Box(P          R      mAP50  mAP50-95):  64%|██████▎   | 7/11 [00:15<00:09,  2.31s/it]libpng warning: iCCP: known incorrect sRGB profile\n",
      "                 Class     Images  Instances      Box(P          R      mAP50  mAP50-95): 100%|██████████| 11/11 [00:25<00:00,  2.28s/it]\n"
     ]
    },
    {
     "name": "stdout",
     "output_type": "stream",
     "text": [
      "                   all        163        180      0.971      0.961      0.989      0.709\n",
      "Speed: 2.2ms preprocess, 129.8ms inference, 0.0ms loss, 0.5ms postprocess per image\n",
      "Results saved to \u001b[1mruns/detect/train2\u001b[0m\n",
      "Métricas de Validação: ultralytics.utils.metrics.DetMetrics object with attributes:\n",
      "\n",
      "ap_class_index: array([0])\n",
      "box: ultralytics.utils.metrics.Metric object\n",
      "confusion_matrix: <ultralytics.utils.metrics.ConfusionMatrix object at 0x7e1d2c99c890>\n",
      "curves: ['Precision-Recall(B)', 'F1-Confidence(B)', 'Precision-Confidence(B)', 'Recall-Confidence(B)']\n",
      "curves_results: [[array([          0,    0.001001,    0.002002,    0.003003,    0.004004,    0.005005,    0.006006,    0.007007,    0.008008,    0.009009,     0.01001,    0.011011,    0.012012,    0.013013,    0.014014,    0.015015,    0.016016,    0.017017,    0.018018,    0.019019,     0.02002,    0.021021,    0.022022,    0.023023,\n",
      "          0.024024,    0.025025,    0.026026,    0.027027,    0.028028,    0.029029,     0.03003,    0.031031,    0.032032,    0.033033,    0.034034,    0.035035,    0.036036,    0.037037,    0.038038,    0.039039,     0.04004,    0.041041,    0.042042,    0.043043,    0.044044,    0.045045,    0.046046,    0.047047,\n",
      "          0.048048,    0.049049,     0.05005,    0.051051,    0.052052,    0.053053,    0.054054,    0.055055,    0.056056,    0.057057,    0.058058,    0.059059,     0.06006,    0.061061,    0.062062,    0.063063,    0.064064,    0.065065,    0.066066,    0.067067,    0.068068,    0.069069,     0.07007,    0.071071,\n",
      "          0.072072,    0.073073,    0.074074,    0.075075,    0.076076,    0.077077,    0.078078,    0.079079,     0.08008,    0.081081,    0.082082,    0.083083,    0.084084,    0.085085,    0.086086,    0.087087,    0.088088,    0.089089,     0.09009,    0.091091,    0.092092,    0.093093,    0.094094,    0.095095,\n",
      "          0.096096,    0.097097,    0.098098,    0.099099,      0.1001,      0.1011,      0.1021,      0.1031,      0.1041,     0.10511,     0.10611,     0.10711,     0.10811,     0.10911,     0.11011,     0.11111,     0.11211,     0.11311,     0.11411,     0.11512,     0.11612,     0.11712,     0.11812,     0.11912,\n",
      "           0.12012,     0.12112,     0.12212,     0.12312,     0.12412,     0.12513,     0.12613,     0.12713,     0.12813,     0.12913,     0.13013,     0.13113,     0.13213,     0.13313,     0.13413,     0.13514,     0.13614,     0.13714,     0.13814,     0.13914,     0.14014,     0.14114,     0.14214,     0.14314,\n",
      "           0.14414,     0.14515,     0.14615,     0.14715,     0.14815,     0.14915,     0.15015,     0.15115,     0.15215,     0.15315,     0.15415,     0.15516,     0.15616,     0.15716,     0.15816,     0.15916,     0.16016,     0.16116,     0.16216,     0.16316,     0.16416,     0.16517,     0.16617,     0.16717,\n",
      "           0.16817,     0.16917,     0.17017,     0.17117,     0.17217,     0.17317,     0.17417,     0.17518,     0.17618,     0.17718,     0.17818,     0.17918,     0.18018,     0.18118,     0.18218,     0.18318,     0.18418,     0.18519,     0.18619,     0.18719,     0.18819,     0.18919,     0.19019,     0.19119,\n",
      "           0.19219,     0.19319,     0.19419,      0.1952,      0.1962,      0.1972,      0.1982,      0.1992,      0.2002,      0.2012,      0.2022,      0.2032,      0.2042,     0.20521,     0.20621,     0.20721,     0.20821,     0.20921,     0.21021,     0.21121,     0.21221,     0.21321,     0.21421,     0.21522,\n",
      "           0.21622,     0.21722,     0.21822,     0.21922,     0.22022,     0.22122,     0.22222,     0.22322,     0.22422,     0.22523,     0.22623,     0.22723,     0.22823,     0.22923,     0.23023,     0.23123,     0.23223,     0.23323,     0.23423,     0.23524,     0.23624,     0.23724,     0.23824,     0.23924,\n",
      "           0.24024,     0.24124,     0.24224,     0.24324,     0.24424,     0.24525,     0.24625,     0.24725,     0.24825,     0.24925,     0.25025,     0.25125,     0.25225,     0.25325,     0.25425,     0.25526,     0.25626,     0.25726,     0.25826,     0.25926,     0.26026,     0.26126,     0.26226,     0.26326,\n",
      "           0.26426,     0.26527,     0.26627,     0.26727,     0.26827,     0.26927,     0.27027,     0.27127,     0.27227,     0.27327,     0.27427,     0.27528,     0.27628,     0.27728,     0.27828,     0.27928,     0.28028,     0.28128,     0.28228,     0.28328,     0.28428,     0.28529,     0.28629,     0.28729,\n",
      "           0.28829,     0.28929,     0.29029,     0.29129,     0.29229,     0.29329,     0.29429,      0.2953,      0.2963,      0.2973,      0.2983,      0.2993,      0.3003,      0.3013,      0.3023,      0.3033,      0.3043,     0.30531,     0.30631,     0.30731,     0.30831,     0.30931,     0.31031,     0.31131,\n",
      "           0.31231,     0.31331,     0.31431,     0.31532,     0.31632,     0.31732,     0.31832,     0.31932,     0.32032,     0.32132,     0.32232,     0.32332,     0.32432,     0.32533,     0.32633,     0.32733,     0.32833,     0.32933,     0.33033,     0.33133,     0.33233,     0.33333,     0.33433,     0.33534,\n",
      "           0.33634,     0.33734,     0.33834,     0.33934,     0.34034,     0.34134,     0.34234,     0.34334,     0.34434,     0.34535,     0.34635,     0.34735,     0.34835,     0.34935,     0.35035,     0.35135,     0.35235,     0.35335,     0.35435,     0.35536,     0.35636,     0.35736,     0.35836,     0.35936,\n",
      "           0.36036,     0.36136,     0.36236,     0.36336,     0.36436,     0.36537,     0.36637,     0.36737,     0.36837,     0.36937,     0.37037,     0.37137,     0.37237,     0.37337,     0.37437,     0.37538,     0.37638,     0.37738,     0.37838,     0.37938,     0.38038,     0.38138,     0.38238,     0.38338,\n",
      "           0.38438,     0.38539,     0.38639,     0.38739,     0.38839,     0.38939,     0.39039,     0.39139,     0.39239,     0.39339,     0.39439,      0.3954,      0.3964,      0.3974,      0.3984,      0.3994,      0.4004,      0.4014,      0.4024,      0.4034,      0.4044,     0.40541,     0.40641,     0.40741,\n",
      "           0.40841,     0.40941,     0.41041,     0.41141,     0.41241,     0.41341,     0.41441,     0.41542,     0.41642,     0.41742,     0.41842,     0.41942,     0.42042,     0.42142,     0.42242,     0.42342,     0.42442,     0.42543,     0.42643,     0.42743,     0.42843,     0.42943,     0.43043,     0.43143,\n",
      "           0.43243,     0.43343,     0.43443,     0.43544,     0.43644,     0.43744,     0.43844,     0.43944,     0.44044,     0.44144,     0.44244,     0.44344,     0.44444,     0.44545,     0.44645,     0.44745,     0.44845,     0.44945,     0.45045,     0.45145,     0.45245,     0.45345,     0.45445,     0.45546,\n",
      "           0.45646,     0.45746,     0.45846,     0.45946,     0.46046,     0.46146,     0.46246,     0.46346,     0.46446,     0.46547,     0.46647,     0.46747,     0.46847,     0.46947,     0.47047,     0.47147,     0.47247,     0.47347,     0.47447,     0.47548,     0.47648,     0.47748,     0.47848,     0.47948,\n",
      "           0.48048,     0.48148,     0.48248,     0.48348,     0.48448,     0.48549,     0.48649,     0.48749,     0.48849,     0.48949,     0.49049,     0.49149,     0.49249,     0.49349,     0.49449,      0.4955,      0.4965,      0.4975,      0.4985,      0.4995,      0.5005,      0.5015,      0.5025,      0.5035,\n",
      "            0.5045,     0.50551,     0.50651,     0.50751,     0.50851,     0.50951,     0.51051,     0.51151,     0.51251,     0.51351,     0.51451,     0.51552,     0.51652,     0.51752,     0.51852,     0.51952,     0.52052,     0.52152,     0.52252,     0.52352,     0.52452,     0.52553,     0.52653,     0.52753,\n",
      "           0.52853,     0.52953,     0.53053,     0.53153,     0.53253,     0.53353,     0.53453,     0.53554,     0.53654,     0.53754,     0.53854,     0.53954,     0.54054,     0.54154,     0.54254,     0.54354,     0.54454,     0.54555,     0.54655,     0.54755,     0.54855,     0.54955,     0.55055,     0.55155,\n",
      "           0.55255,     0.55355,     0.55455,     0.55556,     0.55656,     0.55756,     0.55856,     0.55956,     0.56056,     0.56156,     0.56256,     0.56356,     0.56456,     0.56557,     0.56657,     0.56757,     0.56857,     0.56957,     0.57057,     0.57157,     0.57257,     0.57357,     0.57457,     0.57558,\n",
      "           0.57658,     0.57758,     0.57858,     0.57958,     0.58058,     0.58158,     0.58258,     0.58358,     0.58458,     0.58559,     0.58659,     0.58759,     0.58859,     0.58959,     0.59059,     0.59159,     0.59259,     0.59359,     0.59459,      0.5956,      0.5966,      0.5976,      0.5986,      0.5996,\n",
      "            0.6006,      0.6016,      0.6026,      0.6036,      0.6046,     0.60561,     0.60661,     0.60761,     0.60861,     0.60961,     0.61061,     0.61161,     0.61261,     0.61361,     0.61461,     0.61562,     0.61662,     0.61762,     0.61862,     0.61962,     0.62062,     0.62162,     0.62262,     0.62362,\n",
      "           0.62462,     0.62563,     0.62663,     0.62763,     0.62863,     0.62963,     0.63063,     0.63163,     0.63263,     0.63363,     0.63463,     0.63564,     0.63664,     0.63764,     0.63864,     0.63964,     0.64064,     0.64164,     0.64264,     0.64364,     0.64464,     0.64565,     0.64665,     0.64765,\n",
      "           0.64865,     0.64965,     0.65065,     0.65165,     0.65265,     0.65365,     0.65465,     0.65566,     0.65666,     0.65766,     0.65866,     0.65966,     0.66066,     0.66166,     0.66266,     0.66366,     0.66466,     0.66567,     0.66667,     0.66767,     0.66867,     0.66967,     0.67067,     0.67167,\n",
      "           0.67267,     0.67367,     0.67467,     0.67568,     0.67668,     0.67768,     0.67868,     0.67968,     0.68068,     0.68168,     0.68268,     0.68368,     0.68468,     0.68569,     0.68669,     0.68769,     0.68869,     0.68969,     0.69069,     0.69169,     0.69269,     0.69369,     0.69469,      0.6957,\n",
      "            0.6967,      0.6977,      0.6987,      0.6997,      0.7007,      0.7017,      0.7027,      0.7037,      0.7047,     0.70571,     0.70671,     0.70771,     0.70871,     0.70971,     0.71071,     0.71171,     0.71271,     0.71371,     0.71471,     0.71572,     0.71672,     0.71772,     0.71872,     0.71972,\n",
      "           0.72072,     0.72172,     0.72272,     0.72372,     0.72472,     0.72573,     0.72673,     0.72773,     0.72873,     0.72973,     0.73073,     0.73173,     0.73273,     0.73373,     0.73473,     0.73574,     0.73674,     0.73774,     0.73874,     0.73974,     0.74074,     0.74174,     0.74274,     0.74374,\n",
      "           0.74474,     0.74575,     0.74675,     0.74775,     0.74875,     0.74975,     0.75075,     0.75175,     0.75275,     0.75375,     0.75475,     0.75576,     0.75676,     0.75776,     0.75876,     0.75976,     0.76076,     0.76176,     0.76276,     0.76376,     0.76476,     0.76577,     0.76677,     0.76777,\n",
      "           0.76877,     0.76977,     0.77077,     0.77177,     0.77277,     0.77377,     0.77477,     0.77578,     0.77678,     0.77778,     0.77878,     0.77978,     0.78078,     0.78178,     0.78278,     0.78378,     0.78478,     0.78579,     0.78679,     0.78779,     0.78879,     0.78979,     0.79079,     0.79179,\n",
      "           0.79279,     0.79379,     0.79479,      0.7958,      0.7968,      0.7978,      0.7988,      0.7998,      0.8008,      0.8018,      0.8028,      0.8038,      0.8048,     0.80581,     0.80681,     0.80781,     0.80881,     0.80981,     0.81081,     0.81181,     0.81281,     0.81381,     0.81481,     0.81582,\n",
      "           0.81682,     0.81782,     0.81882,     0.81982,     0.82082,     0.82182,     0.82282,     0.82382,     0.82482,     0.82583,     0.82683,     0.82783,     0.82883,     0.82983,     0.83083,     0.83183,     0.83283,     0.83383,     0.83483,     0.83584,     0.83684,     0.83784,     0.83884,     0.83984,\n",
      "           0.84084,     0.84184,     0.84284,     0.84384,     0.84484,     0.84585,     0.84685,     0.84785,     0.84885,     0.84985,     0.85085,     0.85185,     0.85285,     0.85385,     0.85485,     0.85586,     0.85686,     0.85786,     0.85886,     0.85986,     0.86086,     0.86186,     0.86286,     0.86386,\n",
      "           0.86486,     0.86587,     0.86687,     0.86787,     0.86887,     0.86987,     0.87087,     0.87187,     0.87287,     0.87387,     0.87487,     0.87588,     0.87688,     0.87788,     0.87888,     0.87988,     0.88088,     0.88188,     0.88288,     0.88388,     0.88488,     0.88589,     0.88689,     0.88789,\n",
      "           0.88889,     0.88989,     0.89089,     0.89189,     0.89289,     0.89389,     0.89489,      0.8959,      0.8969,      0.8979,      0.8989,      0.8999,      0.9009,      0.9019,      0.9029,      0.9039,      0.9049,     0.90591,     0.90691,     0.90791,     0.90891,     0.90991,     0.91091,     0.91191,\n",
      "           0.91291,     0.91391,     0.91491,     0.91592,     0.91692,     0.91792,     0.91892,     0.91992,     0.92092,     0.92192,     0.92292,     0.92392,     0.92492,     0.92593,     0.92693,     0.92793,     0.92893,     0.92993,     0.93093,     0.93193,     0.93293,     0.93393,     0.93493,     0.93594,\n",
      "           0.93694,     0.93794,     0.93894,     0.93994,     0.94094,     0.94194,     0.94294,     0.94394,     0.94494,     0.94595,     0.94695,     0.94795,     0.94895,     0.94995,     0.95095,     0.95195,     0.95295,     0.95395,     0.95495,     0.95596,     0.95696,     0.95796,     0.95896,     0.95996,\n",
      "           0.96096,     0.96196,     0.96296,     0.96396,     0.96496,     0.96597,     0.96697,     0.96797,     0.96897,     0.96997,     0.97097,     0.97197,     0.97297,     0.97397,     0.97497,     0.97598,     0.97698,     0.97798,     0.97898,     0.97998,     0.98098,     0.98198,     0.98298,     0.98398,\n",
      "           0.98498,     0.98599,     0.98699,     0.98799,     0.98899,     0.98999,     0.99099,     0.99199,     0.99299,     0.99399,     0.99499,       0.996,       0.997,       0.998,       0.999,           1]), array([[          1,           1,           1,           1,           1,           1,           1,           1,           1,           1,           1,           1,           1,           1,           1,           1,           1,           1,           1,           1,           1,           1,           1,\n",
      "                  1,           1,           1,           1,           1,           1,           1,           1,           1,           1,           1,           1,           1,           1,           1,           1,           1,           1,           1,           1,           1,           1,           1,\n",
      "                  1,           1,           1,           1,           1,           1,           1,           1,           1,           1,           1,           1,           1,           1,           1,           1,           1,           1,           1,           1,           1,           1,           1,\n",
      "                  1,           1,           1,           1,           1,           1,           1,           1,           1,           1,           1,           1,           1,           1,           1,           1,           1,           1,           1,           1,           1,           1,           1,\n",
      "                  1,           1,           1,           1,           1,           1,           1,           1,           1,           1,           1,           1,           1,           1,           1,           1,           1,           1,           1,           1,           1,           1,           1,\n",
      "                  1,           1,           1,           1,           1,           1,           1,           1,           1,           1,           1,           1,           1,           1,           1,           1,           1,           1,           1,           1,           1,           1,           1,\n",
      "                  1,           1,           1,           1,           1,           1,           1,           1,           1,           1,           1,           1,           1,           1,           1,           1,           1,           1,           1,           1,           1,           1,           1,\n",
      "                  1,           1,           1,           1,           1,           1,           1,           1,           1,           1,           1,           1,           1,           1,           1,           1,           1,           1,           1,           1,           1,           1,           1,\n",
      "                  1,           1,           1,           1,           1,           1,           1,           1,           1,           1,           1,           1,           1,           1,           1,           1,           1,           1,           1,           1,           1,           1,           1,\n",
      "                  1,           1,           1,           1,           1,           1,           1,           1,           1,           1,           1,           1,           1,           1,           1,           1,           1,           1,           1,           1,           1,           1,           1,\n",
      "                  1,           1,           1,           1,           1,           1,           1,           1,           1,           1,           1,           1,           1,           1,           1,           1,           1,           1,           1,           1,           1,           1,           1,\n",
      "                  1,           1,           1,           1,           1,           1,           1,           1,           1,           1,           1,           1,           1,           1,           1,           1,           1,           1,           1,           1,           1,           1,           1,\n",
      "                  1,           1,           1,           1,           1,           1,           1,           1,           1,           1,           1,           1,           1,           1,           1,           1,           1,           1,           1,           1,           1,           1,           1,\n",
      "                  1,           1,           1,           1,           1,           1,           1,           1,           1,           1,           1,           1,           1,           1,           1,           1,           1,           1,           1,           1,           1,           1,           1,\n",
      "                  1,           1,           1,           1,           1,           1,           1,           1,           1,           1,           1,           1,           1,           1,           1,           1,           1,           1,           1,           1,           1,           1,           1,\n",
      "                  1,           1,           1,           1,           1,           1,           1,           1,           1,           1,           1,           1,           1,           1,           1,           1,           1,           1,           1,           1,           1,           1,           1,\n",
      "                  1,           1,           1,           1,           1,           1,           1,           1,           1,           1,           1,           1,           1,           1,           1,           1,           1,           1,           1,           1,           1,           1,           1,\n",
      "                  1,           1,           1,           1,           1,           1,           1,           1,           1,           1,           1,           1,           1,           1,           1,           1,           1,           1,           1,           1,           1,           1,           1,\n",
      "                  1,           1,           1,           1,           1,           1,           1,           1,           1,           1,           1,           1,           1,           1,           1,           1,           1,           1,           1,           1,           1,           1,           1,\n",
      "                  1,           1,           1,           1,           1,           1,           1,           1,           1,           1,           1,           1,           1,           1,           1,           1,           1,           1,           1,           1,           1,           1,           1,\n",
      "                  1,           1,           1,           1,           1,           1,           1,           1,           1,           1,           1,           1,           1,           1,           1,           1,           1,           1,           1,           1,           1,           1,           1,\n",
      "                  1,           1,           1,           1,           1,           1,           1,           1,           1,           1,           1,           1,           1,           1,           1,           1,           1,           1,           1,           1,           1,           1,           1,\n",
      "                  1,           1,           1,           1,           1,           1,           1,           1,           1,           1,           1,           1,           1,           1,           1,           1,           1,           1,           1,           1,           1,           1,           1,\n",
      "                  1,           1,           1,           1,           1,           1,           1,           1,           1,           1,           1,           1,           1,           1,           1,           1,           1,           1,           1,           1,           1,           1,           1,\n",
      "                  1,           1,           1,           1,           1,           1,           1,           1,           1,           1,           1,           1,           1,           1,           1,           1,           1,           1,           1,           1,           1,           1,           1,\n",
      "                  1,           1,           1,           1,           1,           1,           1,           1,           1,           1,           1,           1,           1,           1,           1,           1,           1,           1,           1,           1,           1,           1,           1,\n",
      "                  1,           1,           1,           1,           1,           1,           1,           1,           1,           1,           1,           1,           1,           1,           1,           1,           1,           1,           1,           1,           1,           1,           1,\n",
      "                  1,           1,           1,           1,           1,           1,           1,           1,           1,           1,           1,           1,           1,           1,           1,           1,           1,           1,           1,           1,           1,           1,           1,\n",
      "                  1,           1,           1,           1,           1,           1,           1,           1,           1,           1,           1,           1,           1,           1,           1,           1,           1,           1,           1,           1,           1,           1,           1,\n",
      "                  1,           1,           1,           1,           1,           1,           1,           1,           1,           1,           1,           1,           1,           1,           1,           1,           1,           1,           1,           1,           1,           1,     0.99375,\n",
      "            0.99375,     0.99375,     0.99375,     0.99375,     0.99375,     0.99375,     0.99375,     0.99375,     0.99375,     0.99375,     0.99375,     0.99375,     0.99375,     0.99375,     0.99375,     0.99375,     0.99375,     0.99375,     0.99375,     0.99375,     0.99375,     0.99375,     0.99375,\n",
      "            0.99375,     0.99375,     0.99375,     0.99375,     0.99375,     0.99375,     0.99375,     0.99375,     0.99375,     0.99375,     0.99375,     0.99375,     0.99375,     0.99375,     0.99375,     0.99375,     0.99375,     0.99375,     0.99375,     0.99375,     0.99375,     0.99375,     0.99375,\n",
      "            0.99375,     0.99375,     0.99375,     0.99375,     0.99375,     0.99375,     0.99375,     0.99375,     0.99375,     0.99375,     0.99375,     0.99375,     0.99375,     0.99375,     0.99375,     0.99375,     0.99375,     0.99375,     0.99375,     0.99375,     0.99375,     0.99375,     0.99375,\n",
      "            0.99375,     0.99375,     0.99375,     0.99375,     0.99375,     0.99375,     0.99375,     0.99375,     0.99375,     0.99375,     0.99375,     0.99375,     0.99375,     0.99375,     0.99375,     0.99375,     0.99375,     0.99375,     0.99375,     0.99375,     0.99375,     0.99375,     0.99375,\n",
      "            0.99375,     0.99375,     0.99375,     0.99375,     0.99375,     0.99375,     0.99375,     0.99375,     0.99375,     0.99375,     0.99375,     0.99375,     0.99375,     0.99375,     0.99375,     0.99375,     0.99375,     0.99375,     0.99375,     0.99375,     0.99375,     0.99375,     0.99375,\n",
      "            0.99375,     0.99375,     0.99375,     0.99375,     0.99375,     0.99375,     0.99375,     0.99375,     0.99375,     0.99375,     0.99375,     0.99375,     0.99375,     0.99375,     0.99375,     0.99375,     0.99375,     0.99375,     0.99375,     0.99375,     0.99375,     0.99375,     0.99375,\n",
      "            0.99375,     0.99375,     0.99375,     0.99375,     0.99375,     0.99375,     0.99375,     0.99375,     0.99375,     0.99375,     0.99375,     0.99375,     0.99375,     0.99375,     0.99375,     0.99375,     0.99375,     0.99375,     0.99375,     0.99375,     0.99375,     0.99375,     0.99375,\n",
      "            0.99375,     0.99375,     0.99375,     0.99375,     0.99375,     0.99375,     0.99375,     0.99375,     0.99375,     0.99375,     0.99375,     0.99375,     0.99375,     0.99375,     0.99375,     0.99375,     0.99375,     0.99375,     0.99375,     0.99375,     0.99375,     0.99375,     0.99375,\n",
      "            0.99375,     0.99375,     0.99375,     0.99375,     0.99375,     0.99375,     0.99375,     0.99375,     0.99375,     0.98817,     0.98817,     0.98817,     0.98817,     0.98817,     0.98817,     0.98817,     0.98817,     0.98817,     0.98817,     0.98817,     0.98817,     0.98817,     0.98817,\n",
      "            0.98817,     0.98817,     0.98817,     0.98817,     0.98817,     0.98817,     0.98817,     0.98817,     0.98817,     0.98817,     0.98817,     0.98817,     0.98817,     0.98817,     0.98817,     0.98817,     0.98817,     0.98817,     0.98817,     0.98817,     0.98817,     0.98817,     0.98817,\n",
      "            0.98817,     0.98817,     0.98817,     0.98817,     0.98817,     0.98817,     0.98817,     0.98266,     0.98266,     0.98266,     0.98266,     0.98266,     0.98266,     0.98266,     0.98266,     0.98266,     0.98266,     0.98266,     0.98266,     0.98266,     0.98266,     0.98266,     0.98266,\n",
      "            0.98266,     0.97727,     0.97727,     0.97727,     0.97727,     0.97727,     0.97727,     0.97727,     0.97727,     0.97727,     0.97727,     0.97727,     0.97191,     0.97191,     0.97191,     0.97191,     0.97191,     0.97191,     0.96667,     0.96667,     0.96667,     0.96667,     0.96667,\n",
      "            0.92593,     0.92593,     0.92593,     0.92593,     0.92593,     0.92593,       0.867,       0.867,       0.867,       0.867,       0.867,     0.86341,     0.86341,     0.86341,     0.86341,     0.86341,     0.86341,     0.84762,     0.84762,     0.84762,     0.84762,     0.84762,     0.82488,\n",
      "            0.82488,     0.82488,     0.82488,     0.82488,     0.82488,     0.77922,     0.77922,     0.77922,     0.77922,     0.77922,           0]]), 'Recall', 'Precision'], [array([          0,    0.001001,    0.002002,    0.003003,    0.004004,    0.005005,    0.006006,    0.007007,    0.008008,    0.009009,     0.01001,    0.011011,    0.012012,    0.013013,    0.014014,    0.015015,    0.016016,    0.017017,    0.018018,    0.019019,     0.02002,    0.021021,    0.022022,    0.023023,\n",
      "          0.024024,    0.025025,    0.026026,    0.027027,    0.028028,    0.029029,     0.03003,    0.031031,    0.032032,    0.033033,    0.034034,    0.035035,    0.036036,    0.037037,    0.038038,    0.039039,     0.04004,    0.041041,    0.042042,    0.043043,    0.044044,    0.045045,    0.046046,    0.047047,\n",
      "          0.048048,    0.049049,     0.05005,    0.051051,    0.052052,    0.053053,    0.054054,    0.055055,    0.056056,    0.057057,    0.058058,    0.059059,     0.06006,    0.061061,    0.062062,    0.063063,    0.064064,    0.065065,    0.066066,    0.067067,    0.068068,    0.069069,     0.07007,    0.071071,\n",
      "          0.072072,    0.073073,    0.074074,    0.075075,    0.076076,    0.077077,    0.078078,    0.079079,     0.08008,    0.081081,    0.082082,    0.083083,    0.084084,    0.085085,    0.086086,    0.087087,    0.088088,    0.089089,     0.09009,    0.091091,    0.092092,    0.093093,    0.094094,    0.095095,\n",
      "          0.096096,    0.097097,    0.098098,    0.099099,      0.1001,      0.1011,      0.1021,      0.1031,      0.1041,     0.10511,     0.10611,     0.10711,     0.10811,     0.10911,     0.11011,     0.11111,     0.11211,     0.11311,     0.11411,     0.11512,     0.11612,     0.11712,     0.11812,     0.11912,\n",
      "           0.12012,     0.12112,     0.12212,     0.12312,     0.12412,     0.12513,     0.12613,     0.12713,     0.12813,     0.12913,     0.13013,     0.13113,     0.13213,     0.13313,     0.13413,     0.13514,     0.13614,     0.13714,     0.13814,     0.13914,     0.14014,     0.14114,     0.14214,     0.14314,\n",
      "           0.14414,     0.14515,     0.14615,     0.14715,     0.14815,     0.14915,     0.15015,     0.15115,     0.15215,     0.15315,     0.15415,     0.15516,     0.15616,     0.15716,     0.15816,     0.15916,     0.16016,     0.16116,     0.16216,     0.16316,     0.16416,     0.16517,     0.16617,     0.16717,\n",
      "           0.16817,     0.16917,     0.17017,     0.17117,     0.17217,     0.17317,     0.17417,     0.17518,     0.17618,     0.17718,     0.17818,     0.17918,     0.18018,     0.18118,     0.18218,     0.18318,     0.18418,     0.18519,     0.18619,     0.18719,     0.18819,     0.18919,     0.19019,     0.19119,\n",
      "           0.19219,     0.19319,     0.19419,      0.1952,      0.1962,      0.1972,      0.1982,      0.1992,      0.2002,      0.2012,      0.2022,      0.2032,      0.2042,     0.20521,     0.20621,     0.20721,     0.20821,     0.20921,     0.21021,     0.21121,     0.21221,     0.21321,     0.21421,     0.21522,\n",
      "           0.21622,     0.21722,     0.21822,     0.21922,     0.22022,     0.22122,     0.22222,     0.22322,     0.22422,     0.22523,     0.22623,     0.22723,     0.22823,     0.22923,     0.23023,     0.23123,     0.23223,     0.23323,     0.23423,     0.23524,     0.23624,     0.23724,     0.23824,     0.23924,\n",
      "           0.24024,     0.24124,     0.24224,     0.24324,     0.24424,     0.24525,     0.24625,     0.24725,     0.24825,     0.24925,     0.25025,     0.25125,     0.25225,     0.25325,     0.25425,     0.25526,     0.25626,     0.25726,     0.25826,     0.25926,     0.26026,     0.26126,     0.26226,     0.26326,\n",
      "           0.26426,     0.26527,     0.26627,     0.26727,     0.26827,     0.26927,     0.27027,     0.27127,     0.27227,     0.27327,     0.27427,     0.27528,     0.27628,     0.27728,     0.27828,     0.27928,     0.28028,     0.28128,     0.28228,     0.28328,     0.28428,     0.28529,     0.28629,     0.28729,\n",
      "           0.28829,     0.28929,     0.29029,     0.29129,     0.29229,     0.29329,     0.29429,      0.2953,      0.2963,      0.2973,      0.2983,      0.2993,      0.3003,      0.3013,      0.3023,      0.3033,      0.3043,     0.30531,     0.30631,     0.30731,     0.30831,     0.30931,     0.31031,     0.31131,\n",
      "           0.31231,     0.31331,     0.31431,     0.31532,     0.31632,     0.31732,     0.31832,     0.31932,     0.32032,     0.32132,     0.32232,     0.32332,     0.32432,     0.32533,     0.32633,     0.32733,     0.32833,     0.32933,     0.33033,     0.33133,     0.33233,     0.33333,     0.33433,     0.33534,\n",
      "           0.33634,     0.33734,     0.33834,     0.33934,     0.34034,     0.34134,     0.34234,     0.34334,     0.34434,     0.34535,     0.34635,     0.34735,     0.34835,     0.34935,     0.35035,     0.35135,     0.35235,     0.35335,     0.35435,     0.35536,     0.35636,     0.35736,     0.35836,     0.35936,\n",
      "           0.36036,     0.36136,     0.36236,     0.36336,     0.36436,     0.36537,     0.36637,     0.36737,     0.36837,     0.36937,     0.37037,     0.37137,     0.37237,     0.37337,     0.37437,     0.37538,     0.37638,     0.37738,     0.37838,     0.37938,     0.38038,     0.38138,     0.38238,     0.38338,\n",
      "           0.38438,     0.38539,     0.38639,     0.38739,     0.38839,     0.38939,     0.39039,     0.39139,     0.39239,     0.39339,     0.39439,      0.3954,      0.3964,      0.3974,      0.3984,      0.3994,      0.4004,      0.4014,      0.4024,      0.4034,      0.4044,     0.40541,     0.40641,     0.40741,\n",
      "           0.40841,     0.40941,     0.41041,     0.41141,     0.41241,     0.41341,     0.41441,     0.41542,     0.41642,     0.41742,     0.41842,     0.41942,     0.42042,     0.42142,     0.42242,     0.42342,     0.42442,     0.42543,     0.42643,     0.42743,     0.42843,     0.42943,     0.43043,     0.43143,\n",
      "           0.43243,     0.43343,     0.43443,     0.43544,     0.43644,     0.43744,     0.43844,     0.43944,     0.44044,     0.44144,     0.44244,     0.44344,     0.44444,     0.44545,     0.44645,     0.44745,     0.44845,     0.44945,     0.45045,     0.45145,     0.45245,     0.45345,     0.45445,     0.45546,\n",
      "           0.45646,     0.45746,     0.45846,     0.45946,     0.46046,     0.46146,     0.46246,     0.46346,     0.46446,     0.46547,     0.46647,     0.46747,     0.46847,     0.46947,     0.47047,     0.47147,     0.47247,     0.47347,     0.47447,     0.47548,     0.47648,     0.47748,     0.47848,     0.47948,\n",
      "           0.48048,     0.48148,     0.48248,     0.48348,     0.48448,     0.48549,     0.48649,     0.48749,     0.48849,     0.48949,     0.49049,     0.49149,     0.49249,     0.49349,     0.49449,      0.4955,      0.4965,      0.4975,      0.4985,      0.4995,      0.5005,      0.5015,      0.5025,      0.5035,\n",
      "            0.5045,     0.50551,     0.50651,     0.50751,     0.50851,     0.50951,     0.51051,     0.51151,     0.51251,     0.51351,     0.51451,     0.51552,     0.51652,     0.51752,     0.51852,     0.51952,     0.52052,     0.52152,     0.52252,     0.52352,     0.52452,     0.52553,     0.52653,     0.52753,\n",
      "           0.52853,     0.52953,     0.53053,     0.53153,     0.53253,     0.53353,     0.53453,     0.53554,     0.53654,     0.53754,     0.53854,     0.53954,     0.54054,     0.54154,     0.54254,     0.54354,     0.54454,     0.54555,     0.54655,     0.54755,     0.54855,     0.54955,     0.55055,     0.55155,\n",
      "           0.55255,     0.55355,     0.55455,     0.55556,     0.55656,     0.55756,     0.55856,     0.55956,     0.56056,     0.56156,     0.56256,     0.56356,     0.56456,     0.56557,     0.56657,     0.56757,     0.56857,     0.56957,     0.57057,     0.57157,     0.57257,     0.57357,     0.57457,     0.57558,\n",
      "           0.57658,     0.57758,     0.57858,     0.57958,     0.58058,     0.58158,     0.58258,     0.58358,     0.58458,     0.58559,     0.58659,     0.58759,     0.58859,     0.58959,     0.59059,     0.59159,     0.59259,     0.59359,     0.59459,      0.5956,      0.5966,      0.5976,      0.5986,      0.5996,\n",
      "            0.6006,      0.6016,      0.6026,      0.6036,      0.6046,     0.60561,     0.60661,     0.60761,     0.60861,     0.60961,     0.61061,     0.61161,     0.61261,     0.61361,     0.61461,     0.61562,     0.61662,     0.61762,     0.61862,     0.61962,     0.62062,     0.62162,     0.62262,     0.62362,\n",
      "           0.62462,     0.62563,     0.62663,     0.62763,     0.62863,     0.62963,     0.63063,     0.63163,     0.63263,     0.63363,     0.63463,     0.63564,     0.63664,     0.63764,     0.63864,     0.63964,     0.64064,     0.64164,     0.64264,     0.64364,     0.64464,     0.64565,     0.64665,     0.64765,\n",
      "           0.64865,     0.64965,     0.65065,     0.65165,     0.65265,     0.65365,     0.65465,     0.65566,     0.65666,     0.65766,     0.65866,     0.65966,     0.66066,     0.66166,     0.66266,     0.66366,     0.66466,     0.66567,     0.66667,     0.66767,     0.66867,     0.66967,     0.67067,     0.67167,\n",
      "           0.67267,     0.67367,     0.67467,     0.67568,     0.67668,     0.67768,     0.67868,     0.67968,     0.68068,     0.68168,     0.68268,     0.68368,     0.68468,     0.68569,     0.68669,     0.68769,     0.68869,     0.68969,     0.69069,     0.69169,     0.69269,     0.69369,     0.69469,      0.6957,\n",
      "            0.6967,      0.6977,      0.6987,      0.6997,      0.7007,      0.7017,      0.7027,      0.7037,      0.7047,     0.70571,     0.70671,     0.70771,     0.70871,     0.70971,     0.71071,     0.71171,     0.71271,     0.71371,     0.71471,     0.71572,     0.71672,     0.71772,     0.71872,     0.71972,\n",
      "           0.72072,     0.72172,     0.72272,     0.72372,     0.72472,     0.72573,     0.72673,     0.72773,     0.72873,     0.72973,     0.73073,     0.73173,     0.73273,     0.73373,     0.73473,     0.73574,     0.73674,     0.73774,     0.73874,     0.73974,     0.74074,     0.74174,     0.74274,     0.74374,\n",
      "           0.74474,     0.74575,     0.74675,     0.74775,     0.74875,     0.74975,     0.75075,     0.75175,     0.75275,     0.75375,     0.75475,     0.75576,     0.75676,     0.75776,     0.75876,     0.75976,     0.76076,     0.76176,     0.76276,     0.76376,     0.76476,     0.76577,     0.76677,     0.76777,\n",
      "           0.76877,     0.76977,     0.77077,     0.77177,     0.77277,     0.77377,     0.77477,     0.77578,     0.77678,     0.77778,     0.77878,     0.77978,     0.78078,     0.78178,     0.78278,     0.78378,     0.78478,     0.78579,     0.78679,     0.78779,     0.78879,     0.78979,     0.79079,     0.79179,\n",
      "           0.79279,     0.79379,     0.79479,      0.7958,      0.7968,      0.7978,      0.7988,      0.7998,      0.8008,      0.8018,      0.8028,      0.8038,      0.8048,     0.80581,     0.80681,     0.80781,     0.80881,     0.80981,     0.81081,     0.81181,     0.81281,     0.81381,     0.81481,     0.81582,\n",
      "           0.81682,     0.81782,     0.81882,     0.81982,     0.82082,     0.82182,     0.82282,     0.82382,     0.82482,     0.82583,     0.82683,     0.82783,     0.82883,     0.82983,     0.83083,     0.83183,     0.83283,     0.83383,     0.83483,     0.83584,     0.83684,     0.83784,     0.83884,     0.83984,\n",
      "           0.84084,     0.84184,     0.84284,     0.84384,     0.84484,     0.84585,     0.84685,     0.84785,     0.84885,     0.84985,     0.85085,     0.85185,     0.85285,     0.85385,     0.85485,     0.85586,     0.85686,     0.85786,     0.85886,     0.85986,     0.86086,     0.86186,     0.86286,     0.86386,\n",
      "           0.86486,     0.86587,     0.86687,     0.86787,     0.86887,     0.86987,     0.87087,     0.87187,     0.87287,     0.87387,     0.87487,     0.87588,     0.87688,     0.87788,     0.87888,     0.87988,     0.88088,     0.88188,     0.88288,     0.88388,     0.88488,     0.88589,     0.88689,     0.88789,\n",
      "           0.88889,     0.88989,     0.89089,     0.89189,     0.89289,     0.89389,     0.89489,      0.8959,      0.8969,      0.8979,      0.8989,      0.8999,      0.9009,      0.9019,      0.9029,      0.9039,      0.9049,     0.90591,     0.90691,     0.90791,     0.90891,     0.90991,     0.91091,     0.91191,\n",
      "           0.91291,     0.91391,     0.91491,     0.91592,     0.91692,     0.91792,     0.91892,     0.91992,     0.92092,     0.92192,     0.92292,     0.92392,     0.92492,     0.92593,     0.92693,     0.92793,     0.92893,     0.92993,     0.93093,     0.93193,     0.93293,     0.93393,     0.93493,     0.93594,\n",
      "           0.93694,     0.93794,     0.93894,     0.93994,     0.94094,     0.94194,     0.94294,     0.94394,     0.94494,     0.94595,     0.94695,     0.94795,     0.94895,     0.94995,     0.95095,     0.95195,     0.95295,     0.95395,     0.95495,     0.95596,     0.95696,     0.95796,     0.95896,     0.95996,\n",
      "           0.96096,     0.96196,     0.96296,     0.96396,     0.96496,     0.96597,     0.96697,     0.96797,     0.96897,     0.96997,     0.97097,     0.97197,     0.97297,     0.97397,     0.97497,     0.97598,     0.97698,     0.97798,     0.97898,     0.97998,     0.98098,     0.98198,     0.98298,     0.98398,\n",
      "           0.98498,     0.98599,     0.98699,     0.98799,     0.98899,     0.98999,     0.99099,     0.99199,     0.99299,     0.99399,     0.99499,       0.996,       0.997,       0.998,       0.999,           1]), array([[    0.35644,     0.35644,      0.4871,     0.55134,     0.60031,     0.63021,     0.65577,     0.67814,     0.69076,     0.71459,       0.729,     0.74637,     0.76229,     0.77102,       0.779,     0.78747,     0.79419,     0.79786,     0.80103,     0.80545,     0.81401,     0.81781,     0.82002,\n",
      "            0.83012,     0.83405,      0.8373,     0.84191,     0.84302,     0.84918,     0.85056,     0.85222,     0.85569,     0.85803,     0.86004,     0.86186,     0.86969,     0.87074,     0.87244,     0.87504,     0.87355,     0.87566,      0.8769,     0.87872,     0.88084,     0.88229,     0.88326,\n",
      "            0.88624,     0.88693,     0.88762,     0.88832,     0.88903,     0.88974,     0.89046,     0.89217,     0.89316,     0.89375,     0.89433,     0.89491,     0.89759,     0.89848,     0.89937,     0.89974,     0.90083,     0.90273,     0.90601,     0.90735,     0.90834,     0.90881,     0.90928,\n",
      "            0.90974,     0.91021,     0.91276,     0.91252,     0.91227,     0.91202,     0.91178,     0.91153,     0.91128,     0.91104,     0.91079,     0.91054,      0.9103,     0.91005,     0.91023,     0.91046,     0.91069,     0.91092,     0.91115,     0.91138,     0.91161,     0.91184,     0.91207,\n",
      "             0.9123,     0.91273,     0.91325,     0.91377,     0.91429,     0.91476,     0.91498,     0.91519,     0.91541,     0.91563,     0.91584,     0.91606,     0.91627,     0.91649,      0.9167,     0.91692,     0.91714,     0.91739,     0.91764,     0.91789,     0.91815,      0.9184,     0.91865,\n",
      "             0.9189,     0.91915,      0.9194,     0.91925,      0.9189,     0.91855,      0.9182,     0.91785,      0.9175,     0.91715,     0.91681,     0.91675,     0.91689,     0.91703,     0.91717,     0.91731,     0.91744,     0.91758,     0.91772,     0.91786,       0.918,     0.91814,     0.91828,\n",
      "            0.91841,     0.91855,     0.91869,     0.91883,     0.91897,     0.91901,     0.91886,     0.91872,     0.91857,     0.91842,     0.91828,     0.91813,     0.91798,     0.91784,     0.91769,     0.91754,      0.9174,     0.91725,      0.9171,     0.91696,     0.91681,     0.91666,     0.91652,\n",
      "            0.91637,     0.91627,     0.91715,     0.91802,     0.91872,     0.91902,     0.91932,     0.91961,     0.91991,      0.9202,      0.9205,     0.92079,     0.92119,     0.92233,     0.92345,     0.92609,     0.92633,     0.92657,     0.92681,     0.92705,     0.92729,     0.92753,     0.92776,\n",
      "              0.928,     0.92824,     0.92865,     0.92928,      0.9299,     0.93053,     0.93099,     0.93126,     0.93154,     0.93181,     0.93208,     0.93236,     0.93263,      0.9329,     0.93318,     0.93343,     0.93366,      0.9339,     0.93413,     0.93436,     0.93459,     0.93482,     0.93505,\n",
      "            0.93528,     0.93551,     0.93574,     0.93588,     0.93597,     0.93606,     0.93615,     0.93623,     0.93632,     0.93641,      0.9365,     0.93658,     0.93667,     0.93676,     0.93685,     0.93693,     0.93702,     0.93711,      0.9372,     0.93728,     0.93737,     0.93746,     0.93754,\n",
      "            0.93763,     0.93772,     0.93781,     0.93789,     0.93798,     0.93807,     0.93816,     0.93824,     0.93833,     0.93849,     0.93866,     0.93883,     0.93899,     0.93916,     0.93933,      0.9395,     0.93967,     0.93983,        0.94,     0.94017,     0.94034,      0.9405,     0.94067,\n",
      "            0.94084,     0.94102,      0.9412,     0.94138,     0.94157,     0.94175,     0.94193,     0.94211,     0.94229,     0.94248,     0.94266,     0.94284,     0.94302,      0.9432,     0.94339,     0.94348,     0.94356,     0.94365,     0.94374,     0.94382,     0.94391,       0.944,     0.94408,\n",
      "            0.94417,     0.94426,     0.94434,     0.94443,     0.94452,      0.9446,     0.94469,     0.94478,     0.94486,     0.94495,     0.94504,     0.94512,     0.94521,     0.94529,     0.94538,     0.94547,     0.94555,     0.94564,     0.94573,     0.94581,      0.9459,     0.94648,     0.94767,\n",
      "            0.94789,      0.9458,     0.94664,      0.9477,      0.9484,     0.94875,     0.94909,     0.94944,     0.94978,     0.95012,     0.95047,     0.95081,     0.95095,     0.95108,     0.95121,     0.95134,     0.95148,     0.95161,     0.95174,     0.95187,       0.952,     0.95213,     0.95227,\n",
      "             0.9524,     0.95253,     0.95266,     0.95279,     0.95292,     0.95305,     0.95319,     0.95332,     0.95345,     0.95362,     0.95378,     0.95395,     0.95411,     0.95428,     0.95444,     0.95461,     0.95477,     0.95494,      0.9551,     0.95527,     0.95543,      0.9556,     0.95576,\n",
      "            0.95593,      0.9561,      0.9563,     0.95649,     0.95669,     0.95689,     0.95708,     0.95728,     0.95748,     0.95767,     0.95787,     0.95806,     0.95826,     0.95845,     0.95865,     0.95871,     0.95874,     0.95877,     0.95881,     0.95884,     0.95888,     0.95891,     0.95894,\n",
      "            0.95898,     0.95901,     0.95904,     0.95908,     0.95911,     0.95915,     0.95918,     0.95921,     0.95925,     0.95928,     0.95931,     0.95935,     0.95938,     0.95941,     0.95945,     0.95948,     0.95952,     0.95955,     0.95958,     0.95962,     0.95965,     0.95968,     0.95972,\n",
      "            0.95975,     0.95979,     0.95982,     0.95985,     0.95989,     0.95992,     0.95995,     0.95999,     0.96002,     0.96005,     0.96009,     0.96012,     0.96016,     0.96019,     0.96022,     0.96026,     0.96029,     0.96032,     0.96036,     0.96039,     0.96042,     0.96046,     0.96049,\n",
      "            0.96053,     0.96056,     0.96059,     0.96063,     0.96066,     0.96069,     0.96073,     0.96076,     0.96079,     0.96083,     0.96086,     0.96089,     0.96093,     0.96096,       0.961,     0.96103,     0.96106,      0.9611,     0.96113,     0.96116,      0.9612,     0.96123,     0.96126,\n",
      "             0.9613,     0.96138,      0.9617,     0.96203,     0.96236,     0.96268,     0.96301,     0.96333,     0.96366,     0.96398,       0.965,     0.96603,     0.96662,     0.96651,     0.96639,     0.96628,     0.96616,     0.96604,     0.96593,     0.96581,      0.9657,     0.96558,     0.96546,\n",
      "            0.96535,     0.96523,     0.96512,       0.965,     0.96488,     0.96477,     0.96465,     0.96454,     0.96442,      0.9643,     0.96419,     0.96407,     0.96395,     0.96384,     0.96384,     0.96393,     0.96403,     0.96412,     0.96421,      0.9643,     0.96439,     0.96449,     0.96458,\n",
      "            0.96467,     0.96476,     0.96485,     0.96495,     0.96504,     0.96513,     0.96522,     0.96531,     0.96541,      0.9655,     0.96559,     0.96568,     0.96577,     0.96587,     0.96596,     0.96605,     0.96614,     0.96623,     0.96632,     0.96642,     0.96646,     0.96641,     0.96635,\n",
      "             0.9663,     0.96624,     0.96619,     0.96613,     0.96608,     0.96602,     0.96596,     0.96591,     0.96585,      0.9658,     0.96574,     0.96569,     0.96563,     0.96557,     0.96552,     0.96546,     0.96541,     0.96535,      0.9653,     0.96524,     0.96519,     0.96513,     0.96507,\n",
      "            0.96502,     0.96496,     0.96491,     0.96485,      0.9648,     0.96474,     0.96468,     0.96463,     0.96457,     0.96452,     0.96446,     0.96441,     0.96435,     0.96429,     0.96424,     0.96418,     0.96413,     0.96407,     0.96401,     0.96396,      0.9639,     0.96385,     0.96379,\n",
      "            0.96374,     0.96368,     0.96362,     0.96375,      0.9643,     0.96484,     0.96538,     0.96593,      0.9662,     0.96591,     0.96562,     0.96532,     0.96503,     0.96474,     0.96445,     0.96416,     0.96386,     0.96357,     0.96274,     0.96091,     0.96058,     0.96074,     0.96091,\n",
      "            0.96107,     0.96123,      0.9614,     0.96156,     0.96173,     0.96189,     0.96206,     0.96222,     0.96239,     0.96255,     0.96272,     0.96288,     0.96304,      0.9631,     0.96275,      0.9624,     0.96205,      0.9617,     0.96135,       0.961,     0.96065,     0.96029,     0.95952,\n",
      "            0.95865,     0.95778,     0.95722,     0.95712,     0.95702,     0.95692,     0.95682,     0.95671,     0.95661,     0.95651,     0.95641,     0.95631,     0.95621,      0.9561,       0.956,      0.9559,      0.9558,      0.9557,     0.95559,     0.95549,     0.95539,     0.95529,     0.95519,\n",
      "            0.95508,     0.95498,     0.95488,     0.95478,     0.95467,     0.95457,     0.95447,     0.95437,     0.95441,     0.95503,     0.95566,     0.95628,      0.9569,     0.95681,     0.95656,     0.95631,     0.95605,      0.9558,     0.95554,     0.95529,     0.95503,     0.95478,     0.95452,\n",
      "            0.95427,     0.95402,     0.95393,     0.95384,     0.95375,     0.95366,     0.95357,     0.95349,      0.9534,     0.95331,     0.95322,     0.95313,     0.95304,     0.95295,     0.95286,     0.95277,     0.95269,      0.9526,     0.95251,     0.95242,     0.95233,     0.95224,     0.95215,\n",
      "            0.95206,     0.95197,     0.95188,      0.9518,     0.95171,     0.95162,     0.95153,     0.95144,     0.95135,     0.95126,     0.95117,     0.95108,     0.95087,     0.95007,     0.94927,     0.94847,     0.94592,     0.94201,     0.94157,     0.94127,     0.94096,     0.94066,     0.94036,\n",
      "            0.94005,     0.93975,     0.93945,     0.93914,     0.93884,     0.93683,     0.93541,     0.93492,     0.93443,     0.93394,     0.93344,     0.93295,     0.93276,     0.93377,     0.93478,     0.93502,     0.93445,     0.93388,     0.93331,     0.93273,     0.93216,     0.93181,     0.93147,\n",
      "            0.93112,     0.93077,     0.93042,     0.93008,     0.92973,     0.92938,     0.92903,     0.92826,     0.92744,     0.92662,     0.92578,      0.9244,     0.92302,     0.92201,     0.92117,     0.92032,     0.91947,      0.9122,     0.90915,     0.90852,     0.90789,     0.90725,     0.90662,\n",
      "            0.90435,     0.90274,     0.90228,     0.90181,     0.90135,     0.90088,     0.90042,     0.89995,     0.89802,     0.89419,      0.8922,     0.89109,     0.88998,     0.88903,     0.88817,     0.88732,     0.88646,     0.87748,     0.87558,     0.87528,     0.87498,     0.87467,     0.87437,\n",
      "            0.87407,     0.87376,     0.87346,     0.87316,     0.87285,     0.87255,     0.87191,     0.86836,     0.86485,     0.86296,     0.85658,     0.85267,     0.85015,      0.8482,      0.8433,     0.84134,     0.83969,     0.83939,     0.83909,      0.8388,      0.8385,      0.8382,     0.83791,\n",
      "            0.83761,     0.83731,     0.83701,     0.83672,     0.83642,     0.83612,     0.83395,     0.82622,      0.8231,     0.82123,     0.81871,     0.81655,     0.81532,     0.81409,      0.8137,     0.81493,     0.81166,      0.8091,     0.80301,     0.80105,     0.79542,     0.79414,     0.79285,\n",
      "            0.79131,     0.78916,     0.78401,     0.78306,     0.78231,     0.78156,     0.78081,     0.78006,     0.77804,      0.7737,     0.76276,     0.76048,     0.75819,     0.75594,     0.75033,      0.7475,     0.74528,     0.74398,     0.74268,     0.74137,     0.72558,     0.71714,     0.71489,\n",
      "            0.70753,     0.70344,     0.69593,     0.68976,     0.68731,     0.68274,     0.67535,     0.67002,     0.66806,     0.66461,     0.65947,      0.6561,     0.65392,     0.65174,     0.64845,     0.63833,      0.6342,     0.63182,     0.62895,     0.62564,     0.59916,     0.59541,     0.59005,\n",
      "            0.58297,     0.57746,     0.57216,     0.56739,     0.56053,     0.55621,     0.54812,     0.54188,     0.53735,     0.53125,     0.52274,     0.51753,     0.51569,     0.51385,      0.5104,     0.50363,     0.49405,     0.49001,     0.48519,     0.47794,     0.45981,     0.44726,     0.44246,\n",
      "            0.43625,     0.42971,     0.42265,     0.40674,      0.3911,     0.37887,     0.37404,     0.36362,     0.35811,     0.35388,     0.35034,     0.32893,     0.31591,     0.31175,     0.29443,     0.28884,      0.2762,     0.27265,     0.26885,     0.25796,     0.24312,     0.24034,     0.23755,\n",
      "            0.23276,     0.21734,     0.21177,     0.19392,     0.18675,     0.18195,     0.15964,     0.15265,     0.14872,     0.14477,      0.1299,     0.12058,     0.10281,    0.094463,    0.092018,    0.089567,    0.087109,    0.084791,      0.0831,    0.081406,    0.079709,     0.07801,    0.076307,\n",
      "           0.074267,      0.0704,    0.066517,    0.059741,    0.051402,    0.045116,    0.025898,           0,           0,           0,           0,           0,           0,           0,           0,           0,           0,           0,           0,           0,           0,           0,           0,\n",
      "                  0,           0,           0,           0,           0,           0,           0,           0,           0,           0,           0,           0,           0,           0,           0,           0,           0,           0,           0,           0,           0,           0,           0,\n",
      "                  0,           0,           0,           0,           0,           0,           0,           0,           0,           0,           0,           0,           0,           0,           0,           0,           0,           0,           0,           0,           0,           0,           0,\n",
      "                  0,           0,           0,           0,           0,           0,           0,           0,           0,           0,           0]]), 'Confidence', 'F1'], [array([          0,    0.001001,    0.002002,    0.003003,    0.004004,    0.005005,    0.006006,    0.007007,    0.008008,    0.009009,     0.01001,    0.011011,    0.012012,    0.013013,    0.014014,    0.015015,    0.016016,    0.017017,    0.018018,    0.019019,     0.02002,    0.021021,    0.022022,    0.023023,\n",
      "          0.024024,    0.025025,    0.026026,    0.027027,    0.028028,    0.029029,     0.03003,    0.031031,    0.032032,    0.033033,    0.034034,    0.035035,    0.036036,    0.037037,    0.038038,    0.039039,     0.04004,    0.041041,    0.042042,    0.043043,    0.044044,    0.045045,    0.046046,    0.047047,\n",
      "          0.048048,    0.049049,     0.05005,    0.051051,    0.052052,    0.053053,    0.054054,    0.055055,    0.056056,    0.057057,    0.058058,    0.059059,     0.06006,    0.061061,    0.062062,    0.063063,    0.064064,    0.065065,    0.066066,    0.067067,    0.068068,    0.069069,     0.07007,    0.071071,\n",
      "          0.072072,    0.073073,    0.074074,    0.075075,    0.076076,    0.077077,    0.078078,    0.079079,     0.08008,    0.081081,    0.082082,    0.083083,    0.084084,    0.085085,    0.086086,    0.087087,    0.088088,    0.089089,     0.09009,    0.091091,    0.092092,    0.093093,    0.094094,    0.095095,\n",
      "          0.096096,    0.097097,    0.098098,    0.099099,      0.1001,      0.1011,      0.1021,      0.1031,      0.1041,     0.10511,     0.10611,     0.10711,     0.10811,     0.10911,     0.11011,     0.11111,     0.11211,     0.11311,     0.11411,     0.11512,     0.11612,     0.11712,     0.11812,     0.11912,\n",
      "           0.12012,     0.12112,     0.12212,     0.12312,     0.12412,     0.12513,     0.12613,     0.12713,     0.12813,     0.12913,     0.13013,     0.13113,     0.13213,     0.13313,     0.13413,     0.13514,     0.13614,     0.13714,     0.13814,     0.13914,     0.14014,     0.14114,     0.14214,     0.14314,\n",
      "           0.14414,     0.14515,     0.14615,     0.14715,     0.14815,     0.14915,     0.15015,     0.15115,     0.15215,     0.15315,     0.15415,     0.15516,     0.15616,     0.15716,     0.15816,     0.15916,     0.16016,     0.16116,     0.16216,     0.16316,     0.16416,     0.16517,     0.16617,     0.16717,\n",
      "           0.16817,     0.16917,     0.17017,     0.17117,     0.17217,     0.17317,     0.17417,     0.17518,     0.17618,     0.17718,     0.17818,     0.17918,     0.18018,     0.18118,     0.18218,     0.18318,     0.18418,     0.18519,     0.18619,     0.18719,     0.18819,     0.18919,     0.19019,     0.19119,\n",
      "           0.19219,     0.19319,     0.19419,      0.1952,      0.1962,      0.1972,      0.1982,      0.1992,      0.2002,      0.2012,      0.2022,      0.2032,      0.2042,     0.20521,     0.20621,     0.20721,     0.20821,     0.20921,     0.21021,     0.21121,     0.21221,     0.21321,     0.21421,     0.21522,\n",
      "           0.21622,     0.21722,     0.21822,     0.21922,     0.22022,     0.22122,     0.22222,     0.22322,     0.22422,     0.22523,     0.22623,     0.22723,     0.22823,     0.22923,     0.23023,     0.23123,     0.23223,     0.23323,     0.23423,     0.23524,     0.23624,     0.23724,     0.23824,     0.23924,\n",
      "           0.24024,     0.24124,     0.24224,     0.24324,     0.24424,     0.24525,     0.24625,     0.24725,     0.24825,     0.24925,     0.25025,     0.25125,     0.25225,     0.25325,     0.25425,     0.25526,     0.25626,     0.25726,     0.25826,     0.25926,     0.26026,     0.26126,     0.26226,     0.26326,\n",
      "           0.26426,     0.26527,     0.26627,     0.26727,     0.26827,     0.26927,     0.27027,     0.27127,     0.27227,     0.27327,     0.27427,     0.27528,     0.27628,     0.27728,     0.27828,     0.27928,     0.28028,     0.28128,     0.28228,     0.28328,     0.28428,     0.28529,     0.28629,     0.28729,\n",
      "           0.28829,     0.28929,     0.29029,     0.29129,     0.29229,     0.29329,     0.29429,      0.2953,      0.2963,      0.2973,      0.2983,      0.2993,      0.3003,      0.3013,      0.3023,      0.3033,      0.3043,     0.30531,     0.30631,     0.30731,     0.30831,     0.30931,     0.31031,     0.31131,\n",
      "           0.31231,     0.31331,     0.31431,     0.31532,     0.31632,     0.31732,     0.31832,     0.31932,     0.32032,     0.32132,     0.32232,     0.32332,     0.32432,     0.32533,     0.32633,     0.32733,     0.32833,     0.32933,     0.33033,     0.33133,     0.33233,     0.33333,     0.33433,     0.33534,\n",
      "           0.33634,     0.33734,     0.33834,     0.33934,     0.34034,     0.34134,     0.34234,     0.34334,     0.34434,     0.34535,     0.34635,     0.34735,     0.34835,     0.34935,     0.35035,     0.35135,     0.35235,     0.35335,     0.35435,     0.35536,     0.35636,     0.35736,     0.35836,     0.35936,\n",
      "           0.36036,     0.36136,     0.36236,     0.36336,     0.36436,     0.36537,     0.36637,     0.36737,     0.36837,     0.36937,     0.37037,     0.37137,     0.37237,     0.37337,     0.37437,     0.37538,     0.37638,     0.37738,     0.37838,     0.37938,     0.38038,     0.38138,     0.38238,     0.38338,\n",
      "           0.38438,     0.38539,     0.38639,     0.38739,     0.38839,     0.38939,     0.39039,     0.39139,     0.39239,     0.39339,     0.39439,      0.3954,      0.3964,      0.3974,      0.3984,      0.3994,      0.4004,      0.4014,      0.4024,      0.4034,      0.4044,     0.40541,     0.40641,     0.40741,\n",
      "           0.40841,     0.40941,     0.41041,     0.41141,     0.41241,     0.41341,     0.41441,     0.41542,     0.41642,     0.41742,     0.41842,     0.41942,     0.42042,     0.42142,     0.42242,     0.42342,     0.42442,     0.42543,     0.42643,     0.42743,     0.42843,     0.42943,     0.43043,     0.43143,\n",
      "           0.43243,     0.43343,     0.43443,     0.43544,     0.43644,     0.43744,     0.43844,     0.43944,     0.44044,     0.44144,     0.44244,     0.44344,     0.44444,     0.44545,     0.44645,     0.44745,     0.44845,     0.44945,     0.45045,     0.45145,     0.45245,     0.45345,     0.45445,     0.45546,\n",
      "           0.45646,     0.45746,     0.45846,     0.45946,     0.46046,     0.46146,     0.46246,     0.46346,     0.46446,     0.46547,     0.46647,     0.46747,     0.46847,     0.46947,     0.47047,     0.47147,     0.47247,     0.47347,     0.47447,     0.47548,     0.47648,     0.47748,     0.47848,     0.47948,\n",
      "           0.48048,     0.48148,     0.48248,     0.48348,     0.48448,     0.48549,     0.48649,     0.48749,     0.48849,     0.48949,     0.49049,     0.49149,     0.49249,     0.49349,     0.49449,      0.4955,      0.4965,      0.4975,      0.4985,      0.4995,      0.5005,      0.5015,      0.5025,      0.5035,\n",
      "            0.5045,     0.50551,     0.50651,     0.50751,     0.50851,     0.50951,     0.51051,     0.51151,     0.51251,     0.51351,     0.51451,     0.51552,     0.51652,     0.51752,     0.51852,     0.51952,     0.52052,     0.52152,     0.52252,     0.52352,     0.52452,     0.52553,     0.52653,     0.52753,\n",
      "           0.52853,     0.52953,     0.53053,     0.53153,     0.53253,     0.53353,     0.53453,     0.53554,     0.53654,     0.53754,     0.53854,     0.53954,     0.54054,     0.54154,     0.54254,     0.54354,     0.54454,     0.54555,     0.54655,     0.54755,     0.54855,     0.54955,     0.55055,     0.55155,\n",
      "           0.55255,     0.55355,     0.55455,     0.55556,     0.55656,     0.55756,     0.55856,     0.55956,     0.56056,     0.56156,     0.56256,     0.56356,     0.56456,     0.56557,     0.56657,     0.56757,     0.56857,     0.56957,     0.57057,     0.57157,     0.57257,     0.57357,     0.57457,     0.57558,\n",
      "           0.57658,     0.57758,     0.57858,     0.57958,     0.58058,     0.58158,     0.58258,     0.58358,     0.58458,     0.58559,     0.58659,     0.58759,     0.58859,     0.58959,     0.59059,     0.59159,     0.59259,     0.59359,     0.59459,      0.5956,      0.5966,      0.5976,      0.5986,      0.5996,\n",
      "            0.6006,      0.6016,      0.6026,      0.6036,      0.6046,     0.60561,     0.60661,     0.60761,     0.60861,     0.60961,     0.61061,     0.61161,     0.61261,     0.61361,     0.61461,     0.61562,     0.61662,     0.61762,     0.61862,     0.61962,     0.62062,     0.62162,     0.62262,     0.62362,\n",
      "           0.62462,     0.62563,     0.62663,     0.62763,     0.62863,     0.62963,     0.63063,     0.63163,     0.63263,     0.63363,     0.63463,     0.63564,     0.63664,     0.63764,     0.63864,     0.63964,     0.64064,     0.64164,     0.64264,     0.64364,     0.64464,     0.64565,     0.64665,     0.64765,\n",
      "           0.64865,     0.64965,     0.65065,     0.65165,     0.65265,     0.65365,     0.65465,     0.65566,     0.65666,     0.65766,     0.65866,     0.65966,     0.66066,     0.66166,     0.66266,     0.66366,     0.66466,     0.66567,     0.66667,     0.66767,     0.66867,     0.66967,     0.67067,     0.67167,\n",
      "           0.67267,     0.67367,     0.67467,     0.67568,     0.67668,     0.67768,     0.67868,     0.67968,     0.68068,     0.68168,     0.68268,     0.68368,     0.68468,     0.68569,     0.68669,     0.68769,     0.68869,     0.68969,     0.69069,     0.69169,     0.69269,     0.69369,     0.69469,      0.6957,\n",
      "            0.6967,      0.6977,      0.6987,      0.6997,      0.7007,      0.7017,      0.7027,      0.7037,      0.7047,     0.70571,     0.70671,     0.70771,     0.70871,     0.70971,     0.71071,     0.71171,     0.71271,     0.71371,     0.71471,     0.71572,     0.71672,     0.71772,     0.71872,     0.71972,\n",
      "           0.72072,     0.72172,     0.72272,     0.72372,     0.72472,     0.72573,     0.72673,     0.72773,     0.72873,     0.72973,     0.73073,     0.73173,     0.73273,     0.73373,     0.73473,     0.73574,     0.73674,     0.73774,     0.73874,     0.73974,     0.74074,     0.74174,     0.74274,     0.74374,\n",
      "           0.74474,     0.74575,     0.74675,     0.74775,     0.74875,     0.74975,     0.75075,     0.75175,     0.75275,     0.75375,     0.75475,     0.75576,     0.75676,     0.75776,     0.75876,     0.75976,     0.76076,     0.76176,     0.76276,     0.76376,     0.76476,     0.76577,     0.76677,     0.76777,\n",
      "           0.76877,     0.76977,     0.77077,     0.77177,     0.77277,     0.77377,     0.77477,     0.77578,     0.77678,     0.77778,     0.77878,     0.77978,     0.78078,     0.78178,     0.78278,     0.78378,     0.78478,     0.78579,     0.78679,     0.78779,     0.78879,     0.78979,     0.79079,     0.79179,\n",
      "           0.79279,     0.79379,     0.79479,      0.7958,      0.7968,      0.7978,      0.7988,      0.7998,      0.8008,      0.8018,      0.8028,      0.8038,      0.8048,     0.80581,     0.80681,     0.80781,     0.80881,     0.80981,     0.81081,     0.81181,     0.81281,     0.81381,     0.81481,     0.81582,\n",
      "           0.81682,     0.81782,     0.81882,     0.81982,     0.82082,     0.82182,     0.82282,     0.82382,     0.82482,     0.82583,     0.82683,     0.82783,     0.82883,     0.82983,     0.83083,     0.83183,     0.83283,     0.83383,     0.83483,     0.83584,     0.83684,     0.83784,     0.83884,     0.83984,\n",
      "           0.84084,     0.84184,     0.84284,     0.84384,     0.84484,     0.84585,     0.84685,     0.84785,     0.84885,     0.84985,     0.85085,     0.85185,     0.85285,     0.85385,     0.85485,     0.85586,     0.85686,     0.85786,     0.85886,     0.85986,     0.86086,     0.86186,     0.86286,     0.86386,\n",
      "           0.86486,     0.86587,     0.86687,     0.86787,     0.86887,     0.86987,     0.87087,     0.87187,     0.87287,     0.87387,     0.87487,     0.87588,     0.87688,     0.87788,     0.87888,     0.87988,     0.88088,     0.88188,     0.88288,     0.88388,     0.88488,     0.88589,     0.88689,     0.88789,\n",
      "           0.88889,     0.88989,     0.89089,     0.89189,     0.89289,     0.89389,     0.89489,      0.8959,      0.8969,      0.8979,      0.8989,      0.8999,      0.9009,      0.9019,      0.9029,      0.9039,      0.9049,     0.90591,     0.90691,     0.90791,     0.90891,     0.90991,     0.91091,     0.91191,\n",
      "           0.91291,     0.91391,     0.91491,     0.91592,     0.91692,     0.91792,     0.91892,     0.91992,     0.92092,     0.92192,     0.92292,     0.92392,     0.92492,     0.92593,     0.92693,     0.92793,     0.92893,     0.92993,     0.93093,     0.93193,     0.93293,     0.93393,     0.93493,     0.93594,\n",
      "           0.93694,     0.93794,     0.93894,     0.93994,     0.94094,     0.94194,     0.94294,     0.94394,     0.94494,     0.94595,     0.94695,     0.94795,     0.94895,     0.94995,     0.95095,     0.95195,     0.95295,     0.95395,     0.95495,     0.95596,     0.95696,     0.95796,     0.95896,     0.95996,\n",
      "           0.96096,     0.96196,     0.96296,     0.96396,     0.96496,     0.96597,     0.96697,     0.96797,     0.96897,     0.96997,     0.97097,     0.97197,     0.97297,     0.97397,     0.97497,     0.97598,     0.97698,     0.97798,     0.97898,     0.97998,     0.98098,     0.98198,     0.98298,     0.98398,\n",
      "           0.98498,     0.98599,     0.98699,     0.98799,     0.98899,     0.98999,     0.99099,     0.99199,     0.99299,     0.99399,     0.99499,       0.996,       0.997,       0.998,       0.999,           1]), array([[    0.21687,     0.21687,     0.32197,     0.38059,     0.42888,     0.46008,     0.48784,     0.51302,      0.5276,     0.55593,     0.57356,     0.59537,     0.61588,     0.62737,       0.638,     0.64944,     0.65864,      0.6637,      0.6681,     0.67427,     0.68635,     0.69177,     0.69494,\n",
      "            0.70957,     0.71533,     0.72014,     0.72697,     0.72864,     0.73789,     0.73998,     0.74249,     0.74778,     0.75136,     0.75444,     0.75725,     0.76942,     0.77106,     0.77374,     0.77784,     0.77839,     0.78222,      0.7842,     0.78713,     0.79053,     0.79287,     0.79444,\n",
      "            0.79926,      0.8004,     0.80153,     0.80266,     0.80382,     0.80499,     0.80616,     0.80897,     0.81061,     0.81157,     0.81253,     0.81349,     0.81793,     0.81941,     0.82089,     0.82429,     0.82718,     0.83039,     0.83594,     0.83823,     0.83993,     0.84073,     0.84153,\n",
      "            0.84232,     0.84312,      0.8476,     0.84754,     0.84748,     0.84741,     0.84735,     0.84728,     0.84722,     0.84715,     0.84709,     0.84702,     0.84696,      0.8469,     0.84725,     0.84765,     0.84805,     0.84845,     0.84885,     0.84924,     0.84964,     0.85004,     0.85044,\n",
      "            0.85084,     0.85159,     0.85249,      0.8534,      0.8543,     0.85513,     0.85551,     0.85588,     0.85626,     0.85664,     0.85702,      0.8574,     0.85778,     0.85815,     0.85853,     0.85891,      0.8593,     0.85974,     0.86018,     0.86062,     0.86106,      0.8615,     0.86195,\n",
      "            0.86239,     0.86283,     0.86327,     0.86336,     0.86328,     0.86319,     0.86311,     0.86303,     0.86294,     0.86286,     0.86278,     0.86289,     0.86314,     0.86339,     0.86363,     0.86388,     0.86412,     0.86437,     0.86462,     0.86486,     0.86511,     0.86536,      0.8656,\n",
      "            0.86585,     0.86609,     0.86634,     0.86659,     0.86683,     0.86698,     0.86695,     0.86692,     0.86688,     0.86685,     0.86681,     0.86678,     0.86674,     0.86671,     0.86668,     0.86664,     0.86661,     0.86657,     0.86654,     0.86651,     0.86647,     0.86644,      0.8664,\n",
      "            0.86637,     0.86641,     0.86798,     0.86955,     0.87081,     0.87134,     0.87187,      0.8724,     0.87294,     0.87347,       0.874,     0.87453,     0.87526,      0.8773,     0.87934,     0.88414,     0.88457,     0.88501,     0.88545,     0.88588,     0.88632,     0.88676,      0.8872,\n",
      "            0.88763,     0.88807,     0.88881,     0.88996,     0.89112,     0.89227,     0.89311,     0.89361,     0.89412,     0.89462,     0.89513,     0.89563,     0.89614,     0.89664,     0.89715,     0.89762,     0.89805,     0.89848,      0.8989,     0.89933,     0.89976,     0.90019,     0.90061,\n",
      "            0.90104,     0.90147,      0.9019,     0.90216,     0.90232,     0.90249,     0.90265,     0.90281,     0.90298,     0.90314,      0.9033,     0.90346,     0.90363,     0.90379,     0.90395,     0.90412,     0.90428,     0.90444,      0.9046,     0.90477,     0.90493,     0.90509,     0.90526,\n",
      "            0.90542,     0.90558,     0.90574,     0.90591,     0.90607,     0.90623,      0.9064,     0.90656,     0.90672,     0.90702,     0.90734,     0.90765,     0.90796,     0.90828,     0.90859,      0.9089,     0.90922,     0.90953,     0.90985,     0.91016,     0.91047,     0.91079,      0.9111,\n",
      "            0.91141,     0.91175,      0.9121,     0.91244,     0.91278,     0.91313,     0.91347,     0.91381,     0.91415,      0.9145,     0.91484,     0.91518,     0.91553,     0.91587,     0.91621,     0.91638,     0.91655,     0.91671,     0.91688,     0.91704,      0.9172,     0.91737,     0.91753,\n",
      "            0.91769,     0.91786,     0.91802,     0.91818,     0.91835,     0.91851,     0.91867,     0.91884,       0.919,     0.91916,     0.91933,     0.91949,     0.91965,     0.91982,     0.91998,     0.92014,     0.92031,     0.92047,     0.92064,      0.9208,     0.92096,     0.92206,     0.92433,\n",
      "            0.92584,     0.92555,     0.92743,     0.92947,     0.93082,     0.93148,     0.93215,     0.93281,     0.93347,     0.93414,      0.9348,     0.93547,     0.93573,     0.93599,     0.93624,      0.9365,     0.93675,     0.93701,     0.93727,     0.93752,     0.93778,     0.93803,     0.93829,\n",
      "            0.93854,      0.9388,     0.93905,     0.93931,     0.93956,     0.93982,     0.94007,     0.94033,      0.9406,     0.94092,     0.94124,     0.94156,     0.94188,     0.94221,     0.94253,     0.94285,     0.94317,     0.94349,     0.94381,     0.94414,     0.94446,     0.94478,      0.9451,\n",
      "            0.94542,     0.94576,     0.94615,     0.94653,     0.94692,      0.9473,     0.94769,     0.94807,     0.94846,     0.94884,     0.94923,     0.94961,        0.95,     0.95038,     0.95077,     0.95088,     0.95094,     0.95101,     0.95108,     0.95114,     0.95121,     0.95128,     0.95134,\n",
      "            0.95141,     0.95147,     0.95154,     0.95161,     0.95167,     0.95174,     0.95181,     0.95187,     0.95194,     0.95201,     0.95207,     0.95214,      0.9522,     0.95227,     0.95234,      0.9524,     0.95247,     0.95254,      0.9526,     0.95267,     0.95274,      0.9528,     0.95287,\n",
      "            0.95293,       0.953,     0.95307,     0.95313,      0.9532,     0.95327,     0.95333,      0.9534,     0.95347,     0.95353,      0.9536,     0.95366,     0.95373,      0.9538,     0.95386,     0.95393,       0.954,     0.95406,     0.95413,      0.9542,     0.95426,     0.95433,     0.95439,\n",
      "            0.95446,     0.95453,     0.95459,     0.95466,     0.95473,     0.95479,     0.95486,     0.95493,     0.95499,     0.95506,     0.95513,     0.95519,     0.95526,     0.95532,     0.95539,     0.95546,     0.95552,     0.95559,     0.95566,     0.95572,     0.95579,     0.95586,     0.95592,\n",
      "            0.95599,     0.95615,     0.95679,     0.95744,     0.95808,     0.95873,     0.95937,     0.96002,     0.96067,     0.96131,     0.96334,     0.96539,     0.96666,     0.96666,     0.96665,     0.96664,     0.96663,     0.96663,     0.96662,     0.96661,      0.9666,      0.9666,     0.96659,\n",
      "            0.96658,     0.96657,     0.96657,     0.96656,     0.96655,     0.96654,     0.96654,     0.96653,     0.96652,     0.96651,     0.96651,      0.9665,     0.96649,     0.96648,     0.96659,     0.96677,     0.96696,     0.96714,     0.96733,     0.96751,      0.9677,     0.96788,     0.96807,\n",
      "            0.96826,     0.96844,     0.96863,     0.96881,       0.969,     0.96918,     0.96937,     0.96955,     0.96974,     0.96993,     0.97011,      0.9703,     0.97048,     0.97067,     0.97085,     0.97104,     0.97122,     0.97141,     0.97159,     0.97178,     0.97191,     0.97191,      0.9719,\n",
      "             0.9719,      0.9719,     0.97189,     0.97189,     0.97189,     0.97188,     0.97188,     0.97188,     0.97188,     0.97187,     0.97187,     0.97187,     0.97186,     0.97186,     0.97186,     0.97185,     0.97185,     0.97185,     0.97185,     0.97184,     0.97184,     0.97184,     0.97183,\n",
      "            0.97183,     0.97183,     0.97182,     0.97182,     0.97182,     0.97181,     0.97181,     0.97181,     0.97181,      0.9718,      0.9718,      0.9718,     0.97179,     0.97179,     0.97179,     0.97178,     0.97178,     0.97178,     0.97177,     0.97177,     0.97177,     0.97177,     0.97176,\n",
      "            0.97176,     0.97176,     0.97175,     0.97209,      0.9732,     0.97431,     0.97541,     0.97652,     0.97727,     0.97726,     0.97724,     0.97723,     0.97722,      0.9772,     0.97719,     0.97718,     0.97716,     0.97715,     0.97711,     0.97703,     0.97727,     0.97761,     0.97795,\n",
      "            0.97829,     0.97863,     0.97897,     0.97932,     0.97966,        0.98,     0.98034,     0.98068,     0.98102,     0.98137,     0.98171,     0.98205,     0.98239,     0.98266,     0.98264,     0.98263,     0.98262,     0.98261,      0.9826,     0.98258,     0.98257,     0.98256,     0.98253,\n",
      "             0.9825,     0.98247,     0.98245,     0.98245,     0.98245,     0.98244,     0.98244,     0.98244,     0.98243,     0.98243,     0.98243,     0.98242,     0.98242,     0.98242,     0.98241,     0.98241,     0.98241,      0.9824,      0.9824,     0.98239,     0.98239,     0.98239,     0.98238,\n",
      "            0.98238,     0.98238,     0.98237,     0.98237,     0.98237,     0.98236,     0.98236,     0.98236,     0.98261,     0.98394,     0.98527,     0.98659,     0.98792,     0.98816,     0.98815,     0.98815,     0.98814,     0.98814,     0.98813,     0.98812,     0.98812,     0.98811,     0.98811,\n",
      "             0.9881,      0.9881,     0.98809,     0.98809,     0.98809,     0.98809,     0.98808,     0.98808,     0.98808,     0.98808,     0.98808,     0.98807,     0.98807,     0.98807,     0.98807,     0.98807,     0.98806,     0.98806,     0.98806,     0.98806,     0.98806,     0.98805,     0.98805,\n",
      "            0.98805,     0.98805,     0.98804,     0.98804,     0.98804,     0.98804,     0.98804,     0.98803,     0.98803,     0.98803,     0.98803,     0.98803,     0.98802,       0.988,     0.98798,     0.98796,      0.9879,     0.98781,      0.9878,     0.98779,     0.98778,     0.98778,     0.98777,\n",
      "            0.98776,     0.98775,     0.98775,     0.98774,     0.98773,     0.98768,     0.98765,     0.98764,     0.98762,     0.98761,      0.9876,     0.98759,     0.98804,     0.99031,     0.99258,     0.99375,     0.99374,     0.99373,     0.99373,     0.99372,     0.99371,     0.99371,      0.9937,\n",
      "             0.9937,     0.99369,     0.99369,     0.99368,     0.99368,     0.99368,     0.99367,     0.99366,     0.99365,     0.99364,     0.99363,     0.99361,     0.99359,     0.99358,     0.99357,     0.99356,     0.99355,     0.99345,     0.99341,     0.99341,      0.9934,     0.99339,     0.99338,\n",
      "            0.99335,     0.99333,     0.99332,     0.99332,     0.99331,      0.9933,      0.9933,     0.99329,     0.99327,     0.99321,     0.99319,     0.99317,     0.99316,     0.99314,     0.99313,     0.99312,     0.99311,     0.99298,     0.99295,     0.99295,     0.99295,     0.99294,     0.99294,\n",
      "            0.99293,     0.99293,     0.99292,     0.99292,     0.99292,     0.99291,      0.9929,     0.99285,      0.9928,     0.99277,     0.99268,     0.99262,     0.99258,     0.99255,     0.99248,     0.99245,     0.99242,     0.99242,     0.99241,     0.99241,      0.9924,      0.9924,      0.9924,\n",
      "            0.99239,     0.99239,     0.99238,     0.99238,     0.99237,     0.99237,     0.99233,     0.99221,     0.99216,     0.99213,     0.99209,     0.99206,     0.99204,     0.99202,     0.99376,           1,           1,           1,           1,           1,           1,           1,           1,\n",
      "                  1,           1,           1,           1,           1,           1,           1,           1,           1,           1,           1,           1,           1,           1,           1,           1,           1,           1,           1,           1,           1,           1,           1,\n",
      "                  1,           1,           1,           1,           1,           1,           1,           1,           1,           1,           1,           1,           1,           1,           1,           1,           1,           1,           1,           1,           1,           1,           1,\n",
      "                  1,           1,           1,           1,           1,           1,           1,           1,           1,           1,           1,           1,           1,           1,           1,           1,           1,           1,           1,           1,           1,           1,           1,\n",
      "                  1,           1,           1,           1,           1,           1,           1,           1,           1,           1,           1,           1,           1,           1,           1,           1,           1,           1,           1,           1,           1,           1,           1,\n",
      "                  1,           1,           1,           1,           1,           1,           1,           1,           1,           1,           1,           1,           1,           1,           1,           1,           1,           1,           1,           1,           1,           1,           1,\n",
      "                  1,           1,           1,           1,           1,           1,           1,           1,           1,           1,           1,           1,           1,           1,           1,           1,           1,           1,           1,           1,           1,           1,           1,\n",
      "                  1,           1,           1,           1,           1,           1,           1,           1,           1,           1,           1,           1,           1,           1,           1,           1,           1,           1,           1,           1,           1,           1,           1,\n",
      "                  1,           1,           1,           1,           1,           1,           1,           1,           1,           1,           1,           1,           1,           1,           1,           1,           1,           1,           1,           1,           1,           1,           1,\n",
      "                  1,           1,           1,           1,           1,           1,           1,           1,           1,           1,           1]]), 'Confidence', 'Precision'], [array([          0,    0.001001,    0.002002,    0.003003,    0.004004,    0.005005,    0.006006,    0.007007,    0.008008,    0.009009,     0.01001,    0.011011,    0.012012,    0.013013,    0.014014,    0.015015,    0.016016,    0.017017,    0.018018,    0.019019,     0.02002,    0.021021,    0.022022,    0.023023,\n",
      "          0.024024,    0.025025,    0.026026,    0.027027,    0.028028,    0.029029,     0.03003,    0.031031,    0.032032,    0.033033,    0.034034,    0.035035,    0.036036,    0.037037,    0.038038,    0.039039,     0.04004,    0.041041,    0.042042,    0.043043,    0.044044,    0.045045,    0.046046,    0.047047,\n",
      "          0.048048,    0.049049,     0.05005,    0.051051,    0.052052,    0.053053,    0.054054,    0.055055,    0.056056,    0.057057,    0.058058,    0.059059,     0.06006,    0.061061,    0.062062,    0.063063,    0.064064,    0.065065,    0.066066,    0.067067,    0.068068,    0.069069,     0.07007,    0.071071,\n",
      "          0.072072,    0.073073,    0.074074,    0.075075,    0.076076,    0.077077,    0.078078,    0.079079,     0.08008,    0.081081,    0.082082,    0.083083,    0.084084,    0.085085,    0.086086,    0.087087,    0.088088,    0.089089,     0.09009,    0.091091,    0.092092,    0.093093,    0.094094,    0.095095,\n",
      "          0.096096,    0.097097,    0.098098,    0.099099,      0.1001,      0.1011,      0.1021,      0.1031,      0.1041,     0.10511,     0.10611,     0.10711,     0.10811,     0.10911,     0.11011,     0.11111,     0.11211,     0.11311,     0.11411,     0.11512,     0.11612,     0.11712,     0.11812,     0.11912,\n",
      "           0.12012,     0.12112,     0.12212,     0.12312,     0.12412,     0.12513,     0.12613,     0.12713,     0.12813,     0.12913,     0.13013,     0.13113,     0.13213,     0.13313,     0.13413,     0.13514,     0.13614,     0.13714,     0.13814,     0.13914,     0.14014,     0.14114,     0.14214,     0.14314,\n",
      "           0.14414,     0.14515,     0.14615,     0.14715,     0.14815,     0.14915,     0.15015,     0.15115,     0.15215,     0.15315,     0.15415,     0.15516,     0.15616,     0.15716,     0.15816,     0.15916,     0.16016,     0.16116,     0.16216,     0.16316,     0.16416,     0.16517,     0.16617,     0.16717,\n",
      "           0.16817,     0.16917,     0.17017,     0.17117,     0.17217,     0.17317,     0.17417,     0.17518,     0.17618,     0.17718,     0.17818,     0.17918,     0.18018,     0.18118,     0.18218,     0.18318,     0.18418,     0.18519,     0.18619,     0.18719,     0.18819,     0.18919,     0.19019,     0.19119,\n",
      "           0.19219,     0.19319,     0.19419,      0.1952,      0.1962,      0.1972,      0.1982,      0.1992,      0.2002,      0.2012,      0.2022,      0.2032,      0.2042,     0.20521,     0.20621,     0.20721,     0.20821,     0.20921,     0.21021,     0.21121,     0.21221,     0.21321,     0.21421,     0.21522,\n",
      "           0.21622,     0.21722,     0.21822,     0.21922,     0.22022,     0.22122,     0.22222,     0.22322,     0.22422,     0.22523,     0.22623,     0.22723,     0.22823,     0.22923,     0.23023,     0.23123,     0.23223,     0.23323,     0.23423,     0.23524,     0.23624,     0.23724,     0.23824,     0.23924,\n",
      "           0.24024,     0.24124,     0.24224,     0.24324,     0.24424,     0.24525,     0.24625,     0.24725,     0.24825,     0.24925,     0.25025,     0.25125,     0.25225,     0.25325,     0.25425,     0.25526,     0.25626,     0.25726,     0.25826,     0.25926,     0.26026,     0.26126,     0.26226,     0.26326,\n",
      "           0.26426,     0.26527,     0.26627,     0.26727,     0.26827,     0.26927,     0.27027,     0.27127,     0.27227,     0.27327,     0.27427,     0.27528,     0.27628,     0.27728,     0.27828,     0.27928,     0.28028,     0.28128,     0.28228,     0.28328,     0.28428,     0.28529,     0.28629,     0.28729,\n",
      "           0.28829,     0.28929,     0.29029,     0.29129,     0.29229,     0.29329,     0.29429,      0.2953,      0.2963,      0.2973,      0.2983,      0.2993,      0.3003,      0.3013,      0.3023,      0.3033,      0.3043,     0.30531,     0.30631,     0.30731,     0.30831,     0.30931,     0.31031,     0.31131,\n",
      "           0.31231,     0.31331,     0.31431,     0.31532,     0.31632,     0.31732,     0.31832,     0.31932,     0.32032,     0.32132,     0.32232,     0.32332,     0.32432,     0.32533,     0.32633,     0.32733,     0.32833,     0.32933,     0.33033,     0.33133,     0.33233,     0.33333,     0.33433,     0.33534,\n",
      "           0.33634,     0.33734,     0.33834,     0.33934,     0.34034,     0.34134,     0.34234,     0.34334,     0.34434,     0.34535,     0.34635,     0.34735,     0.34835,     0.34935,     0.35035,     0.35135,     0.35235,     0.35335,     0.35435,     0.35536,     0.35636,     0.35736,     0.35836,     0.35936,\n",
      "           0.36036,     0.36136,     0.36236,     0.36336,     0.36436,     0.36537,     0.36637,     0.36737,     0.36837,     0.36937,     0.37037,     0.37137,     0.37237,     0.37337,     0.37437,     0.37538,     0.37638,     0.37738,     0.37838,     0.37938,     0.38038,     0.38138,     0.38238,     0.38338,\n",
      "           0.38438,     0.38539,     0.38639,     0.38739,     0.38839,     0.38939,     0.39039,     0.39139,     0.39239,     0.39339,     0.39439,      0.3954,      0.3964,      0.3974,      0.3984,      0.3994,      0.4004,      0.4014,      0.4024,      0.4034,      0.4044,     0.40541,     0.40641,     0.40741,\n",
      "           0.40841,     0.40941,     0.41041,     0.41141,     0.41241,     0.41341,     0.41441,     0.41542,     0.41642,     0.41742,     0.41842,     0.41942,     0.42042,     0.42142,     0.42242,     0.42342,     0.42442,     0.42543,     0.42643,     0.42743,     0.42843,     0.42943,     0.43043,     0.43143,\n",
      "           0.43243,     0.43343,     0.43443,     0.43544,     0.43644,     0.43744,     0.43844,     0.43944,     0.44044,     0.44144,     0.44244,     0.44344,     0.44444,     0.44545,     0.44645,     0.44745,     0.44845,     0.44945,     0.45045,     0.45145,     0.45245,     0.45345,     0.45445,     0.45546,\n",
      "           0.45646,     0.45746,     0.45846,     0.45946,     0.46046,     0.46146,     0.46246,     0.46346,     0.46446,     0.46547,     0.46647,     0.46747,     0.46847,     0.46947,     0.47047,     0.47147,     0.47247,     0.47347,     0.47447,     0.47548,     0.47648,     0.47748,     0.47848,     0.47948,\n",
      "           0.48048,     0.48148,     0.48248,     0.48348,     0.48448,     0.48549,     0.48649,     0.48749,     0.48849,     0.48949,     0.49049,     0.49149,     0.49249,     0.49349,     0.49449,      0.4955,      0.4965,      0.4975,      0.4985,      0.4995,      0.5005,      0.5015,      0.5025,      0.5035,\n",
      "            0.5045,     0.50551,     0.50651,     0.50751,     0.50851,     0.50951,     0.51051,     0.51151,     0.51251,     0.51351,     0.51451,     0.51552,     0.51652,     0.51752,     0.51852,     0.51952,     0.52052,     0.52152,     0.52252,     0.52352,     0.52452,     0.52553,     0.52653,     0.52753,\n",
      "           0.52853,     0.52953,     0.53053,     0.53153,     0.53253,     0.53353,     0.53453,     0.53554,     0.53654,     0.53754,     0.53854,     0.53954,     0.54054,     0.54154,     0.54254,     0.54354,     0.54454,     0.54555,     0.54655,     0.54755,     0.54855,     0.54955,     0.55055,     0.55155,\n",
      "           0.55255,     0.55355,     0.55455,     0.55556,     0.55656,     0.55756,     0.55856,     0.55956,     0.56056,     0.56156,     0.56256,     0.56356,     0.56456,     0.56557,     0.56657,     0.56757,     0.56857,     0.56957,     0.57057,     0.57157,     0.57257,     0.57357,     0.57457,     0.57558,\n",
      "           0.57658,     0.57758,     0.57858,     0.57958,     0.58058,     0.58158,     0.58258,     0.58358,     0.58458,     0.58559,     0.58659,     0.58759,     0.58859,     0.58959,     0.59059,     0.59159,     0.59259,     0.59359,     0.59459,      0.5956,      0.5966,      0.5976,      0.5986,      0.5996,\n",
      "            0.6006,      0.6016,      0.6026,      0.6036,      0.6046,     0.60561,     0.60661,     0.60761,     0.60861,     0.60961,     0.61061,     0.61161,     0.61261,     0.61361,     0.61461,     0.61562,     0.61662,     0.61762,     0.61862,     0.61962,     0.62062,     0.62162,     0.62262,     0.62362,\n",
      "           0.62462,     0.62563,     0.62663,     0.62763,     0.62863,     0.62963,     0.63063,     0.63163,     0.63263,     0.63363,     0.63463,     0.63564,     0.63664,     0.63764,     0.63864,     0.63964,     0.64064,     0.64164,     0.64264,     0.64364,     0.64464,     0.64565,     0.64665,     0.64765,\n",
      "           0.64865,     0.64965,     0.65065,     0.65165,     0.65265,     0.65365,     0.65465,     0.65566,     0.65666,     0.65766,     0.65866,     0.65966,     0.66066,     0.66166,     0.66266,     0.66366,     0.66466,     0.66567,     0.66667,     0.66767,     0.66867,     0.66967,     0.67067,     0.67167,\n",
      "           0.67267,     0.67367,     0.67467,     0.67568,     0.67668,     0.67768,     0.67868,     0.67968,     0.68068,     0.68168,     0.68268,     0.68368,     0.68468,     0.68569,     0.68669,     0.68769,     0.68869,     0.68969,     0.69069,     0.69169,     0.69269,     0.69369,     0.69469,      0.6957,\n",
      "            0.6967,      0.6977,      0.6987,      0.6997,      0.7007,      0.7017,      0.7027,      0.7037,      0.7047,     0.70571,     0.70671,     0.70771,     0.70871,     0.70971,     0.71071,     0.71171,     0.71271,     0.71371,     0.71471,     0.71572,     0.71672,     0.71772,     0.71872,     0.71972,\n",
      "           0.72072,     0.72172,     0.72272,     0.72372,     0.72472,     0.72573,     0.72673,     0.72773,     0.72873,     0.72973,     0.73073,     0.73173,     0.73273,     0.73373,     0.73473,     0.73574,     0.73674,     0.73774,     0.73874,     0.73974,     0.74074,     0.74174,     0.74274,     0.74374,\n",
      "           0.74474,     0.74575,     0.74675,     0.74775,     0.74875,     0.74975,     0.75075,     0.75175,     0.75275,     0.75375,     0.75475,     0.75576,     0.75676,     0.75776,     0.75876,     0.75976,     0.76076,     0.76176,     0.76276,     0.76376,     0.76476,     0.76577,     0.76677,     0.76777,\n",
      "           0.76877,     0.76977,     0.77077,     0.77177,     0.77277,     0.77377,     0.77477,     0.77578,     0.77678,     0.77778,     0.77878,     0.77978,     0.78078,     0.78178,     0.78278,     0.78378,     0.78478,     0.78579,     0.78679,     0.78779,     0.78879,     0.78979,     0.79079,     0.79179,\n",
      "           0.79279,     0.79379,     0.79479,      0.7958,      0.7968,      0.7978,      0.7988,      0.7998,      0.8008,      0.8018,      0.8028,      0.8038,      0.8048,     0.80581,     0.80681,     0.80781,     0.80881,     0.80981,     0.81081,     0.81181,     0.81281,     0.81381,     0.81481,     0.81582,\n",
      "           0.81682,     0.81782,     0.81882,     0.81982,     0.82082,     0.82182,     0.82282,     0.82382,     0.82482,     0.82583,     0.82683,     0.82783,     0.82883,     0.82983,     0.83083,     0.83183,     0.83283,     0.83383,     0.83483,     0.83584,     0.83684,     0.83784,     0.83884,     0.83984,\n",
      "           0.84084,     0.84184,     0.84284,     0.84384,     0.84484,     0.84585,     0.84685,     0.84785,     0.84885,     0.84985,     0.85085,     0.85185,     0.85285,     0.85385,     0.85485,     0.85586,     0.85686,     0.85786,     0.85886,     0.85986,     0.86086,     0.86186,     0.86286,     0.86386,\n",
      "           0.86486,     0.86587,     0.86687,     0.86787,     0.86887,     0.86987,     0.87087,     0.87187,     0.87287,     0.87387,     0.87487,     0.87588,     0.87688,     0.87788,     0.87888,     0.87988,     0.88088,     0.88188,     0.88288,     0.88388,     0.88488,     0.88589,     0.88689,     0.88789,\n",
      "           0.88889,     0.88989,     0.89089,     0.89189,     0.89289,     0.89389,     0.89489,      0.8959,      0.8969,      0.8979,      0.8989,      0.8999,      0.9009,      0.9019,      0.9029,      0.9039,      0.9049,     0.90591,     0.90691,     0.90791,     0.90891,     0.90991,     0.91091,     0.91191,\n",
      "           0.91291,     0.91391,     0.91491,     0.91592,     0.91692,     0.91792,     0.91892,     0.91992,     0.92092,     0.92192,     0.92292,     0.92392,     0.92492,     0.92593,     0.92693,     0.92793,     0.92893,     0.92993,     0.93093,     0.93193,     0.93293,     0.93393,     0.93493,     0.93594,\n",
      "           0.93694,     0.93794,     0.93894,     0.93994,     0.94094,     0.94194,     0.94294,     0.94394,     0.94494,     0.94595,     0.94695,     0.94795,     0.94895,     0.94995,     0.95095,     0.95195,     0.95295,     0.95395,     0.95495,     0.95596,     0.95696,     0.95796,     0.95896,     0.95996,\n",
      "           0.96096,     0.96196,     0.96296,     0.96396,     0.96496,     0.96597,     0.96697,     0.96797,     0.96897,     0.96997,     0.97097,     0.97197,     0.97297,     0.97397,     0.97497,     0.97598,     0.97698,     0.97798,     0.97898,     0.97998,     0.98098,     0.98198,     0.98298,     0.98398,\n",
      "           0.98498,     0.98599,     0.98699,     0.98799,     0.98899,     0.98999,     0.99099,     0.99199,     0.99299,     0.99399,     0.99499,       0.996,       0.997,       0.998,       0.999,           1]), array([[          1,           1,           1,           1,           1,           1,           1,           1,           1,           1,           1,           1,           1,           1,           1,           1,           1,           1,           1,           1,           1,           1,           1,\n",
      "                  1,           1,           1,           1,           1,           1,           1,           1,           1,           1,           1,           1,           1,           1,           1,           1,      0.9952,     0.99444,     0.99444,     0.99444,     0.99444,     0.99444,     0.99444,\n",
      "            0.99444,     0.99444,     0.99444,     0.99444,     0.99444,     0.99444,     0.99444,     0.99444,     0.99444,     0.99444,     0.99444,     0.99444,     0.99444,     0.99444,     0.99444,     0.99039,     0.98889,     0.98889,     0.98889,     0.98889,     0.98889,     0.98889,     0.98889,\n",
      "            0.98889,     0.98889,     0.98877,     0.98828,     0.98779,      0.9873,     0.98681,     0.98632,     0.98583,     0.98534,     0.98485,     0.98436,     0.98387,     0.98338,     0.98333,     0.98333,     0.98333,     0.98333,     0.98333,     0.98333,     0.98333,     0.98333,     0.98333,\n",
      "            0.98333,     0.98333,     0.98333,     0.98333,     0.98333,     0.98333,     0.98333,     0.98333,     0.98333,     0.98333,     0.98333,     0.98333,     0.98333,     0.98333,     0.98333,     0.98333,     0.98333,     0.98333,     0.98333,     0.98333,     0.98333,     0.98333,     0.98333,\n",
      "            0.98333,     0.98333,     0.98333,     0.98287,     0.98218,      0.9815,     0.98081,     0.98012,     0.97943,     0.97874,     0.97805,     0.97778,     0.97778,     0.97778,     0.97778,     0.97778,     0.97778,     0.97778,     0.97778,     0.97778,     0.97778,     0.97778,     0.97778,\n",
      "            0.97778,     0.97778,     0.97778,     0.97778,     0.97778,     0.97768,     0.97739,      0.9771,     0.97682,     0.97653,     0.97624,     0.97595,     0.97566,     0.97538,     0.97509,      0.9748,     0.97451,     0.97422,     0.97394,     0.97365,     0.97336,     0.97307,     0.97278,\n",
      "             0.9725,     0.97222,     0.97222,     0.97222,     0.97222,     0.97222,     0.97222,     0.97222,     0.97222,     0.97222,     0.97222,     0.97222,     0.97222,     0.97222,     0.97222,     0.97222,     0.97222,     0.97222,     0.97222,     0.97222,     0.97222,     0.97222,     0.97222,\n",
      "            0.97222,     0.97222,     0.97222,     0.97222,     0.97222,     0.97222,     0.97222,     0.97222,     0.97222,     0.97222,     0.97222,     0.97222,     0.97222,     0.97222,     0.97222,     0.97222,     0.97222,     0.97222,     0.97222,     0.97222,     0.97222,     0.97222,     0.97222,\n",
      "            0.97222,     0.97222,     0.97222,     0.97222,     0.97222,     0.97222,     0.97222,     0.97222,     0.97222,     0.97222,     0.97222,     0.97222,     0.97222,     0.97222,     0.97222,     0.97222,     0.97222,     0.97222,     0.97222,     0.97222,     0.97222,     0.97222,     0.97222,\n",
      "            0.97222,     0.97222,     0.97222,     0.97222,     0.97222,     0.97222,     0.97222,     0.97222,     0.97222,     0.97222,     0.97222,     0.97222,     0.97222,     0.97222,     0.97222,     0.97222,     0.97222,     0.97222,     0.97222,     0.97222,     0.97222,     0.97222,     0.97222,\n",
      "            0.97222,     0.97222,     0.97222,     0.97222,     0.97222,     0.97222,     0.97222,     0.97222,     0.97222,     0.97222,     0.97222,     0.97222,     0.97222,     0.97222,     0.97222,     0.97222,     0.97222,     0.97222,     0.97222,     0.97222,     0.97222,     0.97222,     0.97222,\n",
      "            0.97222,     0.97222,     0.97222,     0.97222,     0.97222,     0.97222,     0.97222,     0.97222,     0.97222,     0.97222,     0.97222,     0.97222,     0.97222,     0.97222,     0.97222,     0.97222,     0.97222,     0.97222,     0.97222,     0.97222,     0.97222,     0.97222,     0.97222,\n",
      "            0.97101,     0.96695,     0.96667,     0.96667,     0.96667,     0.96667,     0.96667,     0.96667,     0.96667,     0.96667,     0.96667,     0.96667,     0.96667,     0.96667,     0.96667,     0.96667,     0.96667,     0.96667,     0.96667,     0.96667,     0.96667,     0.96667,     0.96667,\n",
      "            0.96667,     0.96667,     0.96667,     0.96667,     0.96667,     0.96667,     0.96667,     0.96667,     0.96667,     0.96667,     0.96667,     0.96667,     0.96667,     0.96667,     0.96667,     0.96667,     0.96667,     0.96667,     0.96667,     0.96667,     0.96667,     0.96667,     0.96667,\n",
      "            0.96667,     0.96667,     0.96667,     0.96667,     0.96667,     0.96667,     0.96667,     0.96667,     0.96667,     0.96667,     0.96667,     0.96667,     0.96667,     0.96667,     0.96667,     0.96667,     0.96667,     0.96667,     0.96667,     0.96667,     0.96667,     0.96667,     0.96667,\n",
      "            0.96667,     0.96667,     0.96667,     0.96667,     0.96667,     0.96667,     0.96667,     0.96667,     0.96667,     0.96667,     0.96667,     0.96667,     0.96667,     0.96667,     0.96667,     0.96667,     0.96667,     0.96667,     0.96667,     0.96667,     0.96667,     0.96667,     0.96667,\n",
      "            0.96667,     0.96667,     0.96667,     0.96667,     0.96667,     0.96667,     0.96667,     0.96667,     0.96667,     0.96667,     0.96667,     0.96667,     0.96667,     0.96667,     0.96667,     0.96667,     0.96667,     0.96667,     0.96667,     0.96667,     0.96667,     0.96667,     0.96667,\n",
      "            0.96667,     0.96667,     0.96667,     0.96667,     0.96667,     0.96667,     0.96667,     0.96667,     0.96667,     0.96667,     0.96667,     0.96667,     0.96667,     0.96667,     0.96667,     0.96667,     0.96667,     0.96667,     0.96667,     0.96667,     0.96667,     0.96667,     0.96667,\n",
      "            0.96667,     0.96667,     0.96667,     0.96667,     0.96667,     0.96667,     0.96667,     0.96667,     0.96667,     0.96667,     0.96667,     0.96667,     0.96658,     0.96636,     0.96613,     0.96591,     0.96569,     0.96546,     0.96524,     0.96501,     0.96479,     0.96457,     0.96434,\n",
      "            0.96412,     0.96389,     0.96367,     0.96345,     0.96322,       0.963,     0.96277,     0.96255,     0.96233,      0.9621,     0.96188,     0.96165,     0.96143,     0.96121,     0.96111,     0.96111,     0.96111,     0.96111,     0.96111,     0.96111,     0.96111,     0.96111,     0.96111,\n",
      "            0.96111,     0.96111,     0.96111,     0.96111,     0.96111,     0.96111,     0.96111,     0.96111,     0.96111,     0.96111,     0.96111,     0.96111,     0.96111,     0.96111,     0.96111,     0.96111,     0.96111,     0.96111,     0.96111,     0.96111,     0.96108,     0.96097,     0.96087,\n",
      "            0.96076,     0.96065,     0.96055,     0.96044,     0.96033,     0.96022,     0.96012,     0.96001,      0.9599,      0.9598,     0.95969,     0.95958,     0.95948,     0.95937,     0.95926,     0.95916,     0.95905,     0.95894,     0.95884,     0.95873,     0.95862,     0.95851,     0.95841,\n",
      "             0.9583,     0.95819,     0.95809,     0.95798,     0.95787,     0.95777,     0.95766,     0.95755,     0.95745,     0.95734,     0.95723,     0.95713,     0.95702,     0.95691,      0.9568,      0.9567,     0.95659,     0.95648,     0.95638,     0.95627,     0.95616,     0.95606,     0.95595,\n",
      "            0.95584,     0.95574,     0.95563,     0.95556,     0.95556,     0.95556,     0.95556,     0.95556,     0.95538,     0.95482,     0.95426,      0.9537,     0.95315,     0.95259,     0.95203,     0.95148,     0.95092,     0.95036,     0.94878,     0.94532,     0.94444,     0.94444,     0.94444,\n",
      "            0.94444,     0.94444,     0.94444,     0.94444,     0.94444,     0.94444,     0.94444,     0.94444,     0.94444,     0.94444,     0.94444,     0.94444,     0.94444,      0.9443,     0.94364,     0.94298,     0.94232,     0.94166,       0.941,     0.94034,     0.93968,     0.93902,     0.93757,\n",
      "            0.93593,      0.9343,     0.93326,     0.93307,     0.93288,     0.93269,      0.9325,      0.9323,     0.93211,     0.93192,     0.93173,     0.93154,     0.93135,     0.93116,     0.93097,     0.93078,     0.93059,      0.9304,     0.93021,     0.93002,     0.92983,     0.92964,     0.92945,\n",
      "            0.92926,     0.92907,     0.92888,     0.92869,      0.9285,     0.92831,     0.92812,     0.92793,     0.92778,     0.92778,     0.92778,     0.92778,     0.92778,     0.92739,     0.92692,     0.92645,     0.92598,      0.9255,     0.92503,     0.92456,     0.92409,     0.92362,     0.92314,\n",
      "            0.92267,     0.92221,     0.92205,     0.92189,     0.92172,     0.92156,     0.92139,     0.92123,     0.92107,      0.9209,     0.92074,     0.92057,     0.92041,     0.92025,     0.92008,     0.91992,     0.91975,     0.91959,     0.91943,     0.91926,      0.9191,     0.91893,     0.91877,\n",
      "            0.91861,     0.91844,     0.91828,     0.91811,     0.91795,     0.91779,     0.91762,     0.91746,     0.91729,     0.91713,     0.91697,      0.9168,     0.91641,     0.91494,     0.91348,     0.91201,     0.90735,     0.90027,     0.89948,     0.89893,     0.89838,     0.89784,     0.89729,\n",
      "            0.89674,     0.89619,     0.89565,      0.8951,     0.89455,     0.89096,     0.88843,     0.88755,     0.88667,     0.88579,     0.88491,     0.88403,     0.88333,     0.88333,     0.88333,     0.88284,     0.88183,     0.88082,     0.87981,      0.8788,     0.87779,     0.87718,     0.87657,\n",
      "            0.87595,     0.87534,     0.87473,     0.87412,     0.87351,      0.8729,     0.87229,     0.87094,     0.86951,     0.86807,     0.86661,      0.8642,      0.8618,     0.86006,      0.8586,     0.85713,     0.85567,     0.84323,     0.83807,       0.837,     0.83593,     0.83486,     0.83379,\n",
      "            0.82998,      0.8273,     0.82652,     0.82575,     0.82497,      0.8242,     0.82342,     0.82265,     0.81945,     0.81312,     0.80986,     0.80804,     0.80622,     0.80467,     0.80328,     0.80189,      0.8005,     0.78604,     0.78302,     0.78254,     0.78206,     0.78158,      0.7811,\n",
      "            0.78062,     0.78014,     0.77965,     0.77917,     0.77869,     0.77821,     0.77721,     0.77161,     0.76611,     0.76317,     0.75331,      0.7473,     0.74347,     0.74051,     0.73311,     0.73016,     0.72769,     0.72725,     0.72681,     0.72636,     0.72592,     0.72548,     0.72504,\n",
      "            0.72459,     0.72415,     0.72371,     0.72327,     0.72282,     0.72238,     0.71917,     0.70781,     0.70326,     0.70055,     0.69692,     0.69381,     0.69205,     0.69028,     0.68889,     0.68766,     0.68302,      0.6794,     0.67086,     0.66813,     0.66033,     0.65856,      0.6568,\n",
      "            0.65468,     0.65174,     0.64475,     0.64346,     0.64245,     0.64144,     0.64043,     0.63943,     0.63672,     0.63093,     0.61651,     0.61352,     0.61055,     0.60764,     0.60042,     0.59681,     0.59399,     0.59234,     0.59068,     0.58903,     0.56934,     0.55902,     0.55629,\n",
      "            0.54742,     0.54254,     0.53366,     0.52644,     0.52359,      0.5183,     0.50983,     0.50378,     0.50156,     0.49769,     0.49195,     0.48821,      0.4858,     0.48339,     0.47978,     0.46879,     0.46435,     0.46179,     0.45874,     0.45522,     0.42771,      0.4239,     0.41849,\n",
      "             0.4114,     0.40594,     0.40072,     0.39606,      0.3894,     0.38524,     0.37753,     0.37163,     0.36738,      0.3617,     0.35386,      0.3491,     0.34743,     0.34576,     0.34264,     0.33657,     0.32806,     0.32452,      0.3203,     0.31401,     0.29854,     0.28805,     0.28408,\n",
      "            0.27898,     0.27365,     0.26795,     0.25529,     0.24309,     0.23371,     0.23004,     0.22221,     0.21811,     0.21498,     0.21237,     0.19684,     0.18758,     0.18466,     0.17263,      0.1688,     0.16023,     0.15784,      0.1553,     0.14808,     0.13838,     0.13658,     0.13478,\n",
      "            0.13171,     0.12192,     0.11842,     0.10737,     0.10299,     0.10008,    0.086745,     0.08263,    0.080332,    0.078033,     0.06946,    0.064158,    0.054191,    0.049573,    0.048228,    0.046883,    0.045538,    0.044272,    0.043351,     0.04243,    0.041509,    0.040588,    0.039667,\n",
      "           0.038566,    0.036484,    0.034403,     0.03079,    0.026379,    0.023079,    0.013119,           0,           0,           0,           0,           0,           0,           0,           0,           0,           0,           0,           0,           0,           0,           0,           0,\n",
      "                  0,           0,           0,           0,           0,           0,           0,           0,           0,           0,           0,           0,           0,           0,           0,           0,           0,           0,           0,           0,           0,           0,           0,\n",
      "                  0,           0,           0,           0,           0,           0,           0,           0,           0,           0,           0,           0,           0,           0,           0,           0,           0,           0,           0,           0,           0,           0,           0,\n",
      "                  0,           0,           0,           0,           0,           0,           0,           0,           0,           0,           0]]), 'Confidence', 'Recall']]\n",
      "fitness: 0.7366374199312243\n",
      "keys: ['metrics/precision(B)', 'metrics/recall(B)', 'metrics/mAP50(B)', 'metrics/mAP50-95(B)']\n",
      "maps: array([    0.70865])\n",
      "names: {0: 'drone'}\n",
      "plot: True\n",
      "results_dict: {'metrics/precision(B)': 0.9708524422082464, 'metrics/recall(B)': 0.9611111111111111, 'metrics/mAP50(B)': 0.9885638883329991, 'metrics/mAP50-95(B)': 0.7086455901088049, 'fitness': 0.7366374199312243}\n",
      "save_dir: PosixPath('runs/detect/train2')\n",
      "speed: {'preprocess': 2.1957488147759, 'inference': 129.83990739459642, 'loss': 6.582108012006327e-05, 'postprocess': 0.508381545177998}\n",
      "task: 'detect'\n",
      "Ultralytics 8.3.31 🚀 Python-3.12.7 torch-2.5.1+cu124 CPU (Intel Core(TM) i3-7020U 2.30GHz)\n"
     ]
    },
    {
     "name": "stderr",
     "output_type": "stream",
     "text": [
      "\u001b[34m\u001b[1mval: \u001b[0mScanning /home/avivyh/Documentos/SINFO/dataset/labels/test... 164 images, 0 backgrounds, 0 corrupt: 100%|██████████| 164/164 [00:00<00:00, 401.97it/s]"
     ]
    },
    {
     "name": "stdout",
     "output_type": "stream",
     "text": [
      "\u001b[34m\u001b[1mval: \u001b[0mNew cache created: /home/avivyh/Documentos/SINFO/dataset/labels/test.cache\n"
     ]
    },
    {
     "name": "stderr",
     "output_type": "stream",
     "text": [
      "\n",
      "                 Class     Images  Instances      Box(P          R      mAP50  mAP50-95):  45%|████▌     | 5/11 [00:10<00:12,  2.11s/it]libpng warning: iCCP: known incorrect sRGB profile\n",
      "                 Class     Images  Instances      Box(P          R      mAP50  mAP50-95): 100%|██████████| 11/11 [00:25<00:00,  2.30s/it]\n"
     ]
    },
    {
     "name": "stdout",
     "output_type": "stream",
     "text": [
      "                   all        164        176      0.951      0.949      0.958      0.659\n",
      "Speed: 2.2ms preprocess, 129.2ms inference, 0.0ms loss, 0.5ms postprocess per image\n",
      "Results saved to \u001b[1mruns/detect/train3\u001b[0m\n",
      "Métricas de Teste: ultralytics.utils.metrics.DetMetrics object with attributes:\n",
      "\n",
      "ap_class_index: array([0])\n",
      "box: ultralytics.utils.metrics.Metric object\n",
      "confusion_matrix: <ultralytics.utils.metrics.ConfusionMatrix object at 0x7e1d49fb1d00>\n",
      "curves: ['Precision-Recall(B)', 'F1-Confidence(B)', 'Precision-Confidence(B)', 'Recall-Confidence(B)']\n",
      "curves_results: [[array([          0,    0.001001,    0.002002,    0.003003,    0.004004,    0.005005,    0.006006,    0.007007,    0.008008,    0.009009,     0.01001,    0.011011,    0.012012,    0.013013,    0.014014,    0.015015,    0.016016,    0.017017,    0.018018,    0.019019,     0.02002,    0.021021,    0.022022,    0.023023,\n",
      "          0.024024,    0.025025,    0.026026,    0.027027,    0.028028,    0.029029,     0.03003,    0.031031,    0.032032,    0.033033,    0.034034,    0.035035,    0.036036,    0.037037,    0.038038,    0.039039,     0.04004,    0.041041,    0.042042,    0.043043,    0.044044,    0.045045,    0.046046,    0.047047,\n",
      "          0.048048,    0.049049,     0.05005,    0.051051,    0.052052,    0.053053,    0.054054,    0.055055,    0.056056,    0.057057,    0.058058,    0.059059,     0.06006,    0.061061,    0.062062,    0.063063,    0.064064,    0.065065,    0.066066,    0.067067,    0.068068,    0.069069,     0.07007,    0.071071,\n",
      "          0.072072,    0.073073,    0.074074,    0.075075,    0.076076,    0.077077,    0.078078,    0.079079,     0.08008,    0.081081,    0.082082,    0.083083,    0.084084,    0.085085,    0.086086,    0.087087,    0.088088,    0.089089,     0.09009,    0.091091,    0.092092,    0.093093,    0.094094,    0.095095,\n",
      "          0.096096,    0.097097,    0.098098,    0.099099,      0.1001,      0.1011,      0.1021,      0.1031,      0.1041,     0.10511,     0.10611,     0.10711,     0.10811,     0.10911,     0.11011,     0.11111,     0.11211,     0.11311,     0.11411,     0.11512,     0.11612,     0.11712,     0.11812,     0.11912,\n",
      "           0.12012,     0.12112,     0.12212,     0.12312,     0.12412,     0.12513,     0.12613,     0.12713,     0.12813,     0.12913,     0.13013,     0.13113,     0.13213,     0.13313,     0.13413,     0.13514,     0.13614,     0.13714,     0.13814,     0.13914,     0.14014,     0.14114,     0.14214,     0.14314,\n",
      "           0.14414,     0.14515,     0.14615,     0.14715,     0.14815,     0.14915,     0.15015,     0.15115,     0.15215,     0.15315,     0.15415,     0.15516,     0.15616,     0.15716,     0.15816,     0.15916,     0.16016,     0.16116,     0.16216,     0.16316,     0.16416,     0.16517,     0.16617,     0.16717,\n",
      "           0.16817,     0.16917,     0.17017,     0.17117,     0.17217,     0.17317,     0.17417,     0.17518,     0.17618,     0.17718,     0.17818,     0.17918,     0.18018,     0.18118,     0.18218,     0.18318,     0.18418,     0.18519,     0.18619,     0.18719,     0.18819,     0.18919,     0.19019,     0.19119,\n",
      "           0.19219,     0.19319,     0.19419,      0.1952,      0.1962,      0.1972,      0.1982,      0.1992,      0.2002,      0.2012,      0.2022,      0.2032,      0.2042,     0.20521,     0.20621,     0.20721,     0.20821,     0.20921,     0.21021,     0.21121,     0.21221,     0.21321,     0.21421,     0.21522,\n",
      "           0.21622,     0.21722,     0.21822,     0.21922,     0.22022,     0.22122,     0.22222,     0.22322,     0.22422,     0.22523,     0.22623,     0.22723,     0.22823,     0.22923,     0.23023,     0.23123,     0.23223,     0.23323,     0.23423,     0.23524,     0.23624,     0.23724,     0.23824,     0.23924,\n",
      "           0.24024,     0.24124,     0.24224,     0.24324,     0.24424,     0.24525,     0.24625,     0.24725,     0.24825,     0.24925,     0.25025,     0.25125,     0.25225,     0.25325,     0.25425,     0.25526,     0.25626,     0.25726,     0.25826,     0.25926,     0.26026,     0.26126,     0.26226,     0.26326,\n",
      "           0.26426,     0.26527,     0.26627,     0.26727,     0.26827,     0.26927,     0.27027,     0.27127,     0.27227,     0.27327,     0.27427,     0.27528,     0.27628,     0.27728,     0.27828,     0.27928,     0.28028,     0.28128,     0.28228,     0.28328,     0.28428,     0.28529,     0.28629,     0.28729,\n",
      "           0.28829,     0.28929,     0.29029,     0.29129,     0.29229,     0.29329,     0.29429,      0.2953,      0.2963,      0.2973,      0.2983,      0.2993,      0.3003,      0.3013,      0.3023,      0.3033,      0.3043,     0.30531,     0.30631,     0.30731,     0.30831,     0.30931,     0.31031,     0.31131,\n",
      "           0.31231,     0.31331,     0.31431,     0.31532,     0.31632,     0.31732,     0.31832,     0.31932,     0.32032,     0.32132,     0.32232,     0.32332,     0.32432,     0.32533,     0.32633,     0.32733,     0.32833,     0.32933,     0.33033,     0.33133,     0.33233,     0.33333,     0.33433,     0.33534,\n",
      "           0.33634,     0.33734,     0.33834,     0.33934,     0.34034,     0.34134,     0.34234,     0.34334,     0.34434,     0.34535,     0.34635,     0.34735,     0.34835,     0.34935,     0.35035,     0.35135,     0.35235,     0.35335,     0.35435,     0.35536,     0.35636,     0.35736,     0.35836,     0.35936,\n",
      "           0.36036,     0.36136,     0.36236,     0.36336,     0.36436,     0.36537,     0.36637,     0.36737,     0.36837,     0.36937,     0.37037,     0.37137,     0.37237,     0.37337,     0.37437,     0.37538,     0.37638,     0.37738,     0.37838,     0.37938,     0.38038,     0.38138,     0.38238,     0.38338,\n",
      "           0.38438,     0.38539,     0.38639,     0.38739,     0.38839,     0.38939,     0.39039,     0.39139,     0.39239,     0.39339,     0.39439,      0.3954,      0.3964,      0.3974,      0.3984,      0.3994,      0.4004,      0.4014,      0.4024,      0.4034,      0.4044,     0.40541,     0.40641,     0.40741,\n",
      "           0.40841,     0.40941,     0.41041,     0.41141,     0.41241,     0.41341,     0.41441,     0.41542,     0.41642,     0.41742,     0.41842,     0.41942,     0.42042,     0.42142,     0.42242,     0.42342,     0.42442,     0.42543,     0.42643,     0.42743,     0.42843,     0.42943,     0.43043,     0.43143,\n",
      "           0.43243,     0.43343,     0.43443,     0.43544,     0.43644,     0.43744,     0.43844,     0.43944,     0.44044,     0.44144,     0.44244,     0.44344,     0.44444,     0.44545,     0.44645,     0.44745,     0.44845,     0.44945,     0.45045,     0.45145,     0.45245,     0.45345,     0.45445,     0.45546,\n",
      "           0.45646,     0.45746,     0.45846,     0.45946,     0.46046,     0.46146,     0.46246,     0.46346,     0.46446,     0.46547,     0.46647,     0.46747,     0.46847,     0.46947,     0.47047,     0.47147,     0.47247,     0.47347,     0.47447,     0.47548,     0.47648,     0.47748,     0.47848,     0.47948,\n",
      "           0.48048,     0.48148,     0.48248,     0.48348,     0.48448,     0.48549,     0.48649,     0.48749,     0.48849,     0.48949,     0.49049,     0.49149,     0.49249,     0.49349,     0.49449,      0.4955,      0.4965,      0.4975,      0.4985,      0.4995,      0.5005,      0.5015,      0.5025,      0.5035,\n",
      "            0.5045,     0.50551,     0.50651,     0.50751,     0.50851,     0.50951,     0.51051,     0.51151,     0.51251,     0.51351,     0.51451,     0.51552,     0.51652,     0.51752,     0.51852,     0.51952,     0.52052,     0.52152,     0.52252,     0.52352,     0.52452,     0.52553,     0.52653,     0.52753,\n",
      "           0.52853,     0.52953,     0.53053,     0.53153,     0.53253,     0.53353,     0.53453,     0.53554,     0.53654,     0.53754,     0.53854,     0.53954,     0.54054,     0.54154,     0.54254,     0.54354,     0.54454,     0.54555,     0.54655,     0.54755,     0.54855,     0.54955,     0.55055,     0.55155,\n",
      "           0.55255,     0.55355,     0.55455,     0.55556,     0.55656,     0.55756,     0.55856,     0.55956,     0.56056,     0.56156,     0.56256,     0.56356,     0.56456,     0.56557,     0.56657,     0.56757,     0.56857,     0.56957,     0.57057,     0.57157,     0.57257,     0.57357,     0.57457,     0.57558,\n",
      "           0.57658,     0.57758,     0.57858,     0.57958,     0.58058,     0.58158,     0.58258,     0.58358,     0.58458,     0.58559,     0.58659,     0.58759,     0.58859,     0.58959,     0.59059,     0.59159,     0.59259,     0.59359,     0.59459,      0.5956,      0.5966,      0.5976,      0.5986,      0.5996,\n",
      "            0.6006,      0.6016,      0.6026,      0.6036,      0.6046,     0.60561,     0.60661,     0.60761,     0.60861,     0.60961,     0.61061,     0.61161,     0.61261,     0.61361,     0.61461,     0.61562,     0.61662,     0.61762,     0.61862,     0.61962,     0.62062,     0.62162,     0.62262,     0.62362,\n",
      "           0.62462,     0.62563,     0.62663,     0.62763,     0.62863,     0.62963,     0.63063,     0.63163,     0.63263,     0.63363,     0.63463,     0.63564,     0.63664,     0.63764,     0.63864,     0.63964,     0.64064,     0.64164,     0.64264,     0.64364,     0.64464,     0.64565,     0.64665,     0.64765,\n",
      "           0.64865,     0.64965,     0.65065,     0.65165,     0.65265,     0.65365,     0.65465,     0.65566,     0.65666,     0.65766,     0.65866,     0.65966,     0.66066,     0.66166,     0.66266,     0.66366,     0.66466,     0.66567,     0.66667,     0.66767,     0.66867,     0.66967,     0.67067,     0.67167,\n",
      "           0.67267,     0.67367,     0.67467,     0.67568,     0.67668,     0.67768,     0.67868,     0.67968,     0.68068,     0.68168,     0.68268,     0.68368,     0.68468,     0.68569,     0.68669,     0.68769,     0.68869,     0.68969,     0.69069,     0.69169,     0.69269,     0.69369,     0.69469,      0.6957,\n",
      "            0.6967,      0.6977,      0.6987,      0.6997,      0.7007,      0.7017,      0.7027,      0.7037,      0.7047,     0.70571,     0.70671,     0.70771,     0.70871,     0.70971,     0.71071,     0.71171,     0.71271,     0.71371,     0.71471,     0.71572,     0.71672,     0.71772,     0.71872,     0.71972,\n",
      "           0.72072,     0.72172,     0.72272,     0.72372,     0.72472,     0.72573,     0.72673,     0.72773,     0.72873,     0.72973,     0.73073,     0.73173,     0.73273,     0.73373,     0.73473,     0.73574,     0.73674,     0.73774,     0.73874,     0.73974,     0.74074,     0.74174,     0.74274,     0.74374,\n",
      "           0.74474,     0.74575,     0.74675,     0.74775,     0.74875,     0.74975,     0.75075,     0.75175,     0.75275,     0.75375,     0.75475,     0.75576,     0.75676,     0.75776,     0.75876,     0.75976,     0.76076,     0.76176,     0.76276,     0.76376,     0.76476,     0.76577,     0.76677,     0.76777,\n",
      "           0.76877,     0.76977,     0.77077,     0.77177,     0.77277,     0.77377,     0.77477,     0.77578,     0.77678,     0.77778,     0.77878,     0.77978,     0.78078,     0.78178,     0.78278,     0.78378,     0.78478,     0.78579,     0.78679,     0.78779,     0.78879,     0.78979,     0.79079,     0.79179,\n",
      "           0.79279,     0.79379,     0.79479,      0.7958,      0.7968,      0.7978,      0.7988,      0.7998,      0.8008,      0.8018,      0.8028,      0.8038,      0.8048,     0.80581,     0.80681,     0.80781,     0.80881,     0.80981,     0.81081,     0.81181,     0.81281,     0.81381,     0.81481,     0.81582,\n",
      "           0.81682,     0.81782,     0.81882,     0.81982,     0.82082,     0.82182,     0.82282,     0.82382,     0.82482,     0.82583,     0.82683,     0.82783,     0.82883,     0.82983,     0.83083,     0.83183,     0.83283,     0.83383,     0.83483,     0.83584,     0.83684,     0.83784,     0.83884,     0.83984,\n",
      "           0.84084,     0.84184,     0.84284,     0.84384,     0.84484,     0.84585,     0.84685,     0.84785,     0.84885,     0.84985,     0.85085,     0.85185,     0.85285,     0.85385,     0.85485,     0.85586,     0.85686,     0.85786,     0.85886,     0.85986,     0.86086,     0.86186,     0.86286,     0.86386,\n",
      "           0.86486,     0.86587,     0.86687,     0.86787,     0.86887,     0.86987,     0.87087,     0.87187,     0.87287,     0.87387,     0.87487,     0.87588,     0.87688,     0.87788,     0.87888,     0.87988,     0.88088,     0.88188,     0.88288,     0.88388,     0.88488,     0.88589,     0.88689,     0.88789,\n",
      "           0.88889,     0.88989,     0.89089,     0.89189,     0.89289,     0.89389,     0.89489,      0.8959,      0.8969,      0.8979,      0.8989,      0.8999,      0.9009,      0.9019,      0.9029,      0.9039,      0.9049,     0.90591,     0.90691,     0.90791,     0.90891,     0.90991,     0.91091,     0.91191,\n",
      "           0.91291,     0.91391,     0.91491,     0.91592,     0.91692,     0.91792,     0.91892,     0.91992,     0.92092,     0.92192,     0.92292,     0.92392,     0.92492,     0.92593,     0.92693,     0.92793,     0.92893,     0.92993,     0.93093,     0.93193,     0.93293,     0.93393,     0.93493,     0.93594,\n",
      "           0.93694,     0.93794,     0.93894,     0.93994,     0.94094,     0.94194,     0.94294,     0.94394,     0.94494,     0.94595,     0.94695,     0.94795,     0.94895,     0.94995,     0.95095,     0.95195,     0.95295,     0.95395,     0.95495,     0.95596,     0.95696,     0.95796,     0.95896,     0.95996,\n",
      "           0.96096,     0.96196,     0.96296,     0.96396,     0.96496,     0.96597,     0.96697,     0.96797,     0.96897,     0.96997,     0.97097,     0.97197,     0.97297,     0.97397,     0.97497,     0.97598,     0.97698,     0.97798,     0.97898,     0.97998,     0.98098,     0.98198,     0.98298,     0.98398,\n",
      "           0.98498,     0.98599,     0.98699,     0.98799,     0.98899,     0.98999,     0.99099,     0.99199,     0.99299,     0.99399,     0.99499,       0.996,       0.997,       0.998,       0.999,           1]), array([[          1,           1,           1,           1,           1,           1,           1,           1,           1,           1,           1,           1,           1,           1,           1,           1,           1,           1,           1,           1,           1,           1,           1,\n",
      "                  1,           1,           1,           1,           1,           1,           1,           1,           1,           1,           1,           1,           1,           1,           1,           1,           1,           1,           1,           1,           1,           1,           1,\n",
      "                  1,           1,           1,           1,           1,           1,           1,           1,           1,           1,           1,           1,           1,           1,           1,           1,           1,           1,           1,           1,           1,           1,           1,\n",
      "                  1,           1,           1,           1,           1,           1,           1,           1,           1,           1,           1,           1,           1,           1,           1,           1,           1,           1,           1,           1,           1,           1,           1,\n",
      "                  1,           1,           1,           1,           1,           1,           1,           1,           1,           1,           1,           1,           1,           1,           1,           1,           1,           1,           1,           1,           1,           1,           1,\n",
      "                  1,           1,           1,           1,           1,           1,           1,           1,           1,           1,           1,           1,           1,           1,           1,           1,           1,           1,           1,           1,           1,           1,           1,\n",
      "                  1,           1,           1,           1,           1,           1,           1,           1,           1,           1,           1,           1,           1,           1,           1,           1,           1,           1,           1,           1,           1,           1,           1,\n",
      "                  1,           1,           1,           1,           1,           1,           1,           1,           1,           1,           1,           1,           1,           1,           1,           1,           1,           1,           1,           1,           1,           1,           1,\n",
      "                  1,           1,           1,           1,           1,           1,           1,           1,           1,           1,           1,           1,           1,           1,           1,           1,           1,           1,           1,           1,           1,           1,           1,\n",
      "                  1,           1,           1,           1,           1,           1,           1,           1,           1,           1,           1,           1,           1,           1,           1,           1,           1,           1,           1,           1,           1,           1,           1,\n",
      "                  1,           1,           1,           1,           1,           1,           1,           1,           1,           1,           1,           1,           1,           1,           1,           1,           1,           1,           1,           1,           1,           1,           1,\n",
      "                  1,           1,           1,           1,           1,           1,           1,           1,           1,           1,           1,           1,           1,           1,           1,           1,           1,           1,           1,           1,           1,           1,           1,\n",
      "                  1,           1,           1,           1,           1,           1,           1,           1,           1,           1,           1,           1,           1,           1,           1,           1,           1,           1,           1,           1,           1,           1,           1,\n",
      "                  1,           1,           1,           1,           1,           1,           1,           1,           1,           1,           1,           1,           1,           1,           1,           1,           1,           1,           1,           1,           1,           1,           1,\n",
      "                  1,           1,           1,           1,           1,           1,           1,           1,           1,           1,           1,           1,           1,           1,           1,           1,           1,           1,           1,           1,           1,           1,           1,\n",
      "                  1,           1,           1,           1,           1,           1,           1,           1,           1,           1,           1,           1,           1,           1,           1,           1,           1,           1,           1,           1,           1,           1,           1,\n",
      "                  1,           1,           1,           1,           1,           1,           1,           1,           1,           1,           1,           1,           1,           1,           1,           1,           1,           1,           1,           1,           1,           1,           1,\n",
      "                  1,           1,           1,           1,           1,           1,           1,           1,           1,           1,           1,           1,           1,           1,           1,           1,           1,           1,           1,           1,           1,           1,           1,\n",
      "                  1,           1,           1,           1,           1,           1,           1,           1,           1,           1,           1,           1,           1,           1,           1,           1,           1,           1,           1,           1,           1,           1,           1,\n",
      "                  1,           1,           1,           1,           1,           1,           1,           1,           1,           1,           1,           1,           1,           1,           1,           1,           1,           1,           1,           1,           1,           1,           1,\n",
      "                  1,           1,           1,           1,           1,           1,           1,           1,           1,           1,           1,           1,           1,           1,           1,           1,           1,           1,           1,           1,           1,           1,           1,\n",
      "                  1,           1,           1,           1,           1,           1,           1,           1,           1,           1,           1,           1,           1,           1,           1,           1,           1,           1,           1,           1,           1,           1,           1,\n",
      "                  1,           1,           1,           1,           1,           1,           1,           1,           1,           1,           1,           1,           1,           1,           1,           1,           1,           1,           1,           1,           1,           1,           1,\n",
      "                  1,           1,           1,           1,           1,           1,           1,           1,           1,           1,           1,           1,           1,           1,           1,           1,           1,           1,           1,           1,           1,           1,           1,\n",
      "                  1,           1,           1,           1,           1,           1,           1,           1,           1,           1,           1,           1,           1,           1,           1,           1,           1,           1,           1,           1,           1,           1,           1,\n",
      "                  1,           1,           1,           1,           1,           1,           1,           1,           1,           1,           1,           1,           1,           1,           1,           1,           1,           1,           1,           1,           1,           1,           1,\n",
      "                  1,           1,           1,           1,           1,           1,           1,           1,           1,           1,           1,           1,           1,           1,           1,           1,           1,           1,           1,           1,           1,           1,           1,\n",
      "                  1,           1,           1,           1,           1,           1,           1,           1,           1,           1,           1,           1,           1,           1,           1,           1,           1,           1,           1,           1,           1,           1,           1,\n",
      "                  1,           1,           1,           1,           1,           1,           1,           1,           1,           1,           1,           1,           1,           1,           1,     0.99301,     0.99301,     0.99301,     0.99301,     0.99301,     0.99301,     0.99301,     0.99301,\n",
      "            0.99301,     0.99301,     0.99301,     0.99301,     0.99301,     0.99301,     0.99301,     0.99301,     0.99301,     0.99301,     0.99301,     0.99301,     0.99301,     0.99301,     0.99301,     0.99301,     0.99301,     0.99301,     0.99301,     0.99301,     0.99301,     0.99301,     0.99301,\n",
      "            0.99301,     0.99301,     0.99301,     0.99301,     0.99301,     0.99301,     0.99301,     0.99301,     0.99301,     0.99301,     0.99301,     0.99301,     0.99301,     0.99301,     0.99301,     0.99301,     0.99301,     0.99301,     0.99301,     0.99301,     0.99301,     0.99301,     0.99301,\n",
      "            0.99301,     0.99301,     0.99301,     0.99301,     0.99301,     0.99301,     0.99301,     0.99301,     0.99301,     0.99301,     0.99301,     0.99301,     0.99301,     0.99301,     0.99301,     0.99301,     0.99301,     0.99301,     0.99301,     0.99301,     0.99301,     0.99301,     0.99301,\n",
      "            0.99301,     0.99301,     0.99301,     0.99301,     0.99301,     0.99301,     0.99301,     0.99301,     0.99301,     0.99301,     0.99301,     0.99301,     0.99301,     0.99301,     0.99301,     0.99301,     0.99301,     0.99301,     0.99301,     0.99301,     0.99301,     0.99301,     0.99301,\n",
      "            0.99301,     0.99301,     0.99301,     0.99301,     0.99301,     0.99301,     0.99301,     0.99301,     0.99301,     0.99301,     0.99301,     0.99301,     0.99301,     0.99301,     0.99301,     0.99301,     0.99301,     0.99301,     0.99301,     0.99301,     0.99301,     0.99301,     0.99301,\n",
      "            0.99301,     0.99301,     0.99301,     0.99301,     0.99301,     0.99301,     0.99301,     0.99301,     0.99301,     0.99301,     0.99301,     0.99301,     0.99301,     0.99301,     0.99301,     0.99301,     0.99301,     0.99301,     0.99301,     0.99301,     0.99301,     0.99301,     0.99301,\n",
      "            0.99301,     0.99301,      0.9871,      0.9871,      0.9871,      0.9871,      0.9871,      0.9871,      0.9871,      0.9871,      0.9871,      0.9871,      0.9871,      0.9871,      0.9871,      0.9871,      0.9871,      0.9871,      0.9871,      0.9871,      0.9871,      0.9871,      0.9871,\n",
      "             0.9871,      0.9871,      0.9871,      0.9871,      0.9871,      0.9871,      0.9871,      0.9871,      0.9871,      0.9871,      0.9871,      0.9871,      0.9871,      0.9871,      0.9871,      0.9871,      0.9871,      0.9871,      0.9871,      0.9871,      0.9871,      0.9871,      0.9871,\n",
      "             0.9871,      0.9871,      0.9871,      0.9871,      0.9871,      0.9871,      0.9871,      0.9871,      0.9871,      0.9871,      0.9871,      0.9871,      0.9871,      0.9871,      0.9871,      0.9871,      0.9871,      0.9871,     0.98148,     0.98148,     0.98148,     0.98148,     0.98148,\n",
      "            0.98148,     0.98148,     0.98148,     0.98148,     0.98148,     0.98148,     0.98148,     0.98148,     0.98148,     0.98148,     0.98148,     0.98148,     0.98148,     0.98148,     0.98148,     0.98148,     0.98148,     0.98148,     0.98148,     0.98148,     0.98148,     0.98148,     0.98148,\n",
      "            0.98148,     0.98148,     0.98148,     0.98148,     0.98148,     0.98148,      0.9759,      0.9759,      0.9759,      0.9759,      0.9759,      0.9759,      0.9759,      0.9759,      0.9759,      0.9759,      0.9759,      0.9759,      0.9759,      0.9759,      0.9759,      0.9759,      0.9759,\n",
      "             0.9645,      0.9645,      0.9645,      0.9645,      0.9645,      0.9645,     0.95906,     0.95906,     0.95906,     0.95906,     0.95906,     0.95429,     0.95429,     0.95429,     0.95429,     0.95429,     0.95429,     0.95429,     0.95429,     0.95429,     0.95429,     0.95429,     0.95429,\n",
      "            0.95429,     0.95429,     0.95429,     0.95429,     0.95429,     0.81159,     0.81159,     0.81159,     0.81159,     0.81159,     0.81159,      0.4543,      0.4543,      0.4543,      0.4543,      0.4543,      0.4543,     0.37862,     0.37862,     0.37862,     0.37862,     0.37862,     0.21839,\n",
      "            0.21839,     0.21839,     0.21839,     0.21839,     0.21839,     0.21261,     0.21261,     0.21261,     0.21261,     0.21261,     0.21261,     0.17006,     0.16233,      0.1546,     0.14687,     0.13914,     0.13141,     0.12368,     0.11595,     0.10822,     0.10049,    0.092762,    0.085032,\n",
      "           0.077302,    0.069572,    0.061841,    0.054111,    0.046381,    0.038651,    0.030921,    0.023191,     0.01546,   0.0077302,           0]]), 'Recall', 'Precision'], [array([          0,    0.001001,    0.002002,    0.003003,    0.004004,    0.005005,    0.006006,    0.007007,    0.008008,    0.009009,     0.01001,    0.011011,    0.012012,    0.013013,    0.014014,    0.015015,    0.016016,    0.017017,    0.018018,    0.019019,     0.02002,    0.021021,    0.022022,    0.023023,\n",
      "          0.024024,    0.025025,    0.026026,    0.027027,    0.028028,    0.029029,     0.03003,    0.031031,    0.032032,    0.033033,    0.034034,    0.035035,    0.036036,    0.037037,    0.038038,    0.039039,     0.04004,    0.041041,    0.042042,    0.043043,    0.044044,    0.045045,    0.046046,    0.047047,\n",
      "          0.048048,    0.049049,     0.05005,    0.051051,    0.052052,    0.053053,    0.054054,    0.055055,    0.056056,    0.057057,    0.058058,    0.059059,     0.06006,    0.061061,    0.062062,    0.063063,    0.064064,    0.065065,    0.066066,    0.067067,    0.068068,    0.069069,     0.07007,    0.071071,\n",
      "          0.072072,    0.073073,    0.074074,    0.075075,    0.076076,    0.077077,    0.078078,    0.079079,     0.08008,    0.081081,    0.082082,    0.083083,    0.084084,    0.085085,    0.086086,    0.087087,    0.088088,    0.089089,     0.09009,    0.091091,    0.092092,    0.093093,    0.094094,    0.095095,\n",
      "          0.096096,    0.097097,    0.098098,    0.099099,      0.1001,      0.1011,      0.1021,      0.1031,      0.1041,     0.10511,     0.10611,     0.10711,     0.10811,     0.10911,     0.11011,     0.11111,     0.11211,     0.11311,     0.11411,     0.11512,     0.11612,     0.11712,     0.11812,     0.11912,\n",
      "           0.12012,     0.12112,     0.12212,     0.12312,     0.12412,     0.12513,     0.12613,     0.12713,     0.12813,     0.12913,     0.13013,     0.13113,     0.13213,     0.13313,     0.13413,     0.13514,     0.13614,     0.13714,     0.13814,     0.13914,     0.14014,     0.14114,     0.14214,     0.14314,\n",
      "           0.14414,     0.14515,     0.14615,     0.14715,     0.14815,     0.14915,     0.15015,     0.15115,     0.15215,     0.15315,     0.15415,     0.15516,     0.15616,     0.15716,     0.15816,     0.15916,     0.16016,     0.16116,     0.16216,     0.16316,     0.16416,     0.16517,     0.16617,     0.16717,\n",
      "           0.16817,     0.16917,     0.17017,     0.17117,     0.17217,     0.17317,     0.17417,     0.17518,     0.17618,     0.17718,     0.17818,     0.17918,     0.18018,     0.18118,     0.18218,     0.18318,     0.18418,     0.18519,     0.18619,     0.18719,     0.18819,     0.18919,     0.19019,     0.19119,\n",
      "           0.19219,     0.19319,     0.19419,      0.1952,      0.1962,      0.1972,      0.1982,      0.1992,      0.2002,      0.2012,      0.2022,      0.2032,      0.2042,     0.20521,     0.20621,     0.20721,     0.20821,     0.20921,     0.21021,     0.21121,     0.21221,     0.21321,     0.21421,     0.21522,\n",
      "           0.21622,     0.21722,     0.21822,     0.21922,     0.22022,     0.22122,     0.22222,     0.22322,     0.22422,     0.22523,     0.22623,     0.22723,     0.22823,     0.22923,     0.23023,     0.23123,     0.23223,     0.23323,     0.23423,     0.23524,     0.23624,     0.23724,     0.23824,     0.23924,\n",
      "           0.24024,     0.24124,     0.24224,     0.24324,     0.24424,     0.24525,     0.24625,     0.24725,     0.24825,     0.24925,     0.25025,     0.25125,     0.25225,     0.25325,     0.25425,     0.25526,     0.25626,     0.25726,     0.25826,     0.25926,     0.26026,     0.26126,     0.26226,     0.26326,\n",
      "           0.26426,     0.26527,     0.26627,     0.26727,     0.26827,     0.26927,     0.27027,     0.27127,     0.27227,     0.27327,     0.27427,     0.27528,     0.27628,     0.27728,     0.27828,     0.27928,     0.28028,     0.28128,     0.28228,     0.28328,     0.28428,     0.28529,     0.28629,     0.28729,\n",
      "           0.28829,     0.28929,     0.29029,     0.29129,     0.29229,     0.29329,     0.29429,      0.2953,      0.2963,      0.2973,      0.2983,      0.2993,      0.3003,      0.3013,      0.3023,      0.3033,      0.3043,     0.30531,     0.30631,     0.30731,     0.30831,     0.30931,     0.31031,     0.31131,\n",
      "           0.31231,     0.31331,     0.31431,     0.31532,     0.31632,     0.31732,     0.31832,     0.31932,     0.32032,     0.32132,     0.32232,     0.32332,     0.32432,     0.32533,     0.32633,     0.32733,     0.32833,     0.32933,     0.33033,     0.33133,     0.33233,     0.33333,     0.33433,     0.33534,\n",
      "           0.33634,     0.33734,     0.33834,     0.33934,     0.34034,     0.34134,     0.34234,     0.34334,     0.34434,     0.34535,     0.34635,     0.34735,     0.34835,     0.34935,     0.35035,     0.35135,     0.35235,     0.35335,     0.35435,     0.35536,     0.35636,     0.35736,     0.35836,     0.35936,\n",
      "           0.36036,     0.36136,     0.36236,     0.36336,     0.36436,     0.36537,     0.36637,     0.36737,     0.36837,     0.36937,     0.37037,     0.37137,     0.37237,     0.37337,     0.37437,     0.37538,     0.37638,     0.37738,     0.37838,     0.37938,     0.38038,     0.38138,     0.38238,     0.38338,\n",
      "           0.38438,     0.38539,     0.38639,     0.38739,     0.38839,     0.38939,     0.39039,     0.39139,     0.39239,     0.39339,     0.39439,      0.3954,      0.3964,      0.3974,      0.3984,      0.3994,      0.4004,      0.4014,      0.4024,      0.4034,      0.4044,     0.40541,     0.40641,     0.40741,\n",
      "           0.40841,     0.40941,     0.41041,     0.41141,     0.41241,     0.41341,     0.41441,     0.41542,     0.41642,     0.41742,     0.41842,     0.41942,     0.42042,     0.42142,     0.42242,     0.42342,     0.42442,     0.42543,     0.42643,     0.42743,     0.42843,     0.42943,     0.43043,     0.43143,\n",
      "           0.43243,     0.43343,     0.43443,     0.43544,     0.43644,     0.43744,     0.43844,     0.43944,     0.44044,     0.44144,     0.44244,     0.44344,     0.44444,     0.44545,     0.44645,     0.44745,     0.44845,     0.44945,     0.45045,     0.45145,     0.45245,     0.45345,     0.45445,     0.45546,\n",
      "           0.45646,     0.45746,     0.45846,     0.45946,     0.46046,     0.46146,     0.46246,     0.46346,     0.46446,     0.46547,     0.46647,     0.46747,     0.46847,     0.46947,     0.47047,     0.47147,     0.47247,     0.47347,     0.47447,     0.47548,     0.47648,     0.47748,     0.47848,     0.47948,\n",
      "           0.48048,     0.48148,     0.48248,     0.48348,     0.48448,     0.48549,     0.48649,     0.48749,     0.48849,     0.48949,     0.49049,     0.49149,     0.49249,     0.49349,     0.49449,      0.4955,      0.4965,      0.4975,      0.4985,      0.4995,      0.5005,      0.5015,      0.5025,      0.5035,\n",
      "            0.5045,     0.50551,     0.50651,     0.50751,     0.50851,     0.50951,     0.51051,     0.51151,     0.51251,     0.51351,     0.51451,     0.51552,     0.51652,     0.51752,     0.51852,     0.51952,     0.52052,     0.52152,     0.52252,     0.52352,     0.52452,     0.52553,     0.52653,     0.52753,\n",
      "           0.52853,     0.52953,     0.53053,     0.53153,     0.53253,     0.53353,     0.53453,     0.53554,     0.53654,     0.53754,     0.53854,     0.53954,     0.54054,     0.54154,     0.54254,     0.54354,     0.54454,     0.54555,     0.54655,     0.54755,     0.54855,     0.54955,     0.55055,     0.55155,\n",
      "           0.55255,     0.55355,     0.55455,     0.55556,     0.55656,     0.55756,     0.55856,     0.55956,     0.56056,     0.56156,     0.56256,     0.56356,     0.56456,     0.56557,     0.56657,     0.56757,     0.56857,     0.56957,     0.57057,     0.57157,     0.57257,     0.57357,     0.57457,     0.57558,\n",
      "           0.57658,     0.57758,     0.57858,     0.57958,     0.58058,     0.58158,     0.58258,     0.58358,     0.58458,     0.58559,     0.58659,     0.58759,     0.58859,     0.58959,     0.59059,     0.59159,     0.59259,     0.59359,     0.59459,      0.5956,      0.5966,      0.5976,      0.5986,      0.5996,\n",
      "            0.6006,      0.6016,      0.6026,      0.6036,      0.6046,     0.60561,     0.60661,     0.60761,     0.60861,     0.60961,     0.61061,     0.61161,     0.61261,     0.61361,     0.61461,     0.61562,     0.61662,     0.61762,     0.61862,     0.61962,     0.62062,     0.62162,     0.62262,     0.62362,\n",
      "           0.62462,     0.62563,     0.62663,     0.62763,     0.62863,     0.62963,     0.63063,     0.63163,     0.63263,     0.63363,     0.63463,     0.63564,     0.63664,     0.63764,     0.63864,     0.63964,     0.64064,     0.64164,     0.64264,     0.64364,     0.64464,     0.64565,     0.64665,     0.64765,\n",
      "           0.64865,     0.64965,     0.65065,     0.65165,     0.65265,     0.65365,     0.65465,     0.65566,     0.65666,     0.65766,     0.65866,     0.65966,     0.66066,     0.66166,     0.66266,     0.66366,     0.66466,     0.66567,     0.66667,     0.66767,     0.66867,     0.66967,     0.67067,     0.67167,\n",
      "           0.67267,     0.67367,     0.67467,     0.67568,     0.67668,     0.67768,     0.67868,     0.67968,     0.68068,     0.68168,     0.68268,     0.68368,     0.68468,     0.68569,     0.68669,     0.68769,     0.68869,     0.68969,     0.69069,     0.69169,     0.69269,     0.69369,     0.69469,      0.6957,\n",
      "            0.6967,      0.6977,      0.6987,      0.6997,      0.7007,      0.7017,      0.7027,      0.7037,      0.7047,     0.70571,     0.70671,     0.70771,     0.70871,     0.70971,     0.71071,     0.71171,     0.71271,     0.71371,     0.71471,     0.71572,     0.71672,     0.71772,     0.71872,     0.71972,\n",
      "           0.72072,     0.72172,     0.72272,     0.72372,     0.72472,     0.72573,     0.72673,     0.72773,     0.72873,     0.72973,     0.73073,     0.73173,     0.73273,     0.73373,     0.73473,     0.73574,     0.73674,     0.73774,     0.73874,     0.73974,     0.74074,     0.74174,     0.74274,     0.74374,\n",
      "           0.74474,     0.74575,     0.74675,     0.74775,     0.74875,     0.74975,     0.75075,     0.75175,     0.75275,     0.75375,     0.75475,     0.75576,     0.75676,     0.75776,     0.75876,     0.75976,     0.76076,     0.76176,     0.76276,     0.76376,     0.76476,     0.76577,     0.76677,     0.76777,\n",
      "           0.76877,     0.76977,     0.77077,     0.77177,     0.77277,     0.77377,     0.77477,     0.77578,     0.77678,     0.77778,     0.77878,     0.77978,     0.78078,     0.78178,     0.78278,     0.78378,     0.78478,     0.78579,     0.78679,     0.78779,     0.78879,     0.78979,     0.79079,     0.79179,\n",
      "           0.79279,     0.79379,     0.79479,      0.7958,      0.7968,      0.7978,      0.7988,      0.7998,      0.8008,      0.8018,      0.8028,      0.8038,      0.8048,     0.80581,     0.80681,     0.80781,     0.80881,     0.80981,     0.81081,     0.81181,     0.81281,     0.81381,     0.81481,     0.81582,\n",
      "           0.81682,     0.81782,     0.81882,     0.81982,     0.82082,     0.82182,     0.82282,     0.82382,     0.82482,     0.82583,     0.82683,     0.82783,     0.82883,     0.82983,     0.83083,     0.83183,     0.83283,     0.83383,     0.83483,     0.83584,     0.83684,     0.83784,     0.83884,     0.83984,\n",
      "           0.84084,     0.84184,     0.84284,     0.84384,     0.84484,     0.84585,     0.84685,     0.84785,     0.84885,     0.84985,     0.85085,     0.85185,     0.85285,     0.85385,     0.85485,     0.85586,     0.85686,     0.85786,     0.85886,     0.85986,     0.86086,     0.86186,     0.86286,     0.86386,\n",
      "           0.86486,     0.86587,     0.86687,     0.86787,     0.86887,     0.86987,     0.87087,     0.87187,     0.87287,     0.87387,     0.87487,     0.87588,     0.87688,     0.87788,     0.87888,     0.87988,     0.88088,     0.88188,     0.88288,     0.88388,     0.88488,     0.88589,     0.88689,     0.88789,\n",
      "           0.88889,     0.88989,     0.89089,     0.89189,     0.89289,     0.89389,     0.89489,      0.8959,      0.8969,      0.8979,      0.8989,      0.8999,      0.9009,      0.9019,      0.9029,      0.9039,      0.9049,     0.90591,     0.90691,     0.90791,     0.90891,     0.90991,     0.91091,     0.91191,\n",
      "           0.91291,     0.91391,     0.91491,     0.91592,     0.91692,     0.91792,     0.91892,     0.91992,     0.92092,     0.92192,     0.92292,     0.92392,     0.92492,     0.92593,     0.92693,     0.92793,     0.92893,     0.92993,     0.93093,     0.93193,     0.93293,     0.93393,     0.93493,     0.93594,\n",
      "           0.93694,     0.93794,     0.93894,     0.93994,     0.94094,     0.94194,     0.94294,     0.94394,     0.94494,     0.94595,     0.94695,     0.94795,     0.94895,     0.94995,     0.95095,     0.95195,     0.95295,     0.95395,     0.95495,     0.95596,     0.95696,     0.95796,     0.95896,     0.95996,\n",
      "           0.96096,     0.96196,     0.96296,     0.96396,     0.96496,     0.96597,     0.96697,     0.96797,     0.96897,     0.96997,     0.97097,     0.97197,     0.97297,     0.97397,     0.97497,     0.97598,     0.97698,     0.97798,     0.97898,     0.97998,     0.98098,     0.98198,     0.98298,     0.98398,\n",
      "           0.98498,     0.98599,     0.98699,     0.98799,     0.98899,     0.98999,     0.99099,     0.99199,     0.99299,     0.99399,     0.99499,       0.996,       0.997,       0.998,       0.999,           1]), array([[    0.29758,     0.29764,     0.40285,     0.45894,     0.50324,     0.53857,     0.56832,     0.58849,     0.60102,     0.61613,     0.62195,     0.63345,     0.64504,      0.6537,     0.66156,     0.66642,     0.67528,     0.68491,     0.69157,     0.69558,     0.70236,     0.70945,     0.71442,\n",
      "            0.72015,     0.72905,     0.73235,      0.7352,     0.73762,     0.74175,     0.74353,     0.74583,      0.7494,      0.7519,     0.75542,     0.75878,      0.7602,     0.76078,     0.76136,     0.76222,     0.76495,     0.77183,     0.77339,     0.77597,     0.78044,     0.78421,     0.78676,\n",
      "            0.79125,     0.79325,     0.79489,     0.79728,     0.79853,     0.79905,     0.79957,     0.80052,     0.80405,     0.80525,     0.80788,     0.80898,     0.81017,      0.8115,     0.81207,     0.81259,     0.81311,     0.81363,     0.81417,      0.8147,     0.81524,     0.81659,     0.81786,\n",
      "            0.81844,     0.81902,     0.81985,     0.82196,     0.82356,     0.82403,      0.8245,     0.82496,     0.82543,     0.82696,     0.82829,     0.82933,     0.83009,     0.83072,     0.83136,     0.83428,     0.83549,     0.83851,     0.83959,     0.84177,     0.84313,     0.84425,      0.8448,\n",
      "            0.84534,     0.84589,     0.84675,     0.84882,     0.84982,     0.85079,     0.85166,     0.85253,     0.85321,      0.8538,     0.85439,     0.85507,     0.85731,     0.85777,     0.85822,     0.85867,     0.85912,     0.85976,     0.86056,     0.86137,     0.86225,     0.86315,     0.86397,\n",
      "            0.86464,      0.8653,     0.86596,     0.86616,     0.86634,     0.86652,      0.8667,     0.86688,     0.86707,     0.86725,     0.86743,     0.86761,     0.86779,     0.86798,     0.86816,     0.86963,      0.8706,     0.87083,     0.87106,     0.87129,     0.87152,     0.87174,     0.87197,\n",
      "             0.8722,     0.87243,     0.87265,     0.87359,     0.87485,       0.875,     0.87715,     0.87922,     0.87953,     0.87984,     0.88015,     0.88046,     0.88077,     0.88108,     0.88136,     0.88159,     0.88182,     0.88206,     0.88229,     0.88252,     0.88276,     0.88299,     0.88322,\n",
      "            0.88345,     0.88443,     0.88661,     0.88836,     0.88863,      0.8889,     0.88917,     0.88944,     0.88971,     0.88998,     0.89025,     0.89052,     0.89098,     0.89169,      0.8924,     0.89318,     0.89459,     0.89644,     0.89803,     0.89842,     0.89882,     0.89921,     0.89961,\n",
      "                0.9,     0.90039,     0.90079,     0.90119,     0.90158,     0.90198,     0.90237,     0.90274,     0.90298,     0.90322,     0.90346,      0.9037,     0.90393,     0.90417,     0.90441,     0.90465,     0.90489,     0.90512,       0.906,     0.90695,     0.90778,     0.90833,     0.90888,\n",
      "            0.90943,     0.90998,     0.91025,     0.91046,     0.91067,     0.91088,     0.91109,      0.9113,     0.91151,     0.91171,     0.91192,     0.91213,     0.91234,     0.91255,     0.91281,     0.91307,     0.91334,      0.9136,     0.91386,     0.91413,     0.91439,     0.91465,     0.91492,\n",
      "            0.91552,     0.91661,     0.91763,      0.9181,     0.91857,     0.91904,      0.9195,     0.91997,     0.92304,     0.92369,     0.92433,     0.92498,     0.92654,     0.92787,      0.9281,     0.92833,     0.92855,     0.92878,     0.92901,     0.92924,     0.92947,      0.9297,     0.92992,\n",
      "            0.93015,     0.93039,     0.93074,     0.93109,     0.93144,     0.93179,     0.93214,     0.93249,     0.93284,     0.93564,     0.93607,      0.9365,     0.93693,     0.93736,     0.93779,     0.93824,     0.93927,     0.94029,     0.94113,     0.94176,     0.94239,     0.94302,     0.94359,\n",
      "            0.94396,     0.94433,      0.9447,     0.94507,     0.94545,     0.94582,     0.94618,     0.94625,     0.94632,     0.94639,     0.94647,     0.94654,     0.94661,     0.94668,     0.94676,     0.94683,      0.9469,     0.94697,     0.94705,     0.94712,     0.94719,     0.94726,     0.94733,\n",
      "            0.94741,     0.94748,     0.94755,     0.94762,     0.94769,     0.94777,     0.94784,     0.94791,     0.94798,     0.94806,     0.94813,      0.9482,     0.94827,     0.94834,     0.94842,     0.94849,     0.94856,     0.94863,      0.9487,     0.94878,     0.94885,     0.94896,     0.94909,\n",
      "            0.94922,     0.94935,     0.94948,      0.9496,     0.94973,     0.94986,     0.94999,     0.95012,     0.95025,     0.95037,      0.9505,     0.95063,     0.95076,     0.95089,     0.95101,     0.95114,     0.95127,      0.9514,     0.95153,      0.9513,     0.95091,     0.95051,     0.95011,\n",
      "            0.94972,     0.94932,     0.94893,     0.94855,     0.94837,     0.94819,     0.94801,     0.94784,     0.94766,     0.94748,      0.9473,     0.94712,     0.94694,     0.94676,     0.94658,      0.9464,     0.94622,     0.94604,     0.94586,     0.94568,     0.94553,     0.94544,     0.94535,\n",
      "            0.94526,     0.94518,     0.94509,       0.945,     0.94491,     0.94483,     0.94474,     0.94465,     0.94456,     0.94447,     0.94439,      0.9443,     0.94421,     0.94412,     0.94403,     0.94395,     0.94386,     0.94377,     0.94368,     0.94359,      0.9435,     0.94342,     0.94333,\n",
      "            0.94324,     0.94315,     0.94306,     0.94298,     0.94289,      0.9428,     0.94271,     0.94262,     0.94253,     0.94278,     0.94306,     0.94333,      0.9436,     0.94388,     0.94415,     0.94442,     0.94469,     0.94497,     0.94524,      0.9451,     0.94494,     0.94479,     0.94464,\n",
      "            0.94448,     0.94433,     0.94418,     0.94402,     0.94387,     0.94372,     0.94356,     0.94341,     0.94326,      0.9431,     0.94295,      0.9428,     0.94264,     0.94249,     0.94234,     0.94221,     0.94234,     0.94246,     0.94259,     0.94272,     0.94285,     0.94298,      0.9431,\n",
      "            0.94323,     0.94336,     0.94349,     0.94361,     0.94374,     0.94387,       0.944,     0.94412,     0.94425,     0.94438,     0.94451,     0.94463,     0.94476,     0.94489,     0.94471,     0.94438,     0.94405,     0.94372,     0.94339,     0.94306,     0.94273,     0.94241,     0.94208,\n",
      "             0.9419,     0.94202,     0.94214,     0.94226,     0.94238,      0.9425,     0.94261,     0.94273,     0.94285,     0.94297,     0.94309,     0.94321,     0.94333,     0.94344,     0.94356,     0.94368,      0.9438,     0.94392,     0.94404,     0.94416,     0.94427,     0.94439,     0.94451,\n",
      "            0.94484,     0.94611,     0.94737,     0.94701,     0.94665,     0.94628,     0.94592,     0.94556,      0.9452,     0.94484,     0.94448,     0.94409,     0.94369,     0.94328,     0.94287,     0.94247,     0.94206,     0.94165,     0.94124,      0.9408,     0.94036,     0.93992,     0.93947,\n",
      "            0.93903,     0.93858,     0.93813,     0.93814,     0.93824,     0.93834,     0.93844,     0.93854,     0.93864,     0.93875,     0.93885,     0.93895,     0.93905,     0.93915,     0.93925,     0.93935,     0.93945,     0.93956,     0.93966,     0.93976,     0.93986,     0.93996,     0.94006,\n",
      "            0.94016,     0.94026,     0.94036,     0.94047,     0.94057,     0.94067,     0.94077,     0.94079,     0.94071,     0.94063,     0.94055,     0.94046,     0.94038,      0.9403,     0.94022,     0.94013,     0.94005,     0.93997,     0.93989,      0.9398,     0.93972,     0.93964,     0.93956,\n",
      "            0.93947,     0.93939,     0.93931,     0.93923,     0.93914,     0.93906,     0.93898,     0.93889,     0.93881,     0.93873,     0.93865,     0.93856,     0.93848,      0.9384,     0.93832,     0.93823,     0.93815,     0.93807,     0.93798,      0.9379,     0.93782,     0.93774,     0.93703,\n",
      "            0.93537,     0.93438,     0.93408,     0.93378,     0.93348,     0.93318,     0.93288,     0.93258,     0.93228,     0.93198,     0.93167,     0.93137,     0.93079,     0.93017,     0.92955,     0.92894,     0.92832,     0.92809,     0.92802,     0.92795,     0.92789,     0.92782,     0.92775,\n",
      "            0.92768,     0.92761,     0.92754,     0.92747,      0.9274,     0.92733,     0.92726,     0.92719,     0.92712,     0.92705,     0.92698,     0.92691,     0.92684,     0.92677,      0.9267,     0.92663,     0.92656,      0.9265,     0.92643,     0.92636,     0.92629,     0.92622,     0.92615,\n",
      "            0.92608,     0.92601,     0.92594,     0.92587,      0.9258,     0.92573,     0.92566,     0.92559,     0.92552,     0.92545,     0.92538,     0.92531,     0.92524,     0.92517,      0.9251,     0.92503,     0.92496,     0.92482,     0.92461,      0.9244,     0.92418,     0.92397,     0.92375,\n",
      "            0.92354,     0.92333,     0.92311,      0.9229,     0.92268,     0.92247,     0.92225,     0.92204,     0.92182,     0.92175,     0.92194,     0.92212,      0.9223,     0.92249,     0.92267,     0.92285,     0.92304,     0.92322,      0.9234,     0.92359,     0.92377,     0.92395,     0.92413,\n",
      "            0.92432,     0.92443,      0.9242,     0.92396,     0.92373,     0.92349,     0.92326,     0.92302,     0.92279,     0.92255,     0.92232,     0.92208,     0.92184,     0.92161,     0.92137,     0.92043,     0.91806,     0.91774,     0.91753,     0.91732,     0.91711,      0.9169,     0.91669,\n",
      "            0.91648,     0.91627,     0.91606,     0.91585,     0.91564,     0.91543,     0.91522,     0.91501,      0.9148,     0.91447,     0.91365,     0.91284,     0.91202,     0.91117,     0.91017,     0.90916,     0.90815,     0.90742,     0.90675,     0.90608,     0.90541,     0.90473,     0.90439,\n",
      "            0.90412,     0.90385,     0.90358,     0.90331,     0.90304,     0.90277,      0.9025,     0.90223,     0.90196,     0.90168,     0.90141,     0.90065,     0.89894,      0.8977,     0.89734,     0.89697,     0.89661,     0.89624,     0.89587,     0.89551,     0.89514,     0.89477,     0.89441,\n",
      "            0.89417,     0.89394,      0.8937,     0.89346,     0.89323,     0.89299,     0.89276,     0.89252,     0.89228,     0.89205,     0.89181,     0.89157,     0.89134,      0.8911,     0.89062,     0.88983,     0.88904,     0.88825,     0.88754,     0.88821,     0.88887,     0.88954,      0.8902,\n",
      "             0.8897,     0.88905,     0.88839,     0.88774,     0.88708,     0.88463,     0.87722,     0.87254,     0.87179,     0.87105,      0.8703,     0.86956,     0.86785,     0.86503,     0.86422,     0.86341,     0.86259,     0.86178,     0.86078,     0.85977,     0.85875,     0.85756,     0.85601,\n",
      "            0.85446,      0.8501,     0.84912,     0.84814,     0.84716,     0.84267,     0.84178,     0.84089,     0.83999,     0.83693,     0.82781,     0.82063,     0.81806,     0.81261,     0.80869,     0.80745,     0.80667,      0.8059,     0.80512,     0.80435,     0.80324,     0.80192,     0.80061,\n",
      "            0.79857,     0.79588,     0.79217,     0.79194,     0.78917,     0.78663,     0.78163,     0.78044,     0.77925,     0.77806,     0.77077,     0.76551,     0.75581,     0.75264,     0.74155,     0.73363,     0.72868,     0.72742,     0.72616,      0.7249,     0.72241,     0.71983,      0.7186,\n",
      "            0.71736,     0.71613,     0.71007,     0.69842,     0.68083,     0.67606,     0.67396,     0.67186,     0.66367,     0.65568,     0.65231,     0.64862,     0.64171,     0.63676,     0.63045,     0.62478,     0.61918,     0.61762,     0.61606,     0.61449,     0.60503,     0.59893,     0.58371,\n",
      "            0.57791,     0.56642,     0.56149,     0.55828,     0.55463,     0.54993,     0.54203,     0.53583,     0.52887,     0.51883,     0.51595,     0.51306,     0.51018,     0.50727,     0.50432,     0.50136,     0.49836,     0.49549,     0.49354,     0.49159,     0.48964,     0.47736,     0.47053,\n",
      "             0.4547,     0.44662,     0.43662,     0.42843,     0.42108,     0.41581,     0.40762,     0.39202,     0.38274,      0.3578,      0.3495,     0.34513,     0.34189,     0.32938,      0.3178,     0.30659,     0.30109,     0.29075,     0.28609,     0.27993,     0.26389,     0.25247,      0.2461,\n",
      "            0.24232,     0.23767,     0.23165,     0.22847,     0.22554,      0.2226,     0.21966,     0.21672,     0.21378,     0.20903,     0.20343,     0.18711,     0.17463,     0.16835,      0.1604,     0.15258,     0.14611,     0.14179,     0.13744,     0.13239,     0.12749,     0.12491,     0.12233,\n",
      "            0.11975,     0.11311,     0.10097,    0.086861,    0.082971,    0.079066,    0.076051,    0.074745,    0.073437,    0.072127,    0.070816,    0.069502,    0.068187,     0.06687,     0.06509,    0.062173,    0.059248,    0.056314,    0.052465,    0.048084,    0.043675,    0.039208,     0.03472,\n",
      "           0.028113,    0.022373,    0.021962,     0.02155,    0.021137,    0.020725,    0.020312,      0.0199,    0.019487,    0.019074,    0.018661,    0.018247,    0.017834,     0.01742,    0.017006,    0.016592,    0.016178,    0.015763,    0.015349,    0.014934,    0.014519,    0.014104,    0.013688,\n",
      "           0.013273,    0.012857,    0.012441,    0.012025,    0.011609,           0,           0,           0,           0,           0,           0,           0,           0,           0,           0,           0,           0,           0,           0,           0,           0,           0,           0,\n",
      "                  0,           0,           0,           0,           0,           0,           0,           0,           0,           0,           0]]), 'Confidence', 'F1'], [array([          0,    0.001001,    0.002002,    0.003003,    0.004004,    0.005005,    0.006006,    0.007007,    0.008008,    0.009009,     0.01001,    0.011011,    0.012012,    0.013013,    0.014014,    0.015015,    0.016016,    0.017017,    0.018018,    0.019019,     0.02002,    0.021021,    0.022022,    0.023023,\n",
      "          0.024024,    0.025025,    0.026026,    0.027027,    0.028028,    0.029029,     0.03003,    0.031031,    0.032032,    0.033033,    0.034034,    0.035035,    0.036036,    0.037037,    0.038038,    0.039039,     0.04004,    0.041041,    0.042042,    0.043043,    0.044044,    0.045045,    0.046046,    0.047047,\n",
      "          0.048048,    0.049049,     0.05005,    0.051051,    0.052052,    0.053053,    0.054054,    0.055055,    0.056056,    0.057057,    0.058058,    0.059059,     0.06006,    0.061061,    0.062062,    0.063063,    0.064064,    0.065065,    0.066066,    0.067067,    0.068068,    0.069069,     0.07007,    0.071071,\n",
      "          0.072072,    0.073073,    0.074074,    0.075075,    0.076076,    0.077077,    0.078078,    0.079079,     0.08008,    0.081081,    0.082082,    0.083083,    0.084084,    0.085085,    0.086086,    0.087087,    0.088088,    0.089089,     0.09009,    0.091091,    0.092092,    0.093093,    0.094094,    0.095095,\n",
      "          0.096096,    0.097097,    0.098098,    0.099099,      0.1001,      0.1011,      0.1021,      0.1031,      0.1041,     0.10511,     0.10611,     0.10711,     0.10811,     0.10911,     0.11011,     0.11111,     0.11211,     0.11311,     0.11411,     0.11512,     0.11612,     0.11712,     0.11812,     0.11912,\n",
      "           0.12012,     0.12112,     0.12212,     0.12312,     0.12412,     0.12513,     0.12613,     0.12713,     0.12813,     0.12913,     0.13013,     0.13113,     0.13213,     0.13313,     0.13413,     0.13514,     0.13614,     0.13714,     0.13814,     0.13914,     0.14014,     0.14114,     0.14214,     0.14314,\n",
      "           0.14414,     0.14515,     0.14615,     0.14715,     0.14815,     0.14915,     0.15015,     0.15115,     0.15215,     0.15315,     0.15415,     0.15516,     0.15616,     0.15716,     0.15816,     0.15916,     0.16016,     0.16116,     0.16216,     0.16316,     0.16416,     0.16517,     0.16617,     0.16717,\n",
      "           0.16817,     0.16917,     0.17017,     0.17117,     0.17217,     0.17317,     0.17417,     0.17518,     0.17618,     0.17718,     0.17818,     0.17918,     0.18018,     0.18118,     0.18218,     0.18318,     0.18418,     0.18519,     0.18619,     0.18719,     0.18819,     0.18919,     0.19019,     0.19119,\n",
      "           0.19219,     0.19319,     0.19419,      0.1952,      0.1962,      0.1972,      0.1982,      0.1992,      0.2002,      0.2012,      0.2022,      0.2032,      0.2042,     0.20521,     0.20621,     0.20721,     0.20821,     0.20921,     0.21021,     0.21121,     0.21221,     0.21321,     0.21421,     0.21522,\n",
      "           0.21622,     0.21722,     0.21822,     0.21922,     0.22022,     0.22122,     0.22222,     0.22322,     0.22422,     0.22523,     0.22623,     0.22723,     0.22823,     0.22923,     0.23023,     0.23123,     0.23223,     0.23323,     0.23423,     0.23524,     0.23624,     0.23724,     0.23824,     0.23924,\n",
      "           0.24024,     0.24124,     0.24224,     0.24324,     0.24424,     0.24525,     0.24625,     0.24725,     0.24825,     0.24925,     0.25025,     0.25125,     0.25225,     0.25325,     0.25425,     0.25526,     0.25626,     0.25726,     0.25826,     0.25926,     0.26026,     0.26126,     0.26226,     0.26326,\n",
      "           0.26426,     0.26527,     0.26627,     0.26727,     0.26827,     0.26927,     0.27027,     0.27127,     0.27227,     0.27327,     0.27427,     0.27528,     0.27628,     0.27728,     0.27828,     0.27928,     0.28028,     0.28128,     0.28228,     0.28328,     0.28428,     0.28529,     0.28629,     0.28729,\n",
      "           0.28829,     0.28929,     0.29029,     0.29129,     0.29229,     0.29329,     0.29429,      0.2953,      0.2963,      0.2973,      0.2983,      0.2993,      0.3003,      0.3013,      0.3023,      0.3033,      0.3043,     0.30531,     0.30631,     0.30731,     0.30831,     0.30931,     0.31031,     0.31131,\n",
      "           0.31231,     0.31331,     0.31431,     0.31532,     0.31632,     0.31732,     0.31832,     0.31932,     0.32032,     0.32132,     0.32232,     0.32332,     0.32432,     0.32533,     0.32633,     0.32733,     0.32833,     0.32933,     0.33033,     0.33133,     0.33233,     0.33333,     0.33433,     0.33534,\n",
      "           0.33634,     0.33734,     0.33834,     0.33934,     0.34034,     0.34134,     0.34234,     0.34334,     0.34434,     0.34535,     0.34635,     0.34735,     0.34835,     0.34935,     0.35035,     0.35135,     0.35235,     0.35335,     0.35435,     0.35536,     0.35636,     0.35736,     0.35836,     0.35936,\n",
      "           0.36036,     0.36136,     0.36236,     0.36336,     0.36436,     0.36537,     0.36637,     0.36737,     0.36837,     0.36937,     0.37037,     0.37137,     0.37237,     0.37337,     0.37437,     0.37538,     0.37638,     0.37738,     0.37838,     0.37938,     0.38038,     0.38138,     0.38238,     0.38338,\n",
      "           0.38438,     0.38539,     0.38639,     0.38739,     0.38839,     0.38939,     0.39039,     0.39139,     0.39239,     0.39339,     0.39439,      0.3954,      0.3964,      0.3974,      0.3984,      0.3994,      0.4004,      0.4014,      0.4024,      0.4034,      0.4044,     0.40541,     0.40641,     0.40741,\n",
      "           0.40841,     0.40941,     0.41041,     0.41141,     0.41241,     0.41341,     0.41441,     0.41542,     0.41642,     0.41742,     0.41842,     0.41942,     0.42042,     0.42142,     0.42242,     0.42342,     0.42442,     0.42543,     0.42643,     0.42743,     0.42843,     0.42943,     0.43043,     0.43143,\n",
      "           0.43243,     0.43343,     0.43443,     0.43544,     0.43644,     0.43744,     0.43844,     0.43944,     0.44044,     0.44144,     0.44244,     0.44344,     0.44444,     0.44545,     0.44645,     0.44745,     0.44845,     0.44945,     0.45045,     0.45145,     0.45245,     0.45345,     0.45445,     0.45546,\n",
      "           0.45646,     0.45746,     0.45846,     0.45946,     0.46046,     0.46146,     0.46246,     0.46346,     0.46446,     0.46547,     0.46647,     0.46747,     0.46847,     0.46947,     0.47047,     0.47147,     0.47247,     0.47347,     0.47447,     0.47548,     0.47648,     0.47748,     0.47848,     0.47948,\n",
      "           0.48048,     0.48148,     0.48248,     0.48348,     0.48448,     0.48549,     0.48649,     0.48749,     0.48849,     0.48949,     0.49049,     0.49149,     0.49249,     0.49349,     0.49449,      0.4955,      0.4965,      0.4975,      0.4985,      0.4995,      0.5005,      0.5015,      0.5025,      0.5035,\n",
      "            0.5045,     0.50551,     0.50651,     0.50751,     0.50851,     0.50951,     0.51051,     0.51151,     0.51251,     0.51351,     0.51451,     0.51552,     0.51652,     0.51752,     0.51852,     0.51952,     0.52052,     0.52152,     0.52252,     0.52352,     0.52452,     0.52553,     0.52653,     0.52753,\n",
      "           0.52853,     0.52953,     0.53053,     0.53153,     0.53253,     0.53353,     0.53453,     0.53554,     0.53654,     0.53754,     0.53854,     0.53954,     0.54054,     0.54154,     0.54254,     0.54354,     0.54454,     0.54555,     0.54655,     0.54755,     0.54855,     0.54955,     0.55055,     0.55155,\n",
      "           0.55255,     0.55355,     0.55455,     0.55556,     0.55656,     0.55756,     0.55856,     0.55956,     0.56056,     0.56156,     0.56256,     0.56356,     0.56456,     0.56557,     0.56657,     0.56757,     0.56857,     0.56957,     0.57057,     0.57157,     0.57257,     0.57357,     0.57457,     0.57558,\n",
      "           0.57658,     0.57758,     0.57858,     0.57958,     0.58058,     0.58158,     0.58258,     0.58358,     0.58458,     0.58559,     0.58659,     0.58759,     0.58859,     0.58959,     0.59059,     0.59159,     0.59259,     0.59359,     0.59459,      0.5956,      0.5966,      0.5976,      0.5986,      0.5996,\n",
      "            0.6006,      0.6016,      0.6026,      0.6036,      0.6046,     0.60561,     0.60661,     0.60761,     0.60861,     0.60961,     0.61061,     0.61161,     0.61261,     0.61361,     0.61461,     0.61562,     0.61662,     0.61762,     0.61862,     0.61962,     0.62062,     0.62162,     0.62262,     0.62362,\n",
      "           0.62462,     0.62563,     0.62663,     0.62763,     0.62863,     0.62963,     0.63063,     0.63163,     0.63263,     0.63363,     0.63463,     0.63564,     0.63664,     0.63764,     0.63864,     0.63964,     0.64064,     0.64164,     0.64264,     0.64364,     0.64464,     0.64565,     0.64665,     0.64765,\n",
      "           0.64865,     0.64965,     0.65065,     0.65165,     0.65265,     0.65365,     0.65465,     0.65566,     0.65666,     0.65766,     0.65866,     0.65966,     0.66066,     0.66166,     0.66266,     0.66366,     0.66466,     0.66567,     0.66667,     0.66767,     0.66867,     0.66967,     0.67067,     0.67167,\n",
      "           0.67267,     0.67367,     0.67467,     0.67568,     0.67668,     0.67768,     0.67868,     0.67968,     0.68068,     0.68168,     0.68268,     0.68368,     0.68468,     0.68569,     0.68669,     0.68769,     0.68869,     0.68969,     0.69069,     0.69169,     0.69269,     0.69369,     0.69469,      0.6957,\n",
      "            0.6967,      0.6977,      0.6987,      0.6997,      0.7007,      0.7017,      0.7027,      0.7037,      0.7047,     0.70571,     0.70671,     0.70771,     0.70871,     0.70971,     0.71071,     0.71171,     0.71271,     0.71371,     0.71471,     0.71572,     0.71672,     0.71772,     0.71872,     0.71972,\n",
      "           0.72072,     0.72172,     0.72272,     0.72372,     0.72472,     0.72573,     0.72673,     0.72773,     0.72873,     0.72973,     0.73073,     0.73173,     0.73273,     0.73373,     0.73473,     0.73574,     0.73674,     0.73774,     0.73874,     0.73974,     0.74074,     0.74174,     0.74274,     0.74374,\n",
      "           0.74474,     0.74575,     0.74675,     0.74775,     0.74875,     0.74975,     0.75075,     0.75175,     0.75275,     0.75375,     0.75475,     0.75576,     0.75676,     0.75776,     0.75876,     0.75976,     0.76076,     0.76176,     0.76276,     0.76376,     0.76476,     0.76577,     0.76677,     0.76777,\n",
      "           0.76877,     0.76977,     0.77077,     0.77177,     0.77277,     0.77377,     0.77477,     0.77578,     0.77678,     0.77778,     0.77878,     0.77978,     0.78078,     0.78178,     0.78278,     0.78378,     0.78478,     0.78579,     0.78679,     0.78779,     0.78879,     0.78979,     0.79079,     0.79179,\n",
      "           0.79279,     0.79379,     0.79479,      0.7958,      0.7968,      0.7978,      0.7988,      0.7998,      0.8008,      0.8018,      0.8028,      0.8038,      0.8048,     0.80581,     0.80681,     0.80781,     0.80881,     0.80981,     0.81081,     0.81181,     0.81281,     0.81381,     0.81481,     0.81582,\n",
      "           0.81682,     0.81782,     0.81882,     0.81982,     0.82082,     0.82182,     0.82282,     0.82382,     0.82482,     0.82583,     0.82683,     0.82783,     0.82883,     0.82983,     0.83083,     0.83183,     0.83283,     0.83383,     0.83483,     0.83584,     0.83684,     0.83784,     0.83884,     0.83984,\n",
      "           0.84084,     0.84184,     0.84284,     0.84384,     0.84484,     0.84585,     0.84685,     0.84785,     0.84885,     0.84985,     0.85085,     0.85185,     0.85285,     0.85385,     0.85485,     0.85586,     0.85686,     0.85786,     0.85886,     0.85986,     0.86086,     0.86186,     0.86286,     0.86386,\n",
      "           0.86486,     0.86587,     0.86687,     0.86787,     0.86887,     0.86987,     0.87087,     0.87187,     0.87287,     0.87387,     0.87487,     0.87588,     0.87688,     0.87788,     0.87888,     0.87988,     0.88088,     0.88188,     0.88288,     0.88388,     0.88488,     0.88589,     0.88689,     0.88789,\n",
      "           0.88889,     0.88989,     0.89089,     0.89189,     0.89289,     0.89389,     0.89489,      0.8959,      0.8969,      0.8979,      0.8989,      0.8999,      0.9009,      0.9019,      0.9029,      0.9039,      0.9049,     0.90591,     0.90691,     0.90791,     0.90891,     0.90991,     0.91091,     0.91191,\n",
      "           0.91291,     0.91391,     0.91491,     0.91592,     0.91692,     0.91792,     0.91892,     0.91992,     0.92092,     0.92192,     0.92292,     0.92392,     0.92492,     0.92593,     0.92693,     0.92793,     0.92893,     0.92993,     0.93093,     0.93193,     0.93293,     0.93393,     0.93493,     0.93594,\n",
      "           0.93694,     0.93794,     0.93894,     0.93994,     0.94094,     0.94194,     0.94294,     0.94394,     0.94494,     0.94595,     0.94695,     0.94795,     0.94895,     0.94995,     0.95095,     0.95195,     0.95295,     0.95395,     0.95495,     0.95596,     0.95696,     0.95796,     0.95896,     0.95996,\n",
      "           0.96096,     0.96196,     0.96296,     0.96396,     0.96496,     0.96597,     0.96697,     0.96797,     0.96897,     0.96997,     0.97097,     0.97197,     0.97297,     0.97397,     0.97497,     0.97598,     0.97698,     0.97798,     0.97898,     0.97998,     0.98098,     0.98198,     0.98298,     0.98398,\n",
      "           0.98498,     0.98599,     0.98699,     0.98799,     0.98899,     0.98999,     0.99099,     0.99199,     0.99299,     0.99399,     0.99499,       0.996,       0.997,       0.998,       0.999,           1]), array([[    0.17551,     0.17555,     0.25449,     0.30097,     0.34026,     0.37338,      0.4036,     0.42425,     0.43739,     0.45358,     0.46123,       0.474,      0.4871,     0.49704,     0.50619,     0.51191,     0.52244,     0.53406,     0.54219,     0.54715,     0.55558,      0.5645,     0.57082,\n",
      "            0.57817,     0.58974,     0.59407,     0.59782,     0.60103,     0.60654,     0.60892,     0.61201,     0.61684,     0.62023,     0.62503,     0.62965,     0.63161,     0.63241,     0.63321,      0.6344,     0.63819,     0.64783,     0.65003,     0.65368,     0.66005,     0.66545,     0.66914,\n",
      "            0.67566,     0.67859,     0.68099,     0.68451,     0.68635,     0.68712,     0.68789,      0.6893,     0.69455,     0.69633,     0.70028,     0.70193,     0.70373,     0.70574,     0.70661,     0.70739,     0.70818,     0.70897,     0.70978,      0.7106,     0.71142,     0.71347,     0.71542,\n",
      "            0.71631,     0.71719,     0.71847,     0.72172,     0.72418,     0.72491,     0.72563,     0.72636,     0.72709,     0.72945,     0.73152,     0.73316,     0.73434,     0.73533,     0.73633,     0.74092,     0.74284,     0.74762,     0.74935,     0.75283,       0.755,      0.7568,     0.75768,\n",
      "            0.75856,     0.75944,     0.76083,     0.76419,     0.76579,     0.76737,      0.7688,     0.77022,     0.77132,     0.77229,     0.77326,     0.77438,     0.77806,     0.77881,     0.77955,     0.78029,     0.78104,     0.78209,     0.78343,     0.78477,     0.78624,     0.78773,      0.7891,\n",
      "            0.79021,     0.79131,     0.79241,     0.79275,     0.79305,     0.79336,     0.79366,     0.79397,     0.79428,     0.79458,     0.79489,     0.79519,      0.7955,      0.7958,     0.79611,     0.79858,     0.80023,     0.80062,       0.801,     0.80139,     0.80177,     0.80216,     0.80255,\n",
      "            0.80293,     0.80332,      0.8037,     0.80529,     0.80745,      0.8118,     0.81551,      0.8191,     0.81964,     0.82017,     0.82071,     0.82125,     0.82179,     0.82233,     0.82282,     0.82322,     0.82363,     0.82404,     0.82445,     0.82485,     0.82526,     0.82567,     0.82607,\n",
      "            0.82648,      0.8282,     0.83202,     0.83511,     0.83559,     0.83606,     0.83654,     0.83702,     0.83749,     0.83797,     0.83845,     0.83893,     0.83975,     0.84102,     0.84229,     0.84367,     0.84618,     0.84951,     0.85236,     0.85307,     0.85378,      0.8545,     0.85521,\n",
      "            0.85592,     0.85664,     0.85735,     0.85807,     0.85879,     0.85951,     0.86023,      0.8609,     0.86133,     0.86177,      0.8622,     0.86263,     0.86307,      0.8635,     0.86394,     0.86437,     0.86481,     0.86524,     0.86685,     0.86859,      0.8701,     0.87112,     0.87213,\n",
      "            0.87314,     0.87415,     0.87466,     0.87504,     0.87543,     0.87582,      0.8762,     0.87659,     0.87698,     0.87736,     0.87775,     0.87814,     0.87852,     0.87891,     0.87939,     0.87988,     0.88037,     0.88086,     0.88135,     0.88184,     0.88233,     0.88282,     0.88331,\n",
      "            0.88445,     0.88648,     0.88839,     0.88927,     0.89015,     0.89103,     0.89191,     0.89279,     0.89858,     0.89981,     0.90104,     0.90227,     0.90524,     0.90778,     0.90822,     0.90866,      0.9091,     0.90953,     0.90997,     0.91041,     0.91085,     0.91129,     0.91172,\n",
      "            0.91216,     0.91262,     0.91329,     0.91397,     0.91465,     0.91532,       0.916,     0.91668,     0.91735,     0.92278,     0.92362,     0.92446,     0.92529,     0.92613,     0.92697,     0.92786,     0.92986,     0.93186,     0.93352,     0.93476,     0.93601,     0.93725,     0.93838,\n",
      "            0.93911,     0.93985,     0.94058,     0.94132,     0.94205,     0.94279,     0.94351,     0.94365,     0.94379,     0.94394,     0.94408,     0.94423,     0.94437,     0.94451,     0.94466,      0.9448,     0.94495,     0.94509,     0.94523,     0.94538,     0.94552,     0.94567,     0.94581,\n",
      "            0.94595,      0.9461,     0.94624,     0.94638,     0.94653,     0.94667,     0.94682,     0.94696,      0.9471,     0.94725,     0.94739,     0.94754,     0.94768,     0.94782,     0.94797,     0.94811,     0.94826,      0.9484,     0.94854,     0.94869,     0.94883,     0.94906,     0.94932,\n",
      "            0.94958,     0.94983,     0.95009,     0.95035,      0.9506,     0.95086,     0.95112,     0.95138,     0.95163,     0.95189,     0.95215,      0.9524,     0.95266,     0.95292,     0.95317,     0.95343,     0.95369,     0.95395,      0.9542,     0.95426,     0.95423,     0.95419,     0.95416,\n",
      "            0.95412,     0.95409,     0.95405,     0.95402,     0.95401,     0.95399,     0.95397,     0.95396,     0.95394,     0.95393,     0.95391,     0.95389,     0.95388,     0.95386,     0.95385,     0.95383,     0.95382,      0.9538,     0.95378,     0.95377,     0.95375,     0.95375,     0.95374,\n",
      "            0.95373,     0.95372,     0.95372,     0.95371,      0.9537,     0.95369,     0.95368,     0.95368,     0.95367,     0.95366,     0.95365,     0.95365,     0.95364,     0.95363,     0.95362,     0.95361,     0.95361,      0.9536,     0.95359,     0.95358,     0.95357,     0.95357,     0.95356,\n",
      "            0.95355,     0.95354,     0.95354,     0.95353,     0.95352,     0.95351,      0.9535,      0.9535,     0.95349,     0.95401,     0.95457,     0.95513,     0.95569,     0.95625,     0.95681,     0.95737,     0.95793,     0.95849,     0.95905,     0.95905,     0.95904,     0.95903,     0.95902,\n",
      "              0.959,     0.95899,     0.95898,     0.95897,     0.95896,     0.95894,     0.95893,     0.95892,     0.95891,      0.9589,     0.95888,     0.95887,     0.95886,     0.95885,     0.95883,     0.95885,     0.95911,     0.95938,     0.95964,     0.95991,     0.96017,     0.96044,      0.9607,\n",
      "            0.96097,     0.96123,      0.9615,     0.96176,     0.96203,     0.96229,     0.96256,     0.96282,     0.96309,     0.96335,     0.96362,     0.96388,     0.96415,     0.96441,     0.96448,     0.96446,     0.96444,     0.96441,     0.96439,     0.96437,     0.96435,     0.96432,      0.9643,\n",
      "            0.96437,     0.96462,     0.96487,     0.96512,     0.96537,     0.96562,     0.96587,     0.96612,     0.96637,     0.96662,     0.96686,     0.96711,     0.96736,     0.96761,     0.96786,     0.96811,     0.96836,     0.96861,     0.96886,     0.96911,     0.96936,     0.96961,     0.96986,\n",
      "            0.97055,     0.97324,      0.9759,     0.97589,     0.97587,     0.97585,     0.97584,     0.97582,      0.9758,     0.97578,     0.97577,     0.97575,     0.97573,     0.97571,     0.97569,     0.97567,     0.97565,     0.97563,     0.97561,     0.97559,     0.97557,     0.97555,     0.97553,\n",
      "            0.97551,     0.97549,     0.97546,     0.97564,     0.97586,     0.97608,      0.9763,     0.97652,     0.97674,     0.97696,     0.97718,      0.9774,     0.97762,     0.97784,     0.97806,     0.97828,      0.9785,     0.97872,     0.97894,     0.97915,     0.97937,     0.97959,     0.97981,\n",
      "            0.98003,     0.98025,     0.98047,     0.98069,     0.98091,     0.98113,     0.98135,     0.98148,     0.98148,     0.98147,     0.98147,     0.98147,     0.98147,     0.98146,     0.98146,     0.98146,     0.98145,     0.98145,     0.98145,     0.98144,     0.98144,     0.98144,     0.98143,\n",
      "            0.98143,     0.98143,     0.98143,     0.98142,     0.98142,     0.98142,     0.98141,     0.98141,     0.98141,      0.9814,      0.9814,      0.9814,      0.9814,     0.98139,     0.98139,     0.98139,     0.98138,     0.98138,     0.98138,     0.98137,     0.98137,     0.98137,     0.98134,\n",
      "            0.98128,     0.98124,     0.98123,     0.98122,     0.98121,      0.9812,     0.98119,     0.98118,     0.98117,     0.98116,     0.98114,     0.98113,     0.98111,     0.98109,     0.98107,     0.98104,     0.98102,     0.98101,     0.98101,     0.98101,       0.981,       0.981,       0.981,\n",
      "              0.981,     0.98099,     0.98099,     0.98099,     0.98098,     0.98098,     0.98098,     0.98098,     0.98097,     0.98097,     0.98097,     0.98097,     0.98096,     0.98096,     0.98096,     0.98096,     0.98095,     0.98095,     0.98095,     0.98095,     0.98094,     0.98094,     0.98094,\n",
      "            0.98093,     0.98093,     0.98093,     0.98093,     0.98092,     0.98092,     0.98092,     0.98092,     0.98091,     0.98091,     0.98091,     0.98091,      0.9809,      0.9809,      0.9809,      0.9809,     0.98089,     0.98089,     0.98088,     0.98087,     0.98086,     0.98086,     0.98085,\n",
      "            0.98084,     0.98083,     0.98082,     0.98081,     0.98081,      0.9808,     0.98079,     0.98078,     0.98077,     0.98092,     0.98134,     0.98175,     0.98217,     0.98259,       0.983,     0.98342,     0.98383,     0.98425,     0.98467,     0.98508,      0.9855,     0.98591,     0.98633,\n",
      "            0.98675,      0.9871,     0.98709,     0.98708,     0.98708,     0.98707,     0.98707,     0.98706,     0.98705,     0.98705,     0.98704,     0.98704,     0.98703,     0.98702,     0.98702,     0.98699,     0.98693,     0.98692,     0.98692,     0.98691,     0.98691,      0.9869,      0.9869,\n",
      "            0.98689,     0.98688,     0.98688,     0.98687,     0.98687,     0.98686,     0.98686,     0.98685,     0.98685,     0.98684,     0.98682,     0.98679,     0.98677,     0.98675,     0.98672,      0.9867,     0.98667,     0.98665,     0.98663,     0.98662,      0.9866,     0.98658,     0.98657,\n",
      "            0.98656,     0.98656,     0.98655,     0.98654,     0.98653,     0.98653,     0.98652,     0.98651,     0.98651,      0.9865,     0.98649,     0.98647,     0.98642,     0.98639,     0.98638,     0.98637,     0.98636,     0.98635,     0.98634,     0.98633,     0.98632,     0.98631,      0.9863,\n",
      "            0.98629,     0.98629,     0.98628,     0.98628,     0.98627,     0.98626,     0.98626,     0.98625,     0.98624,     0.98624,     0.98623,     0.98622,     0.98622,     0.98621,      0.9862,     0.98618,     0.98615,     0.98613,      0.9862,     0.98785,     0.98951,     0.99116,     0.99281,\n",
      "              0.993,     0.99299,     0.99298,     0.99297,     0.99296,     0.99293,     0.99282,     0.99275,     0.99274,     0.99273,     0.99272,     0.99271,     0.99268,     0.99264,     0.99263,     0.99262,     0.99261,     0.99259,     0.99258,     0.99256,     0.99255,     0.99253,     0.99251,\n",
      "            0.99248,     0.99242,      0.9924,     0.99239,     0.99237,      0.9923,     0.99229,     0.99227,     0.99226,     0.99221,     0.99206,     0.99195,      0.9919,     0.99181,     0.99175,     0.99172,     0.99171,      0.9917,     0.99168,     0.99167,     0.99165,     0.99163,     0.99161,\n",
      "            0.99157,     0.99152,     0.99146,           1,           1,           1,           1,           1,           1,           1,           1,           1,           1,           1,           1,           1,           1,           1,           1,           1,           1,           1,           1,\n",
      "                  1,           1,           1,           1,           1,           1,           1,           1,           1,           1,           1,           1,           1,           1,           1,           1,           1,           1,           1,           1,           1,           1,           1,\n",
      "                  1,           1,           1,           1,           1,           1,           1,           1,           1,           1,           1,           1,           1,           1,           1,           1,           1,           1,           1,           1,           1,           1,           1,\n",
      "                  1,           1,           1,           1,           1,           1,           1,           1,           1,           1,           1,           1,           1,           1,           1,           1,           1,           1,           1,           1,           1,           1,           1,\n",
      "                  1,           1,           1,           1,           1,           1,           1,           1,           1,           1,           1,           1,           1,           1,           1,           1,           1,           1,           1,           1,           1,           1,           1,\n",
      "                  1,           1,           1,           1,           1,           1,           1,           1,           1,           1,           1,           1,           1,           1,           1,           1,           1,           1,           1,           1,           1,           1,           1,\n",
      "                  1,           1,           1,           1,           1,           1,           1,           1,           1,           1,           1,           1,           1,           1,           1,           1,           1,           1,           1,           1,           1,           1,           1,\n",
      "                  1,           1,           1,           1,           1,           1,           1,           1,           1,           1,           1,           1,           1,           1,           1,           1,           1,           1,           1,           1,           1,           1,           1,\n",
      "                  1,           1,           1,           1,           1,           1,           1,           1,           1,           1,           1]]), 'Confidence', 'Precision'], [array([          0,    0.001001,    0.002002,    0.003003,    0.004004,    0.005005,    0.006006,    0.007007,    0.008008,    0.009009,     0.01001,    0.011011,    0.012012,    0.013013,    0.014014,    0.015015,    0.016016,    0.017017,    0.018018,    0.019019,     0.02002,    0.021021,    0.022022,    0.023023,\n",
      "          0.024024,    0.025025,    0.026026,    0.027027,    0.028028,    0.029029,     0.03003,    0.031031,    0.032032,    0.033033,    0.034034,    0.035035,    0.036036,    0.037037,    0.038038,    0.039039,     0.04004,    0.041041,    0.042042,    0.043043,    0.044044,    0.045045,    0.046046,    0.047047,\n",
      "          0.048048,    0.049049,     0.05005,    0.051051,    0.052052,    0.053053,    0.054054,    0.055055,    0.056056,    0.057057,    0.058058,    0.059059,     0.06006,    0.061061,    0.062062,    0.063063,    0.064064,    0.065065,    0.066066,    0.067067,    0.068068,    0.069069,     0.07007,    0.071071,\n",
      "          0.072072,    0.073073,    0.074074,    0.075075,    0.076076,    0.077077,    0.078078,    0.079079,     0.08008,    0.081081,    0.082082,    0.083083,    0.084084,    0.085085,    0.086086,    0.087087,    0.088088,    0.089089,     0.09009,    0.091091,    0.092092,    0.093093,    0.094094,    0.095095,\n",
      "          0.096096,    0.097097,    0.098098,    0.099099,      0.1001,      0.1011,      0.1021,      0.1031,      0.1041,     0.10511,     0.10611,     0.10711,     0.10811,     0.10911,     0.11011,     0.11111,     0.11211,     0.11311,     0.11411,     0.11512,     0.11612,     0.11712,     0.11812,     0.11912,\n",
      "           0.12012,     0.12112,     0.12212,     0.12312,     0.12412,     0.12513,     0.12613,     0.12713,     0.12813,     0.12913,     0.13013,     0.13113,     0.13213,     0.13313,     0.13413,     0.13514,     0.13614,     0.13714,     0.13814,     0.13914,     0.14014,     0.14114,     0.14214,     0.14314,\n",
      "           0.14414,     0.14515,     0.14615,     0.14715,     0.14815,     0.14915,     0.15015,     0.15115,     0.15215,     0.15315,     0.15415,     0.15516,     0.15616,     0.15716,     0.15816,     0.15916,     0.16016,     0.16116,     0.16216,     0.16316,     0.16416,     0.16517,     0.16617,     0.16717,\n",
      "           0.16817,     0.16917,     0.17017,     0.17117,     0.17217,     0.17317,     0.17417,     0.17518,     0.17618,     0.17718,     0.17818,     0.17918,     0.18018,     0.18118,     0.18218,     0.18318,     0.18418,     0.18519,     0.18619,     0.18719,     0.18819,     0.18919,     0.19019,     0.19119,\n",
      "           0.19219,     0.19319,     0.19419,      0.1952,      0.1962,      0.1972,      0.1982,      0.1992,      0.2002,      0.2012,      0.2022,      0.2032,      0.2042,     0.20521,     0.20621,     0.20721,     0.20821,     0.20921,     0.21021,     0.21121,     0.21221,     0.21321,     0.21421,     0.21522,\n",
      "           0.21622,     0.21722,     0.21822,     0.21922,     0.22022,     0.22122,     0.22222,     0.22322,     0.22422,     0.22523,     0.22623,     0.22723,     0.22823,     0.22923,     0.23023,     0.23123,     0.23223,     0.23323,     0.23423,     0.23524,     0.23624,     0.23724,     0.23824,     0.23924,\n",
      "           0.24024,     0.24124,     0.24224,     0.24324,     0.24424,     0.24525,     0.24625,     0.24725,     0.24825,     0.24925,     0.25025,     0.25125,     0.25225,     0.25325,     0.25425,     0.25526,     0.25626,     0.25726,     0.25826,     0.25926,     0.26026,     0.26126,     0.26226,     0.26326,\n",
      "           0.26426,     0.26527,     0.26627,     0.26727,     0.26827,     0.26927,     0.27027,     0.27127,     0.27227,     0.27327,     0.27427,     0.27528,     0.27628,     0.27728,     0.27828,     0.27928,     0.28028,     0.28128,     0.28228,     0.28328,     0.28428,     0.28529,     0.28629,     0.28729,\n",
      "           0.28829,     0.28929,     0.29029,     0.29129,     0.29229,     0.29329,     0.29429,      0.2953,      0.2963,      0.2973,      0.2983,      0.2993,      0.3003,      0.3013,      0.3023,      0.3033,      0.3043,     0.30531,     0.30631,     0.30731,     0.30831,     0.30931,     0.31031,     0.31131,\n",
      "           0.31231,     0.31331,     0.31431,     0.31532,     0.31632,     0.31732,     0.31832,     0.31932,     0.32032,     0.32132,     0.32232,     0.32332,     0.32432,     0.32533,     0.32633,     0.32733,     0.32833,     0.32933,     0.33033,     0.33133,     0.33233,     0.33333,     0.33433,     0.33534,\n",
      "           0.33634,     0.33734,     0.33834,     0.33934,     0.34034,     0.34134,     0.34234,     0.34334,     0.34434,     0.34535,     0.34635,     0.34735,     0.34835,     0.34935,     0.35035,     0.35135,     0.35235,     0.35335,     0.35435,     0.35536,     0.35636,     0.35736,     0.35836,     0.35936,\n",
      "           0.36036,     0.36136,     0.36236,     0.36336,     0.36436,     0.36537,     0.36637,     0.36737,     0.36837,     0.36937,     0.37037,     0.37137,     0.37237,     0.37337,     0.37437,     0.37538,     0.37638,     0.37738,     0.37838,     0.37938,     0.38038,     0.38138,     0.38238,     0.38338,\n",
      "           0.38438,     0.38539,     0.38639,     0.38739,     0.38839,     0.38939,     0.39039,     0.39139,     0.39239,     0.39339,     0.39439,      0.3954,      0.3964,      0.3974,      0.3984,      0.3994,      0.4004,      0.4014,      0.4024,      0.4034,      0.4044,     0.40541,     0.40641,     0.40741,\n",
      "           0.40841,     0.40941,     0.41041,     0.41141,     0.41241,     0.41341,     0.41441,     0.41542,     0.41642,     0.41742,     0.41842,     0.41942,     0.42042,     0.42142,     0.42242,     0.42342,     0.42442,     0.42543,     0.42643,     0.42743,     0.42843,     0.42943,     0.43043,     0.43143,\n",
      "           0.43243,     0.43343,     0.43443,     0.43544,     0.43644,     0.43744,     0.43844,     0.43944,     0.44044,     0.44144,     0.44244,     0.44344,     0.44444,     0.44545,     0.44645,     0.44745,     0.44845,     0.44945,     0.45045,     0.45145,     0.45245,     0.45345,     0.45445,     0.45546,\n",
      "           0.45646,     0.45746,     0.45846,     0.45946,     0.46046,     0.46146,     0.46246,     0.46346,     0.46446,     0.46547,     0.46647,     0.46747,     0.46847,     0.46947,     0.47047,     0.47147,     0.47247,     0.47347,     0.47447,     0.47548,     0.47648,     0.47748,     0.47848,     0.47948,\n",
      "           0.48048,     0.48148,     0.48248,     0.48348,     0.48448,     0.48549,     0.48649,     0.48749,     0.48849,     0.48949,     0.49049,     0.49149,     0.49249,     0.49349,     0.49449,      0.4955,      0.4965,      0.4975,      0.4985,      0.4995,      0.5005,      0.5015,      0.5025,      0.5035,\n",
      "            0.5045,     0.50551,     0.50651,     0.50751,     0.50851,     0.50951,     0.51051,     0.51151,     0.51251,     0.51351,     0.51451,     0.51552,     0.51652,     0.51752,     0.51852,     0.51952,     0.52052,     0.52152,     0.52252,     0.52352,     0.52452,     0.52553,     0.52653,     0.52753,\n",
      "           0.52853,     0.52953,     0.53053,     0.53153,     0.53253,     0.53353,     0.53453,     0.53554,     0.53654,     0.53754,     0.53854,     0.53954,     0.54054,     0.54154,     0.54254,     0.54354,     0.54454,     0.54555,     0.54655,     0.54755,     0.54855,     0.54955,     0.55055,     0.55155,\n",
      "           0.55255,     0.55355,     0.55455,     0.55556,     0.55656,     0.55756,     0.55856,     0.55956,     0.56056,     0.56156,     0.56256,     0.56356,     0.56456,     0.56557,     0.56657,     0.56757,     0.56857,     0.56957,     0.57057,     0.57157,     0.57257,     0.57357,     0.57457,     0.57558,\n",
      "           0.57658,     0.57758,     0.57858,     0.57958,     0.58058,     0.58158,     0.58258,     0.58358,     0.58458,     0.58559,     0.58659,     0.58759,     0.58859,     0.58959,     0.59059,     0.59159,     0.59259,     0.59359,     0.59459,      0.5956,      0.5966,      0.5976,      0.5986,      0.5996,\n",
      "            0.6006,      0.6016,      0.6026,      0.6036,      0.6046,     0.60561,     0.60661,     0.60761,     0.60861,     0.60961,     0.61061,     0.61161,     0.61261,     0.61361,     0.61461,     0.61562,     0.61662,     0.61762,     0.61862,     0.61962,     0.62062,     0.62162,     0.62262,     0.62362,\n",
      "           0.62462,     0.62563,     0.62663,     0.62763,     0.62863,     0.62963,     0.63063,     0.63163,     0.63263,     0.63363,     0.63463,     0.63564,     0.63664,     0.63764,     0.63864,     0.63964,     0.64064,     0.64164,     0.64264,     0.64364,     0.64464,     0.64565,     0.64665,     0.64765,\n",
      "           0.64865,     0.64965,     0.65065,     0.65165,     0.65265,     0.65365,     0.65465,     0.65566,     0.65666,     0.65766,     0.65866,     0.65966,     0.66066,     0.66166,     0.66266,     0.66366,     0.66466,     0.66567,     0.66667,     0.66767,     0.66867,     0.66967,     0.67067,     0.67167,\n",
      "           0.67267,     0.67367,     0.67467,     0.67568,     0.67668,     0.67768,     0.67868,     0.67968,     0.68068,     0.68168,     0.68268,     0.68368,     0.68468,     0.68569,     0.68669,     0.68769,     0.68869,     0.68969,     0.69069,     0.69169,     0.69269,     0.69369,     0.69469,      0.6957,\n",
      "            0.6967,      0.6977,      0.6987,      0.6997,      0.7007,      0.7017,      0.7027,      0.7037,      0.7047,     0.70571,     0.70671,     0.70771,     0.70871,     0.70971,     0.71071,     0.71171,     0.71271,     0.71371,     0.71471,     0.71572,     0.71672,     0.71772,     0.71872,     0.71972,\n",
      "           0.72072,     0.72172,     0.72272,     0.72372,     0.72472,     0.72573,     0.72673,     0.72773,     0.72873,     0.72973,     0.73073,     0.73173,     0.73273,     0.73373,     0.73473,     0.73574,     0.73674,     0.73774,     0.73874,     0.73974,     0.74074,     0.74174,     0.74274,     0.74374,\n",
      "           0.74474,     0.74575,     0.74675,     0.74775,     0.74875,     0.74975,     0.75075,     0.75175,     0.75275,     0.75375,     0.75475,     0.75576,     0.75676,     0.75776,     0.75876,     0.75976,     0.76076,     0.76176,     0.76276,     0.76376,     0.76476,     0.76577,     0.76677,     0.76777,\n",
      "           0.76877,     0.76977,     0.77077,     0.77177,     0.77277,     0.77377,     0.77477,     0.77578,     0.77678,     0.77778,     0.77878,     0.77978,     0.78078,     0.78178,     0.78278,     0.78378,     0.78478,     0.78579,     0.78679,     0.78779,     0.78879,     0.78979,     0.79079,     0.79179,\n",
      "           0.79279,     0.79379,     0.79479,      0.7958,      0.7968,      0.7978,      0.7988,      0.7998,      0.8008,      0.8018,      0.8028,      0.8038,      0.8048,     0.80581,     0.80681,     0.80781,     0.80881,     0.80981,     0.81081,     0.81181,     0.81281,     0.81381,     0.81481,     0.81582,\n",
      "           0.81682,     0.81782,     0.81882,     0.81982,     0.82082,     0.82182,     0.82282,     0.82382,     0.82482,     0.82583,     0.82683,     0.82783,     0.82883,     0.82983,     0.83083,     0.83183,     0.83283,     0.83383,     0.83483,     0.83584,     0.83684,     0.83784,     0.83884,     0.83984,\n",
      "           0.84084,     0.84184,     0.84284,     0.84384,     0.84484,     0.84585,     0.84685,     0.84785,     0.84885,     0.84985,     0.85085,     0.85185,     0.85285,     0.85385,     0.85485,     0.85586,     0.85686,     0.85786,     0.85886,     0.85986,     0.86086,     0.86186,     0.86286,     0.86386,\n",
      "           0.86486,     0.86587,     0.86687,     0.86787,     0.86887,     0.86987,     0.87087,     0.87187,     0.87287,     0.87387,     0.87487,     0.87588,     0.87688,     0.87788,     0.87888,     0.87988,     0.88088,     0.88188,     0.88288,     0.88388,     0.88488,     0.88589,     0.88689,     0.88789,\n",
      "           0.88889,     0.88989,     0.89089,     0.89189,     0.89289,     0.89389,     0.89489,      0.8959,      0.8969,      0.8979,      0.8989,      0.8999,      0.9009,      0.9019,      0.9029,      0.9039,      0.9049,     0.90591,     0.90691,     0.90791,     0.90891,     0.90991,     0.91091,     0.91191,\n",
      "           0.91291,     0.91391,     0.91491,     0.91592,     0.91692,     0.91792,     0.91892,     0.91992,     0.92092,     0.92192,     0.92292,     0.92392,     0.92492,     0.92593,     0.92693,     0.92793,     0.92893,     0.92993,     0.93093,     0.93193,     0.93293,     0.93393,     0.93493,     0.93594,\n",
      "           0.93694,     0.93794,     0.93894,     0.93994,     0.94094,     0.94194,     0.94294,     0.94394,     0.94494,     0.94595,     0.94695,     0.94795,     0.94895,     0.94995,     0.95095,     0.95195,     0.95295,     0.95395,     0.95495,     0.95596,     0.95696,     0.95796,     0.95896,     0.95996,\n",
      "           0.96096,     0.96196,     0.96296,     0.96396,     0.96496,     0.96597,     0.96697,     0.96797,     0.96897,     0.96997,     0.97097,     0.97197,     0.97297,     0.97397,     0.97497,     0.97598,     0.97698,     0.97798,     0.97898,     0.97998,     0.98098,     0.98198,     0.98298,     0.98398,\n",
      "           0.98498,     0.98599,     0.98699,     0.98799,     0.98899,     0.98999,     0.99099,     0.99199,     0.99299,     0.99399,     0.99499,       0.996,       0.997,       0.998,       0.999,           1]), array([[    0.97727,     0.97727,     0.96591,     0.96591,     0.96591,     0.96591,     0.96023,     0.96023,     0.96023,     0.96023,     0.95455,     0.95455,     0.95455,     0.95455,     0.95455,     0.95455,     0.95455,     0.95455,     0.95455,     0.95455,     0.95455,     0.95455,     0.95455,\n",
      "            0.95455,     0.95455,     0.95455,     0.95455,     0.95455,     0.95455,     0.95455,     0.95455,     0.95455,     0.95455,     0.95455,     0.95455,     0.95455,     0.95455,     0.95455,     0.95455,     0.95455,     0.95455,     0.95455,     0.95455,     0.95455,     0.95455,     0.95455,\n",
      "            0.95455,     0.95455,     0.95455,     0.95455,     0.95455,     0.95455,     0.95455,     0.95455,     0.95455,     0.95455,     0.95455,     0.95455,     0.95455,     0.95455,     0.95455,     0.95455,     0.95455,     0.95455,     0.95455,     0.95455,     0.95455,     0.95455,     0.95455,\n",
      "            0.95455,     0.95455,     0.95455,     0.95455,     0.95455,     0.95455,     0.95455,     0.95455,     0.95455,     0.95455,     0.95455,     0.95455,     0.95455,     0.95455,     0.95455,     0.95455,     0.95455,     0.95455,     0.95455,     0.95455,     0.95455,     0.95455,     0.95455,\n",
      "            0.95455,     0.95455,     0.95455,     0.95455,     0.95455,     0.95455,     0.95455,     0.95455,     0.95455,     0.95455,     0.95455,     0.95455,     0.95455,     0.95455,     0.95455,     0.95455,     0.95455,     0.95455,     0.95455,     0.95455,     0.95455,     0.95455,     0.95455,\n",
      "            0.95455,     0.95455,     0.95455,     0.95455,     0.95455,     0.95455,     0.95455,     0.95455,     0.95455,     0.95455,     0.95455,     0.95455,     0.95455,     0.95455,     0.95455,     0.95455,     0.95455,     0.95455,     0.95455,     0.95455,     0.95455,     0.95455,     0.95455,\n",
      "            0.95455,     0.95455,     0.95455,     0.95455,     0.95455,     0.94886,     0.94886,     0.94886,     0.94886,     0.94886,     0.94886,     0.94886,     0.94886,     0.94886,     0.94886,     0.94886,     0.94886,     0.94886,     0.94886,     0.94886,     0.94886,     0.94886,     0.94886,\n",
      "            0.94886,     0.94886,     0.94886,     0.94886,     0.94886,     0.94886,     0.94886,     0.94886,     0.94886,     0.94886,     0.94886,     0.94886,     0.94886,     0.94886,     0.94886,     0.94886,     0.94886,     0.94886,     0.94886,     0.94886,     0.94886,     0.94886,     0.94886,\n",
      "            0.94886,     0.94886,     0.94886,     0.94886,     0.94886,     0.94886,     0.94886,     0.94886,     0.94886,     0.94886,     0.94886,     0.94886,     0.94886,     0.94886,     0.94886,     0.94886,     0.94886,     0.94886,     0.94886,     0.94886,     0.94886,     0.94886,     0.94886,\n",
      "            0.94886,     0.94886,     0.94886,     0.94886,     0.94886,     0.94886,     0.94886,     0.94886,     0.94886,     0.94886,     0.94886,     0.94886,     0.94886,     0.94886,     0.94886,     0.94886,     0.94886,     0.94886,     0.94886,     0.94886,     0.94886,     0.94886,     0.94886,\n",
      "            0.94886,     0.94886,     0.94886,     0.94886,     0.94886,     0.94886,     0.94886,     0.94886,     0.94886,     0.94886,     0.94886,     0.94886,     0.94886,     0.94886,     0.94886,     0.94886,     0.94886,     0.94886,     0.94886,     0.94886,     0.94886,     0.94886,     0.94886,\n",
      "            0.94886,     0.94886,     0.94886,     0.94886,     0.94886,     0.94886,     0.94886,     0.94886,     0.94886,     0.94886,     0.94886,     0.94886,     0.94886,     0.94886,     0.94886,     0.94886,     0.94886,     0.94886,     0.94886,     0.94886,     0.94886,     0.94886,     0.94886,\n",
      "            0.94886,     0.94886,     0.94886,     0.94886,     0.94886,     0.94886,     0.94886,     0.94886,     0.94886,     0.94886,     0.94886,     0.94886,     0.94886,     0.94886,     0.94886,     0.94886,     0.94886,     0.94886,     0.94886,     0.94886,     0.94886,     0.94886,     0.94886,\n",
      "            0.94886,     0.94886,     0.94886,     0.94886,     0.94886,     0.94886,     0.94886,     0.94886,     0.94886,     0.94886,     0.94886,     0.94886,     0.94886,     0.94886,     0.94886,     0.94886,     0.94886,     0.94886,     0.94886,     0.94886,     0.94886,     0.94886,     0.94886,\n",
      "            0.94886,     0.94886,     0.94886,     0.94886,     0.94886,     0.94886,     0.94886,     0.94886,     0.94886,     0.94886,     0.94886,     0.94886,     0.94886,     0.94886,     0.94886,     0.94886,     0.94886,     0.94886,     0.94886,     0.94836,     0.94761,     0.94686,     0.94611,\n",
      "            0.94536,      0.9446,     0.94385,     0.94315,     0.94281,     0.94247,     0.94213,     0.94179,     0.94145,     0.94111,     0.94077,     0.94043,      0.9401,     0.93976,     0.93942,     0.93908,     0.93874,      0.9384,     0.93806,     0.93772,     0.93744,     0.93728,     0.93711,\n",
      "            0.93695,     0.93678,     0.93662,     0.93645,     0.93629,     0.93612,     0.93596,     0.93579,     0.93563,     0.93546,      0.9353,     0.93513,     0.93497,      0.9348,     0.93464,     0.93447,     0.93431,     0.93414,     0.93398,     0.93381,     0.93365,     0.93348,     0.93331,\n",
      "            0.93315,     0.93298,     0.93282,     0.93265,     0.93249,     0.93232,     0.93216,     0.93199,     0.93183,     0.93182,     0.93182,     0.93182,     0.93182,     0.93182,     0.93182,     0.93182,     0.93182,     0.93182,     0.93182,     0.93154,     0.93125,     0.93097,     0.93068,\n",
      "             0.9304,     0.93011,     0.92982,     0.92954,     0.92925,     0.92897,     0.92868,     0.92839,     0.92811,     0.92782,     0.92754,     0.92725,     0.92697,     0.92668,     0.92639,     0.92614,     0.92614,     0.92614,     0.92614,     0.92614,     0.92614,     0.92614,     0.92614,\n",
      "            0.92614,     0.92614,     0.92614,     0.92614,     0.92614,     0.92614,     0.92614,     0.92614,     0.92614,     0.92614,     0.92614,     0.92614,     0.92614,     0.92614,     0.92572,     0.92511,     0.92451,      0.9239,     0.92329,     0.92268,     0.92207,     0.92146,     0.92085,\n",
      "            0.92045,     0.92045,     0.92045,     0.92045,     0.92045,     0.92045,     0.92045,     0.92045,     0.92045,     0.92045,     0.92045,     0.92045,     0.92045,     0.92045,     0.92045,     0.92045,     0.92045,     0.92045,     0.92045,     0.92045,     0.92045,     0.92045,     0.92045,\n",
      "            0.92045,     0.92045,     0.92045,     0.91979,     0.91912,     0.91846,     0.91779,     0.91713,     0.91646,      0.9158,     0.91513,     0.91443,     0.91368,     0.91294,     0.91219,     0.91145,      0.9107,     0.90995,     0.90921,     0.90841,      0.9076,     0.90679,     0.90598,\n",
      "            0.90517,     0.90437,     0.90356,     0.90341,     0.90341,     0.90341,     0.90341,     0.90341,     0.90341,     0.90341,     0.90341,     0.90341,     0.90341,     0.90341,     0.90341,     0.90341,     0.90341,     0.90341,     0.90341,     0.90341,     0.90341,     0.90341,     0.90341,\n",
      "            0.90341,     0.90341,     0.90341,     0.90341,     0.90341,     0.90341,     0.90341,     0.90335,      0.9032,     0.90305,      0.9029,     0.90275,      0.9026,     0.90245,      0.9023,     0.90215,       0.902,     0.90185,      0.9017,     0.90155,      0.9014,     0.90126,     0.90111,\n",
      "            0.90096,     0.90081,     0.90066,     0.90051,     0.90036,     0.90021,     0.90006,     0.89991,     0.89976,     0.89961,     0.89946,     0.89931,     0.89916,     0.89901,     0.89886,     0.89871,     0.89856,     0.89842,     0.89827,     0.89812,     0.89797,     0.89782,     0.89654,\n",
      "            0.89357,     0.89178,     0.89125,     0.89071,     0.89017,     0.88964,      0.8891,     0.88856,     0.88803,     0.88749,     0.88695,     0.88642,     0.88537,     0.88428,     0.88318,     0.88208,     0.88099,     0.88059,     0.88047,     0.88035,     0.88022,      0.8801,     0.87998,\n",
      "            0.87986,     0.87973,     0.87961,     0.87949,     0.87936,     0.87924,     0.87912,       0.879,     0.87887,     0.87875,     0.87863,      0.8785,     0.87838,     0.87826,     0.87814,     0.87801,     0.87789,     0.87777,     0.87764,     0.87752,      0.8774,     0.87728,     0.87715,\n",
      "            0.87703,     0.87691,     0.87678,     0.87666,     0.87654,     0.87642,     0.87629,     0.87617,     0.87605,     0.87592,      0.8758,     0.87568,     0.87556,     0.87543,     0.87531,     0.87519,     0.87506,     0.87482,     0.87445,     0.87407,     0.87369,     0.87332,     0.87294,\n",
      "            0.87257,     0.87219,     0.87181,     0.87144,     0.87106,     0.87068,     0.87031,     0.86993,     0.86956,     0.86932,     0.86932,     0.86932,     0.86932,     0.86932,     0.86932,     0.86932,     0.86932,     0.86932,     0.86932,     0.86932,     0.86932,     0.86932,     0.86932,\n",
      "            0.86932,     0.86925,     0.86884,     0.86843,     0.86802,     0.86761,      0.8672,     0.86679,     0.86638,     0.86597,     0.86556,     0.86514,     0.86473,     0.86432,     0.86391,     0.86228,     0.85817,     0.85761,     0.85725,     0.85689,     0.85653,     0.85617,     0.85581,\n",
      "            0.85545,     0.85509,     0.85473,     0.85437,       0.854,     0.85364,     0.85328,     0.85292,     0.85256,     0.85199,     0.85059,     0.84919,     0.84779,     0.84635,     0.84464,     0.84292,     0.84121,     0.83997,     0.83883,      0.8377,     0.83656,     0.83543,     0.83485,\n",
      "             0.8344,     0.83394,     0.83349,     0.83303,     0.83258,     0.83212,     0.83167,     0.83121,     0.83076,      0.8303,     0.82985,     0.82857,     0.82571,     0.82365,     0.82304,     0.82243,     0.82182,     0.82122,     0.82061,        0.82,     0.81939,     0.81878,     0.81818,\n",
      "            0.81779,      0.8174,     0.81701,     0.81662,     0.81623,     0.81584,     0.81545,     0.81506,     0.81467,     0.81428,     0.81389,      0.8135,     0.81311,     0.81272,     0.81193,     0.81063,     0.80934,     0.80804,     0.80682,     0.80682,     0.80682,     0.80682,     0.80682,\n",
      "            0.80588,     0.80481,     0.80374,     0.80267,      0.8016,     0.79763,     0.78574,     0.77829,     0.77712,     0.77594,     0.77477,     0.77359,      0.7709,     0.76648,     0.76522,     0.76396,      0.7627,     0.76143,     0.75988,     0.75831,     0.75674,     0.75491,     0.75252,\n",
      "            0.75014,     0.74349,       0.742,     0.74051,     0.73901,     0.73225,     0.73091,     0.72958,     0.72824,     0.72367,     0.71022,     0.69977,     0.69606,     0.68826,     0.68269,     0.68092,     0.67983,     0.67873,     0.67764,     0.67655,     0.67499,     0.67315,     0.67131,\n",
      "            0.66846,     0.66471,     0.65959,     0.65555,     0.65176,      0.6483,     0.64153,     0.63994,     0.63834,     0.63675,     0.62704,      0.6201,     0.60747,     0.60338,     0.58926,     0.57931,     0.57317,     0.57161,     0.57006,      0.5685,     0.56545,     0.56229,     0.56079,\n",
      "            0.55929,     0.55779,     0.55048,     0.53659,      0.5161,     0.51065,     0.50825,     0.50586,     0.49664,     0.48774,     0.48402,     0.47997,     0.47244,      0.4671,     0.46033,     0.45431,     0.44841,     0.44678,     0.44514,     0.44351,     0.43373,     0.42748,     0.41214,\n",
      "            0.40638,     0.39511,     0.39032,     0.38723,     0.38373,     0.37924,     0.37177,     0.36596,      0.3595,     0.35029,     0.34766,     0.34505,     0.34245,     0.33983,     0.33719,     0.33454,     0.33188,     0.32933,     0.32762,      0.3259,     0.32419,     0.31351,     0.30764,\n",
      "            0.29425,     0.28751,     0.27928,     0.27262,     0.26669,     0.26247,     0.25599,      0.2438,     0.23666,     0.21788,     0.21175,     0.20855,      0.2062,     0.19716,     0.18892,     0.18105,     0.17723,     0.17011,     0.16693,     0.16274,       0.152,     0.14447,     0.14031,\n",
      "            0.13786,     0.13486,       0.131,     0.12897,      0.1271,     0.12524,     0.12338,     0.12153,     0.11968,     0.11671,     0.11323,     0.10321,    0.095667,    0.091909,    0.087193,    0.082593,    0.078812,    0.076305,    0.073788,    0.070888,    0.068084,    0.066618,    0.065152,\n",
      "           0.063686,    0.059943,    0.053172,    0.045402,    0.043281,     0.04116,    0.039529,    0.038823,    0.038118,    0.037413,    0.036708,    0.036002,    0.035297,    0.034592,     0.03364,    0.032084,    0.030528,    0.028973,    0.026939,    0.024634,    0.022325,    0.019996,    0.017667,\n",
      "           0.014257,    0.011313,    0.011103,    0.010892,    0.010682,    0.010471,     0.01026,     0.01005,   0.0098393,   0.0096287,   0.0094181,   0.0092076,    0.008997,   0.0087864,   0.0085759,   0.0083653,   0.0081547,   0.0079442,   0.0077336,    0.007523,   0.0073125,   0.0071019,   0.0068913,\n",
      "          0.0066808,   0.0064702,   0.0062596,   0.0060491,   0.0058385,           0,           0,           0,           0,           0,           0,           0,           0,           0,           0,           0,           0,           0,           0,           0,           0,           0,           0,\n",
      "                  0,           0,           0,           0,           0,           0,           0,           0,           0,           0,           0]]), 'Confidence', 'Recall']]\n",
      "fitness: 0.6889033207832425\n",
      "keys: ['metrics/precision(B)', 'metrics/recall(B)', 'metrics/mAP50(B)', 'metrics/mAP50-95(B)']\n",
      "maps: array([    0.65898])\n",
      "names: {0: 'drone'}\n",
      "plot: True\n",
      "results_dict: {'metrics/precision(B)': 0.9511182662493263, 'metrics/recall(B)': 0.9488636363636364, 'metrics/mAP50(B)': 0.9582472828903169, 'metrics/mAP50-95(B)': 0.6589762138824564, 'fitness': 0.6889033207832425}\n",
      "save_dir: PosixPath('runs/detect/train3')\n",
      "speed: {'preprocess': 2.1922079528250342, 'inference': 129.21735571651925, 'loss': 7.995745030845084e-05, 'postprocess': 0.5112682900777678}\n",
      "task: 'detect'\n"
     ]
    }
   ],
   "source": [
    "metrics_val = model.val(split='val')\n",
    "print(\"Métricas de Validação:\", metrics_val)\n",
    "\n",
    "metrics_test = model.val(split='test')\n",
    "print(\"Métricas de Teste:\", metrics_test)"
   ]
  }
 ],
 "metadata": {
  "kernelspec": {
   "display_name": "Python 3",
   "language": "python",
   "name": "python3"
  },
  "language_info": {
   "codemirror_mode": {
    "name": "ipython",
    "version": 3
   },
   "file_extension": ".py",
   "mimetype": "text/x-python",
   "name": "python",
   "nbconvert_exporter": "python",
   "pygments_lexer": "ipython3",
   "version": "3.12.7"
  }
 },
 "nbformat": 4,
 "nbformat_minor": 2
}
